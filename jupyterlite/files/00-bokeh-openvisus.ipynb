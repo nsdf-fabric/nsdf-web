{
 "cells": [
  {
   "cell_type": "markdown",
   "metadata": {},
   "source": [
    "# Import OpenVisus\n",
    "\n",
    "Note: \n",
    "- the `ShowBokehApp` function should take care of all proxy/jupyter hub problem\n",
    "- change configuration (i.e. `USE_PUBLIC_IP` and `SSH_TUNNELS`) as needed"
   ]
  },
  {
   "cell_type": "code",
   "execution_count": 1,
   "metadata": {},
   "outputs": [
    {
     "data": {
      "application/javascript": [
       "console.log(\"[133332][INFO][openvisuspy:14:<module>] GetBackend=py\");\n"
      ],
      "text/plain": [
       "<IPython.core.display.Javascript object>"
      ]
     },
     "metadata": {},
     "output_type": "display_data"
    },
    {
     "data": {
      "text/html": [
       "<div class=\"bk-root\">\n",
       "        <a href=\"https://bokeh.org\" target=\"_blank\" class=\"bk-logo bk-logo-small bk-logo-notebook\"></a>\n",
       "        <span id=\"1002\">Loading BokehJS ...</span>\n",
       "    </div>\n"
      ]
     },
     "metadata": {},
     "output_type": "display_data"
    },
    {
     "data": {
      "application/javascript": [
       "(function(root) {\n",
       "  function now() {\n",
       "    return new Date();\n",
       "  }\n",
       "\n",
       "  const force = true;\n",
       "\n",
       "  if (typeof root._bokeh_onload_callbacks === \"undefined\" || force === true) {\n",
       "    root._bokeh_onload_callbacks = [];\n",
       "    root._bokeh_is_loading = undefined;\n",
       "  }\n",
       "\n",
       "const JS_MIME_TYPE = 'application/javascript';\n",
       "  const HTML_MIME_TYPE = 'text/html';\n",
       "  const EXEC_MIME_TYPE = 'application/vnd.bokehjs_exec.v0+json';\n",
       "  const CLASS_NAME = 'output_bokeh rendered_html';\n",
       "\n",
       "  /**\n",
       "   * Render data to the DOM node\n",
       "   */\n",
       "  function render(props, node) {\n",
       "    const script = document.createElement(\"script\");\n",
       "    node.appendChild(script);\n",
       "  }\n",
       "\n",
       "  /**\n",
       "   * Handle when an output is cleared or removed\n",
       "   */\n",
       "  function handleClearOutput(event, handle) {\n",
       "    const cell = handle.cell;\n",
       "\n",
       "    const id = cell.output_area._bokeh_element_id;\n",
       "    const server_id = cell.output_area._bokeh_server_id;\n",
       "    // Clean up Bokeh references\n",
       "    if (id != null && id in Bokeh.index) {\n",
       "      Bokeh.index[id].model.document.clear();\n",
       "      delete Bokeh.index[id];\n",
       "    }\n",
       "\n",
       "    if (server_id !== undefined) {\n",
       "      // Clean up Bokeh references\n",
       "      const cmd_clean = \"from bokeh.io.state import curstate; print(curstate().uuid_to_server['\" + server_id + \"'].get_sessions()[0].document.roots[0]._id)\";\n",
       "      cell.notebook.kernel.execute(cmd_clean, {\n",
       "        iopub: {\n",
       "          output: function(msg) {\n",
       "            const id = msg.content.text.trim();\n",
       "            if (id in Bokeh.index) {\n",
       "              Bokeh.index[id].model.document.clear();\n",
       "              delete Bokeh.index[id];\n",
       "            }\n",
       "          }\n",
       "        }\n",
       "      });\n",
       "      // Destroy server and session\n",
       "      const cmd_destroy = \"import bokeh.io.notebook as ion; ion.destroy_server('\" + server_id + \"')\";\n",
       "      cell.notebook.kernel.execute(cmd_destroy);\n",
       "    }\n",
       "  }\n",
       "\n",
       "  /**\n",
       "   * Handle when a new output is added\n",
       "   */\n",
       "  function handleAddOutput(event, handle) {\n",
       "    const output_area = handle.output_area;\n",
       "    const output = handle.output;\n",
       "\n",
       "    // limit handleAddOutput to display_data with EXEC_MIME_TYPE content only\n",
       "    if ((output.output_type != \"display_data\") || (!Object.prototype.hasOwnProperty.call(output.data, EXEC_MIME_TYPE))) {\n",
       "      return\n",
       "    }\n",
       "\n",
       "    const toinsert = output_area.element.find(\".\" + CLASS_NAME.split(' ')[0]);\n",
       "\n",
       "    if (output.metadata[EXEC_MIME_TYPE][\"id\"] !== undefined) {\n",
       "      toinsert[toinsert.length - 1].firstChild.textContent = output.data[JS_MIME_TYPE];\n",
       "      // store reference to embed id on output_area\n",
       "      output_area._bokeh_element_id = output.metadata[EXEC_MIME_TYPE][\"id\"];\n",
       "    }\n",
       "    if (output.metadata[EXEC_MIME_TYPE][\"server_id\"] !== undefined) {\n",
       "      const bk_div = document.createElement(\"div\");\n",
       "      bk_div.innerHTML = output.data[HTML_MIME_TYPE];\n",
       "      const script_attrs = bk_div.children[0].attributes;\n",
       "      for (let i = 0; i < script_attrs.length; i++) {\n",
       "        toinsert[toinsert.length - 1].firstChild.setAttribute(script_attrs[i].name, script_attrs[i].value);\n",
       "        toinsert[toinsert.length - 1].firstChild.textContent = bk_div.children[0].textContent\n",
       "      }\n",
       "      // store reference to server id on output_area\n",
       "      output_area._bokeh_server_id = output.metadata[EXEC_MIME_TYPE][\"server_id\"];\n",
       "    }\n",
       "  }\n",
       "\n",
       "  function register_renderer(events, OutputArea) {\n",
       "\n",
       "    function append_mime(data, metadata, element) {\n",
       "      // create a DOM node to render to\n",
       "      const toinsert = this.create_output_subarea(\n",
       "        metadata,\n",
       "        CLASS_NAME,\n",
       "        EXEC_MIME_TYPE\n",
       "      );\n",
       "      this.keyboard_manager.register_events(toinsert);\n",
       "      // Render to node\n",
       "      const props = {data: data, metadata: metadata[EXEC_MIME_TYPE]};\n",
       "      render(props, toinsert[toinsert.length - 1]);\n",
       "      element.append(toinsert);\n",
       "      return toinsert\n",
       "    }\n",
       "\n",
       "    /* Handle when an output is cleared or removed */\n",
       "    events.on('clear_output.CodeCell', handleClearOutput);\n",
       "    events.on('delete.Cell', handleClearOutput);\n",
       "\n",
       "    /* Handle when a new output is added */\n",
       "    events.on('output_added.OutputArea', handleAddOutput);\n",
       "\n",
       "    /**\n",
       "     * Register the mime type and append_mime function with output_area\n",
       "     */\n",
       "    OutputArea.prototype.register_mime_type(EXEC_MIME_TYPE, append_mime, {\n",
       "      /* Is output safe? */\n",
       "      safe: true,\n",
       "      /* Index of renderer in `output_area.display_order` */\n",
       "      index: 0\n",
       "    });\n",
       "  }\n",
       "\n",
       "  // register the mime type if in Jupyter Notebook environment and previously unregistered\n",
       "  if (root.Jupyter !== undefined) {\n",
       "    const events = require('base/js/events');\n",
       "    const OutputArea = require('notebook/js/outputarea').OutputArea;\n",
       "\n",
       "    if (OutputArea.prototype.mime_types().indexOf(EXEC_MIME_TYPE) == -1) {\n",
       "      register_renderer(events, OutputArea);\n",
       "    }\n",
       "  }\n",
       "  if (typeof (root._bokeh_timeout) === \"undefined\" || force === true) {\n",
       "    root._bokeh_timeout = Date.now() + 5000;\n",
       "    root._bokeh_failed_load = false;\n",
       "  }\n",
       "\n",
       "  const NB_LOAD_WARNING = {'data': {'text/html':\n",
       "     \"<div style='background-color: #fdd'>\\n\"+\n",
       "     \"<p>\\n\"+\n",
       "     \"BokehJS does not appear to have successfully loaded. If loading BokehJS from CDN, this \\n\"+\n",
       "     \"may be due to a slow or bad network connection. Possible fixes:\\n\"+\n",
       "     \"</p>\\n\"+\n",
       "     \"<ul>\\n\"+\n",
       "     \"<li>re-rerun `output_notebook()` to attempt to load from CDN again, or</li>\\n\"+\n",
       "     \"<li>use INLINE resources instead, as so:</li>\\n\"+\n",
       "     \"</ul>\\n\"+\n",
       "     \"<code>\\n\"+\n",
       "     \"from bokeh.resources import INLINE\\n\"+\n",
       "     \"output_notebook(resources=INLINE)\\n\"+\n",
       "     \"</code>\\n\"+\n",
       "     \"</div>\"}};\n",
       "\n",
       "  function display_loaded() {\n",
       "    const el = document.getElementById(\"1002\");\n",
       "    if (el != null) {\n",
       "      el.textContent = \"BokehJS is loading...\";\n",
       "    }\n",
       "    if (root.Bokeh !== undefined) {\n",
       "      if (el != null) {\n",
       "        el.textContent = \"BokehJS \" + root.Bokeh.version + \" successfully loaded.\";\n",
       "      }\n",
       "    } else if (Date.now() < root._bokeh_timeout) {\n",
       "      setTimeout(display_loaded, 100)\n",
       "    }\n",
       "  }\n",
       "\n",
       "  function run_callbacks() {\n",
       "    try {\n",
       "      root._bokeh_onload_callbacks.forEach(function(callback) {\n",
       "        if (callback != null)\n",
       "          callback();\n",
       "      });\n",
       "    } finally {\n",
       "      delete root._bokeh_onload_callbacks\n",
       "    }\n",
       "    console.debug(\"Bokeh: all callbacks have finished\");\n",
       "  }\n",
       "\n",
       "  function load_libs(css_urls, js_urls, callback) {\n",
       "    if (css_urls == null) css_urls = [];\n",
       "    if (js_urls == null) js_urls = [];\n",
       "\n",
       "    root._bokeh_onload_callbacks.push(callback);\n",
       "    if (root._bokeh_is_loading > 0) {\n",
       "      console.debug(\"Bokeh: BokehJS is being loaded, scheduling callback at\", now());\n",
       "      return null;\n",
       "    }\n",
       "    if (js_urls == null || js_urls.length === 0) {\n",
       "      run_callbacks();\n",
       "      return null;\n",
       "    }\n",
       "    console.debug(\"Bokeh: BokehJS not loaded, scheduling load and callback at\", now());\n",
       "    root._bokeh_is_loading = css_urls.length + js_urls.length;\n",
       "\n",
       "    function on_load() {\n",
       "      root._bokeh_is_loading--;\n",
       "      if (root._bokeh_is_loading === 0) {\n",
       "        console.debug(\"Bokeh: all BokehJS libraries/stylesheets loaded\");\n",
       "        run_callbacks()\n",
       "      }\n",
       "    }\n",
       "\n",
       "    function on_error(url) {\n",
       "      console.error(\"failed to load \" + url);\n",
       "    }\n",
       "\n",
       "    for (let i = 0; i < css_urls.length; i++) {\n",
       "      const url = css_urls[i];\n",
       "      const element = document.createElement(\"link\");\n",
       "      element.onload = on_load;\n",
       "      element.onerror = on_error.bind(null, url);\n",
       "      element.rel = \"stylesheet\";\n",
       "      element.type = \"text/css\";\n",
       "      element.href = url;\n",
       "      console.debug(\"Bokeh: injecting link tag for BokehJS stylesheet: \", url);\n",
       "      document.body.appendChild(element);\n",
       "    }\n",
       "\n",
       "    for (let i = 0; i < js_urls.length; i++) {\n",
       "      const url = js_urls[i];\n",
       "      const element = document.createElement('script');\n",
       "      element.onload = on_load;\n",
       "      element.onerror = on_error.bind(null, url);\n",
       "      element.async = false;\n",
       "      element.src = url;\n",
       "      console.debug(\"Bokeh: injecting script tag for BokehJS library: \", url);\n",
       "      document.head.appendChild(element);\n",
       "    }\n",
       "  };\n",
       "\n",
       "  function inject_raw_css(css) {\n",
       "    const element = document.createElement(\"style\");\n",
       "    element.appendChild(document.createTextNode(css));\n",
       "    document.body.appendChild(element);\n",
       "  }\n",
       "\n",
       "  const js_urls = [\"https://cdn.bokeh.org/bokeh/release/bokeh-2.4.3.min.js\", \"https://cdn.bokeh.org/bokeh/release/bokeh-gl-2.4.3.min.js\", \"https://cdn.bokeh.org/bokeh/release/bokeh-widgets-2.4.3.min.js\", \"https://cdn.bokeh.org/bokeh/release/bokeh-tables-2.4.3.min.js\", \"https://cdn.bokeh.org/bokeh/release/bokeh-mathjax-2.4.3.min.js\"];\n",
       "  const css_urls = [];\n",
       "\n",
       "  const inline_js = [    function(Bokeh) {\n",
       "      Bokeh.set_log_level(\"error\");\n",
       "    },\n",
       "function(Bokeh) {\n",
       "    }\n",
       "  ];\n",
       "\n",
       "  function run_inline_js() {\n",
       "    if (root.Bokeh !== undefined || force === true) {\n",
       "          for (let i = 0; i < inline_js.length; i++) {\n",
       "      inline_js[i].call(root, root.Bokeh);\n",
       "    }\n",
       "if (force === true) {\n",
       "        display_loaded();\n",
       "      }} else if (Date.now() < root._bokeh_timeout) {\n",
       "      setTimeout(run_inline_js, 100);\n",
       "    } else if (!root._bokeh_failed_load) {\n",
       "      console.log(\"Bokeh: BokehJS failed to load within specified timeout.\");\n",
       "      root._bokeh_failed_load = true;\n",
       "    } else if (force !== true) {\n",
       "      const cell = $(document.getElementById(\"1002\")).parents('.cell').data().cell;\n",
       "      cell.output_area.append_execute_result(NB_LOAD_WARNING)\n",
       "    }\n",
       "  }\n",
       "\n",
       "  if (root._bokeh_is_loading === 0) {\n",
       "    console.debug(\"Bokeh: BokehJS loaded, going straight to plotting\");\n",
       "    run_inline_js();\n",
       "  } else {\n",
       "    load_libs(css_urls, js_urls, function() {\n",
       "      console.debug(\"Bokeh: BokehJS plotting callback run at\", now());\n",
       "      run_inline_js();\n",
       "    });\n",
       "  }\n",
       "}(window));"
      ],
      "application/vnd.bokehjs_load.v0+json": "(function(root) {\n  function now() {\n    return new Date();\n  }\n\n  const force = true;\n\n  if (typeof root._bokeh_onload_callbacks === \"undefined\" || force === true) {\n    root._bokeh_onload_callbacks = [];\n    root._bokeh_is_loading = undefined;\n  }\n\n\n  if (typeof (root._bokeh_timeout) === \"undefined\" || force === true) {\n    root._bokeh_timeout = Date.now() + 5000;\n    root._bokeh_failed_load = false;\n  }\n\n  const NB_LOAD_WARNING = {'data': {'text/html':\n     \"<div style='background-color: #fdd'>\\n\"+\n     \"<p>\\n\"+\n     \"BokehJS does not appear to have successfully loaded. If loading BokehJS from CDN, this \\n\"+\n     \"may be due to a slow or bad network connection. Possible fixes:\\n\"+\n     \"</p>\\n\"+\n     \"<ul>\\n\"+\n     \"<li>re-rerun `output_notebook()` to attempt to load from CDN again, or</li>\\n\"+\n     \"<li>use INLINE resources instead, as so:</li>\\n\"+\n     \"</ul>\\n\"+\n     \"<code>\\n\"+\n     \"from bokeh.resources import INLINE\\n\"+\n     \"output_notebook(resources=INLINE)\\n\"+\n     \"</code>\\n\"+\n     \"</div>\"}};\n\n  function display_loaded() {\n    const el = document.getElementById(\"1002\");\n    if (el != null) {\n      el.textContent = \"BokehJS is loading...\";\n    }\n    if (root.Bokeh !== undefined) {\n      if (el != null) {\n        el.textContent = \"BokehJS \" + root.Bokeh.version + \" successfully loaded.\";\n      }\n    } else if (Date.now() < root._bokeh_timeout) {\n      setTimeout(display_loaded, 100)\n    }\n  }\n\n  function run_callbacks() {\n    try {\n      root._bokeh_onload_callbacks.forEach(function(callback) {\n        if (callback != null)\n          callback();\n      });\n    } finally {\n      delete root._bokeh_onload_callbacks\n    }\n    console.debug(\"Bokeh: all callbacks have finished\");\n  }\n\n  function load_libs(css_urls, js_urls, callback) {\n    if (css_urls == null) css_urls = [];\n    if (js_urls == null) js_urls = [];\n\n    root._bokeh_onload_callbacks.push(callback);\n    if (root._bokeh_is_loading > 0) {\n      console.debug(\"Bokeh: BokehJS is being loaded, scheduling callback at\", now());\n      return null;\n    }\n    if (js_urls == null || js_urls.length === 0) {\n      run_callbacks();\n      return null;\n    }\n    console.debug(\"Bokeh: BokehJS not loaded, scheduling load and callback at\", now());\n    root._bokeh_is_loading = css_urls.length + js_urls.length;\n\n    function on_load() {\n      root._bokeh_is_loading--;\n      if (root._bokeh_is_loading === 0) {\n        console.debug(\"Bokeh: all BokehJS libraries/stylesheets loaded\");\n        run_callbacks()\n      }\n    }\n\n    function on_error(url) {\n      console.error(\"failed to load \" + url);\n    }\n\n    for (let i = 0; i < css_urls.length; i++) {\n      const url = css_urls[i];\n      const element = document.createElement(\"link\");\n      element.onload = on_load;\n      element.onerror = on_error.bind(null, url);\n      element.rel = \"stylesheet\";\n      element.type = \"text/css\";\n      element.href = url;\n      console.debug(\"Bokeh: injecting link tag for BokehJS stylesheet: \", url);\n      document.body.appendChild(element);\n    }\n\n    for (let i = 0; i < js_urls.length; i++) {\n      const url = js_urls[i];\n      const element = document.createElement('script');\n      element.onload = on_load;\n      element.onerror = on_error.bind(null, url);\n      element.async = false;\n      element.src = url;\n      console.debug(\"Bokeh: injecting script tag for BokehJS library: \", url);\n      document.head.appendChild(element);\n    }\n  };\n\n  function inject_raw_css(css) {\n    const element = document.createElement(\"style\");\n    element.appendChild(document.createTextNode(css));\n    document.body.appendChild(element);\n  }\n\n  const js_urls = [\"https://cdn.bokeh.org/bokeh/release/bokeh-2.4.3.min.js\", \"https://cdn.bokeh.org/bokeh/release/bokeh-gl-2.4.3.min.js\", \"https://cdn.bokeh.org/bokeh/release/bokeh-widgets-2.4.3.min.js\", \"https://cdn.bokeh.org/bokeh/release/bokeh-tables-2.4.3.min.js\", \"https://cdn.bokeh.org/bokeh/release/bokeh-mathjax-2.4.3.min.js\"];\n  const css_urls = [];\n\n  const inline_js = [    function(Bokeh) {\n      Bokeh.set_log_level(\"error\");\n    },\nfunction(Bokeh) {\n    }\n  ];\n\n  function run_inline_js() {\n    if (root.Bokeh !== undefined || force === true) {\n          for (let i = 0; i < inline_js.length; i++) {\n      inline_js[i].call(root, root.Bokeh);\n    }\nif (force === true) {\n        display_loaded();\n      }} else if (Date.now() < root._bokeh_timeout) {\n      setTimeout(run_inline_js, 100);\n    } else if (!root._bokeh_failed_load) {\n      console.log(\"Bokeh: BokehJS failed to load within specified timeout.\");\n      root._bokeh_failed_load = true;\n    } else if (force !== true) {\n      const cell = $(document.getElementById(\"1002\")).parents('.cell').data().cell;\n      cell.output_area.append_execute_result(NB_LOAD_WARNING)\n    }\n  }\n\n  if (root._bokeh_is_loading === 0) {\n    console.debug(\"Bokeh: BokehJS loaded, going straight to plotting\");\n    run_inline_js();\n  } else {\n    load_libs(css_urls, js_urls, function() {\n      console.debug(\"Bokeh: BokehJS plotting callback run at\", now());\n      run_inline_js();\n    });\n  }\n}(window));"
     },
     "metadata": {},
     "output_type": "display_data"
    },
    {
     "data": {
      "application/javascript": [
       "console.log(\"[133332][INFO][openvisuspy.app:33:ShowBokehApp] ShowBokehApp VISUS_USE_PUBLIC_IP=False VISUS_SSH_TUNNELS=\");\n"
      ],
      "text/plain": [
       "<IPython.core.display.Javascript object>"
      ]
     },
     "metadata": {},
     "output_type": "display_data"
    },
    {
     "data": {
      "application/vnd.bokehjs_exec.v0+json": "",
      "text/html": [
       "<script id=\"1003\">\n",
       "  (function() {\n",
       "    const xhr = new XMLHttpRequest()\n",
       "    xhr.responseType = 'blob';\n",
       "    xhr.open('GET', \"http://localhost:62425/autoload.js?bokeh-autoload-element=1003&bokeh-absolute-url=http://localhost:62425&resources=none\", true);\n",
       "    xhr.onload = function (event) {\n",
       "      const script = document.createElement('script');\n",
       "      const src = URL.createObjectURL(event.target.response);\n",
       "      script.src = src;\n",
       "      document.body.appendChild(script);\n",
       "    };\n",
       "    xhr.send();\n",
       "  })();\n",
       "</script>"
      ]
     },
     "metadata": {
      "application/vnd.bokehjs_exec.v0+json": {
       "server_id": "d4e78719232b4efd939763aac35ac65c"
      }
     },
     "output_type": "display_data"
    }
   ],
   "source": [
    "import os,sys,logging,time\n",
    "\n",
    "# import bokeh\n",
    "os.environ[\"BOKEH_ALLOW_WS_ORIGIN\"]=\"*\" # for debugging \n",
    "os.environ[\"BOKEH_LOG_LEVEL\"]=\"error\"   # for debugging \n",
    "\n",
    "os.environ[\"VISUS_USE_PUBLIC_IP\"]=str(False)\n",
    "os.environ[\"VISUS_SSL_TUNNELS\"]=\"\"\n",
    "\n",
    "import openvisuspy\n",
    "from openvisuspy import ShowBokehApp, TestBokehApp, Slice, Slices, GetBackend,SetupLogger\n",
    "\n",
    "logger=SetupLogger()\n",
    "logger.info(f\"GetBackend={GetBackend()}\")\n",
    "\n",
    "import bokeh.io\n",
    "bokeh.io.output_notebook()\n",
    "ShowBokehApp(TestBokehApp)"
   ]
  },
  {
   "cell_type": "markdown",
   "metadata": {},
   "source": [
    "# Show single slice of a RGB 2D dataset (David)"
   ]
  },
  {
   "cell_type": "code",
   "execution_count": 2,
   "metadata": {},
   "outputs": [
    {
     "data": {
      "application/javascript": [
       "console.log(\"[123952][INFO][openvisuspy:1:<module>] HERE\");\n"
      ],
      "text/plain": [
       "<IPython.core.display.Javascript object>"
      ]
     },
     "metadata": {},
     "output_type": "display_data"
    }
   ],
   "source": [
    "logger.info(\"HERE\")"
   ]
  },
  {
   "cell_type": "code",
   "execution_count": 3,
   "metadata": {
    "scrolled": false
   },
   "outputs": [
    {
     "data": {
      "application/javascript": [
       "console.log(\"[123952][INFO][openvisuspy.app:33:ShowBokehApp] ShowBokehApp VISUS_USE_PUBLIC_IP=False VISUS_SSH_TUNNELS=\");\n"
      ],
      "text/plain": [
       "<IPython.core.display.Javascript object>"
      ]
     },
     "metadata": {},
     "output_type": "display_data"
    },
    {
     "data": {
      "application/vnd.bokehjs_exec.v0+json": "",
      "text/html": [
       "<script id=\"1004\">\n",
       "  (function() {\n",
       "    const xhr = new XMLHttpRequest()\n",
       "    xhr.responseType = 'blob';\n",
       "    xhr.open('GET', \"http://localhost:56834/autoload.js?bokeh-autoload-element=1004&bokeh-absolute-url=http://localhost:56834&resources=none\", true);\n",
       "    xhr.onload = function (event) {\n",
       "      const script = document.createElement('script');\n",
       "      const src = URL.createObjectURL(event.target.response);\n",
       "      script.src = src;\n",
       "      document.body.appendChild(script);\n",
       "    };\n",
       "    xhr.send();\n",
       "  })();\n",
       "</script>"
      ]
     },
     "metadata": {
      "application/vnd.bokehjs_exec.v0+json": {
       "server_id": "dfad851da0384a79add452891c1a920a"
      }
     },
     "output_type": "display_data"
    }
   ],
   "source": [
    "def MyApp(doc,url=f\"http://atlantis.sci.utah.edu/mod_visus?dataset=david_subsampled&cached=1\"):  \n",
    "    view=Slice(show_options=[\"palette\",\"timestep\",\"field\",\"direction\",\"offset\"])\n",
    "    view.setDataset(url)\n",
    "    view.setDirection(2)\n",
    "    view.setPalette(\"Greys256\")\n",
    "    view.setPaletteRange((0,255))\n",
    "    view.setTimestep(view.getTimestep())\n",
    "    view.setField(view.getField())\n",
    "    doc.add_root(view.getBokehLayout(doc=doc))\n",
    "ShowBokehApp(MyApp)"
   ]
  },
  {
   "cell_type": "markdown",
   "metadata": {},
   "source": [
    "# Single single slice of a gray 3D dataset (2kbit1)"
   ]
  },
  {
   "cell_type": "code",
   "execution_count": 4,
   "metadata": {},
   "outputs": [
    {
     "data": {
      "application/javascript": [
       "console.log(\"[123953][INFO][openvisuspy.app:33:ShowBokehApp] ShowBokehApp VISUS_USE_PUBLIC_IP=False VISUS_SSH_TUNNELS=\");\n"
      ],
      "text/plain": [
       "<IPython.core.display.Javascript object>"
      ]
     },
     "metadata": {},
     "output_type": "display_data"
    },
    {
     "data": {
      "application/vnd.bokehjs_exec.v0+json": "",
      "text/html": [
       "<script id=\"1005\">\n",
       "  (function() {\n",
       "    const xhr = new XMLHttpRequest()\n",
       "    xhr.responseType = 'blob';\n",
       "    xhr.open('GET', \"http://localhost:56836/autoload.js?bokeh-autoload-element=1005&bokeh-absolute-url=http://localhost:56836&resources=none\", true);\n",
       "    xhr.onload = function (event) {\n",
       "      const script = document.createElement('script');\n",
       "      const src = URL.createObjectURL(event.target.response);\n",
       "      script.src = src;\n",
       "      document.body.appendChild(script);\n",
       "    };\n",
       "    xhr.send();\n",
       "  })();\n",
       "</script>"
      ]
     },
     "metadata": {
      "application/vnd.bokehjs_exec.v0+json": {
       "server_id": "17654e358afe4d0e8c1518243e09ed7d"
      }
     },
     "output_type": "display_data"
    }
   ],
   "source": [
    "def MyApp(doc, url=f\"http://atlantis.sci.utah.edu/mod_visus?dataset=2kbit1&cached=1\"):\n",
    "    view=Slice()\n",
    "    view.setDataset(url)   \n",
    "    view.setDirection(2)\n",
    "    view.setPalette(\"Greys256\")\n",
    "    view.setPaletteRange((0,255))\n",
    "    view.setTimestep(view.getTimestep())\n",
    "    view.setField(view.getField())\n",
    "    doc.add_root(view.getBokehLayout(doc=doc))\n",
    "ShowBokehApp(MyApp)"
   ]
  },
  {
   "cell_type": "markdown",
   "metadata": {},
   "source": [
    "# Show multiple slices of a RGB 2D dataset (David)"
   ]
  },
  {
   "cell_type": "code",
   "execution_count": 5,
   "metadata": {},
   "outputs": [
    {
     "data": {
      "application/javascript": [
       "console.log(\"[123953][INFO][openvisuspy.app:33:ShowBokehApp] ShowBokehApp VISUS_USE_PUBLIC_IP=False VISUS_SSH_TUNNELS=\");\n"
      ],
      "text/plain": [
       "<IPython.core.display.Javascript object>"
      ]
     },
     "metadata": {},
     "output_type": "display_data"
    },
    {
     "data": {
      "application/vnd.bokehjs_exec.v0+json": "",
      "text/html": [
       "<script id=\"1006\">\n",
       "  (function() {\n",
       "    const xhr = new XMLHttpRequest()\n",
       "    xhr.responseType = 'blob';\n",
       "    xhr.open('GET', \"http://localhost:56838/autoload.js?bokeh-autoload-element=1006&bokeh-absolute-url=http://localhost:56838&resources=none\", true);\n",
       "    xhr.onload = function (event) {\n",
       "      const script = document.createElement('script');\n",
       "      const src = URL.createObjectURL(event.target.response);\n",
       "      script.src = src;\n",
       "      document.body.appendChild(script);\n",
       "    };\n",
       "    xhr.send();\n",
       "  })();\n",
       "</script>"
      ]
     },
     "metadata": {
      "application/vnd.bokehjs_exec.v0+json": {
       "server_id": "e180457b00ce4abe9a67233d9a5b185f"
      }
     },
     "output_type": "display_data"
    }
   ],
   "source": [
    "def MyApp(doc,url=f\"http://atlantis.sci.utah.edu/mod_visus?dataset=david_subsampled&cached=1\"):\n",
    "    view=Slices(num_views=2)\n",
    "    view.setDataset(url)\n",
    "    view.setPalette(\"Greys256\")\n",
    "    view.setPaletteRange((0,255))\n",
    "    view.setTimestep(view.getTimestep())\n",
    "    view.setField(view.getField())\n",
    "    doc.add_root(view.getBokehLayout(doc=doc))\n",
    "ShowBokehApp(MyApp)"
   ]
  },
  {
   "cell_type": "markdown",
   "metadata": {},
   "source": [
    "# Show multiple slices of a grayscale 3D dataset (2kbit1)"
   ]
  },
  {
   "cell_type": "code",
   "execution_count": 6,
   "metadata": {
    "scrolled": false
   },
   "outputs": [
    {
     "data": {
      "application/javascript": [
       "console.log(\"[123953][INFO][openvisuspy.app:33:ShowBokehApp] ShowBokehApp VISUS_USE_PUBLIC_IP=False VISUS_SSH_TUNNELS=\");\n"
      ],
      "text/plain": [
       "<IPython.core.display.Javascript object>"
      ]
     },
     "metadata": {},
     "output_type": "display_data"
    },
    {
     "data": {
      "application/vnd.bokehjs_exec.v0+json": "",
      "text/html": [
       "<script id=\"1007\">\n",
       "  (function() {\n",
       "    const xhr = new XMLHttpRequest()\n",
       "    xhr.responseType = 'blob';\n",
       "    xhr.open('GET', \"http://localhost:56840/autoload.js?bokeh-autoload-element=1007&bokeh-absolute-url=http://localhost:56840&resources=none\", true);\n",
       "    xhr.onload = function (event) {\n",
       "      const script = document.createElement('script');\n",
       "      const src = URL.createObjectURL(event.target.response);\n",
       "      script.src = src;\n",
       "      document.body.appendChild(script);\n",
       "    };\n",
       "    xhr.send();\n",
       "  })();\n",
       "</script>"
      ]
     },
     "metadata": {
      "application/vnd.bokehjs_exec.v0+json": {
       "server_id": "e59840a4bb3545c4828f867675a51231"
      }
     },
     "output_type": "display_data"
    },
    {
     "data": {
      "application/javascript": [
       "console.log(\"[123953][INFO][openvisuspy.widgets:319:setNumberOfViews] Widgets[0]::setNumberOfViews value=2\");\n"
      ],
      "text/plain": [
       "<IPython.core.display.Javascript object>"
      ]
     },
     "metadata": {},
     "output_type": "display_data"
    },
    {
     "data": {
      "application/javascript": [
       "console.log(\"[123953][INFO][openvisuspy.widgets:319:setNumberOfViews] Widgets[0]::setNumberOfViews value=2\");\n"
      ],
      "text/plain": [
       "<IPython.core.display.Javascript object>"
      ]
     },
     "metadata": {},
     "output_type": "display_data"
    },
    {
     "data": {
      "application/javascript": [
       "console.log(\"[123953][INFO][openvisuspy.widgets:147:stop] <class 'openvisuspy.slices.Slices'> stop\");\n"
      ],
      "text/plain": [
       "<IPython.core.display.Javascript object>"
      ]
     },
     "metadata": {},
     "output_type": "display_data"
    },
    {
     "data": {
      "application/javascript": [
       "console.log(\"[123953][INFO][openvisuspy.widgets:147:stop] <class 'openvisuspy.slices.Slices'> stop\");\n"
      ],
      "text/plain": [
       "<IPython.core.display.Javascript object>"
      ]
     },
     "metadata": {},
     "output_type": "display_data"
    },
    {
     "data": {
      "application/javascript": [
       "console.log(\"[123953][INFO][openvisuspy.widgets:147:stop] <class 'openvisuspy.slice.Slice'> stop\");\n"
      ],
      "text/plain": [
       "<IPython.core.display.Javascript object>"
      ]
     },
     "metadata": {},
     "output_type": "display_data"
    },
    {
     "data": {
      "application/javascript": [
       "console.log(\"[123953][INFO][openvisuspy.widgets:147:stop] <class 'openvisuspy.slice.Slice'> stop\");\n"
      ],
      "text/plain": [
       "<IPython.core.display.Javascript object>"
      ]
     },
     "metadata": {},
     "output_type": "display_data"
    },
    {
     "data": {
      "application/javascript": [
       "console.log(\"[123953][INFO][openvisuspy.widgets:278:setDataset] Widgets[0]::setDataset value=http://atlantis.sci.utah.edu/mod_visus?dataset=david_subsampled&cached=1\");\n"
      ],
      "text/plain": [
       "<IPython.core.display.Javascript object>"
      ]
     },
     "metadata": {},
     "output_type": "display_data"
    },
    {
     "data": {
      "application/javascript": [
       "console.log(\"[123953][INFO][openvisuspy.backend_py:373:LoadDataset] Got response <dataset name='david_subsampled' url='$(protocol)://$(hostname):$(port)/mod_visus?action=readdataset&amp;dataset=david_subsampled' typename='IdxDataset'>\n",
       "\t<idxfile>\n",
       "\t\t<version value='6' />\n",
       "\t\t<bitmask value='V11010101010101010101010101010101' />\n",
       "\t\t<box value='0 29280 0 70416' />\n",
       "\t\t<bitsperblock value='16' />\n",
       "\t\t<blocksperfile value='256' />\n",
       "\t\t<block_interleaving value='0' />\n",
       "\t\t<filename_template value='./david_subsampled/%04x.bin' />\n",
       "\t\t<missing_blocks value='False' />\n",
       "\t\t<arco value='0' />\n",
       "\t\t<time_template value='time_%02d/' />\n",
       "\t\t<field name='data' description='' index='' default_compression='zip' default_layout='' default_value='0' filter='' dtype='uint8[3]' />\n",
       "\t\t<timestep from='0' to='3' step='1' />\n",
       "\t</idxfile>\n",
       "</dataset>\");\n"
      ],
      "text/plain": [
       "<IPython.core.display.Javascript object>"
      ]
     },
     "metadata": {},
     "output_type": "display_data"
    },
    {
     "data": {
      "application/javascript": [
       "console.log(\"[123953][INFO][openvisuspy.backend_py:420:LoadDataset] LoadDataset returned:\n",
       "{'url': 'http://atlantis.sci.utah.edu/mod_visus?dataset=david_subsampled&cached=1', 'bitmask': 'V11010101010101010101010101010101', 'pdim': 2, 'max_resolution': 32, 'timesteps': [0, 1, 2], 'fields': [{'name': 'data', 'dtype': 'uint8[3]'}], 'logic_box': [[0, 0], [29280, 70416]], 'logic_size': [29280, 70416]}\");\n"
      ],
      "text/plain": [
       "<IPython.core.display.Javascript object>"
      ]
     },
     "metadata": {},
     "output_type": "display_data"
    },
    {
     "data": {
      "application/javascript": [
       "console.log(\"[123953][INFO][openvisuspy.widgets:278:setDataset] Widgets[3]::setDataset value=http://atlantis.sci.utah.edu/mod_visus?dataset=david_subsampled&cached=1\");\n"
      ],
      "text/plain": [
       "<IPython.core.display.Javascript object>"
      ]
     },
     "metadata": {},
     "output_type": "display_data"
    },
    {
     "data": {
      "application/javascript": [
       "console.log(\"[123953][INFO][openvisuspy.widgets:328:setTimesteps] Widgets[3]::setTimesteps start=0 end=2\");\n"
      ],
      "text/plain": [
       "<IPython.core.display.Javascript object>"
      ]
     },
     "metadata": {},
     "output_type": "display_data"
    },
    {
     "data": {
      "application/javascript": [
       "console.log(\"[123953][INFO][openvisuspy.widgets:339:setTimestepDelta] Widgets[3]::setTimestepDelta value=1\");\n"
      ],
      "text/plain": [
       "<IPython.core.display.Javascript object>"
      ]
     },
     "metadata": {},
     "output_type": "display_data"
    },
    {
     "data": {
      "application/javascript": [
       "console.log(\"[123953][INFO][openvisuspy.widgets:360:setTimestep] Widgets[3]::setTimestep value=0\");\n"
      ],
      "text/plain": [
       "<IPython.core.display.Javascript object>"
      ]
     },
     "metadata": {},
     "output_type": "display_data"
    },
    {
     "data": {
      "application/javascript": [
       "console.log(\"[123953][INFO][openvisuspy.widgets:360:setTimestep] Widgets[3]::setTimestep value=0\");\n"
      ],
      "text/plain": [
       "<IPython.core.display.Javascript object>"
      ]
     },
     "metadata": {},
     "output_type": "display_data"
    },
    {
     "data": {
      "application/javascript": [
       "console.log(\"[123953][INFO][openvisuspy.widgets:466:setDirection] Widgets[3]::setDirection value=2\");\n"
      ],
      "text/plain": [
       "<IPython.core.display.Javascript object>"
      ]
     },
     "metadata": {},
     "output_type": "display_data"
    },
    {
     "data": {
      "application/javascript": [
       "console.log(\"[123953][INFO][openvisuspy.slice:137:setLogicBox] Slice[3]::setLogicBox value=([0, 0], [29280, 70416])\");\n"
      ],
      "text/plain": [
       "<IPython.core.display.Javascript object>"
      ]
     },
     "metadata": {},
     "output_type": "display_data"
    },
    {
     "data": {
      "application/javascript": [
       "console.log(\"[123953][INFO][openvisuspy.widgets:372:setFields] Widgets[3]::setFields value=['data']\");\n"
      ],
      "text/plain": [
       "<IPython.core.display.Javascript object>"
      ]
     },
     "metadata": {},
     "output_type": "display_data"
    },
    {
     "data": {
      "application/javascript": [
       "console.log(\"[123953][INFO][openvisuspy.widgets:381:setField] Widgets[3]::setField value=data\");\n"
      ],
      "text/plain": [
       "<IPython.core.display.Javascript object>"
      ]
     },
     "metadata": {},
     "output_type": "display_data"
    },
    {
     "data": {
      "application/javascript": [
       "console.log(\"[123953][INFO][openvisuspy.widgets:278:setDataset] Widgets[4]::setDataset value=http://atlantis.sci.utah.edu/mod_visus?dataset=david_subsampled&cached=1\");\n"
      ],
      "text/plain": [
       "<IPython.core.display.Javascript object>"
      ]
     },
     "metadata": {},
     "output_type": "display_data"
    },
    {
     "data": {
      "application/javascript": [
       "console.log(\"[123953][INFO][openvisuspy.widgets:328:setTimesteps] Widgets[4]::setTimesteps start=0 end=2\");\n"
      ],
      "text/plain": [
       "<IPython.core.display.Javascript object>"
      ]
     },
     "metadata": {},
     "output_type": "display_data"
    },
    {
     "data": {
      "application/javascript": [
       "console.log(\"[123953][INFO][openvisuspy.widgets:339:setTimestepDelta] Widgets[4]::setTimestepDelta value=1\");\n"
      ],
      "text/plain": [
       "<IPython.core.display.Javascript object>"
      ]
     },
     "metadata": {},
     "output_type": "display_data"
    },
    {
     "data": {
      "application/javascript": [
       "console.log(\"[123953][INFO][openvisuspy.widgets:360:setTimestep] Widgets[4]::setTimestep value=0\");\n"
      ],
      "text/plain": [
       "<IPython.core.display.Javascript object>"
      ]
     },
     "metadata": {},
     "output_type": "display_data"
    },
    {
     "data": {
      "application/javascript": [
       "console.log(\"[123953][INFO][openvisuspy.widgets:360:setTimestep] Widgets[4]::setTimestep value=0\");\n"
      ],
      "text/plain": [
       "<IPython.core.display.Javascript object>"
      ]
     },
     "metadata": {},
     "output_type": "display_data"
    },
    {
     "data": {
      "application/javascript": [
       "console.log(\"[123953][INFO][openvisuspy.widgets:466:setDirection] Widgets[4]::setDirection value=2\");\n"
      ],
      "text/plain": [
       "<IPython.core.display.Javascript object>"
      ]
     },
     "metadata": {},
     "output_type": "display_data"
    },
    {
     "data": {
      "application/javascript": [
       "console.log(\"[123953][INFO][openvisuspy.slice:137:setLogicBox] Slice[4]::setLogicBox value=([0, 0], [29280, 70416])\");\n"
      ],
      "text/plain": [
       "<IPython.core.display.Javascript object>"
      ]
     },
     "metadata": {},
     "output_type": "display_data"
    },
    {
     "data": {
      "application/javascript": [
       "console.log(\"[123953][INFO][openvisuspy.widgets:372:setFields] Widgets[4]::setFields value=['data']\");\n"
      ],
      "text/plain": [
       "<IPython.core.display.Javascript object>"
      ]
     },
     "metadata": {},
     "output_type": "display_data"
    },
    {
     "data": {
      "application/javascript": [
       "console.log(\"[123953][INFO][openvisuspy.widgets:381:setField] Widgets[4]::setField value=data\");\n"
      ],
      "text/plain": [
       "<IPython.core.display.Javascript object>"
      ]
     },
     "metadata": {},
     "output_type": "display_data"
    },
    {
     "data": {
      "application/javascript": [
       "console.log(\"[123953][INFO][openvisuspy.widgets:328:setTimesteps] Widgets[0]::setTimesteps start=0 end=2\");\n"
      ],
      "text/plain": [
       "<IPython.core.display.Javascript object>"
      ]
     },
     "metadata": {},
     "output_type": "display_data"
    },
    {
     "data": {
      "application/javascript": [
       "console.log(\"[123953][INFO][openvisuspy.widgets:339:setTimestepDelta] Widgets[0]::setTimestepDelta value=1\");\n"
      ],
      "text/plain": [
       "<IPython.core.display.Javascript object>"
      ]
     },
     "metadata": {},
     "output_type": "display_data"
    },
    {
     "data": {
      "application/javascript": [
       "console.log(\"[123953][INFO][openvisuspy.widgets:360:setTimestep] Widgets[0]::setTimestep value=0\");\n"
      ],
      "text/plain": [
       "<IPython.core.display.Javascript object>"
      ]
     },
     "metadata": {},
     "output_type": "display_data"
    },
    {
     "data": {
      "application/javascript": [
       "console.log(\"[123953][INFO][openvisuspy.widgets:360:setTimestep] Widgets[3]::setTimestep value=0\");\n"
      ],
      "text/plain": [
       "<IPython.core.display.Javascript object>"
      ]
     },
     "metadata": {},
     "output_type": "display_data"
    },
    {
     "data": {
      "application/javascript": [
       "console.log(\"[123953][INFO][openvisuspy.widgets:360:setTimestep] Widgets[4]::setTimestep value=0\");\n"
      ],
      "text/plain": [
       "<IPython.core.display.Javascript object>"
      ]
     },
     "metadata": {},
     "output_type": "display_data"
    },
    {
     "data": {
      "application/javascript": [
       "console.log(\"[123953][INFO][openvisuspy.widgets:339:setTimestepDelta] Widgets[3]::setTimestepDelta value=1\");\n"
      ],
      "text/plain": [
       "<IPython.core.display.Javascript object>"
      ]
     },
     "metadata": {},
     "output_type": "display_data"
    },
    {
     "data": {
      "application/javascript": [
       "console.log(\"[123953][INFO][openvisuspy.widgets:360:setTimestep] Widgets[3]::setTimestep value=0\");\n"
      ],
      "text/plain": [
       "<IPython.core.display.Javascript object>"
      ]
     },
     "metadata": {},
     "output_type": "display_data"
    },
    {
     "data": {
      "application/javascript": [
       "console.log(\"[123953][INFO][openvisuspy.widgets:339:setTimestepDelta] Widgets[4]::setTimestepDelta value=1\");\n"
      ],
      "text/plain": [
       "<IPython.core.display.Javascript object>"
      ]
     },
     "metadata": {},
     "output_type": "display_data"
    },
    {
     "data": {
      "application/javascript": [
       "console.log(\"[123953][INFO][openvisuspy.widgets:360:setTimestep] Widgets[4]::setTimestep value=0\");\n"
      ],
      "text/plain": [
       "<IPython.core.display.Javascript object>"
      ]
     },
     "metadata": {},
     "output_type": "display_data"
    },
    {
     "data": {
      "application/javascript": [
       "console.log(\"[123953][INFO][openvisuspy.widgets:360:setTimestep] Widgets[0]::setTimestep value=0\");\n"
      ],
      "text/plain": [
       "<IPython.core.display.Javascript object>"
      ]
     },
     "metadata": {},
     "output_type": "display_data"
    },
    {
     "data": {
      "application/javascript": [
       "console.log(\"[123953][INFO][openvisuspy.widgets:360:setTimestep] Widgets[3]::setTimestep value=0\");\n"
      ],
      "text/plain": [
       "<IPython.core.display.Javascript object>"
      ]
     },
     "metadata": {},
     "output_type": "display_data"
    },
    {
     "data": {
      "application/javascript": [
       "console.log(\"[123953][INFO][openvisuspy.widgets:360:setTimestep] Widgets[4]::setTimestep value=0\");\n"
      ],
      "text/plain": [
       "<IPython.core.display.Javascript object>"
      ]
     },
     "metadata": {},
     "output_type": "display_data"
    },
    {
     "data": {
      "application/javascript": [
       "console.log(\"[123953][INFO][openvisuspy.widgets:466:setDirection] Widgets[0]::setDirection value=2\");\n"
      ],
      "text/plain": [
       "<IPython.core.display.Javascript object>"
      ]
     },
     "metadata": {},
     "output_type": "display_data"
    },
    {
     "data": {
      "application/javascript": [
       "console.log(\"[123953][INFO][openvisuspy.widgets:466:setDirection] Widgets[3]::setDirection value=2\");\n"
      ],
      "text/plain": [
       "<IPython.core.display.Javascript object>"
      ]
     },
     "metadata": {},
     "output_type": "display_data"
    },
    {
     "data": {
      "application/javascript": [
       "console.log(\"[123953][INFO][openvisuspy.slice:137:setLogicBox] Slice[3]::setLogicBox value=([0, 0], [29280, 70416])\");\n"
      ],
      "text/plain": [
       "<IPython.core.display.Javascript object>"
      ]
     },
     "metadata": {},
     "output_type": "display_data"
    },
    {
     "data": {
      "application/javascript": [
       "console.log(\"[123953][INFO][openvisuspy.widgets:466:setDirection] Widgets[4]::setDirection value=2\");\n"
      ],
      "text/plain": [
       "<IPython.core.display.Javascript object>"
      ]
     },
     "metadata": {},
     "output_type": "display_data"
    },
    {
     "data": {
      "application/javascript": [
       "console.log(\"[123953][INFO][openvisuspy.slice:137:setLogicBox] Slice[4]::setLogicBox value=([0, 0], [29280, 70416])\");\n"
      ],
      "text/plain": [
       "<IPython.core.display.Javascript object>"
      ]
     },
     "metadata": {},
     "output_type": "display_data"
    },
    {
     "data": {
      "application/javascript": [
       "console.log(\"[123953][INFO][openvisuspy.widgets:372:setFields] Widgets[0]::setFields value=['data']\");\n"
      ],
      "text/plain": [
       "<IPython.core.display.Javascript object>"
      ]
     },
     "metadata": {},
     "output_type": "display_data"
    },
    {
     "data": {
      "application/javascript": [
       "console.log(\"[123953][INFO][openvisuspy.widgets:381:setField] Widgets[0]::setField value=data\");\n"
      ],
      "text/plain": [
       "<IPython.core.display.Javascript object>"
      ]
     },
     "metadata": {},
     "output_type": "display_data"
    },
    {
     "data": {
      "application/javascript": [
       "console.log(\"[123953][INFO][openvisuspy.widgets:381:setField] Widgets[3]::setField value=data\");\n"
      ],
      "text/plain": [
       "<IPython.core.display.Javascript object>"
      ]
     },
     "metadata": {},
     "output_type": "display_data"
    },
    {
     "data": {
      "application/javascript": [
       "console.log(\"[123953][INFO][openvisuspy.widgets:381:setField] Widgets[4]::setField value=data\");\n"
      ],
      "text/plain": [
       "<IPython.core.display.Javascript object>"
      ]
     },
     "metadata": {},
     "output_type": "display_data"
    },
    {
     "data": {
      "application/javascript": [
       "console.log(\"[123953][INFO][openvisuspy.widgets:394:setPalette] Widgets[0]::setPalette value=Greys256\");\n"
      ],
      "text/plain": [
       "<IPython.core.display.Javascript object>"
      ]
     },
     "metadata": {},
     "output_type": "display_data"
    },
    {
     "data": {
      "application/javascript": [
       "console.log(\"[123953][INFO][openvisuspy.widgets:394:setPalette] Widgets[3]::setPalette value=Greys256\");\n"
      ],
      "text/plain": [
       "<IPython.core.display.Javascript object>"
      ]
     },
     "metadata": {},
     "output_type": "display_data"
    },
    {
     "data": {
      "application/javascript": [
       "console.log(\"[123953][INFO][openvisuspy.widgets:394:setPalette] Widgets[4]::setPalette value=Greys256\");\n"
      ],
      "text/plain": [
       "<IPython.core.display.Javascript object>"
      ]
     },
     "metadata": {},
     "output_type": "display_data"
    },
    {
     "data": {
      "application/javascript": [
       "console.log(\"[123953][INFO][openvisuspy.widgets:408:setPaletteRange] Widgets[0]::setPaletteRange value=(0, 255)\");\n"
      ],
      "text/plain": [
       "<IPython.core.display.Javascript object>"
      ]
     },
     "metadata": {},
     "output_type": "display_data"
    },
    {
     "data": {
      "application/javascript": [
       "console.log(\"[123953][INFO][openvisuspy.widgets:408:setPaletteRange] Widgets[3]::setPaletteRange value=(0, 255)\");\n"
      ],
      "text/plain": [
       "<IPython.core.display.Javascript object>"
      ]
     },
     "metadata": {},
     "output_type": "display_data"
    },
    {
     "data": {
      "application/javascript": [
       "console.log(\"[123953][INFO][openvisuspy.widgets:408:setPaletteRange] Widgets[4]::setPaletteRange value=(0, 255)\");\n"
      ],
      "text/plain": [
       "<IPython.core.display.Javascript object>"
      ]
     },
     "metadata": {},
     "output_type": "display_data"
    },
    {
     "data": {
      "application/javascript": [
       "console.log(\"[123953][INFO][openvisuspy.widgets:360:setTimestep] Widgets[0]::setTimestep value=0\");\n"
      ],
      "text/plain": [
       "<IPython.core.display.Javascript object>"
      ]
     },
     "metadata": {},
     "output_type": "display_data"
    },
    {
     "data": {
      "application/javascript": [
       "console.log(\"[123953][INFO][openvisuspy.widgets:360:setTimestep] Widgets[3]::setTimestep value=0\");\n"
      ],
      "text/plain": [
       "<IPython.core.display.Javascript object>"
      ]
     },
     "metadata": {},
     "output_type": "display_data"
    },
    {
     "data": {
      "application/javascript": [
       "console.log(\"[123953][INFO][openvisuspy.widgets:360:setTimestep] Widgets[4]::setTimestep value=0\");\n"
      ],
      "text/plain": [
       "<IPython.core.display.Javascript object>"
      ]
     },
     "metadata": {},
     "output_type": "display_data"
    },
    {
     "data": {
      "application/javascript": [
       "console.log(\"[123953][INFO][openvisuspy.widgets:381:setField] Widgets[0]::setField value=data\");\n"
      ],
      "text/plain": [
       "<IPython.core.display.Javascript object>"
      ]
     },
     "metadata": {},
     "output_type": "display_data"
    },
    {
     "data": {
      "application/javascript": [
       "console.log(\"[123953][INFO][openvisuspy.widgets:381:setField] Widgets[3]::setField value=data\");\n"
      ],
      "text/plain": [
       "<IPython.core.display.Javascript object>"
      ]
     },
     "metadata": {},
     "output_type": "display_data"
    },
    {
     "data": {
      "application/javascript": [
       "console.log(\"[123953][INFO][openvisuspy.widgets:381:setField] Widgets[4]::setField value=data\");\n"
      ],
      "text/plain": [
       "<IPython.core.display.Javascript object>"
      ]
     },
     "metadata": {},
     "output_type": "display_data"
    },
    {
     "data": {
      "application/javascript": [
       "console.log(\"[123953][INFO][openvisuspy.widgets:278:setDataset] Widgets[5]::setDataset value=http://atlantis.sci.utah.edu/mod_visus?dataset=2kbit1&cached=1\");\n"
      ],
      "text/plain": [
       "<IPython.core.display.Javascript object>"
      ]
     },
     "metadata": {},
     "output_type": "display_data"
    },
    {
     "data": {
      "application/javascript": [
       "console.log(\"[123953][INFO][openvisuspy.backend_py:373:LoadDataset] Got response <dataset name='2kbit1' url='$(protocol)://$(hostname):$(port)/mod_visus?action=readdataset&amp;dataset=2kbit1' typename='IdxDataset'>\n",
       "\t<idxfile>\n",
       "\t\t<version value='6' />\n",
       "\t\t<bitmask value='V012012012012012012012012012012012' />\n",
       "\t\t<box value='0 2048 0 2048 0 2048' />\n",
       "\t\t<bitsperblock value='16' />\n",
       "\t\t<blocksperfile value='256' />\n",
       "\t\t<block_interleaving value='0' />\n",
       "\t\t<filename_template value='./visus/%02x/%04x.bin' />\n",
       "\t\t<missing_blocks value='False' />\n",
       "\t\t<arco value='0' />\n",
       "\t\t<time_template value='' />\n",
       "\t\t<field name='DATA' description='' index='' default_compression='zip' default_layout='0' default_value='0' filter='' dtype='uint8' />\n",
       "\t\t<timestep when='0' />\n",
       "\t</idxfile>\n",
       "</dataset>\");\n"
      ],
      "text/plain": [
       "<IPython.core.display.Javascript object>"
      ]
     },
     "metadata": {},
     "output_type": "display_data"
    },
    {
     "data": {
      "application/javascript": [
       "console.log(\"[123953][INFO][openvisuspy.backend_py:420:LoadDataset] LoadDataset returned:\n",
       "{'url': 'http://atlantis.sci.utah.edu/mod_visus?dataset=2kbit1&cached=1', 'bitmask': 'V012012012012012012012012012012012', 'pdim': 3, 'max_resolution': 33, 'timesteps': [0], 'fields': [{'name': 'DATA', 'dtype': 'uint8'}], 'logic_box': [[0, 0, 0], [2048, 2048, 2048]], 'logic_size': [2048, 2048, 2048]}\");\n"
      ],
      "text/plain": [
       "<IPython.core.display.Javascript object>"
      ]
     },
     "metadata": {},
     "output_type": "display_data"
    },
    {
     "data": {
      "application/javascript": [
       "console.log(\"[123953][INFO][openvisuspy.widgets:328:setTimesteps] Widgets[5]::setTimesteps start=0 end=0\");\n"
      ],
      "text/plain": [
       "<IPython.core.display.Javascript object>"
      ]
     },
     "metadata": {},
     "output_type": "display_data"
    },
    {
     "data": {
      "application/javascript": [
       "console.log(\"[123953][INFO][openvisuspy.widgets:339:setTimestepDelta] Widgets[5]::setTimestepDelta value=1\");\n"
      ],
      "text/plain": [
       "<IPython.core.display.Javascript object>"
      ]
     },
     "metadata": {},
     "output_type": "display_data"
    },
    {
     "data": {
      "application/javascript": [
       "console.log(\"[123953][INFO][openvisuspy.widgets:360:setTimestep] Widgets[5]::setTimestep value=0\");\n"
      ],
      "text/plain": [
       "<IPython.core.display.Javascript object>"
      ]
     },
     "metadata": {},
     "output_type": "display_data"
    },
    {
     "data": {
      "application/javascript": [
       "console.log(\"[123953][INFO][openvisuspy.widgets:360:setTimestep] Widgets[5]::setTimestep value=0\");\n"
      ],
      "text/plain": [
       "<IPython.core.display.Javascript object>"
      ]
     },
     "metadata": {},
     "output_type": "display_data"
    },
    {
     "data": {
      "application/javascript": [
       "console.log(\"[123953][INFO][openvisuspy.widgets:466:setDirection] Widgets[5]::setDirection value=2\");\n"
      ],
      "text/plain": [
       "<IPython.core.display.Javascript object>"
      ]
     },
     "metadata": {},
     "output_type": "display_data"
    },
    {
     "data": {
      "application/javascript": [
       "console.log(\"[123953][INFO][openvisuspy.widgets:494:setOffset] Widgets[5]::getOffset value=1024\");\n"
      ],
      "text/plain": [
       "<IPython.core.display.Javascript object>"
      ]
     },
     "metadata": {},
     "output_type": "display_data"
    },
    {
     "data": {
      "application/javascript": [
       "console.log(\"[123953][INFO][openvisuspy.slice:137:setLogicBox] Slice[5]::setLogicBox value=([0, 0, 0], [2048, 2048, 2048])\");\n"
      ],
      "text/plain": [
       "<IPython.core.display.Javascript object>"
      ]
     },
     "metadata": {},
     "output_type": "display_data"
    },
    {
     "data": {
      "application/javascript": [
       "console.log(\"[123953][INFO][openvisuspy.widgets:372:setFields] Widgets[5]::setFields value=['DATA']\");\n"
      ],
      "text/plain": [
       "<IPython.core.display.Javascript object>"
      ]
     },
     "metadata": {},
     "output_type": "display_data"
    },
    {
     "data": {
      "application/javascript": [
       "console.log(\"[123953][INFO][openvisuspy.widgets:381:setField] Widgets[5]::setField value=DATA\");\n"
      ],
      "text/plain": [
       "<IPython.core.display.Javascript object>"
      ]
     },
     "metadata": {},
     "output_type": "display_data"
    },
    {
     "data": {
      "application/javascript": [
       "console.log(\"[123953][INFO][openvisuspy.widgets:381:setField] Widgets[5]::setField value=DATA\");\n"
      ],
      "text/plain": [
       "<IPython.core.display.Javascript object>"
      ]
     },
     "metadata": {},
     "output_type": "display_data"
    },
    {
     "data": {
      "application/javascript": [
       "console.log(\"[123953][INFO][openvisuspy.widgets:466:setDirection] Widgets[5]::setDirection value=2\");\n"
      ],
      "text/plain": [
       "<IPython.core.display.Javascript object>"
      ]
     },
     "metadata": {},
     "output_type": "display_data"
    },
    {
     "data": {
      "application/javascript": [
       "console.log(\"[123953][INFO][openvisuspy.slice:137:setLogicBox] Slice[5]::setLogicBox value=([0, 0, 0], [2048, 2048, 2048])\");\n"
      ],
      "text/plain": [
       "<IPython.core.display.Javascript object>"
      ]
     },
     "metadata": {},
     "output_type": "display_data"
    },
    {
     "data": {
      "application/javascript": [
       "console.log(\"[123953][INFO][openvisuspy.widgets:394:setPalette] Widgets[5]::setPalette value=Greys256\");\n"
      ],
      "text/plain": [
       "<IPython.core.display.Javascript object>"
      ]
     },
     "metadata": {},
     "output_type": "display_data"
    },
    {
     "data": {
      "application/javascript": [
       "console.log(\"[123953][INFO][openvisuspy.widgets:408:setPaletteRange] Widgets[5]::setPaletteRange value=(0, 255)\");\n"
      ],
      "text/plain": [
       "<IPython.core.display.Javascript object>"
      ]
     },
     "metadata": {},
     "output_type": "display_data"
    },
    {
     "data": {
      "application/javascript": [
       "console.log(\"[123953][INFO][openvisuspy.widgets:360:setTimestep] Widgets[5]::setTimestep value=0\");\n"
      ],
      "text/plain": [
       "<IPython.core.display.Javascript object>"
      ]
     },
     "metadata": {},
     "output_type": "display_data"
    },
    {
     "data": {
      "application/javascript": [
       "console.log(\"[123953][INFO][openvisuspy.widgets:381:setField] Widgets[5]::setField value=DATA\");\n"
      ],
      "text/plain": [
       "<IPython.core.display.Javascript object>"
      ]
     },
     "metadata": {},
     "output_type": "display_data"
    },
    {
     "data": {
      "application/javascript": [
       "console.log(\"[123953][INFO][openvisuspy.widgets:278:setDataset] Widgets[6]::setDataset value=http://atlantis.sci.utah.edu/mod_visus?dataset=david_subsampled&cached=1\");\n"
      ],
      "text/plain": [
       "<IPython.core.display.Javascript object>"
      ]
     },
     "metadata": {},
     "output_type": "display_data"
    },
    {
     "data": {
      "application/javascript": [
       "console.log(\"[123953][INFO][openvisuspy.backend_py:373:LoadDataset] Got response <dataset name='david_subsampled' url='$(protocol)://$(hostname):$(port)/mod_visus?action=readdataset&amp;dataset=david_subsampled' typename='IdxDataset'>\n",
       "\t<idxfile>\n",
       "\t\t<version value='6' />\n",
       "\t\t<bitmask value='V11010101010101010101010101010101' />\n",
       "\t\t<box value='0 29280 0 70416' />\n",
       "\t\t<bitsperblock value='16' />\n",
       "\t\t<blocksperfile value='256' />\n",
       "\t\t<block_interleaving value='0' />\n",
       "\t\t<filename_template value='./david_subsampled/%04x.bin' />\n",
       "\t\t<missing_blocks value='False' />\n",
       "\t\t<arco value='0' />\n",
       "\t\t<time_template value='time_%02d/' />\n",
       "\t\t<field name='data' description='' index='' default_compression='zip' default_layout='' default_value='0' filter='' dtype='uint8[3]' />\n",
       "\t\t<timestep from='0' to='3' step='1' />\n",
       "\t</idxfile>\n",
       "</dataset>\");\n"
      ],
      "text/plain": [
       "<IPython.core.display.Javascript object>"
      ]
     },
     "metadata": {},
     "output_type": "display_data"
    },
    {
     "data": {
      "application/javascript": [
       "console.log(\"[123953][INFO][openvisuspy.backend_py:420:LoadDataset] LoadDataset returned:\n",
       "{'url': 'http://atlantis.sci.utah.edu/mod_visus?dataset=david_subsampled&cached=1', 'bitmask': 'V11010101010101010101010101010101', 'pdim': 2, 'max_resolution': 32, 'timesteps': [0, 1, 2], 'fields': [{'name': 'data', 'dtype': 'uint8[3]'}], 'logic_box': [[0, 0], [29280, 70416]], 'logic_size': [29280, 70416]}\");\n"
      ],
      "text/plain": [
       "<IPython.core.display.Javascript object>"
      ]
     },
     "metadata": {},
     "output_type": "display_data"
    },
    {
     "data": {
      "application/javascript": [
       "console.log(\"[123953][INFO][openvisuspy.widgets:328:setTimesteps] Widgets[6]::setTimesteps start=0 end=2\");\n"
      ],
      "text/plain": [
       "<IPython.core.display.Javascript object>"
      ]
     },
     "metadata": {},
     "output_type": "display_data"
    },
    {
     "data": {
      "application/javascript": [
       "console.log(\"[123953][INFO][openvisuspy.widgets:339:setTimestepDelta] Widgets[6]::setTimestepDelta value=1\");\n"
      ],
      "text/plain": [
       "<IPython.core.display.Javascript object>"
      ]
     },
     "metadata": {},
     "output_type": "display_data"
    },
    {
     "data": {
      "application/javascript": [
       "console.log(\"[123953][INFO][openvisuspy.widgets:360:setTimestep] Widgets[6]::setTimestep value=0\");\n"
      ],
      "text/plain": [
       "<IPython.core.display.Javascript object>"
      ]
     },
     "metadata": {},
     "output_type": "display_data"
    },
    {
     "data": {
      "application/javascript": [
       "console.log(\"[123953][INFO][openvisuspy.widgets:360:setTimestep] Widgets[6]::setTimestep value=0\");\n"
      ],
      "text/plain": [
       "<IPython.core.display.Javascript object>"
      ]
     },
     "metadata": {},
     "output_type": "display_data"
    },
    {
     "data": {
      "application/javascript": [
       "console.log(\"[123953][INFO][openvisuspy.widgets:466:setDirection] Widgets[6]::setDirection value=2\");\n"
      ],
      "text/plain": [
       "<IPython.core.display.Javascript object>"
      ]
     },
     "metadata": {},
     "output_type": "display_data"
    },
    {
     "data": {
      "application/javascript": [
       "console.log(\"[123953][INFO][openvisuspy.slice:137:setLogicBox] Slice[6]::setLogicBox value=([0, 0], [29280, 70416])\");\n"
      ],
      "text/plain": [
       "<IPython.core.display.Javascript object>"
      ]
     },
     "metadata": {},
     "output_type": "display_data"
    },
    {
     "data": {
      "application/javascript": [
       "console.log(\"[123953][INFO][openvisuspy.widgets:372:setFields] Widgets[6]::setFields value=['data']\");\n"
      ],
      "text/plain": [
       "<IPython.core.display.Javascript object>"
      ]
     },
     "metadata": {},
     "output_type": "display_data"
    },
    {
     "data": {
      "application/javascript": [
       "console.log(\"[123953][INFO][openvisuspy.widgets:381:setField] Widgets[6]::setField value=data\");\n"
      ],
      "text/plain": [
       "<IPython.core.display.Javascript object>"
      ]
     },
     "metadata": {},
     "output_type": "display_data"
    },
    {
     "data": {
      "application/javascript": [
       "console.log(\"[123953][INFO][openvisuspy.widgets:466:setDirection] Widgets[6]::setDirection value=2\");\n"
      ],
      "text/plain": [
       "<IPython.core.display.Javascript object>"
      ]
     },
     "metadata": {},
     "output_type": "display_data"
    },
    {
     "data": {
      "application/javascript": [
       "console.log(\"[123953][INFO][openvisuspy.slice:137:setLogicBox] Slice[6]::setLogicBox value=([0, 0], [29280, 70416])\");\n"
      ],
      "text/plain": [
       "<IPython.core.display.Javascript object>"
      ]
     },
     "metadata": {},
     "output_type": "display_data"
    },
    {
     "data": {
      "application/javascript": [
       "console.log(\"[123953][INFO][openvisuspy.widgets:394:setPalette] Widgets[6]::setPalette value=Greys256\");\n"
      ],
      "text/plain": [
       "<IPython.core.display.Javascript object>"
      ]
     },
     "metadata": {},
     "output_type": "display_data"
    },
    {
     "data": {
      "application/javascript": [
       "console.log(\"[123953][INFO][openvisuspy.widgets:408:setPaletteRange] Widgets[6]::setPaletteRange value=(0, 255)\");\n"
      ],
      "text/plain": [
       "<IPython.core.display.Javascript object>"
      ]
     },
     "metadata": {},
     "output_type": "display_data"
    },
    {
     "data": {
      "application/javascript": [
       "console.log(\"[123953][INFO][openvisuspy.widgets:360:setTimestep] Widgets[6]::setTimestep value=0\");\n"
      ],
      "text/plain": [
       "<IPython.core.display.Javascript object>"
      ]
     },
     "metadata": {},
     "output_type": "display_data"
    },
    {
     "data": {
      "application/javascript": [
       "console.log(\"[123953][INFO][openvisuspy.widgets:381:setField] Widgets[6]::setField value=data\");\n"
      ],
      "text/plain": [
       "<IPython.core.display.Javascript object>"
      ]
     },
     "metadata": {},
     "output_type": "display_data"
    },
    {
     "data": {
      "application/javascript": [
       "console.log(\"[123953][INFO][openvisuspy.widgets:319:setNumberOfViews] Widgets[7]::setNumberOfViews value=2\");\n"
      ],
      "text/plain": [
       "<IPython.core.display.Javascript object>"
      ]
     },
     "metadata": {},
     "output_type": "display_data"
    },
    {
     "data": {
      "application/javascript": [
       "console.log(\"[123953][INFO][openvisuspy.widgets:319:setNumberOfViews] Widgets[7]::setNumberOfViews value=2\");\n"
      ],
      "text/plain": [
       "<IPython.core.display.Javascript object>"
      ]
     },
     "metadata": {},
     "output_type": "display_data"
    },
    {
     "data": {
      "application/javascript": [
       "console.log(\"[123953][INFO][openvisuspy.widgets:147:stop] <class 'openvisuspy.slices.Slices'> stop\");\n"
      ],
      "text/plain": [
       "<IPython.core.display.Javascript object>"
      ]
     },
     "metadata": {},
     "output_type": "display_data"
    },
    {
     "data": {
      "application/javascript": [
       "console.log(\"[123953][INFO][openvisuspy.widgets:147:stop] <class 'openvisuspy.slices.Slices'> stop\");\n"
      ],
      "text/plain": [
       "<IPython.core.display.Javascript object>"
      ]
     },
     "metadata": {},
     "output_type": "display_data"
    },
    {
     "data": {
      "application/javascript": [
       "console.log(\"[123953][INFO][openvisuspy.widgets:147:stop] <class 'openvisuspy.slice.Slice'> stop\");\n"
      ],
      "text/plain": [
       "<IPython.core.display.Javascript object>"
      ]
     },
     "metadata": {},
     "output_type": "display_data"
    },
    {
     "data": {
      "application/javascript": [
       "console.log(\"[123953][INFO][openvisuspy.widgets:147:stop] <class 'openvisuspy.slice.Slice'> stop\");\n"
      ],
      "text/plain": [
       "<IPython.core.display.Javascript object>"
      ]
     },
     "metadata": {},
     "output_type": "display_data"
    },
    {
     "data": {
      "application/javascript": [
       "console.log(\"[123953][INFO][openvisuspy.widgets:278:setDataset] Widgets[7]::setDataset value=http://atlantis.sci.utah.edu/mod_visus?dataset=2kbit1&cached=1\");\n"
      ],
      "text/plain": [
       "<IPython.core.display.Javascript object>"
      ]
     },
     "metadata": {},
     "output_type": "display_data"
    },
    {
     "data": {
      "application/javascript": [
       "console.log(\"[123953][INFO][openvisuspy.backend_py:373:LoadDataset] Got response <dataset name='2kbit1' url='$(protocol)://$(hostname):$(port)/mod_visus?action=readdataset&amp;dataset=2kbit1' typename='IdxDataset'>\n",
       "\t<idxfile>\n",
       "\t\t<version value='6' />\n",
       "\t\t<bitmask value='V012012012012012012012012012012012' />\n",
       "\t\t<box value='0 2048 0 2048 0 2048' />\n",
       "\t\t<bitsperblock value='16' />\n",
       "\t\t<blocksperfile value='256' />\n",
       "\t\t<block_interleaving value='0' />\n",
       "\t\t<filename_template value='./visus/%02x/%04x.bin' />\n",
       "\t\t<missing_blocks value='False' />\n",
       "\t\t<arco value='0' />\n",
       "\t\t<time_template value='' />\n",
       "\t\t<field name='DATA' description='' index='' default_compression='zip' default_layout='0' default_value='0' filter='' dtype='uint8' />\n",
       "\t\t<timestep when='0' />\n",
       "\t</idxfile>\n",
       "</dataset>\");\n"
      ],
      "text/plain": [
       "<IPython.core.display.Javascript object>"
      ]
     },
     "metadata": {},
     "output_type": "display_data"
    },
    {
     "data": {
      "application/javascript": [
       "console.log(\"[123953][INFO][openvisuspy.backend_py:420:LoadDataset] LoadDataset returned:\n",
       "{'url': 'http://atlantis.sci.utah.edu/mod_visus?dataset=2kbit1&cached=1', 'bitmask': 'V012012012012012012012012012012012', 'pdim': 3, 'max_resolution': 33, 'timesteps': [0], 'fields': [{'name': 'DATA', 'dtype': 'uint8'}], 'logic_box': [[0, 0, 0], [2048, 2048, 2048]], 'logic_size': [2048, 2048, 2048]}\");\n"
      ],
      "text/plain": [
       "<IPython.core.display.Javascript object>"
      ]
     },
     "metadata": {},
     "output_type": "display_data"
    },
    {
     "data": {
      "application/javascript": [
       "console.log(\"[123953][INFO][openvisuspy.widgets:278:setDataset] Widgets[10]::setDataset value=http://atlantis.sci.utah.edu/mod_visus?dataset=2kbit1&cached=1\");\n"
      ],
      "text/plain": [
       "<IPython.core.display.Javascript object>"
      ]
     },
     "metadata": {},
     "output_type": "display_data"
    },
    {
     "data": {
      "application/javascript": [
       "console.log(\"[123953][INFO][openvisuspy.widgets:328:setTimesteps] Widgets[10]::setTimesteps start=0 end=0\");\n"
      ],
      "text/plain": [
       "<IPython.core.display.Javascript object>"
      ]
     },
     "metadata": {},
     "output_type": "display_data"
    },
    {
     "data": {
      "application/javascript": [
       "console.log(\"[123953][INFO][openvisuspy.widgets:339:setTimestepDelta] Widgets[10]::setTimestepDelta value=1\");\n"
      ],
      "text/plain": [
       "<IPython.core.display.Javascript object>"
      ]
     },
     "metadata": {},
     "output_type": "display_data"
    },
    {
     "data": {
      "application/javascript": [
       "console.log(\"[123953][INFO][openvisuspy.widgets:360:setTimestep] Widgets[10]::setTimestep value=0\");\n"
      ],
      "text/plain": [
       "<IPython.core.display.Javascript object>"
      ]
     },
     "metadata": {},
     "output_type": "display_data"
    },
    {
     "data": {
      "application/javascript": [
       "console.log(\"[123953][INFO][openvisuspy.widgets:360:setTimestep] Widgets[10]::setTimestep value=0\");\n"
      ],
      "text/plain": [
       "<IPython.core.display.Javascript object>"
      ]
     },
     "metadata": {},
     "output_type": "display_data"
    },
    {
     "data": {
      "application/javascript": [
       "console.log(\"[123953][INFO][openvisuspy.widgets:466:setDirection] Widgets[10]::setDirection value=2\");\n"
      ],
      "text/plain": [
       "<IPython.core.display.Javascript object>"
      ]
     },
     "metadata": {},
     "output_type": "display_data"
    },
    {
     "data": {
      "application/javascript": [
       "console.log(\"[123953][INFO][openvisuspy.widgets:494:setOffset] Widgets[10]::getOffset value=1024\");\n"
      ],
      "text/plain": [
       "<IPython.core.display.Javascript object>"
      ]
     },
     "metadata": {},
     "output_type": "display_data"
    },
    {
     "data": {
      "application/javascript": [
       "console.log(\"[123953][INFO][openvisuspy.slice:137:setLogicBox] Slice[10]::setLogicBox value=([0, 0, 0], [2048, 2048, 2048])\");\n"
      ],
      "text/plain": [
       "<IPython.core.display.Javascript object>"
      ]
     },
     "metadata": {},
     "output_type": "display_data"
    },
    {
     "data": {
      "application/javascript": [
       "console.log(\"[123953][INFO][openvisuspy.widgets:372:setFields] Widgets[10]::setFields value=['DATA']\");\n"
      ],
      "text/plain": [
       "<IPython.core.display.Javascript object>"
      ]
     },
     "metadata": {},
     "output_type": "display_data"
    },
    {
     "data": {
      "application/javascript": [
       "console.log(\"[123953][INFO][openvisuspy.widgets:381:setField] Widgets[10]::setField value=DATA\");\n"
      ],
      "text/plain": [
       "<IPython.core.display.Javascript object>"
      ]
     },
     "metadata": {},
     "output_type": "display_data"
    },
    {
     "data": {
      "application/javascript": [
       "console.log(\"[123953][INFO][openvisuspy.widgets:381:setField] Widgets[10]::setField value=DATA\");\n"
      ],
      "text/plain": [
       "<IPython.core.display.Javascript object>"
      ]
     },
     "metadata": {},
     "output_type": "display_data"
    },
    {
     "data": {
      "application/javascript": [
       "console.log(\"[123953][INFO][openvisuspy.widgets:278:setDataset] Widgets[11]::setDataset value=http://atlantis.sci.utah.edu/mod_visus?dataset=2kbit1&cached=1\");\n"
      ],
      "text/plain": [
       "<IPython.core.display.Javascript object>"
      ]
     },
     "metadata": {},
     "output_type": "display_data"
    },
    {
     "data": {
      "application/javascript": [
       "console.log(\"[123953][INFO][openvisuspy.widgets:328:setTimesteps] Widgets[11]::setTimesteps start=0 end=0\");\n"
      ],
      "text/plain": [
       "<IPython.core.display.Javascript object>"
      ]
     },
     "metadata": {},
     "output_type": "display_data"
    },
    {
     "data": {
      "application/javascript": [
       "console.log(\"[123953][INFO][openvisuspy.widgets:339:setTimestepDelta] Widgets[11]::setTimestepDelta value=1\");\n"
      ],
      "text/plain": [
       "<IPython.core.display.Javascript object>"
      ]
     },
     "metadata": {},
     "output_type": "display_data"
    },
    {
     "data": {
      "application/javascript": [
       "console.log(\"[123953][INFO][openvisuspy.widgets:360:setTimestep] Widgets[11]::setTimestep value=0\");\n"
      ],
      "text/plain": [
       "<IPython.core.display.Javascript object>"
      ]
     },
     "metadata": {},
     "output_type": "display_data"
    },
    {
     "data": {
      "application/javascript": [
       "console.log(\"[123953][INFO][openvisuspy.widgets:360:setTimestep] Widgets[11]::setTimestep value=0\");\n"
      ],
      "text/plain": [
       "<IPython.core.display.Javascript object>"
      ]
     },
     "metadata": {},
     "output_type": "display_data"
    },
    {
     "data": {
      "application/javascript": [
       "console.log(\"[123953][INFO][openvisuspy.widgets:466:setDirection] Widgets[11]::setDirection value=2\");\n"
      ],
      "text/plain": [
       "<IPython.core.display.Javascript object>"
      ]
     },
     "metadata": {},
     "output_type": "display_data"
    },
    {
     "data": {
      "application/javascript": [
       "console.log(\"[123953][INFO][openvisuspy.widgets:494:setOffset] Widgets[11]::getOffset value=1024\");\n"
      ],
      "text/plain": [
       "<IPython.core.display.Javascript object>"
      ]
     },
     "metadata": {},
     "output_type": "display_data"
    },
    {
     "data": {
      "application/javascript": [
       "console.log(\"[123953][INFO][openvisuspy.slice:137:setLogicBox] Slice[11]::setLogicBox value=([0, 0, 0], [2048, 2048, 2048])\");\n"
      ],
      "text/plain": [
       "<IPython.core.display.Javascript object>"
      ]
     },
     "metadata": {},
     "output_type": "display_data"
    },
    {
     "data": {
      "application/javascript": [
       "console.log(\"[123953][INFO][openvisuspy.widgets:372:setFields] Widgets[11]::setFields value=['DATA']\");\n"
      ],
      "text/plain": [
       "<IPython.core.display.Javascript object>"
      ]
     },
     "metadata": {},
     "output_type": "display_data"
    },
    {
     "data": {
      "application/javascript": [
       "console.log(\"[123953][INFO][openvisuspy.widgets:381:setField] Widgets[11]::setField value=DATA\");\n"
      ],
      "text/plain": [
       "<IPython.core.display.Javascript object>"
      ]
     },
     "metadata": {},
     "output_type": "display_data"
    },
    {
     "data": {
      "application/javascript": [
       "console.log(\"[123953][INFO][openvisuspy.widgets:381:setField] Widgets[11]::setField value=DATA\");\n"
      ],
      "text/plain": [
       "<IPython.core.display.Javascript object>"
      ]
     },
     "metadata": {},
     "output_type": "display_data"
    },
    {
     "data": {
      "application/javascript": [
       "console.log(\"[123953][INFO][openvisuspy.widgets:328:setTimesteps] Widgets[7]::setTimesteps start=0 end=0\");\n"
      ],
      "text/plain": [
       "<IPython.core.display.Javascript object>"
      ]
     },
     "metadata": {},
     "output_type": "display_data"
    },
    {
     "data": {
      "application/javascript": [
       "console.log(\"[123953][INFO][openvisuspy.widgets:339:setTimestepDelta] Widgets[7]::setTimestepDelta value=1\");\n"
      ],
      "text/plain": [
       "<IPython.core.display.Javascript object>"
      ]
     },
     "metadata": {},
     "output_type": "display_data"
    },
    {
     "data": {
      "application/javascript": [
       "console.log(\"[123953][INFO][openvisuspy.widgets:360:setTimestep] Widgets[7]::setTimestep value=0\");\n"
      ],
      "text/plain": [
       "<IPython.core.display.Javascript object>"
      ]
     },
     "metadata": {},
     "output_type": "display_data"
    },
    {
     "data": {
      "application/javascript": [
       "console.log(\"[123953][INFO][openvisuspy.widgets:360:setTimestep] Widgets[10]::setTimestep value=0\");\n"
      ],
      "text/plain": [
       "<IPython.core.display.Javascript object>"
      ]
     },
     "metadata": {},
     "output_type": "display_data"
    },
    {
     "data": {
      "application/javascript": [
       "console.log(\"[123953][INFO][openvisuspy.widgets:360:setTimestep] Widgets[11]::setTimestep value=0\");\n"
      ],
      "text/plain": [
       "<IPython.core.display.Javascript object>"
      ]
     },
     "metadata": {},
     "output_type": "display_data"
    },
    {
     "data": {
      "application/javascript": [
       "console.log(\"[123953][INFO][openvisuspy.widgets:339:setTimestepDelta] Widgets[10]::setTimestepDelta value=1\");\n"
      ],
      "text/plain": [
       "<IPython.core.display.Javascript object>"
      ]
     },
     "metadata": {},
     "output_type": "display_data"
    },
    {
     "data": {
      "application/javascript": [
       "console.log(\"[123953][INFO][openvisuspy.widgets:360:setTimestep] Widgets[10]::setTimestep value=0\");\n"
      ],
      "text/plain": [
       "<IPython.core.display.Javascript object>"
      ]
     },
     "metadata": {},
     "output_type": "display_data"
    },
    {
     "data": {
      "application/javascript": [
       "console.log(\"[123953][INFO][openvisuspy.widgets:339:setTimestepDelta] Widgets[11]::setTimestepDelta value=1\");\n"
      ],
      "text/plain": [
       "<IPython.core.display.Javascript object>"
      ]
     },
     "metadata": {},
     "output_type": "display_data"
    },
    {
     "data": {
      "application/javascript": [
       "console.log(\"[123953][INFO][openvisuspy.widgets:360:setTimestep] Widgets[11]::setTimestep value=0\");\n"
      ],
      "text/plain": [
       "<IPython.core.display.Javascript object>"
      ]
     },
     "metadata": {},
     "output_type": "display_data"
    },
    {
     "data": {
      "application/javascript": [
       "console.log(\"[123953][INFO][openvisuspy.widgets:360:setTimestep] Widgets[7]::setTimestep value=0\");\n"
      ],
      "text/plain": [
       "<IPython.core.display.Javascript object>"
      ]
     },
     "metadata": {},
     "output_type": "display_data"
    },
    {
     "data": {
      "application/javascript": [
       "console.log(\"[123953][INFO][openvisuspy.widgets:360:setTimestep] Widgets[10]::setTimestep value=0\");\n"
      ],
      "text/plain": [
       "<IPython.core.display.Javascript object>"
      ]
     },
     "metadata": {},
     "output_type": "display_data"
    },
    {
     "data": {
      "application/javascript": [
       "console.log(\"[123953][INFO][openvisuspy.widgets:360:setTimestep] Widgets[11]::setTimestep value=0\");\n"
      ],
      "text/plain": [
       "<IPython.core.display.Javascript object>"
      ]
     },
     "metadata": {},
     "output_type": "display_data"
    },
    {
     "data": {
      "application/javascript": [
       "console.log(\"[123953][INFO][openvisuspy.widgets:466:setDirection] Widgets[7]::setDirection value=2\");\n"
      ],
      "text/plain": [
       "<IPython.core.display.Javascript object>"
      ]
     },
     "metadata": {},
     "output_type": "display_data"
    },
    {
     "data": {
      "application/javascript": [
       "console.log(\"[123953][INFO][openvisuspy.widgets:494:setOffset] Widgets[7]::getOffset value=1024\");\n"
      ],
      "text/plain": [
       "<IPython.core.display.Javascript object>"
      ]
     },
     "metadata": {},
     "output_type": "display_data"
    },
    {
     "data": {
      "application/javascript": [
       "console.log(\"[123953][INFO][openvisuspy.widgets:466:setDirection] Widgets[10]::setDirection value=0\");\n"
      ],
      "text/plain": [
       "<IPython.core.display.Javascript object>"
      ]
     },
     "metadata": {},
     "output_type": "display_data"
    },
    {
     "data": {
      "application/javascript": [
       "console.log(\"[123953][INFO][openvisuspy.widgets:466:setDirection] Widgets[10]::setDirection value=0\");\n"
      ],
      "text/plain": [
       "<IPython.core.display.Javascript object>"
      ]
     },
     "metadata": {},
     "output_type": "display_data"
    },
    {
     "data": {
      "application/javascript": [
       "console.log(\"[123953][INFO][openvisuspy.slice:137:setLogicBox] Slice[10]::setLogicBox value=([0, 0, 0], [2048, 2048, 2048])\");\n"
      ],
      "text/plain": [
       "<IPython.core.display.Javascript object>"
      ]
     },
     "metadata": {},
     "output_type": "display_data"
    },
    {
     "data": {
      "application/javascript": [
       "console.log(\"[123953][INFO][openvisuspy.slice:137:setLogicBox] Slice[10]::setLogicBox value=([0, 0, 0], [2048, 2048, 2048])\");\n"
      ],
      "text/plain": [
       "<IPython.core.display.Javascript object>"
      ]
     },
     "metadata": {},
     "output_type": "display_data"
    },
    {
     "data": {
      "application/javascript": [
       "console.log(\"[123953][INFO][openvisuspy.widgets:466:setDirection] Widgets[11]::setDirection value=1\");\n"
      ],
      "text/plain": [
       "<IPython.core.display.Javascript object>"
      ]
     },
     "metadata": {},
     "output_type": "display_data"
    },
    {
     "data": {
      "application/javascript": [
       "console.log(\"[123953][INFO][openvisuspy.widgets:466:setDirection] Widgets[11]::setDirection value=1\");\n"
      ],
      "text/plain": [
       "<IPython.core.display.Javascript object>"
      ]
     },
     "metadata": {},
     "output_type": "display_data"
    },
    {
     "data": {
      "application/javascript": [
       "console.log(\"[123953][INFO][openvisuspy.slice:137:setLogicBox] Slice[11]::setLogicBox value=([0, 0, 0], [2048, 2048, 2048])\");\n"
      ],
      "text/plain": [
       "<IPython.core.display.Javascript object>"
      ]
     },
     "metadata": {},
     "output_type": "display_data"
    },
    {
     "data": {
      "application/javascript": [
       "console.log(\"[123953][INFO][openvisuspy.slice:137:setLogicBox] Slice[11]::setLogicBox value=([0, 0, 0], [2048, 2048, 2048])\");\n"
      ],
      "text/plain": [
       "<IPython.core.display.Javascript object>"
      ]
     },
     "metadata": {},
     "output_type": "display_data"
    },
    {
     "data": {
      "application/javascript": [
       "console.log(\"[123953][INFO][openvisuspy.widgets:372:setFields] Widgets[7]::setFields value=['DATA']\");\n"
      ],
      "text/plain": [
       "<IPython.core.display.Javascript object>"
      ]
     },
     "metadata": {},
     "output_type": "display_data"
    },
    {
     "data": {
      "application/javascript": [
       "console.log(\"[123953][INFO][openvisuspy.widgets:381:setField] Widgets[7]::setField value=DATA\");\n"
      ],
      "text/plain": [
       "<IPython.core.display.Javascript object>"
      ]
     },
     "metadata": {},
     "output_type": "display_data"
    },
    {
     "data": {
      "application/javascript": [
       "console.log(\"[123953][INFO][openvisuspy.widgets:381:setField] Widgets[7]::setField value=DATA\");\n"
      ],
      "text/plain": [
       "<IPython.core.display.Javascript object>"
      ]
     },
     "metadata": {},
     "output_type": "display_data"
    },
    {
     "data": {
      "application/javascript": [
       "console.log(\"[123953][INFO][openvisuspy.widgets:381:setField] Widgets[10]::setField value=DATA\");\n"
      ],
      "text/plain": [
       "<IPython.core.display.Javascript object>"
      ]
     },
     "metadata": {},
     "output_type": "display_data"
    },
    {
     "data": {
      "application/javascript": [
       "console.log(\"[123953][INFO][openvisuspy.widgets:381:setField] Widgets[11]::setField value=DATA\");\n"
      ],
      "text/plain": [
       "<IPython.core.display.Javascript object>"
      ]
     },
     "metadata": {},
     "output_type": "display_data"
    },
    {
     "data": {
      "application/javascript": [
       "console.log(\"[123953][INFO][openvisuspy.widgets:381:setField] Widgets[10]::setField value=DATA\");\n"
      ],
      "text/plain": [
       "<IPython.core.display.Javascript object>"
      ]
     },
     "metadata": {},
     "output_type": "display_data"
    },
    {
     "data": {
      "application/javascript": [
       "console.log(\"[123953][INFO][openvisuspy.widgets:381:setField] Widgets[11]::setField value=DATA\");\n"
      ],
      "text/plain": [
       "<IPython.core.display.Javascript object>"
      ]
     },
     "metadata": {},
     "output_type": "display_data"
    },
    {
     "data": {
      "application/javascript": [
       "console.log(\"[123953][INFO][openvisuspy.widgets:394:setPalette] Widgets[7]::setPalette value=Greys256\");\n"
      ],
      "text/plain": [
       "<IPython.core.display.Javascript object>"
      ]
     },
     "metadata": {},
     "output_type": "display_data"
    },
    {
     "data": {
      "application/javascript": [
       "console.log(\"[123953][INFO][openvisuspy.widgets:394:setPalette] Widgets[10]::setPalette value=Greys256\");\n"
      ],
      "text/plain": [
       "<IPython.core.display.Javascript object>"
      ]
     },
     "metadata": {},
     "output_type": "display_data"
    },
    {
     "data": {
      "application/javascript": [
       "console.log(\"[123953][INFO][openvisuspy.widgets:394:setPalette] Widgets[11]::setPalette value=Greys256\");\n"
      ],
      "text/plain": [
       "<IPython.core.display.Javascript object>"
      ]
     },
     "metadata": {},
     "output_type": "display_data"
    },
    {
     "data": {
      "application/javascript": [
       "console.log(\"[123953][INFO][openvisuspy.widgets:408:setPaletteRange] Widgets[7]::setPaletteRange value=(0, 255)\");\n"
      ],
      "text/plain": [
       "<IPython.core.display.Javascript object>"
      ]
     },
     "metadata": {},
     "output_type": "display_data"
    },
    {
     "data": {
      "application/javascript": [
       "console.log(\"[123953][INFO][openvisuspy.widgets:408:setPaletteRange] Widgets[10]::setPaletteRange value=(0, 255)\");\n"
      ],
      "text/plain": [
       "<IPython.core.display.Javascript object>"
      ]
     },
     "metadata": {},
     "output_type": "display_data"
    },
    {
     "data": {
      "application/javascript": [
       "console.log(\"[123953][INFO][openvisuspy.widgets:408:setPaletteRange] Widgets[11]::setPaletteRange value=(0, 255)\");\n"
      ],
      "text/plain": [
       "<IPython.core.display.Javascript object>"
      ]
     },
     "metadata": {},
     "output_type": "display_data"
    },
    {
     "data": {
      "application/javascript": [
       "console.log(\"[123953][INFO][openvisuspy.widgets:360:setTimestep] Widgets[7]::setTimestep value=0\");\n"
      ],
      "text/plain": [
       "<IPython.core.display.Javascript object>"
      ]
     },
     "metadata": {},
     "output_type": "display_data"
    },
    {
     "data": {
      "application/javascript": [
       "console.log(\"[123953][INFO][openvisuspy.widgets:360:setTimestep] Widgets[10]::setTimestep value=0\");\n"
      ],
      "text/plain": [
       "<IPython.core.display.Javascript object>"
      ]
     },
     "metadata": {},
     "output_type": "display_data"
    },
    {
     "data": {
      "application/javascript": [
       "console.log(\"[123953][INFO][openvisuspy.widgets:360:setTimestep] Widgets[11]::setTimestep value=0\");\n"
      ],
      "text/plain": [
       "<IPython.core.display.Javascript object>"
      ]
     },
     "metadata": {},
     "output_type": "display_data"
    },
    {
     "data": {
      "application/javascript": [
       "console.log(\"[123953][INFO][openvisuspy.widgets:381:setField] Widgets[7]::setField value=DATA\");\n"
      ],
      "text/plain": [
       "<IPython.core.display.Javascript object>"
      ]
     },
     "metadata": {},
     "output_type": "display_data"
    },
    {
     "data": {
      "application/javascript": [
       "console.log(\"[123953][INFO][openvisuspy.widgets:381:setField] Widgets[10]::setField value=DATA\");\n"
      ],
      "text/plain": [
       "<IPython.core.display.Javascript object>"
      ]
     },
     "metadata": {},
     "output_type": "display_data"
    },
    {
     "data": {
      "application/javascript": [
       "console.log(\"[123953][INFO][openvisuspy.widgets:381:setField] Widgets[11]::setField value=DATA\");\n"
      ],
      "text/plain": [
       "<IPython.core.display.Javascript object>"
      ]
     },
     "metadata": {},
     "output_type": "display_data"
    },
    {
     "data": {
      "application/javascript": [
       "console.log(\"[123953][INFO][openvisuspy.canvas:61:onResize] Calling on_resize callback w=190 h=543\");\n"
      ],
      "text/plain": [
       "<IPython.core.display.Javascript object>"
      ]
     },
     "metadata": {},
     "output_type": "display_data"
    },
    {
     "data": {
      "application/javascript": [
       "console.log(\"[123953][INFO][openvisuspy.widgets:466:setDirection] Widgets[3]::setDirection value=2\");\n"
      ],
      "text/plain": [
       "<IPython.core.display.Javascript object>"
      ]
     },
     "metadata": {},
     "output_type": "display_data"
    },
    {
     "data": {
      "application/javascript": [
       "console.log(\"[123953][INFO][openvisuspy.slice:137:setLogicBox] Slice[3]::setLogicBox value=([0, 0], [29280, 70416])\");\n"
      ],
      "text/plain": [
       "<IPython.core.display.Javascript object>"
      ]
     },
     "metadata": {},
     "output_type": "display_data"
    },
    {
     "data": {
      "application/javascript": [
       "console.log(\"[123953][INFO][openvisuspy.slice:209:pushJobIfNeeded] pushing new job\");\n"
      ],
      "text/plain": [
       "<IPython.core.display.Javascript object>"
      ]
     },
     "metadata": {},
     "output_type": "display_data"
    },
    {
     "data": {
      "application/javascript": [
       "console.log(\"[123953][INFO][openvisuspy.backend_py:145:pushJob] pushed new job <openvisuspy.backend_py.Dataset object at 0x000001FA95D0DD30>\");\n"
      ],
      "text/plain": [
       "<IPython.core.display.Javascript object>"
      ]
     },
     "metadata": {},
     "output_type": "display_data"
    },
    {
     "data": {
      "application/javascript": [
       "console.log(\"[123953][INFO][openvisuspy.canvas:61:onResize] Calling on_resize callback w=190 h=543\");\n"
      ],
      "text/plain": [
       "<IPython.core.display.Javascript object>"
      ]
     },
     "metadata": {},
     "output_type": "display_data"
    },
    {
     "data": {
      "application/javascript": [
       "console.log(\"[123953][INFO][openvisuspy.widgets:466:setDirection] Widgets[4]::setDirection value=2\");\n"
      ],
      "text/plain": [
       "<IPython.core.display.Javascript object>"
      ]
     },
     "metadata": {},
     "output_type": "display_data"
    },
    {
     "data": {
      "application/javascript": [
       "console.log(\"[123953][INFO][openvisuspy.slice:137:setLogicBox] Slice[4]::setLogicBox value=([0, 0], [29280, 70416])\");\n"
      ],
      "text/plain": [
       "<IPython.core.display.Javascript object>"
      ]
     },
     "metadata": {},
     "output_type": "display_data"
    },
    {
     "data": {
      "application/javascript": [
       "console.log(\"[123953][INFO][openvisuspy.backend_py:74:createBoxQuery] begin timestep=0 field=data logic_box=[[0.0, -6631.57894736842], [29280.0, 77047.57894736843]] num_refinements=3 max_pixels=103170 endh=32\");\n"
      ],
      "text/plain": [
       "<IPython.core.display.Javascript object>"
      ]
     },
     "metadata": {},
     "output_type": "display_data"
    },
    {
     "data": {
      "application/javascript": [
       "console.log(\"[123953][INFO][openvisuspy.backend_py:109:createBoxQuery] Guess resolution endh=17 original_box=([0, 0], [29280, 70416]) aligned_box=([0, 0], [29184, 70400]) delta=[128, 256, 1] num_pixels=[228, 275] tot_pixels=62,700 max_pixels=103,170 end=17\");\n"
      ],
      "text/plain": [
       "<IPython.core.display.Javascript object>"
      ]
     },
     "metadata": {},
     "output_type": "display_data"
    },
    {
     "data": {
      "application/javascript": [
       "console.log(\"[123953][INFO][openvisuspy.backend_py:138:beginBoxQuery] beginBoxQuery timestep=0 field=data logic_box=[[0, 0], [29184, 69632]] end_resolutions=[13, 15, 17]\");\n"
      ],
      "text/plain": [
       "<IPython.core.display.Javascript object>"
      ]
     },
     "metadata": {},
     "output_type": "display_data"
    },
    {
     "data": {
      "application/javascript": [
       "console.log(\"[123953][INFO][openvisuspy.canvas:61:onResize] Calling on_resize callback w=575 h=543\");\n"
      ],
      "text/plain": [
       "<IPython.core.display.Javascript object>"
      ]
     },
     "metadata": {},
     "output_type": "display_data"
    },
    {
     "data": {
      "application/javascript": [
       "console.log(\"[123953][INFO][openvisuspy.widgets:466:setDirection] Widgets[5]::setDirection value=2\");\n"
      ],
      "text/plain": [
       "<IPython.core.display.Javascript object>"
      ]
     },
     "metadata": {},
     "output_type": "display_data"
    },
    {
     "data": {
      "application/javascript": [
       "console.log(\"[123953][INFO][openvisuspy.slice:137:setLogicBox] Slice[5]::setLogicBox value=([0, 0, 0], [2048, 2048, 2048])\");\n"
      ],
      "text/plain": [
       "<IPython.core.display.Javascript object>"
      ]
     },
     "metadata": {},
     "output_type": "display_data"
    },
    {
     "data": {
      "application/javascript": [
       "console.log(\"[123953][INFO][openvisuspy.canvas:61:onResize] Calling on_resize callback w=496 h=543\");\n"
      ],
      "text/plain": [
       "<IPython.core.display.Javascript object>"
      ]
     },
     "metadata": {},
     "output_type": "display_data"
    },
    {
     "data": {
      "application/javascript": [
       "console.log(\"[123953][INFO][openvisuspy.widgets:466:setDirection] Widgets[6]::setDirection value=2\");\n"
      ],
      "text/plain": [
       "<IPython.core.display.Javascript object>"
      ]
     },
     "metadata": {},
     "output_type": "display_data"
    },
    {
     "data": {
      "application/javascript": [
       "console.log(\"[123953][INFO][openvisuspy.slice:137:setLogicBox] Slice[6]::setLogicBox value=([0, 0], [29280, 70416])\");\n"
      ],
      "text/plain": [
       "<IPython.core.display.Javascript object>"
      ]
     },
     "metadata": {},
     "output_type": "display_data"
    },
    {
     "data": {
      "application/javascript": [
       "console.log(\"[123954][INFO][openvisuspy.slice:209:pushJobIfNeeded] pushing new job\");\n"
      ],
      "text/plain": [
       "<IPython.core.display.Javascript object>"
      ]
     },
     "metadata": {},
     "output_type": "display_data"
    },
    {
     "data": {
      "application/javascript": [
       "console.log(\"[123954][INFO][openvisuspy.backend_py:145:pushJob] pushed new job <openvisuspy.backend_py.Dataset object at 0x000001FA95D0DD30>\");\n"
      ],
      "text/plain": [
       "<IPython.core.display.Javascript object>"
      ]
     },
     "metadata": {},
     "output_type": "display_data"
    },
    {
     "data": {
      "application/javascript": [
       "console.log(\"[123954][INFO][openvisuspy.slice:209:pushJobIfNeeded] pushing new job\");\n"
      ],
      "text/plain": [
       "<IPython.core.display.Javascript object>"
      ]
     },
     "metadata": {},
     "output_type": "display_data"
    },
    {
     "data": {
      "application/javascript": [
       "console.log(\"[123954][INFO][openvisuspy.backend_py:145:pushJob] pushed new job <openvisuspy.backend_py.Dataset object at 0x000001FA95D13670>\");\n"
      ],
      "text/plain": [
       "<IPython.core.display.Javascript object>"
      ]
     },
     "metadata": {},
     "output_type": "display_data"
    },
    {
     "data": {
      "application/javascript": [
       "console.log(\"[123954][INFO][openvisuspy.slice:209:pushJobIfNeeded] pushing new job\");\n"
      ],
      "text/plain": [
       "<IPython.core.display.Javascript object>"
      ]
     },
     "metadata": {},
     "output_type": "display_data"
    },
    {
     "data": {
      "application/javascript": [
       "console.log(\"[123954][INFO][openvisuspy.backend_py:145:pushJob] pushed new job <openvisuspy.backend_py.Dataset object at 0x000001FA95E5D6D0>\");\n"
      ],
      "text/plain": [
       "<IPython.core.display.Javascript object>"
      ]
     },
     "metadata": {},
     "output_type": "display_data"
    },
    {
     "data": {
      "application/javascript": [
       "console.log(\"[123954][INFO][openvisuspy.backend_py:308:executeBoxQuery] [200] http://atlantis.sci.utah.edu/mod_visus?dataset=david_subsampled&cached=1&action=boxquery&box=0+29183+0+69631&compression=zip&field=data&time=0&toh=13\");\n"
      ],
      "text/plain": [
       "<IPython.core.display.Javascript object>"
      ]
     },
     "metadata": {},
     "output_type": "display_data"
    },
    {
     "data": {
      "application/javascript": [
       "console.log(\"[123954][INFO][openvisuspy.backend_py:168:returnBoxQueryData] got data 0/[13, 15, 17] timestep=0 field=data H=-1 data.shape=(68, 57, 3) data.dtype=uint8 logic_box=[[0, 0], [29184, 69632]] m=0 M=244 ms=207\");\n"
      ],
      "text/plain": [
       "<IPython.core.display.Javascript object>"
      ]
     },
     "metadata": {},
     "output_type": "display_data"
    },
    {
     "data": {
      "application/javascript": [
       "console.log(\"[123954][INFO][openvisuspy.backend_py:74:createBoxQuery] begin timestep=0 field=data logic_box=[[-17520.53038674033, 0.0], [46800.53038674033, 70416.0]] num_refinements=3 max_pixels=269328 endh=32\");\n"
      ],
      "text/plain": [
       "<IPython.core.display.Javascript object>"
      ]
     },
     "metadata": {},
     "output_type": "display_data"
    },
    {
     "data": {
      "application/javascript": [
       "console.log(\"[123954][INFO][openvisuspy.backend_py:109:createBoxQuery] Guess resolution endh=19 original_box=([0, 0], [29280, 70416]) aligned_box=([0, 0], [29248, 70400]) delta=[64, 128, 1] num_pixels=[457, 550] tot_pixels=251,350 max_pixels=269,328 end=19\");\n"
      ],
      "text/plain": [
       "<IPython.core.display.Javascript object>"
      ]
     },
     "metadata": {},
     "output_type": "display_data"
    },
    {
     "data": {
      "application/javascript": [
       "console.log(\"[123954][INFO][openvisuspy.backend_py:138:beginBoxQuery] beginBoxQuery timestep=0 field=data logic_box=[[0, 0], [29184, 70144]] end_resolutions=[15, 17, 19]\");\n"
      ],
      "text/plain": [
       "<IPython.core.display.Javascript object>"
      ]
     },
     "metadata": {},
     "output_type": "display_data"
    },
    {
     "data": {
      "application/javascript": [
       "console.log(\"[123954][INFO][openvisuspy.backend_py:74:createBoxQuery] begin timestep=0 field=DATA logic_box=[[-60.346224677716464, 0.0, 1024], [2108.3462246777162, 2048.0, 1025]] num_refinements=4 max_pixels=312225 endh=33\");\n"
      ],
      "text/plain": [
       "<IPython.core.display.Javascript object>"
      ]
     },
     "metadata": {},
     "output_type": "display_data"
    },
    {
     "data": {
      "application/javascript": [
       "console.log(\"[123954][INFO][openvisuspy.backend_py:109:createBoxQuery] Guess resolution endh=27 original_box=([0, 0, 1024], [2048, 2048, 1025]) aligned_box=([0, 0, 1024], [2048, 2048, 1025]) delta=[4, 4, 4] num_pixels=[512, 512, 1] tot_pixels=262,144 max_pixels=312,225 end=27\");\n"
      ],
      "text/plain": [
       "<IPython.core.display.Javascript object>"
      ]
     },
     "metadata": {},
     "output_type": "display_data"
    },
    {
     "data": {
      "application/javascript": [
       "console.log(\"[123954][INFO][openvisuspy.backend_py:138:beginBoxQuery] beginBoxQuery timestep=0 field=DATA logic_box=[[0, 0, 1024], [2048, 2048, 1025]] end_resolutions=[18, 21, 24, 27]\");\n"
      ],
      "text/plain": [
       "<IPython.core.display.Javascript object>"
      ]
     },
     "metadata": {},
     "output_type": "display_data"
    },
    {
     "data": {
      "application/javascript": [
       "console.log(\"[123954][INFO][openvisuspy.backend_py:74:createBoxQuery] begin timestep=0 field=data logic_box=[[0.0, -6631.57894736842], [29280.0, 77047.57894736843]] num_refinements=3 max_pixels=103170 endh=32\");\n"
      ],
      "text/plain": [
       "<IPython.core.display.Javascript object>"
      ]
     },
     "metadata": {},
     "output_type": "display_data"
    },
    {
     "data": {
      "application/javascript": [
       "console.log(\"[123954][INFO][openvisuspy.backend_py:109:createBoxQuery] Guess resolution endh=17 original_box=([0, 0], [29280, 70416]) aligned_box=([0, 0], [29184, 70400]) delta=[128, 256, 1] num_pixels=[228, 275] tot_pixels=62,700 max_pixels=103,170 end=17\");\n"
      ],
      "text/plain": [
       "<IPython.core.display.Javascript object>"
      ]
     },
     "metadata": {},
     "output_type": "display_data"
    },
    {
     "data": {
      "application/javascript": [
       "console.log(\"[123954][INFO][openvisuspy.backend_py:138:beginBoxQuery] beginBoxQuery timestep=0 field=data logic_box=[[0, 0], [29184, 69632]] end_resolutions=[13, 15, 17]\");\n"
      ],
      "text/plain": [
       "<IPython.core.display.Javascript object>"
      ]
     },
     "metadata": {},
     "output_type": "display_data"
    },
    {
     "data": {
      "application/javascript": [
       "console.log(\"[123954][INFO][openvisuspy.slice:190:renderResultIfNeeded] Slice[3]::rendering result data.shape=(68, 57, 3) data.dtype=uint8 logic_box=[[0, 0], [29184, 69632]]\");\n"
      ],
      "text/plain": [
       "<IPython.core.display.Javascript object>"
      ]
     },
     "metadata": {},
     "output_type": "display_data"
    },
    {
     "data": {
      "application/javascript": [
       "console.log(\"[123954][INFO][openvisuspy.canvas:61:onResize] Calling on_resize callback w=197 h=543\");\n"
      ],
      "text/plain": [
       "<IPython.core.display.Javascript object>"
      ]
     },
     "metadata": {},
     "output_type": "display_data"
    },
    {
     "data": {
      "application/javascript": [
       "console.log(\"[123954][INFO][openvisuspy.widgets:466:setDirection] Widgets[10]::setDirection value=0\");\n"
      ],
      "text/plain": [
       "<IPython.core.display.Javascript object>"
      ]
     },
     "metadata": {},
     "output_type": "display_data"
    },
    {
     "data": {
      "application/javascript": [
       "console.log(\"[123954][INFO][openvisuspy.slice:137:setLogicBox] Slice[10]::setLogicBox value=([0, 0, 0], [2048, 2048, 2048])\");\n"
      ],
      "text/plain": [
       "<IPython.core.display.Javascript object>"
      ]
     },
     "metadata": {},
     "output_type": "display_data"
    },
    {
     "data": {
      "application/javascript": [
       "console.log(\"[123954][INFO][openvisuspy.canvas:61:onResize] Calling on_resize callback w=197 h=543\");\n"
      ],
      "text/plain": [
       "<IPython.core.display.Javascript object>"
      ]
     },
     "metadata": {},
     "output_type": "display_data"
    },
    {
     "data": {
      "application/javascript": [
       "console.log(\"[123954][INFO][openvisuspy.widgets:466:setDirection] Widgets[11]::setDirection value=1\");\n"
      ],
      "text/plain": [
       "<IPython.core.display.Javascript object>"
      ]
     },
     "metadata": {},
     "output_type": "display_data"
    },
    {
     "data": {
      "application/javascript": [
       "console.log(\"[123954][INFO][openvisuspy.slice:137:setLogicBox] Slice[11]::setLogicBox value=([0, 0, 0], [2048, 2048, 2048])\");\n"
      ],
      "text/plain": [
       "<IPython.core.display.Javascript object>"
      ]
     },
     "metadata": {},
     "output_type": "display_data"
    },
    {
     "data": {
      "application/javascript": [
       "console.log(\"[123954][INFO][openvisuspy.backend_py:308:executeBoxQuery] [200] http://atlantis.sci.utah.edu/mod_visus?dataset=david_subsampled&cached=1&action=boxquery&box=0+29183+0+69631&compression=zip&field=data&time=0&toh=15\");\n"
      ],
      "text/plain": [
       "<IPython.core.display.Javascript object>"
      ]
     },
     "metadata": {},
     "output_type": "display_data"
    },
    {
     "data": {
      "application/javascript": [
       "console.log(\"[123954][INFO][openvisuspy.backend_py:168:returnBoxQueryData] got data 1/[13, 15, 17] timestep=0 field=data H=13 data.shape=(136, 114, 3) data.dtype=uint8 logic_box=[[0, 0], [29184, 69632]] m=0 M=245 ms=307\");\n"
      ],
      "text/plain": [
       "<IPython.core.display.Javascript object>"
      ]
     },
     "metadata": {},
     "output_type": "display_data"
    },
    {
     "data": {
      "application/javascript": [
       "console.log(\"[123954][INFO][openvisuspy.backend_py:308:executeBoxQuery] [200] http://atlantis.sci.utah.edu/mod_visus?dataset=2kbit1&cached=1&action=boxquery&box=0+2047+0+2047+1024+1024&compression=zip&field=DATA&time=0&toh=18\");\n"
      ],
      "text/plain": [
       "<IPython.core.display.Javascript object>"
      ]
     },
     "metadata": {},
     "output_type": "display_data"
    },
    {
     "data": {
      "application/javascript": [
       "console.log(\"[123954][INFO][openvisuspy.backend_py:168:returnBoxQueryData] got data 0/[18, 21, 24, 27] timestep=0 field=DATA H=-1 data.shape=(64, 64) data.dtype=uint8 logic_box=[[0, 0, 1024], [2048, 2048, 1025]] m=3 M=230 ms=89\");\n"
      ],
      "text/plain": [
       "<IPython.core.display.Javascript object>"
      ]
     },
     "metadata": {},
     "output_type": "display_data"
    },
    {
     "data": {
      "application/javascript": [
       "console.log(\"[123954][INFO][openvisuspy.backend_py:308:executeBoxQuery] [200] http://atlantis.sci.utah.edu/mod_visus?dataset=david_subsampled&cached=1&action=boxquery&box=0+29183+0+69631&compression=zip&field=data&time=0&toh=13\");\n"
      ],
      "text/plain": [
       "<IPython.core.display.Javascript object>"
      ]
     },
     "metadata": {},
     "output_type": "display_data"
    },
    {
     "data": {
      "application/javascript": [
       "console.log(\"[123954][INFO][openvisuspy.backend_py:168:returnBoxQueryData] got data 0/[13, 15, 17] timestep=0 field=data H=-1 data.shape=(68, 57, 3) data.dtype=uint8 logic_box=[[0, 0], [29184, 69632]] m=0 M=244 ms=85\");\n"
      ],
      "text/plain": [
       "<IPython.core.display.Javascript object>"
      ]
     },
     "metadata": {},
     "output_type": "display_data"
    },
    {
     "data": {
      "application/javascript": [
       "console.log(\"[123954][INFO][openvisuspy.slice:190:renderResultIfNeeded] Slice[5]::rendering result data.shape=(64, 64) data.dtype=uint8 logic_box=[[0, 0, 1024], [2048, 2048, 1025]]\");\n"
      ],
      "text/plain": [
       "<IPython.core.display.Javascript object>"
      ]
     },
     "metadata": {},
     "output_type": "display_data"
    },
    {
     "data": {
      "application/javascript": [
       "console.log(\"[123954][INFO][openvisuspy.slice:190:renderResultIfNeeded] Slice[3]::rendering result data.shape=(136, 114, 3) data.dtype=uint8 logic_box=[[0, 0], [29184, 69632]]\");\n"
      ],
      "text/plain": [
       "<IPython.core.display.Javascript object>"
      ]
     },
     "metadata": {},
     "output_type": "display_data"
    },
    {
     "data": {
      "application/javascript": [
       "console.log(\"[123954][INFO][openvisuspy.slice:190:renderResultIfNeeded] Slice[4]::rendering result data.shape=(68, 57, 3) data.dtype=uint8 logic_box=[[0, 0], [29184, 69632]]\");\n"
      ],
      "text/plain": [
       "<IPython.core.display.Javascript object>"
      ]
     },
     "metadata": {},
     "output_type": "display_data"
    },
    {
     "data": {
      "application/javascript": [
       "console.log(\"[123954][INFO][openvisuspy.slice:209:pushJobIfNeeded] pushing new job\");\n"
      ],
      "text/plain": [
       "<IPython.core.display.Javascript object>"
      ]
     },
     "metadata": {},
     "output_type": "display_data"
    },
    {
     "data": {
      "application/javascript": [
       "console.log(\"[123954][INFO][openvisuspy.backend_py:145:pushJob] pushed new job <openvisuspy.backend_py.Dataset object at 0x000001FA95EBE4C0>\");\n"
      ],
      "text/plain": [
       "<IPython.core.display.Javascript object>"
      ]
     },
     "metadata": {},
     "output_type": "display_data"
    },
    {
     "data": {
      "application/javascript": [
       "console.log(\"[123954][INFO][openvisuspy.slice:209:pushJobIfNeeded] pushing new job\");\n"
      ],
      "text/plain": [
       "<IPython.core.display.Javascript object>"
      ]
     },
     "metadata": {},
     "output_type": "display_data"
    },
    {
     "data": {
      "application/javascript": [
       "console.log(\"[123954][INFO][openvisuspy.backend_py:145:pushJob] pushed new job <openvisuspy.backend_py.Dataset object at 0x000001FA95EBE4C0>\");\n"
      ],
      "text/plain": [
       "<IPython.core.display.Javascript object>"
      ]
     },
     "metadata": {},
     "output_type": "display_data"
    },
    {
     "data": {
      "application/javascript": [
       "console.log(\"[123954][INFO][openvisuspy.backend_py:308:executeBoxQuery] [200] http://atlantis.sci.utah.edu/mod_visus?dataset=david_subsampled&cached=1&action=boxquery&box=0+29183+0+70143&compression=zip&field=data&time=0&toh=15\");\n"
      ],
      "text/plain": [
       "<IPython.core.display.Javascript object>"
      ]
     },
     "metadata": {},
     "output_type": "display_data"
    },
    {
     "data": {
      "application/javascript": [
       "console.log(\"[123954][INFO][openvisuspy.backend_py:168:returnBoxQueryData] got data 0/[15, 17, 19] timestep=0 field=data H=-1 data.shape=(137, 114, 3) data.dtype=uint8 logic_box=[[0, 0], [29184, 70144]] m=0 M=245 ms=157\");\n"
      ],
      "text/plain": [
       "<IPython.core.display.Javascript object>"
      ]
     },
     "metadata": {},
     "output_type": "display_data"
    },
    {
     "data": {
      "application/javascript": [
       "console.log(\"[123954][INFO][openvisuspy.slice:190:renderResultIfNeeded] Slice[6]::rendering result data.shape=(137, 114, 3) data.dtype=uint8 logic_box=[[0, 0], [29184, 70144]]\");\n"
      ],
      "text/plain": [
       "<IPython.core.display.Javascript object>"
      ]
     },
     "metadata": {},
     "output_type": "display_data"
    },
    {
     "data": {
      "application/javascript": [
       "console.log(\"[123954][INFO][openvisuspy.backend_py:74:createBoxQuery] begin timestep=0 field=DATA logic_box=[[0.0, 1024, -1798.4974619289337], [2048.0, 1025, 3846.4974619289337]] num_refinements=4 max_pixels=106971 endh=33\");\n"
      ],
      "text/plain": [
       "<IPython.core.display.Javascript object>"
      ]
     },
     "metadata": {},
     "output_type": "display_data"
    },
    {
     "data": {
      "application/javascript": [
       "console.log(\"[123954][INFO][openvisuspy.backend_py:109:createBoxQuery] Guess resolution endh=24 original_box=([0, 1024, 0], [2048, 1025, 2048]) aligned_box=([0, 1024, 0], [2048, 1025, 2048]) delta=[8, 8, 8] num_pixels=[256, 1, 256] tot_pixels=65,536 max_pixels=106,971 end=24\");\n"
      ],
      "text/plain": [
       "<IPython.core.display.Javascript object>"
      ]
     },
     "metadata": {},
     "output_type": "display_data"
    },
    {
     "data": {
      "application/javascript": [
       "console.log(\"[123954][INFO][openvisuspy.backend_py:138:beginBoxQuery] beginBoxQuery timestep=0 field=DATA logic_box=[[0, 1024, 0], [2048, 1025, 2048]] end_resolutions=[15, 18, 21, 24]\");\n"
      ],
      "text/plain": [
       "<IPython.core.display.Javascript object>"
      ]
     },
     "metadata": {},
     "output_type": "display_data"
    },
    {
     "data": {
      "application/javascript": [
       "console.log(\"[123954][INFO][openvisuspy.backend_py:74:createBoxQuery] begin timestep=0 field=DATA logic_box=[[1024, 0.0, -1798.4974619289337], [1025, 2048.0, 3846.4974619289337]] num_refinements=4 max_pixels=106971 endh=33\");\n"
      ],
      "text/plain": [
       "<IPython.core.display.Javascript object>"
      ]
     },
     "metadata": {},
     "output_type": "display_data"
    },
    {
     "data": {
      "application/javascript": [
       "console.log(\"[123954][INFO][openvisuspy.backend_py:109:createBoxQuery] Guess resolution endh=25 original_box=([1024, 0, 0], [1025, 2048, 2048]) aligned_box=([1024, 0, 0], [1025, 2048, 2048]) delta=[4, 8, 8] num_pixels=[1, 256, 256] tot_pixels=65,536 max_pixels=106,971 end=25\");\n"
      ],
      "text/plain": [
       "<IPython.core.display.Javascript object>"
      ]
     },
     "metadata": {},
     "output_type": "display_data"
    },
    {
     "data": {
      "application/javascript": [
       "console.log(\"[123954][INFO][openvisuspy.backend_py:138:beginBoxQuery] beginBoxQuery timestep=0 field=DATA logic_box=[[1024, 0, 0], [1025, 2048, 2048]] end_resolutions=[16, 19, 22, 25]\");\n"
      ],
      "text/plain": [
       "<IPython.core.display.Javascript object>"
      ]
     },
     "metadata": {},
     "output_type": "display_data"
    },
    {
     "data": {
      "application/javascript": [
       "console.log(\"[123954][INFO][openvisuspy.backend_py:308:executeBoxQuery] [200] http://atlantis.sci.utah.edu/mod_visus?dataset=2kbit1&cached=1&action=boxquery&box=1024+1024+0+2047+0+2047&compression=zip&field=DATA&time=0&toh=16\");\n"
      ],
      "text/plain": [
       "<IPython.core.display.Javascript object>"
      ]
     },
     "metadata": {},
     "output_type": "display_data"
    },
    {
     "data": {
      "application/javascript": [
       "console.log(\"[123954][INFO][openvisuspy.backend_py:168:returnBoxQueryData] got data 0/[16, 19, 22, 25] timestep=0 field=DATA H=-1 data.shape=(32, 32) data.dtype=uint8 logic_box=[[1024, 0, 0], [1025, 2048, 2048]] m=0 M=230 ms=32\");\n"
      ],
      "text/plain": [
       "<IPython.core.display.Javascript object>"
      ]
     },
     "metadata": {},
     "output_type": "display_data"
    },
    {
     "data": {
      "application/javascript": [
       "console.log(\"[123954][INFO][openvisuspy.slice:190:renderResultIfNeeded] Slice[10]::rendering result data.shape=(32, 32) data.dtype=uint8 logic_box=[[1024, 0, 0], [1025, 2048, 2048]]\");\n"
      ],
      "text/plain": [
       "<IPython.core.display.Javascript object>"
      ]
     },
     "metadata": {},
     "output_type": "display_data"
    },
    {
     "data": {
      "application/javascript": [
       "console.log(\"[123954][INFO][openvisuspy.backend_py:308:executeBoxQuery] [200] http://atlantis.sci.utah.edu/mod_visus?dataset=2kbit1&cached=1&action=boxquery&box=0+2047+1024+1024+0+2047&compression=zip&field=DATA&time=0&toh=15\");\n"
      ],
      "text/plain": [
       "<IPython.core.display.Javascript object>"
      ]
     },
     "metadata": {},
     "output_type": "display_data"
    },
    {
     "data": {
      "application/javascript": [
       "console.log(\"[123954][INFO][openvisuspy.backend_py:168:returnBoxQueryData] got data 0/[15, 18, 21, 24] timestep=0 field=DATA H=-1 data.shape=(32, 32) data.dtype=uint8 logic_box=[[0, 1024, 0], [2048, 1025, 2048]] m=0 M=230 ms=62\");\n"
      ],
      "text/plain": [
       "<IPython.core.display.Javascript object>"
      ]
     },
     "metadata": {},
     "output_type": "display_data"
    },
    {
     "data": {
      "application/javascript": [
       "console.log(\"[123954][INFO][openvisuspy.backend_py:308:executeBoxQuery] [200] http://atlantis.sci.utah.edu/mod_visus?dataset=2kbit1&cached=1&action=boxquery&box=0+2047+0+2047+1024+1024&compression=zip&field=DATA&time=0&toh=21\");\n"
      ],
      "text/plain": [
       "<IPython.core.display.Javascript object>"
      ]
     },
     "metadata": {},
     "output_type": "display_data"
    },
    {
     "data": {
      "application/javascript": [
       "console.log(\"[123954][INFO][openvisuspy.backend_py:168:returnBoxQueryData] got data 1/[18, 21, 24, 27] timestep=0 field=DATA H=18 data.shape=(128, 128) data.dtype=uint8 logic_box=[[0, 0, 1024], [2048, 2048, 1025]] m=3 M=230 ms=241\");\n"
      ],
      "text/plain": [
       "<IPython.core.display.Javascript object>"
      ]
     },
     "metadata": {},
     "output_type": "display_data"
    },
    {
     "data": {
      "application/javascript": [
       "console.log(\"[123954][INFO][openvisuspy.backend_py:308:executeBoxQuery] [200] http://atlantis.sci.utah.edu/mod_visus?dataset=david_subsampled&cached=1&action=boxquery&box=0+29183+0+69631&compression=zip&field=data&time=0&toh=15\");\n"
      ],
      "text/plain": [
       "<IPython.core.display.Javascript object>"
      ]
     },
     "metadata": {},
     "output_type": "display_data"
    },
    {
     "data": {
      "application/javascript": [
       "console.log(\"[123954][INFO][openvisuspy.backend_py:168:returnBoxQueryData] got data 1/[13, 15, 17] timestep=0 field=data H=13 data.shape=(136, 114, 3) data.dtype=uint8 logic_box=[[0, 0], [29184, 69632]] m=0 M=245 ms=235\");\n"
      ],
      "text/plain": [
       "<IPython.core.display.Javascript object>"
      ]
     },
     "metadata": {},
     "output_type": "display_data"
    },
    {
     "data": {
      "application/javascript": [
       "console.log(\"[123954][INFO][openvisuspy.slice:190:renderResultIfNeeded] Slice[4]::rendering result data.shape=(136, 114, 3) data.dtype=uint8 logic_box=[[0, 0], [29184, 69632]]\");\n"
      ],
      "text/plain": [
       "<IPython.core.display.Javascript object>"
      ]
     },
     "metadata": {},
     "output_type": "display_data"
    },
    {
     "data": {
      "application/javascript": [
       "console.log(\"[123954][INFO][openvisuspy.slice:190:renderResultIfNeeded] Slice[5]::rendering result data.shape=(128, 128) data.dtype=uint8 logic_box=[[0, 0, 1024], [2048, 2048, 1025]]\");\n"
      ],
      "text/plain": [
       "<IPython.core.display.Javascript object>"
      ]
     },
     "metadata": {},
     "output_type": "display_data"
    },
    {
     "data": {
      "application/javascript": [
       "console.log(\"[123954][INFO][openvisuspy.backend_py:308:executeBoxQuery] [200] http://atlantis.sci.utah.edu/mod_visus?dataset=david_subsampled&cached=1&action=boxquery&box=0+29183+0+69631&compression=zip&field=data&time=0&toh=17\");\n"
      ],
      "text/plain": [
       "<IPython.core.display.Javascript object>"
      ]
     },
     "metadata": {},
     "output_type": "display_data"
    },
    {
     "data": {
      "application/javascript": [
       "console.log(\"[123954][INFO][openvisuspy.backend_py:168:returnBoxQueryData] got data 2/[13, 15, 17] timestep=0 field=data H=15 data.shape=(272, 228, 3) data.dtype=uint8 logic_box=[[0, 0], [29184, 69632]] m=0 M=247 ms=488\");\n"
      ],
      "text/plain": [
       "<IPython.core.display.Javascript object>"
      ]
     },
     "metadata": {},
     "output_type": "display_data"
    },
    {
     "data": {
      "application/javascript": [
       "console.log(\"[123954][INFO][openvisuspy.backend_py:308:executeBoxQuery] [200] http://atlantis.sci.utah.edu/mod_visus?dataset=david_subsampled&cached=1&action=boxquery&box=0+29183+0+70143&compression=zip&field=data&time=0&toh=17\");\n"
      ],
      "text/plain": [
       "<IPython.core.display.Javascript object>"
      ]
     },
     "metadata": {},
     "output_type": "display_data"
    },
    {
     "data": {
      "application/javascript": [
       "console.log(\"[123954][INFO][openvisuspy.backend_py:168:returnBoxQueryData] got data 1/[15, 17, 19] timestep=0 field=data H=15 data.shape=(274, 228, 3) data.dtype=uint8 logic_box=[[0, 0], [29184, 70144]] m=0 M=247 ms=276\");\n"
      ],
      "text/plain": [
       "<IPython.core.display.Javascript object>"
      ]
     },
     "metadata": {},
     "output_type": "display_data"
    },
    {
     "data": {
      "application/javascript": [
       "console.log(\"[123954][INFO][openvisuspy.slice:190:renderResultIfNeeded] Slice[11]::rendering result data.shape=(32, 32) data.dtype=uint8 logic_box=[[0, 1024, 0], [2048, 1025, 2048]]\");\n"
      ],
      "text/plain": [
       "<IPython.core.display.Javascript object>"
      ]
     },
     "metadata": {},
     "output_type": "display_data"
    },
    {
     "data": {
      "application/javascript": [
       "console.log(\"[123954][INFO][openvisuspy.slice:190:renderResultIfNeeded] Slice[3]::rendering result data.shape=(272, 228, 3) data.dtype=uint8 logic_box=[[0, 0], [29184, 69632]]\");\n"
      ],
      "text/plain": [
       "<IPython.core.display.Javascript object>"
      ]
     },
     "metadata": {},
     "output_type": "display_data"
    },
    {
     "data": {
      "application/javascript": [
       "console.log(\"[123954][INFO][openvisuspy.backend_py:308:executeBoxQuery] [200] http://atlantis.sci.utah.edu/mod_visus?dataset=2kbit1&cached=1&action=boxquery&box=1024+1024+0+2047+0+2047&compression=zip&field=DATA&time=0&toh=19\");\n"
      ],
      "text/plain": [
       "<IPython.core.display.Javascript object>"
      ]
     },
     "metadata": {},
     "output_type": "display_data"
    },
    {
     "data": {
      "application/javascript": [
       "console.log(\"[123954][INFO][openvisuspy.backend_py:168:returnBoxQueryData] got data 1/[16, 19, 22, 25] timestep=0 field=DATA H=16 data.shape=(64, 64) data.dtype=uint8 logic_box=[[1024, 0, 0], [1025, 2048, 2048]] m=0 M=230 ms=119\");\n"
      ],
      "text/plain": [
       "<IPython.core.display.Javascript object>"
      ]
     },
     "metadata": {},
     "output_type": "display_data"
    },
    {
     "data": {
      "application/javascript": [
       "console.log(\"[123954][INFO][openvisuspy.backend_py:308:executeBoxQuery] [200] http://atlantis.sci.utah.edu/mod_visus?dataset=2kbit1&cached=1&action=boxquery&box=0+2047+1024+1024+0+2047&compression=zip&field=DATA&time=0&toh=18\");\n"
      ],
      "text/plain": [
       "<IPython.core.display.Javascript object>"
      ]
     },
     "metadata": {},
     "output_type": "display_data"
    },
    {
     "data": {
      "application/javascript": [
       "console.log(\"[123954][INFO][openvisuspy.backend_py:168:returnBoxQueryData] got data 1/[15, 18, 21, 24] timestep=0 field=DATA H=15 data.shape=(64, 64) data.dtype=uint8 logic_box=[[0, 1024, 0], [2048, 1025, 2048]] m=0 M=230 ms=132\");\n"
      ],
      "text/plain": [
       "<IPython.core.display.Javascript object>"
      ]
     },
     "metadata": {},
     "output_type": "display_data"
    },
    {
     "data": {
      "application/javascript": [
       "console.log(\"[123954][INFO][openvisuspy.slice:190:renderResultIfNeeded] Slice[6]::rendering result data.shape=(274, 228, 3) data.dtype=uint8 logic_box=[[0, 0], [29184, 70144]]\");\n"
      ],
      "text/plain": [
       "<IPython.core.display.Javascript object>"
      ]
     },
     "metadata": {},
     "output_type": "display_data"
    },
    {
     "data": {
      "application/javascript": [
       "console.log(\"[123954][INFO][openvisuspy.slice:190:renderResultIfNeeded] Slice[10]::rendering result data.shape=(64, 64) data.dtype=uint8 logic_box=[[1024, 0, 0], [1025, 2048, 2048]]\");\n"
      ],
      "text/plain": [
       "<IPython.core.display.Javascript object>"
      ]
     },
     "metadata": {},
     "output_type": "display_data"
    },
    {
     "data": {
      "application/javascript": [
       "console.log(\"[123954][INFO][openvisuspy.slice:190:renderResultIfNeeded] Slice[11]::rendering result data.shape=(64, 64) data.dtype=uint8 logic_box=[[0, 1024, 0], [2048, 1025, 2048]]\");\n"
      ],
      "text/plain": [
       "<IPython.core.display.Javascript object>"
      ]
     },
     "metadata": {},
     "output_type": "display_data"
    },
    {
     "data": {
      "application/javascript": [
       "console.log(\"[123954][INFO][openvisuspy.backend_py:308:executeBoxQuery] [200] http://atlantis.sci.utah.edu/mod_visus?dataset=2kbit1&cached=1&action=boxquery&box=1024+1024+0+2047+0+2047&compression=zip&field=DATA&time=0&toh=22\");\n"
      ],
      "text/plain": [
       "<IPython.core.display.Javascript object>"
      ]
     },
     "metadata": {},
     "output_type": "display_data"
    },
    {
     "data": {
      "application/javascript": [
       "console.log(\"[123954][INFO][openvisuspy.backend_py:168:returnBoxQueryData] got data 2/[16, 19, 22, 25] timestep=0 field=DATA H=19 data.shape=(128, 128) data.dtype=uint8 logic_box=[[1024, 0, 0], [1025, 2048, 2048]] m=0 M=230 ms=185\");\n"
      ],
      "text/plain": [
       "<IPython.core.display.Javascript object>"
      ]
     },
     "metadata": {},
     "output_type": "display_data"
    },
    {
     "data": {
      "application/javascript": [
       "console.log(\"[123954][INFO][openvisuspy.backend_py:308:executeBoxQuery] [200] http://atlantis.sci.utah.edu/mod_visus?dataset=2kbit1&cached=1&action=boxquery&box=0+2047+1024+1024+0+2047&compression=zip&field=DATA&time=0&toh=21\");\n"
      ],
      "text/plain": [
       "<IPython.core.display.Javascript object>"
      ]
     },
     "metadata": {},
     "output_type": "display_data"
    },
    {
     "data": {
      "application/javascript": [
       "console.log(\"[123954][INFO][openvisuspy.backend_py:168:returnBoxQueryData] got data 2/[15, 18, 21, 24] timestep=0 field=DATA H=18 data.shape=(128, 128) data.dtype=uint8 logic_box=[[0, 1024, 0], [2048, 1025, 2048]] m=0 M=230 ms=200\");\n"
      ],
      "text/plain": [
       "<IPython.core.display.Javascript object>"
      ]
     },
     "metadata": {},
     "output_type": "display_data"
    },
    {
     "data": {
      "application/javascript": [
       "console.log(\"[123954][INFO][openvisuspy.backend_py:308:executeBoxQuery] [200] http://atlantis.sci.utah.edu/mod_visus?dataset=david_subsampled&cached=1&action=boxquery&box=0+29183+0+69631&compression=zip&field=data&time=0&toh=17\");\n"
      ],
      "text/plain": [
       "<IPython.core.display.Javascript object>"
      ]
     },
     "metadata": {},
     "output_type": "display_data"
    },
    {
     "data": {
      "application/javascript": [
       "console.log(\"[123954][INFO][openvisuspy.backend_py:168:returnBoxQueryData] got data 2/[13, 15, 17] timestep=0 field=data H=15 data.shape=(272, 228, 3) data.dtype=uint8 logic_box=[[0, 0], [29184, 69632]] m=0 M=247 ms=365\");\n"
      ],
      "text/plain": [
       "<IPython.core.display.Javascript object>"
      ]
     },
     "metadata": {},
     "output_type": "display_data"
    },
    {
     "data": {
      "application/javascript": [
       "console.log(\"[123954][INFO][openvisuspy.backend_py:308:executeBoxQuery] [200] http://atlantis.sci.utah.edu/mod_visus?dataset=2kbit1&cached=1&action=boxquery&box=0+2047+0+2047+1024+1024&compression=zip&field=DATA&time=0&toh=24\");\n"
      ],
      "text/plain": [
       "<IPython.core.display.Javascript object>"
      ]
     },
     "metadata": {},
     "output_type": "display_data"
    },
    {
     "data": {
      "application/javascript": [
       "console.log(\"[123954][INFO][openvisuspy.backend_py:168:returnBoxQueryData] got data 2/[18, 21, 24, 27] timestep=0 field=DATA H=21 data.shape=(256, 256) data.dtype=uint8 logic_box=[[0, 0, 1024], [2048, 2048, 1025]] m=3 M=230 ms=382\");\n"
      ],
      "text/plain": [
       "<IPython.core.display.Javascript object>"
      ]
     },
     "metadata": {},
     "output_type": "display_data"
    },
    {
     "data": {
      "application/javascript": [
       "console.log(\"[123954][INFO][openvisuspy.slice:190:renderResultIfNeeded] Slice[5]::rendering result data.shape=(256, 256) data.dtype=uint8 logic_box=[[0, 0, 1024], [2048, 2048, 1025]]\");\n"
      ],
      "text/plain": [
       "<IPython.core.display.Javascript object>"
      ]
     },
     "metadata": {},
     "output_type": "display_data"
    },
    {
     "data": {
      "application/javascript": [
       "console.log(\"[123954][INFO][openvisuspy.slice:190:renderResultIfNeeded] Slice[10]::rendering result data.shape=(128, 128) data.dtype=uint8 logic_box=[[1024, 0, 0], [1025, 2048, 2048]]\");\n"
      ],
      "text/plain": [
       "<IPython.core.display.Javascript object>"
      ]
     },
     "metadata": {},
     "output_type": "display_data"
    },
    {
     "data": {
      "application/javascript": [
       "console.log(\"[123954][INFO][openvisuspy.slice:190:renderResultIfNeeded] Slice[11]::rendering result data.shape=(128, 128) data.dtype=uint8 logic_box=[[0, 1024, 0], [2048, 1025, 2048]]\");\n"
      ],
      "text/plain": [
       "<IPython.core.display.Javascript object>"
      ]
     },
     "metadata": {},
     "output_type": "display_data"
    },
    {
     "data": {
      "application/javascript": [
       "console.log(\"[123954][INFO][openvisuspy.slice:190:renderResultIfNeeded] Slice[4]::rendering result data.shape=(272, 228, 3) data.dtype=uint8 logic_box=[[0, 0], [29184, 69632]]\");\n"
      ],
      "text/plain": [
       "<IPython.core.display.Javascript object>"
      ]
     },
     "metadata": {},
     "output_type": "display_data"
    },
    {
     "data": {
      "application/javascript": [
       "console.log(\"[123954][INFO][openvisuspy.backend_py:308:executeBoxQuery] [200] http://atlantis.sci.utah.edu/mod_visus?dataset=david_subsampled&cached=1&action=boxquery&box=0+29183+0+70143&compression=zip&field=data&time=0&toh=19\");\n"
      ],
      "text/plain": [
       "<IPython.core.display.Javascript object>"
      ]
     },
     "metadata": {},
     "output_type": "display_data"
    },
    {
     "data": {
      "application/javascript": [
       "console.log(\"[123954][INFO][openvisuspy.backend_py:168:returnBoxQueryData] got data 2/[15, 17, 19] timestep=0 field=data H=17 data.shape=(548, 456, 3) data.dtype=uint8 logic_box=[[0, 0], [29184, 70144]] m=0 M=247 ms=446\");\n"
      ],
      "text/plain": [
       "<IPython.core.display.Javascript object>"
      ]
     },
     "metadata": {},
     "output_type": "display_data"
    },
    {
     "data": {
      "application/javascript": [
       "console.log(\"[123954][INFO][openvisuspy.slice:190:renderResultIfNeeded] Slice[6]::rendering result data.shape=(548, 456, 3) data.dtype=uint8 logic_box=[[0, 0], [29184, 70144]]\");\n"
      ],
      "text/plain": [
       "<IPython.core.display.Javascript object>"
      ]
     },
     "metadata": {},
     "output_type": "display_data"
    },
    {
     "data": {
      "application/javascript": [
       "console.log(\"[123954][INFO][openvisuspy.backend_py:308:executeBoxQuery] [200] http://atlantis.sci.utah.edu/mod_visus?dataset=2kbit1&cached=1&action=boxquery&box=1024+1024+0+2047+0+2047&compression=zip&field=DATA&time=0&toh=25\");\n"
      ],
      "text/plain": [
       "<IPython.core.display.Javascript object>"
      ]
     },
     "metadata": {},
     "output_type": "display_data"
    },
    {
     "data": {
      "application/javascript": [
       "console.log(\"[123954][INFO][openvisuspy.backend_py:168:returnBoxQueryData] got data 3/[16, 19, 22, 25] timestep=0 field=DATA H=22 data.shape=(256, 256) data.dtype=uint8 logic_box=[[1024, 0, 0], [1025, 2048, 2048]] m=0 M=230 ms=267\");\n"
      ],
      "text/plain": [
       "<IPython.core.display.Javascript object>"
      ]
     },
     "metadata": {},
     "output_type": "display_data"
    },
    {
     "data": {
      "application/javascript": [
       "console.log(\"[123954][INFO][openvisuspy.backend_py:308:executeBoxQuery] [200] http://atlantis.sci.utah.edu/mod_visus?dataset=2kbit1&cached=1&action=boxquery&box=0+2047+1024+1024+0+2047&compression=zip&field=DATA&time=0&toh=24\");\n"
      ],
      "text/plain": [
       "<IPython.core.display.Javascript object>"
      ]
     },
     "metadata": {},
     "output_type": "display_data"
    },
    {
     "data": {
      "application/javascript": [
       "console.log(\"[123954][INFO][openvisuspy.backend_py:168:returnBoxQueryData] got data 3/[15, 18, 21, 24] timestep=0 field=DATA H=21 data.shape=(256, 256) data.dtype=uint8 logic_box=[[0, 1024, 0], [2048, 1025, 2048]] m=0 M=230 ms=287\");\n"
      ],
      "text/plain": [
       "<IPython.core.display.Javascript object>"
      ]
     },
     "metadata": {},
     "output_type": "display_data"
    },
    {
     "data": {
      "application/javascript": [
       "console.log(\"[123954][INFO][openvisuspy.slice:190:renderResultIfNeeded] Slice[10]::rendering result data.shape=(256, 256) data.dtype=uint8 logic_box=[[1024, 0, 0], [1025, 2048, 2048]]\");\n"
      ],
      "text/plain": [
       "<IPython.core.display.Javascript object>"
      ]
     },
     "metadata": {},
     "output_type": "display_data"
    },
    {
     "data": {
      "application/javascript": [
       "console.log(\"[123954][INFO][openvisuspy.slice:190:renderResultIfNeeded] Slice[11]::rendering result data.shape=(256, 256) data.dtype=uint8 logic_box=[[0, 1024, 0], [2048, 1025, 2048]]\");\n"
      ],
      "text/plain": [
       "<IPython.core.display.Javascript object>"
      ]
     },
     "metadata": {},
     "output_type": "display_data"
    },
    {
     "data": {
      "application/javascript": [
       "console.log(\"[123954][INFO][openvisuspy.backend_py:308:executeBoxQuery] [200] http://atlantis.sci.utah.edu/mod_visus?dataset=2kbit1&cached=1&action=boxquery&box=0+2047+0+2047+1024+1024&compression=zip&field=DATA&time=0&toh=27\");\n"
      ],
      "text/plain": [
       "<IPython.core.display.Javascript object>"
      ]
     },
     "metadata": {},
     "output_type": "display_data"
    },
    {
     "data": {
      "application/javascript": [
       "console.log(\"[123954][INFO][openvisuspy.backend_py:168:returnBoxQueryData] got data 3/[18, 21, 24, 27] timestep=0 field=DATA H=24 data.shape=(512, 512) data.dtype=uint8 logic_box=[[0, 0, 1024], [2048, 2048, 1025]] m=3 M=230 ms=589\");\n"
      ],
      "text/plain": [
       "<IPython.core.display.Javascript object>"
      ]
     },
     "metadata": {},
     "output_type": "display_data"
    },
    {
     "data": {
      "application/javascript": [
       "console.log(\"[123954][INFO][openvisuspy.backend_py:82:printStatistics] Stats::printStatistics enlapsed=0.8247711658477783 seconds\");\n"
      ],
      "text/plain": [
       "<IPython.core.display.Javascript object>"
      ]
     },
     "metadata": {},
     "output_type": "display_data"
    },
    {
     "data": {
      "application/javascript": [
       "console.log(\"[123954][INFO][openvisuspy.slice:190:renderResultIfNeeded] Slice[5]::rendering result data.shape=(512, 512) data.dtype=uint8 logic_box=[[0, 0, 1024], [2048, 2048, 1025]]\");\n"
      ],
      "text/plain": [
       "<IPython.core.display.Javascript object>"
      ]
     },
     "metadata": {},
     "output_type": "display_data"
    },
    {
     "data": {
      "application/javascript": [
       "console.log(\"[123954][INFO][openvisuspy.slice:209:pushJobIfNeeded] pushing new job\");\n"
      ],
      "text/plain": [
       "<IPython.core.display.Javascript object>"
      ]
     },
     "metadata": {},
     "output_type": "display_data"
    },
    {
     "data": {
      "application/javascript": [
       "console.log(\"[123954][INFO][openvisuspy.backend_py:145:pushJob] pushed new job <openvisuspy.backend_py.Dataset object at 0x000001FA95E5D6D0>\");\n"
      ],
      "text/plain": [
       "<IPython.core.display.Javascript object>"
      ]
     },
     "metadata": {},
     "output_type": "display_data"
    },
    {
     "data": {
      "application/javascript": [
       "console.log(\"[123954][INFO][openvisuspy.slice:209:pushJobIfNeeded] pushing new job\");\n"
      ],
      "text/plain": [
       "<IPython.core.display.Javascript object>"
      ]
     },
     "metadata": {},
     "output_type": "display_data"
    },
    {
     "data": {
      "application/javascript": [
       "console.log(\"[123954][INFO][openvisuspy.backend_py:145:pushJob] pushed new job <openvisuspy.backend_py.Dataset object at 0x000001FA95E5D6D0>\");\n"
      ],
      "text/plain": [
       "<IPython.core.display.Javascript object>"
      ]
     },
     "metadata": {},
     "output_type": "display_data"
    },
    {
     "data": {
      "application/javascript": [
       "console.log(\"[123954][INFO][openvisuspy.backend_py:74:createBoxQuery] begin timestep=0 field=data logic_box=[[-39411.497928176796, -23303.14640883978], [48136.61256906077, 72540.85359116022]] num_refinements=3 max_pixels=266070 endh=32\");\n"
      ],
      "text/plain": [
       "<IPython.core.display.Javascript object>"
      ]
     },
     "metadata": {},
     "output_type": "display_data"
    },
    {
     "data": {
      "application/javascript": [
       "console.log(\"[123954][INFO][openvisuspy.backend_py:109:createBoxQuery] Guess resolution endh=19 original_box=([0, 0], [29280, 70416]) aligned_box=([0, 0], [29248, 70400]) delta=[64, 128, 1] num_pixels=[457, 550] tot_pixels=251,350 max_pixels=266,070 end=19\");\n"
      ],
      "text/plain": [
       "<IPython.core.display.Javascript object>"
      ]
     },
     "metadata": {},
     "output_type": "display_data"
    },
    {
     "data": {
      "application/javascript": [
       "console.log(\"[123954][INFO][openvisuspy.backend_py:138:beginBoxQuery] beginBoxQuery timestep=0 field=data logic_box=[[0, 0], [29184, 70144]] end_resolutions=[15, 17, 19]\");\n"
      ],
      "text/plain": [
       "<IPython.core.display.Javascript object>"
      ]
     },
     "metadata": {},
     "output_type": "display_data"
    },
    {
     "data": {
      "application/javascript": [
       "console.log(\"[123954][INFO][openvisuspy.slice:209:pushJobIfNeeded] pushing new job\");\n"
      ],
      "text/plain": [
       "<IPython.core.display.Javascript object>"
      ]
     },
     "metadata": {},
     "output_type": "display_data"
    },
    {
     "data": {
      "application/javascript": [
       "console.log(\"[123954][INFO][openvisuspy.backend_py:145:pushJob] pushed new job <openvisuspy.backend_py.Dataset object at 0x000001FA95E5D6D0>\");\n"
      ],
      "text/plain": [
       "<IPython.core.display.Javascript object>"
      ]
     },
     "metadata": {},
     "output_type": "display_data"
    },
    {
     "data": {
      "application/javascript": [
       "console.log(\"[123954][INFO][openvisuspy.backend_py:82:printStatistics] Stats::printStatistics enlapsed=0.050995826721191406 seconds\");\n"
      ],
      "text/plain": [
       "<IPython.core.display.Javascript object>"
      ]
     },
     "metadata": {},
     "output_type": "display_data"
    },
    {
     "data": {
      "application/javascript": [
       "console.log(\"[123954][INFO][openvisuspy.backend_py:74:createBoxQuery] begin timestep=0 field=data logic_box=[[-53183.01671270718, -37912.884438305715], [48956.44553406996, 73905.11556169429]] num_refinements=3 max_pixels=266070 endh=32\");\n"
      ],
      "text/plain": [
       "<IPython.core.display.Javascript object>"
      ]
     },
     "metadata": {},
     "output_type": "display_data"
    },
    {
     "data": {
      "application/javascript": [
       "console.log(\"[123954][INFO][openvisuspy.backend_py:109:createBoxQuery] Guess resolution endh=19 original_box=([0, 0], [29280, 70416]) aligned_box=([0, 0], [29248, 70400]) delta=[64, 128, 1] num_pixels=[457, 550] tot_pixels=251,350 max_pixels=266,070 end=19\");\n"
      ],
      "text/plain": [
       "<IPython.core.display.Javascript object>"
      ]
     },
     "metadata": {},
     "output_type": "display_data"
    },
    {
     "data": {
      "application/javascript": [
       "console.log(\"[123954][INFO][openvisuspy.backend_py:138:beginBoxQuery] beginBoxQuery timestep=0 field=data logic_box=[[0, 0], [29184, 70144]] end_resolutions=[15, 17, 19]\");\n"
      ],
      "text/plain": [
       "<IPython.core.display.Javascript object>"
      ]
     },
     "metadata": {},
     "output_type": "display_data"
    },
    {
     "data": {
      "application/javascript": [
       "console.log(\"[123955][INFO][openvisuspy.backend_py:308:executeBoxQuery] [200] http://atlantis.sci.utah.edu/mod_visus?dataset=david_subsampled&cached=1&action=boxquery&box=0+29183+0+70143&compression=zip&field=data&time=0&toh=15\");\n"
      ],
      "text/plain": [
       "<IPython.core.display.Javascript object>"
      ]
     },
     "metadata": {},
     "output_type": "display_data"
    },
    {
     "data": {
      "application/javascript": [
       "console.log(\"[123955][INFO][openvisuspy.backend_py:168:returnBoxQueryData] got data 0/[15, 17, 19] timestep=0 field=data H=-1 data.shape=(137, 114, 3) data.dtype=uint8 logic_box=[[0, 0], [29184, 70144]] m=0 M=245 ms=48\");\n"
      ],
      "text/plain": [
       "<IPython.core.display.Javascript object>"
      ]
     },
     "metadata": {},
     "output_type": "display_data"
    },
    {
     "data": {
      "application/javascript": [
       "console.log(\"[123955][INFO][openvisuspy.slice:190:renderResultIfNeeded] Slice[6]::rendering result data.shape=(137, 114, 3) data.dtype=uint8 logic_box=[[0, 0], [29184, 70144]]\");\n"
      ],
      "text/plain": [
       "<IPython.core.display.Javascript object>"
      ]
     },
     "metadata": {},
     "output_type": "display_data"
    },
    {
     "data": {
      "application/javascript": [
       "console.log(\"[123955][INFO][openvisuspy.backend_py:308:executeBoxQuery] [200] http://atlantis.sci.utah.edu/mod_visus?dataset=david_subsampled&cached=1&action=boxquery&box=0+29183+0+70143&compression=zip&field=data&time=0&toh=17\");\n"
      ],
      "text/plain": [
       "<IPython.core.display.Javascript object>"
      ]
     },
     "metadata": {},
     "output_type": "display_data"
    },
    {
     "data": {
      "application/javascript": [
       "console.log(\"[123955][INFO][openvisuspy.backend_py:168:returnBoxQueryData] got data 1/[15, 17, 19] timestep=0 field=data H=15 data.shape=(274, 228, 3) data.dtype=uint8 logic_box=[[0, 0], [29184, 70144]] m=0 M=247 ms=125\");\n"
      ],
      "text/plain": [
       "<IPython.core.display.Javascript object>"
      ]
     },
     "metadata": {},
     "output_type": "display_data"
    },
    {
     "data": {
      "application/javascript": [
       "console.log(\"[123955][INFO][openvisuspy.slice:190:renderResultIfNeeded] Slice[6]::rendering result data.shape=(274, 228, 3) data.dtype=uint8 logic_box=[[0, 0], [29184, 70144]]\");\n"
      ],
      "text/plain": [
       "<IPython.core.display.Javascript object>"
      ]
     },
     "metadata": {},
     "output_type": "display_data"
    },
    {
     "data": {
      "application/javascript": [
       "console.log(\"[123955][INFO][openvisuspy.backend_py:308:executeBoxQuery] [200] http://atlantis.sci.utah.edu/mod_visus?dataset=david_subsampled&cached=1&action=boxquery&box=0+29183+0+70143&compression=zip&field=data&time=0&toh=19\");\n"
      ],
      "text/plain": [
       "<IPython.core.display.Javascript object>"
      ]
     },
     "metadata": {},
     "output_type": "display_data"
    },
    {
     "data": {
      "application/javascript": [
       "console.log(\"[123955][INFO][openvisuspy.backend_py:168:returnBoxQueryData] got data 2/[15, 17, 19] timestep=0 field=data H=17 data.shape=(548, 456, 3) data.dtype=uint8 logic_box=[[0, 0], [29184, 70144]] m=0 M=247 ms=261\");\n"
      ],
      "text/plain": [
       "<IPython.core.display.Javascript object>"
      ]
     },
     "metadata": {},
     "output_type": "display_data"
    },
    {
     "data": {
      "application/javascript": [
       "console.log(\"[123955][INFO][openvisuspy.backend_py:82:printStatistics] Stats::printStatistics enlapsed=0.26645398139953613 seconds\");\n"
      ],
      "text/plain": [
       "<IPython.core.display.Javascript object>"
      ]
     },
     "metadata": {},
     "output_type": "display_data"
    },
    {
     "data": {
      "application/javascript": [
       "console.log(\"[123955][INFO][openvisuspy.slice:190:renderResultIfNeeded] Slice[6]::rendering result data.shape=(548, 456, 3) data.dtype=uint8 logic_box=[[0, 0], [29184, 70144]]\");\n"
      ],
      "text/plain": [
       "<IPython.core.display.Javascript object>"
      ]
     },
     "metadata": {},
     "output_type": "display_data"
    },
    {
     "data": {
      "application/javascript": [
       "console.log(\"[123958][INFO][openvisuspy.slice:209:pushJobIfNeeded] pushing new job\");\n"
      ],
      "text/plain": [
       "<IPython.core.display.Javascript object>"
      ]
     },
     "metadata": {},
     "output_type": "display_data"
    },
    {
     "data": {
      "application/javascript": [
       "console.log(\"[123958][INFO][openvisuspy.backend_py:145:pushJob] pushed new job <openvisuspy.backend_py.Dataset object at 0x000001FA95D0DD30>\");\n"
      ],
      "text/plain": [
       "<IPython.core.display.Javascript object>"
      ]
     },
     "metadata": {},
     "output_type": "display_data"
    },
    {
     "data": {
      "application/javascript": [
       "console.log(\"[123958][INFO][openvisuspy.backend_py:74:createBoxQuery] begin timestep=0 field=data logic_box=[[1630.1447368421052, 4524.197368421052], [26030.144736842107, 74256.82894736843]] num_refinements=3 max_pixels=103170 endh=32\");\n"
      ],
      "text/plain": [
       "<IPython.core.display.Javascript object>"
      ]
     },
     "metadata": {},
     "output_type": "display_data"
    },
    {
     "data": {
      "application/javascript": [
       "console.log(\"[123958][INFO][openvisuspy.backend_py:109:createBoxQuery] Guess resolution endh=18 original_box=([1630, 4524], [26031, 70416]) aligned_box=([1536, 4480], [25984, 70400]) delta=[128, 128, 1] num_pixels=[191, 515] tot_pixels=98,365 max_pixels=103,170 end=18\");\n"
      ],
      "text/plain": [
       "<IPython.core.display.Javascript object>"
      ]
     },
     "metadata": {},
     "output_type": "display_data"
    },
    {
     "data": {
      "application/javascript": [
       "console.log(\"[123958][INFO][openvisuspy.backend_py:138:beginBoxQuery] beginBoxQuery timestep=0 field=data logic_box=[[1536, 4096], [25600, 70144]] end_resolutions=[14, 16, 18]\");\n"
      ],
      "text/plain": [
       "<IPython.core.display.Javascript object>"
      ]
     },
     "metadata": {},
     "output_type": "display_data"
    },
    {
     "data": {
      "application/javascript": [
       "console.log(\"[123958][INFO][openvisuspy.slice:209:pushJobIfNeeded] pushing new job\");\n"
      ],
      "text/plain": [
       "<IPython.core.display.Javascript object>"
      ]
     },
     "metadata": {},
     "output_type": "display_data"
    },
    {
     "data": {
      "application/javascript": [
       "console.log(\"[123958][INFO][openvisuspy.backend_py:145:pushJob] pushed new job <openvisuspy.backend_py.Dataset object at 0x000001FA95D0DD30>\");\n"
      ],
      "text/plain": [
       "<IPython.core.display.Javascript object>"
      ]
     },
     "metadata": {},
     "output_type": "display_data"
    },
    {
     "data": {
      "application/javascript": [
       "console.log(\"[123958][INFO][openvisuspy.slice:209:pushJobIfNeeded] pushing new job\");\n"
      ],
      "text/plain": [
       "<IPython.core.display.Javascript object>"
      ]
     },
     "metadata": {},
     "output_type": "display_data"
    },
    {
     "data": {
      "application/javascript": [
       "console.log(\"[123958][INFO][openvisuspy.backend_py:145:pushJob] pushed new job <openvisuspy.backend_py.Dataset object at 0x000001FA95D0DD30>\");\n"
      ],
      "text/plain": [
       "<IPython.core.display.Javascript object>"
      ]
     },
     "metadata": {},
     "output_type": "display_data"
    },
    {
     "data": {
      "application/javascript": [
       "console.log(\"[123958][INFO][openvisuspy.backend_py:82:printStatistics] Stats::printStatistics enlapsed=0.10527610778808594 seconds\");\n"
      ],
      "text/plain": [
       "<IPython.core.display.Javascript object>"
      ]
     },
     "metadata": {},
     "output_type": "display_data"
    },
    {
     "data": {
      "application/javascript": [
       "console.log(\"[123958][INFO][openvisuspy.backend_py:74:createBoxQuery] begin timestep=0 field=data logic_box=[[5064.014437134502, 28023.633589181292], [19184.384807504877, 68378.16575292399]] num_refinements=3 max_pixels=103170 endh=32\");\n"
      ],
      "text/plain": [
       "<IPython.core.display.Javascript object>"
      ]
     },
     "metadata": {},
     "output_type": "display_data"
    },
    {
     "data": {
      "application/javascript": [
       "console.log(\"[123958][INFO][openvisuspy.backend_py:109:createBoxQuery] Guess resolution endh=19 original_box=([5064, 28023], [19185, 68379]) aligned_box=([5056, 27904], [19136, 68352]) delta=[64, 128, 1] num_pixels=[220, 316] tot_pixels=69,520 max_pixels=103,170 end=19\");\n"
      ],
      "text/plain": [
       "<IPython.core.display.Javascript object>"
      ]
     },
     "metadata": {},
     "output_type": "display_data"
    },
    {
     "data": {
      "application/javascript": [
       "console.log(\"[123958][INFO][openvisuspy.backend_py:138:beginBoxQuery] beginBoxQuery timestep=0 field=data logic_box=[[4864, 27648], [18944, 68096]] end_resolutions=[15, 17, 19]\");\n"
      ],
      "text/plain": [
       "<IPython.core.display.Javascript object>"
      ]
     },
     "metadata": {},
     "output_type": "display_data"
    },
    {
     "data": {
      "application/javascript": [
       "console.log(\"[123958][INFO][openvisuspy.backend_py:308:executeBoxQuery] [200] http://atlantis.sci.utah.edu/mod_visus?dataset=david_subsampled&cached=1&action=boxquery&box=4864+18943+27648+68095&compression=zip&field=data&time=0&toh=15\");\n"
      ],
      "text/plain": [
       "<IPython.core.display.Javascript object>"
      ]
     },
     "metadata": {},
     "output_type": "display_data"
    },
    {
     "data": {
      "application/javascript": [
       "console.log(\"[123958][INFO][openvisuspy.backend_py:168:returnBoxQueryData] got data 0/[15, 17, 19] timestep=0 field=data H=-1 data.shape=(79, 55, 3) data.dtype=uint8 logic_box=[[4864, 27648], [18944, 68096]] m=0 M=243 ms=30\");\n"
      ],
      "text/plain": [
       "<IPython.core.display.Javascript object>"
      ]
     },
     "metadata": {},
     "output_type": "display_data"
    },
    {
     "data": {
      "application/javascript": [
       "console.log(\"[123958][INFO][openvisuspy.slice:190:renderResultIfNeeded] Slice[4]::rendering result data.shape=(79, 55, 3) data.dtype=uint8 logic_box=[[4864, 27648], [18944, 68096]]\");\n"
      ],
      "text/plain": [
       "<IPython.core.display.Javascript object>"
      ]
     },
     "metadata": {},
     "output_type": "display_data"
    },
    {
     "data": {
      "application/javascript": [
       "console.log(\"[123958][INFO][openvisuspy.backend_py:308:executeBoxQuery] [200] http://atlantis.sci.utah.edu/mod_visus?dataset=david_subsampled&cached=1&action=boxquery&box=4864+18943+27648+68095&compression=zip&field=data&time=0&toh=17\");\n"
      ],
      "text/plain": [
       "<IPython.core.display.Javascript object>"
      ]
     },
     "metadata": {},
     "output_type": "display_data"
    },
    {
     "data": {
      "application/javascript": [
       "console.log(\"[123958][INFO][openvisuspy.backend_py:168:returnBoxQueryData] got data 1/[15, 17, 19] timestep=0 field=data H=15 data.shape=(158, 110, 3) data.dtype=uint8 logic_box=[[4864, 27648], [18944, 68096]] m=0 M=245 ms=79\");\n"
      ],
      "text/plain": [
       "<IPython.core.display.Javascript object>"
      ]
     },
     "metadata": {},
     "output_type": "display_data"
    },
    {
     "data": {
      "application/javascript": [
       "console.log(\"[123959][INFO][openvisuspy.slice:190:renderResultIfNeeded] Slice[4]::rendering result data.shape=(158, 110, 3) data.dtype=uint8 logic_box=[[4864, 27648], [18944, 68096]]\");\n"
      ],
      "text/plain": [
       "<IPython.core.display.Javascript object>"
      ]
     },
     "metadata": {},
     "output_type": "display_data"
    },
    {
     "data": {
      "application/javascript": [
       "console.log(\"[123959][INFO][openvisuspy.slice:209:pushJobIfNeeded] pushing new job\");\n"
      ],
      "text/plain": [
       "<IPython.core.display.Javascript object>"
      ]
     },
     "metadata": {},
     "output_type": "display_data"
    },
    {
     "data": {
      "application/javascript": [
       "console.log(\"[123959][INFO][openvisuspy.backend_py:145:pushJob] pushed new job <openvisuspy.backend_py.Dataset object at 0x000001FA95D0DD30>\");\n"
      ],
      "text/plain": [
       "<IPython.core.display.Javascript object>"
      ]
     },
     "metadata": {},
     "output_type": "display_data"
    },
    {
     "data": {
      "application/javascript": [
       "console.log(\"[123959][INFO][openvisuspy.backend_py:82:printStatistics] Stats::printStatistics enlapsed=0.16507458686828613 seconds\");\n"
      ],
      "text/plain": [
       "<IPython.core.display.Javascript object>"
      ]
     },
     "metadata": {},
     "output_type": "display_data"
    },
    {
     "data": {
      "application/javascript": [
       "console.log(\"[123959][INFO][openvisuspy.slice:209:pushJobIfNeeded] pushing new job\");\n"
      ],
      "text/plain": [
       "<IPython.core.display.Javascript object>"
      ]
     },
     "metadata": {},
     "output_type": "display_data"
    },
    {
     "data": {
      "application/javascript": [
       "console.log(\"[123959][INFO][openvisuspy.backend_py:145:pushJob] pushed new job <openvisuspy.backend_py.Dataset object at 0x000001FA95D0DD30>\");\n"
      ],
      "text/plain": [
       "<IPython.core.display.Javascript object>"
      ]
     },
     "metadata": {},
     "output_type": "display_data"
    },
    {
     "data": {
      "application/javascript": [
       "console.log(\"[123959][INFO][openvisuspy.backend_py:74:createBoxQuery] begin timestep=0 field=data logic_box=[[6868.606544089778, 37818.672854735225], [16674.419301291426, 65842.65352400097]] num_refinements=3 max_pixels=103170 endh=32\");\n"
      ],
      "text/plain": [
       "<IPython.core.display.Javascript object>"
      ]
     },
     "metadata": {},
     "output_type": "display_data"
    },
    {
     "data": {
      "application/javascript": [
       "console.log(\"[123959][INFO][openvisuspy.backend_py:109:createBoxQuery] Guess resolution endh=20 original_box=([6868, 37818], [16675, 65843]) aligned_box=([6848, 37760], [16640, 65792]) delta=[64, 64, 1] num_pixels=[153, 438] tot_pixels=67,014 max_pixels=103,170 end=20\");\n"
      ],
      "text/plain": [
       "<IPython.core.display.Javascript object>"
      ]
     },
     "metadata": {},
     "output_type": "display_data"
    },
    {
     "data": {
      "application/javascript": [
       "console.log(\"[123959][INFO][openvisuspy.backend_py:138:beginBoxQuery] beginBoxQuery timestep=0 field=data logic_box=[[6656, 37632], [16640, 65792]] end_resolutions=[16, 18, 20]\");\n"
      ],
      "text/plain": [
       "<IPython.core.display.Javascript object>"
      ]
     },
     "metadata": {},
     "output_type": "display_data"
    },
    {
     "data": {
      "application/javascript": [
       "console.log(\"[123959][INFO][openvisuspy.slice:209:pushJobIfNeeded] pushing new job\");\n"
      ],
      "text/plain": [
       "<IPython.core.display.Javascript object>"
      ]
     },
     "metadata": {},
     "output_type": "display_data"
    },
    {
     "data": {
      "application/javascript": [
       "console.log(\"[123959][INFO][openvisuspy.backend_py:145:pushJob] pushed new job <openvisuspy.backend_py.Dataset object at 0x000001FA95D0DD30>\");\n"
      ],
      "text/plain": [
       "<IPython.core.display.Javascript object>"
      ]
     },
     "metadata": {},
     "output_type": "display_data"
    },
    {
     "data": {
      "application/javascript": [
       "console.log(\"[123959][INFO][openvisuspy.backend_py:82:printStatistics] Stats::printStatistics enlapsed=0.04308056831359863 seconds\");\n"
      ],
      "text/plain": [
       "<IPython.core.display.Javascript object>"
      ]
     },
     "metadata": {},
     "output_type": "display_data"
    },
    {
     "data": {
      "application/javascript": [
       "console.log(\"[123959][INFO][openvisuspy.slice:209:pushJobIfNeeded] pushing new job\");\n"
      ],
      "text/plain": [
       "<IPython.core.display.Javascript object>"
      ]
     },
     "metadata": {},
     "output_type": "display_data"
    },
    {
     "data": {
      "application/javascript": [
       "console.log(\"[123959][INFO][openvisuspy.backend_py:145:pushJob] pushed new job <openvisuspy.backend_py.Dataset object at 0x000001FA95D0DD30>\");\n"
      ],
      "text/plain": [
       "<IPython.core.display.Javascript object>"
      ]
     },
     "metadata": {},
     "output_type": "display_data"
    },
    {
     "data": {
      "application/javascript": [
       "console.log(\"[123959][INFO][openvisuspy.backend_py:74:createBoxQuery] begin timestep=0 field=data logic_box=[[8121.795507253165, 44620.78345581434], [14931.387699754307, 64081.88114280443]] num_refinements=3 max_pixels=103170 endh=32\");\n"
      ],
      "text/plain": [
       "<IPython.core.display.Javascript object>"
      ]
     },
     "metadata": {},
     "output_type": "display_data"
    },
    {
     "data": {
      "application/javascript": [
       "console.log(\"[123959][INFO][openvisuspy.backend_py:109:createBoxQuery] Guess resolution endh=21 original_box=([8121, 44620], [14932, 64082]) aligned_box=([8096, 44608], [14912, 64064]) delta=[32, 64, 1] num_pixels=[213, 304] tot_pixels=64,752 max_pixels=103,170 end=21\");\n"
      ],
      "text/plain": [
       "<IPython.core.display.Javascript object>"
      ]
     },
     "metadata": {},
     "output_type": "display_data"
    },
    {
     "data": {
      "application/javascript": [
       "console.log(\"[123959][INFO][openvisuspy.backend_py:138:beginBoxQuery] beginBoxQuery timestep=0 field=data logic_box=[[8064, 44544], [14848, 64000]] end_resolutions=[17, 19, 21]\");\n"
      ],
      "text/plain": [
       "<IPython.core.display.Javascript object>"
      ]
     },
     "metadata": {},
     "output_type": "display_data"
    },
    {
     "data": {
      "application/javascript": [
       "console.log(\"[123959][INFO][openvisuspy.backend_py:308:executeBoxQuery] [200] http://atlantis.sci.utah.edu/mod_visus?dataset=david_subsampled&cached=1&action=boxquery&box=8064+14847+44544+63999&compression=zip&field=data&time=0&toh=17\");\n"
      ],
      "text/plain": [
       "<IPython.core.display.Javascript object>"
      ]
     },
     "metadata": {},
     "output_type": "display_data"
    },
    {
     "data": {
      "application/javascript": [
       "console.log(\"[123959][INFO][openvisuspy.backend_py:168:returnBoxQueryData] got data 0/[17, 19, 21] timestep=0 field=data H=-1 data.shape=(76, 53, 3) data.dtype=uint8 logic_box=[[8064, 44544], [14848, 64000]] m=0 M=240 ms=44\");\n"
      ],
      "text/plain": [
       "<IPython.core.display.Javascript object>"
      ]
     },
     "metadata": {},
     "output_type": "display_data"
    },
    {
     "data": {
      "application/javascript": [
       "console.log(\"[123959][INFO][openvisuspy.slice:190:renderResultIfNeeded] Slice[4]::rendering result data.shape=(76, 53, 3) data.dtype=uint8 logic_box=[[8064, 44544], [14848, 64000]]\");\n"
      ],
      "text/plain": [
       "<IPython.core.display.Javascript object>"
      ]
     },
     "metadata": {},
     "output_type": "display_data"
    },
    {
     "data": {
      "application/javascript": [
       "console.log(\"[123959][INFO][openvisuspy.backend_py:308:executeBoxQuery] [200] http://atlantis.sci.utah.edu/mod_visus?dataset=david_subsampled&cached=1&action=boxquery&box=8064+14847+44544+63999&compression=zip&field=data&time=0&toh=19\");\n"
      ],
      "text/plain": [
       "<IPython.core.display.Javascript object>"
      ]
     },
     "metadata": {},
     "output_type": "display_data"
    },
    {
     "data": {
      "application/javascript": [
       "console.log(\"[123959][INFO][openvisuspy.backend_py:168:returnBoxQueryData] got data 1/[17, 19, 21] timestep=0 field=data H=17 data.shape=(152, 106, 3) data.dtype=uint8 logic_box=[[8064, 44544], [14848, 64000]] m=0 M=240 ms=96\");\n"
      ],
      "text/plain": [
       "<IPython.core.display.Javascript object>"
      ]
     },
     "metadata": {},
     "output_type": "display_data"
    },
    {
     "data": {
      "application/javascript": [
       "console.log(\"[123959][INFO][openvisuspy.slice:190:renderResultIfNeeded] Slice[4]::rendering result data.shape=(152, 106, 3) data.dtype=uint8 logic_box=[[8064, 44544], [14848, 64000]]\");\n"
      ],
      "text/plain": [
       "<IPython.core.display.Javascript object>"
      ]
     },
     "metadata": {},
     "output_type": "display_data"
    },
    {
     "data": {
      "application/javascript": [
       "console.log(\"[123959][INFO][openvisuspy.slice:209:pushJobIfNeeded] pushing new job\");\n"
      ],
      "text/plain": [
       "<IPython.core.display.Javascript object>"
      ]
     },
     "metadata": {},
     "output_type": "display_data"
    },
    {
     "data": {
      "application/javascript": [
       "console.log(\"[123959][INFO][openvisuspy.backend_py:145:pushJob] pushed new job <openvisuspy.backend_py.Dataset object at 0x000001FA95D0DD30>\");\n"
      ],
      "text/plain": [
       "<IPython.core.display.Javascript object>"
      ]
     },
     "metadata": {},
     "output_type": "display_data"
    },
    {
     "data": {
      "application/javascript": [
       "console.log(\"[123959][INFO][openvisuspy.slice:209:pushJobIfNeeded] pushing new job\");\n"
      ],
      "text/plain": [
       "<IPython.core.display.Javascript object>"
      ]
     },
     "metadata": {},
     "output_type": "display_data"
    },
    {
     "data": {
      "application/javascript": [
       "console.log(\"[123959][INFO][openvisuspy.backend_py:145:pushJob] pushed new job <openvisuspy.backend_py.Dataset object at 0x000001FA95D0DD30>\");\n"
      ],
      "text/plain": [
       "<IPython.core.display.Javascript object>"
      ]
     },
     "metadata": {},
     "output_type": "display_data"
    },
    {
     "data": {
      "application/javascript": [
       "console.log(\"[123959][INFO][openvisuspy.slice:209:pushJobIfNeeded] pushing new job\");\n"
      ],
      "text/plain": [
       "<IPython.core.display.Javascript object>"
      ]
     },
     "metadata": {},
     "output_type": "display_data"
    },
    {
     "data": {
      "application/javascript": [
       "console.log(\"[123959][INFO][openvisuspy.backend_py:145:pushJob] pushed new job <openvisuspy.backend_py.Dataset object at 0x000001FA95D0DD30>\");\n"
      ],
      "text/plain": [
       "<IPython.core.display.Javascript object>"
      ]
     },
     "metadata": {},
     "output_type": "display_data"
    },
    {
     "data": {
      "application/javascript": [
       "console.log(\"[123959][INFO][openvisuspy.backend_py:82:printStatistics] Stats::printStatistics enlapsed=0.2001485824584961 seconds\");\n"
      ],
      "text/plain": [
       "<IPython.core.display.Javascript object>"
      ]
     },
     "metadata": {},
     "output_type": "display_data"
    },
    {
     "data": {
      "application/javascript": [
       "console.log(\"[123959][INFO][openvisuspy.slice:209:pushJobIfNeeded] pushing new job\");\n"
      ],
      "text/plain": [
       "<IPython.core.display.Javascript object>"
      ]
     },
     "metadata": {},
     "output_type": "display_data"
    },
    {
     "data": {
      "application/javascript": [
       "console.log(\"[123959][INFO][openvisuspy.backend_py:145:pushJob] pushed new job <openvisuspy.backend_py.Dataset object at 0x000001FA95D0DD30>\");\n"
      ],
      "text/plain": [
       "<IPython.core.display.Javascript object>"
      ]
     },
     "metadata": {},
     "output_type": "display_data"
    },
    {
     "data": {
      "application/javascript": [
       "console.log(\"[123959][INFO][openvisuspy.backend_py:74:createBoxQuery] begin timestep=0 field=data logic_box=[[8050.115589437364, 47022.060702643685], [14859.707781938503, 66483.15838963377]] num_refinements=3 max_pixels=103170 endh=32\");\n"
      ],
      "text/plain": [
       "<IPython.core.display.Javascript object>"
      ]
     },
     "metadata": {},
     "output_type": "display_data"
    },
    {
     "data": {
      "application/javascript": [
       "console.log(\"[123959][INFO][openvisuspy.backend_py:109:createBoxQuery] Guess resolution endh=21 original_box=([8050, 47022], [14860, 66484]) aligned_box=([8032, 46976], [14848, 66432]) delta=[32, 64, 1] num_pixels=[213, 304] tot_pixels=64,752 max_pixels=103,170 end=21\");\n"
      ],
      "text/plain": [
       "<IPython.core.display.Javascript object>"
      ]
     },
     "metadata": {},
     "output_type": "display_data"
    },
    {
     "data": {
      "application/javascript": [
       "console.log(\"[123959][INFO][openvisuspy.backend_py:138:beginBoxQuery] beginBoxQuery timestep=0 field=data logic_box=[[7936, 46848], [14848, 66304]] end_resolutions=[17, 19, 21]\");\n"
      ],
      "text/plain": [
       "<IPython.core.display.Javascript object>"
      ]
     },
     "metadata": {},
     "output_type": "display_data"
    },
    {
     "data": {
      "application/javascript": [
       "console.log(\"[123959][INFO][openvisuspy.slice:209:pushJobIfNeeded] pushing new job\");\n"
      ],
      "text/plain": [
       "<IPython.core.display.Javascript object>"
      ]
     },
     "metadata": {},
     "output_type": "display_data"
    },
    {
     "data": {
      "application/javascript": [
       "console.log(\"[123959][INFO][openvisuspy.backend_py:145:pushJob] pushed new job <openvisuspy.backend_py.Dataset object at 0x000001FA95D0DD30>\");\n"
      ],
      "text/plain": [
       "<IPython.core.display.Javascript object>"
      ]
     },
     "metadata": {},
     "output_type": "display_data"
    },
    {
     "data": {
      "application/javascript": [
       "console.log(\"[123959][INFO][openvisuspy.backend_py:82:printStatistics] Stats::printStatistics enlapsed=0.03674173355102539 seconds\");\n"
      ],
      "text/plain": [
       "<IPython.core.display.Javascript object>"
      ]
     },
     "metadata": {},
     "output_type": "display_data"
    },
    {
     "data": {
      "application/javascript": [
       "console.log(\"[123959][INFO][openvisuspy.backend_py:74:createBoxQuery] begin timestep=0 field=data logic_box=[[8121.795507253166, 47201.26049718318], [14931.387699754305, 66662.35818417327]] num_refinements=3 max_pixels=103170 endh=32\");\n"
      ],
      "text/plain": [
       "<IPython.core.display.Javascript object>"
      ]
     },
     "metadata": {},
     "output_type": "display_data"
    },
    {
     "data": {
      "application/javascript": [
       "console.log(\"[123959][INFO][openvisuspy.backend_py:109:createBoxQuery] Guess resolution endh=21 original_box=([8121, 47201], [14932, 66663]) aligned_box=([8096, 47168], [14912, 66624]) delta=[32, 64, 1] num_pixels=[213, 304] tot_pixels=64,752 max_pixels=103,170 end=21\");\n"
      ],
      "text/plain": [
       "<IPython.core.display.Javascript object>"
      ]
     },
     "metadata": {},
     "output_type": "display_data"
    },
    {
     "data": {
      "application/javascript": [
       "console.log(\"[123959][INFO][openvisuspy.backend_py:138:beginBoxQuery] beginBoxQuery timestep=0 field=data logic_box=[[8064, 47104], [14848, 66560]] end_resolutions=[17, 19, 21]\");\n"
      ],
      "text/plain": [
       "<IPython.core.display.Javascript object>"
      ]
     },
     "metadata": {},
     "output_type": "display_data"
    },
    {
     "data": {
      "application/javascript": [
       "console.log(\"[123959][INFO][openvisuspy.backend_py:308:executeBoxQuery] [200] http://atlantis.sci.utah.edu/mod_visus?dataset=david_subsampled&cached=1&action=boxquery&box=8064+14847+47104+66559&compression=zip&field=data&time=0&toh=17\");\n"
      ],
      "text/plain": [
       "<IPython.core.display.Javascript object>"
      ]
     },
     "metadata": {},
     "output_type": "display_data"
    },
    {
     "data": {
      "application/javascript": [
       "console.log(\"[123959][INFO][openvisuspy.backend_py:168:returnBoxQueryData] got data 0/[17, 19, 21] timestep=0 field=data H=-1 data.shape=(76, 53, 3) data.dtype=uint8 logic_box=[[8064, 47104], [14848, 66560]] m=0 M=240 ms=36\");\n"
      ],
      "text/plain": [
       "<IPython.core.display.Javascript object>"
      ]
     },
     "metadata": {},
     "output_type": "display_data"
    },
    {
     "data": {
      "application/javascript": [
       "console.log(\"[123959][INFO][openvisuspy.slice:190:renderResultIfNeeded] Slice[4]::rendering result data.shape=(76, 53, 3) data.dtype=uint8 logic_box=[[8064, 47104], [14848, 66560]]\");\n"
      ],
      "text/plain": [
       "<IPython.core.display.Javascript object>"
      ]
     },
     "metadata": {},
     "output_type": "display_data"
    },
    {
     "data": {
      "application/javascript": [
       "console.log(\"[123959][INFO][openvisuspy.backend_py:308:executeBoxQuery] [200] http://atlantis.sci.utah.edu/mod_visus?dataset=david_subsampled&cached=1&action=boxquery&box=8064+14847+47104+66559&compression=zip&field=data&time=0&toh=19\");\n"
      ],
      "text/plain": [
       "<IPython.core.display.Javascript object>"
      ]
     },
     "metadata": {},
     "output_type": "display_data"
    },
    {
     "data": {
      "application/javascript": [
       "console.log(\"[123959][INFO][openvisuspy.backend_py:168:returnBoxQueryData] got data 1/[17, 19, 21] timestep=0 field=data H=17 data.shape=(152, 106, 3) data.dtype=uint8 logic_box=[[8064, 47104], [14848, 66560]] m=0 M=240 ms=86\");\n"
      ],
      "text/plain": [
       "<IPython.core.display.Javascript object>"
      ]
     },
     "metadata": {},
     "output_type": "display_data"
    },
    {
     "data": {
      "application/javascript": [
       "console.log(\"[123959][INFO][openvisuspy.slice:190:renderResultIfNeeded] Slice[4]::rendering result data.shape=(152, 106, 3) data.dtype=uint8 logic_box=[[8064, 47104], [14848, 66560]]\");\n"
      ],
      "text/plain": [
       "<IPython.core.display.Javascript object>"
      ]
     },
     "metadata": {},
     "output_type": "display_data"
    },
    {
     "data": {
      "application/javascript": [
       "console.log(\"[123959][INFO][openvisuspy.backend_py:308:executeBoxQuery] [200] http://atlantis.sci.utah.edu/mod_visus?dataset=david_subsampled&cached=1&action=boxquery&box=8064+14847+47104+66559&compression=zip&field=data&time=0&toh=21\");\n"
      ],
      "text/plain": [
       "<IPython.core.display.Javascript object>"
      ]
     },
     "metadata": {},
     "output_type": "display_data"
    },
    {
     "data": {
      "application/javascript": [
       "console.log(\"[123959][INFO][openvisuspy.backend_py:168:returnBoxQueryData] got data 2/[17, 19, 21] timestep=0 field=data H=19 data.shape=(304, 212, 3) data.dtype=uint8 logic_box=[[8064, 47104], [14848, 66560]] m=0 M=241 ms=197\");\n"
      ],
      "text/plain": [
       "<IPython.core.display.Javascript object>"
      ]
     },
     "metadata": {},
     "output_type": "display_data"
    },
    {
     "data": {
      "application/javascript": [
       "console.log(\"[123959][INFO][openvisuspy.backend_py:82:printStatistics] Stats::printStatistics enlapsed=0.2042086124420166 seconds\");\n"
      ],
      "text/plain": [
       "<IPython.core.display.Javascript object>"
      ]
     },
     "metadata": {},
     "output_type": "display_data"
    },
    {
     "data": {
      "application/javascript": [
       "console.log(\"[123959][INFO][openvisuspy.slice:190:renderResultIfNeeded] Slice[4]::rendering result data.shape=(304, 212, 3) data.dtype=uint8 logic_box=[[8064, 47104], [14848, 66560]]\");\n"
      ],
      "text/plain": [
       "<IPython.core.display.Javascript object>"
      ]
     },
     "metadata": {},
     "output_type": "display_data"
    },
    {
     "data": {
      "application/javascript": [
       "console.log(\"[123959][INFO][openvisuspy.slice:209:pushJobIfNeeded] pushing new job\");\n"
      ],
      "text/plain": [
       "<IPython.core.display.Javascript object>"
      ]
     },
     "metadata": {},
     "output_type": "display_data"
    },
    {
     "data": {
      "application/javascript": [
       "console.log(\"[123959][INFO][openvisuspy.backend_py:145:pushJob] pushed new job <openvisuspy.backend_py.Dataset object at 0x000001FA95D0DD30>\");\n"
      ],
      "text/plain": [
       "<IPython.core.display.Javascript object>"
      ]
     },
     "metadata": {},
     "output_type": "display_data"
    },
    {
     "data": {
      "application/javascript": [
       "console.log(\"[123959][INFO][openvisuspy.backend_py:74:createBoxQuery] begin timestep=0 field=data logic_box=[[-2927.9999999999995, -3395.3684210526417], [26351.999999999996, 80283.7894736842]] num_refinements=3 max_pixels=103170 endh=32\");\n"
      ],
      "text/plain": [
       "<IPython.core.display.Javascript object>"
      ]
     },
     "metadata": {},
     "output_type": "display_data"
    },
    {
     "data": {
      "application/javascript": [
       "console.log(\"[123959][INFO][openvisuspy.backend_py:109:createBoxQuery] Guess resolution endh=17 original_box=([0, 0], [26352, 70416]) aligned_box=([0, 0], [26240, 70400]) delta=[128, 256, 1] num_pixels=[205, 275] tot_pixels=56,375 max_pixels=103,170 end=17\");\n"
      ],
      "text/plain": [
       "<IPython.core.display.Javascript object>"
      ]
     },
     "metadata": {},
     "output_type": "display_data"
    },
    {
     "data": {
      "application/javascript": [
       "console.log(\"[123959][INFO][openvisuspy.backend_py:138:beginBoxQuery] beginBoxQuery timestep=0 field=data logic_box=[[0, 0], [26112, 69632]] end_resolutions=[13, 15, 17]\");\n"
      ],
      "text/plain": [
       "<IPython.core.display.Javascript object>"
      ]
     },
     "metadata": {},
     "output_type": "display_data"
    },
    {
     "data": {
      "application/javascript": [
       "console.log(\"[123959][INFO][openvisuspy.slice:209:pushJobIfNeeded] pushing new job\");\n"
      ],
      "text/plain": [
       "<IPython.core.display.Javascript object>"
      ]
     },
     "metadata": {},
     "output_type": "display_data"
    },
    {
     "data": {
      "application/javascript": [
       "console.log(\"[123959][INFO][openvisuspy.backend_py:145:pushJob] pushed new job <openvisuspy.backend_py.Dataset object at 0x000001FA95D0DD30>\");\n"
      ],
      "text/plain": [
       "<IPython.core.display.Javascript object>"
      ]
     },
     "metadata": {},
     "output_type": "display_data"
    },
    {
     "data": {
      "application/javascript": [
       "console.log(\"[123959][INFO][openvisuspy.backend_py:82:printStatistics] Stats::printStatistics enlapsed=0.03899741172790527 seconds\");\n"
      ],
      "text/plain": [
       "<IPython.core.display.Javascript object>"
      ]
     },
     "metadata": {},
     "output_type": "display_data"
    },
    {
     "data": {
      "application/javascript": [
       "console.log(\"[123959][INFO][openvisuspy.slice:209:pushJobIfNeeded] pushing new job\");\n"
      ],
      "text/plain": [
       "<IPython.core.display.Javascript object>"
      ]
     },
     "metadata": {},
     "output_type": "display_data"
    },
    {
     "data": {
      "application/javascript": [
       "console.log(\"[123959][INFO][openvisuspy.backend_py:145:pushJob] pushed new job <openvisuspy.backend_py.Dataset object at 0x000001FA95D0DD30>\");\n"
      ],
      "text/plain": [
       "<IPython.core.display.Javascript object>"
      ]
     },
     "metadata": {},
     "output_type": "display_data"
    },
    {
     "data": {
      "application/javascript": [
       "console.log(\"[123959][INFO][openvisuspy.backend_py:74:createBoxQuery] begin timestep=0 field=data logic_box=[[-5239.578947368419, 611.3684210526212], [24040.421052631573, 84290.52631578947]] num_refinements=3 max_pixels=103170 endh=32\");\n"
      ],
      "text/plain": [
       "<IPython.core.display.Javascript object>"
      ]
     },
     "metadata": {},
     "output_type": "display_data"
    },
    {
     "data": {
      "application/javascript": [
       "console.log(\"[123959][INFO][openvisuspy.backend_py:109:createBoxQuery] Guess resolution endh=18 original_box=([0, 611], [24041, 70416]) aligned_box=([0, 512], [23936, 70400]) delta=[128, 128, 1] num_pixels=[187, 546] tot_pixels=102,102 max_pixels=103,170 end=18\");\n"
      ],
      "text/plain": [
       "<IPython.core.display.Javascript object>"
      ]
     },
     "metadata": {},
     "output_type": "display_data"
    },
    {
     "data": {
      "application/javascript": [
       "console.log(\"[123959][INFO][openvisuspy.backend_py:138:beginBoxQuery] beginBoxQuery timestep=0 field=data logic_box=[[0, 512], [23552, 70144]] end_resolutions=[14, 16, 18]\");\n"
      ],
      "text/plain": [
       "<IPython.core.display.Javascript object>"
      ]
     },
     "metadata": {},
     "output_type": "display_data"
    },
    {
     "data": {
      "application/javascript": [
       "console.log(\"[123959][INFO][openvisuspy.slice:209:pushJobIfNeeded] pushing new job\");\n"
      ],
      "text/plain": [
       "<IPython.core.display.Javascript object>"
      ]
     },
     "metadata": {},
     "output_type": "display_data"
    },
    {
     "data": {
      "application/javascript": [
       "console.log(\"[123959][INFO][openvisuspy.backend_py:145:pushJob] pushed new job <openvisuspy.backend_py.Dataset object at 0x000001FA95D0DD30>\");\n"
      ],
      "text/plain": [
       "<IPython.core.display.Javascript object>"
      ]
     },
     "metadata": {},
     "output_type": "display_data"
    },
    {
     "data": {
      "application/javascript": [
       "console.log(\"[123959][INFO][openvisuspy.backend_py:82:printStatistics] Stats::printStatistics enlapsed=0.0410008430480957 seconds\");\n"
      ],
      "text/plain": [
       "<IPython.core.display.Javascript object>"
      ]
     },
     "metadata": {},
     "output_type": "display_data"
    },
    {
     "data": {
      "application/javascript": [
       "console.log(\"[124000][INFO][openvisuspy.backend_py:74:createBoxQuery] begin timestep=0 field=data logic_box=[[-5547.789473684209, 1227.7894736842002], [23732.210526315783, 84906.94736842104]] num_refinements=3 max_pixels=103170 endh=32\");\n"
      ],
      "text/plain": [
       "<IPython.core.display.Javascript object>"
      ]
     },
     "metadata": {},
     "output_type": "display_data"
    },
    {
     "data": {
      "application/javascript": [
       "console.log(\"[124000][INFO][openvisuspy.backend_py:109:createBoxQuery] Guess resolution endh=18 original_box=([0, 1227], [23733, 70416]) aligned_box=([0, 1152], [23680, 70400]) delta=[128, 128, 1] num_pixels=[185, 541] tot_pixels=100,085 max_pixels=103,170 end=18\");\n"
      ],
      "text/plain": [
       "<IPython.core.display.Javascript object>"
      ]
     },
     "metadata": {},
     "output_type": "display_data"
    },
    {
     "data": {
      "application/javascript": [
       "console.log(\"[124000][INFO][openvisuspy.backend_py:138:beginBoxQuery] beginBoxQuery timestep=0 field=data logic_box=[[0, 1024], [23552, 70144]] end_resolutions=[14, 16, 18]\");\n"
      ],
      "text/plain": [
       "<IPython.core.display.Javascript object>"
      ]
     },
     "metadata": {},
     "output_type": "display_data"
    },
    {
     "data": {
      "application/javascript": [
       "console.log(\"[124000][INFO][openvisuspy.backend_py:308:executeBoxQuery] [200] http://atlantis.sci.utah.edu/mod_visus?dataset=david_subsampled&cached=1&action=boxquery&box=0+23551+1024+70143&compression=zip&field=data&time=0&toh=14\");\n"
      ],
      "text/plain": [
       "<IPython.core.display.Javascript object>"
      ]
     },
     "metadata": {},
     "output_type": "display_data"
    },
    {
     "data": {
      "application/javascript": [
       "console.log(\"[124000][INFO][openvisuspy.backend_py:168:returnBoxQueryData] got data 0/[14, 16, 18] timestep=0 field=data H=-1 data.shape=(135, 46, 3) data.dtype=uint8 logic_box=[[0, 1024], [23552, 70144]] m=0 M=244 ms=27\");\n"
      ],
      "text/plain": [
       "<IPython.core.display.Javascript object>"
      ]
     },
     "metadata": {},
     "output_type": "display_data"
    },
    {
     "data": {
      "application/javascript": [
       "console.log(\"[124000][INFO][openvisuspy.slice:190:renderResultIfNeeded] Slice[3]::rendering result data.shape=(135, 46, 3) data.dtype=uint8 logic_box=[[0, 1024], [23552, 70144]]\");\n"
      ],
      "text/plain": [
       "<IPython.core.display.Javascript object>"
      ]
     },
     "metadata": {},
     "output_type": "display_data"
    },
    {
     "data": {
      "application/javascript": [
       "console.log(\"[124000][INFO][openvisuspy.backend_py:308:executeBoxQuery] [200] http://atlantis.sci.utah.edu/mod_visus?dataset=david_subsampled&cached=1&action=boxquery&box=0+23551+1024+70143&compression=zip&field=data&time=0&toh=16\");\n"
      ],
      "text/plain": [
       "<IPython.core.display.Javascript object>"
      ]
     },
     "metadata": {},
     "output_type": "display_data"
    },
    {
     "data": {
      "application/javascript": [
       "console.log(\"[124000][INFO][openvisuspy.backend_py:168:returnBoxQueryData] got data 1/[14, 16, 18] timestep=0 field=data H=14 data.shape=(270, 92, 3) data.dtype=uint8 logic_box=[[0, 1024], [23552, 70144]] m=0 M=245 ms=79\");\n"
      ],
      "text/plain": [
       "<IPython.core.display.Javascript object>"
      ]
     },
     "metadata": {},
     "output_type": "display_data"
    },
    {
     "data": {
      "application/javascript": [
       "console.log(\"[124000][INFO][openvisuspy.slice:190:renderResultIfNeeded] Slice[3]::rendering result data.shape=(270, 92, 3) data.dtype=uint8 logic_box=[[0, 1024], [23552, 70144]]\");\n"
      ],
      "text/plain": [
       "<IPython.core.display.Javascript object>"
      ]
     },
     "metadata": {},
     "output_type": "display_data"
    },
    {
     "data": {
      "application/javascript": [
       "console.log(\"[124000][INFO][openvisuspy.slice:209:pushJobIfNeeded] pushing new job\");\n"
      ],
      "text/plain": [
       "<IPython.core.display.Javascript object>"
      ]
     },
     "metadata": {},
     "output_type": "display_data"
    },
    {
     "data": {
      "application/javascript": [
       "console.log(\"[124000][INFO][openvisuspy.backend_py:145:pushJob] pushed new job <openvisuspy.backend_py.Dataset object at 0x000001FA95D0DD30>\");\n"
      ],
      "text/plain": [
       "<IPython.core.display.Javascript object>"
      ]
     },
     "metadata": {},
     "output_type": "display_data"
    },
    {
     "data": {
      "application/javascript": [
       "console.log(\"[124000][INFO][openvisuspy.backend_py:82:printStatistics] Stats::printStatistics enlapsed=0.16568613052368164 seconds\");\n"
      ],
      "text/plain": [
       "<IPython.core.display.Javascript object>"
      ]
     },
     "metadata": {},
     "output_type": "display_data"
    },
    {
     "data": {
      "application/javascript": [
       "console.log(\"[124000][INFO][openvisuspy.slice:209:pushJobIfNeeded] pushing new job\");\n"
      ],
      "text/plain": [
       "<IPython.core.display.Javascript object>"
      ]
     },
     "metadata": {},
     "output_type": "display_data"
    },
    {
     "data": {
      "application/javascript": [
       "console.log(\"[124000][INFO][openvisuspy.backend_py:145:pushJob] pushed new job <openvisuspy.backend_py.Dataset object at 0x000001FA95D0DD30>\");\n"
      ],
      "text/plain": [
       "<IPython.core.display.Javascript object>"
      ]
     },
     "metadata": {},
     "output_type": "display_data"
    },
    {
     "data": {
      "application/javascript": [
       "console.log(\"[124000][INFO][openvisuspy.backend_py:74:createBoxQuery] begin timestep=0 field=data logic_box=[[-1240.734649122806, 19655.27412280701], [19092.598684210523, 77765.80043859647]] num_refinements=3 max_pixels=103170 endh=32\");\n"
      ],
      "text/plain": [
       "<IPython.core.display.Javascript object>"
      ]
     },
     "metadata": {},
     "output_type": "display_data"
    },
    {
     "data": {
      "application/javascript": [
       "console.log(\"[124000][INFO][openvisuspy.backend_py:109:createBoxQuery] Guess resolution endh=18 original_box=([0, 19655], [19093, 70416]) aligned_box=([0, 19584], [19072, 70400]) delta=[128, 128, 1] num_pixels=[149, 397] tot_pixels=59,153 max_pixels=103,170 end=18\");\n"
      ],
      "text/plain": [
       "<IPython.core.display.Javascript object>"
      ]
     },
     "metadata": {},
     "output_type": "display_data"
    },
    {
     "data": {
      "application/javascript": [
       "console.log(\"[124000][INFO][openvisuspy.backend_py:138:beginBoxQuery] beginBoxQuery timestep=0 field=data logic_box=[[0, 19456], [18944, 70144]] end_resolutions=[14, 16, 18]\");\n"
      ],
      "text/plain": [
       "<IPython.core.display.Javascript object>"
      ]
     },
     "metadata": {},
     "output_type": "display_data"
    },
    {
     "data": {
      "application/javascript": [
       "console.log(\"[124000][INFO][openvisuspy.slice:209:pushJobIfNeeded] pushing new job\");\n"
      ],
      "text/plain": [
       "<IPython.core.display.Javascript object>"
      ]
     },
     "metadata": {},
     "output_type": "display_data"
    },
    {
     "data": {
      "application/javascript": [
       "console.log(\"[124000][INFO][openvisuspy.backend_py:145:pushJob] pushed new job <openvisuspy.backend_py.Dataset object at 0x000001FA95D0DD30>\");\n"
      ],
      "text/plain": [
       "<IPython.core.display.Javascript object>"
      ]
     },
     "metadata": {},
     "output_type": "display_data"
    },
    {
     "data": {
      "application/javascript": [
       "console.log(\"[124000][INFO][openvisuspy.backend_py:82:printStatistics] Stats::printStatistics enlapsed=0.04306316375732422 seconds\");\n"
      ],
      "text/plain": [
       "<IPython.core.display.Javascript object>"
      ]
     },
     "metadata": {},
     "output_type": "display_data"
    },
    {
     "data": {
      "application/javascript": [
       "console.log(\"[124000][INFO][openvisuspy.slice:209:pushJobIfNeeded] pushing new job\");\n"
      ],
      "text/plain": [
       "<IPython.core.display.Javascript object>"
      ]
     },
     "metadata": {},
     "output_type": "display_data"
    },
    {
     "data": {
      "application/javascript": [
       "console.log(\"[124000][INFO][openvisuspy.backend_py:145:pushJob] pushed new job <openvisuspy.backend_py.Dataset object at 0x000001FA95D0DD30>\");\n"
      ],
      "text/plain": [
       "<IPython.core.display.Javascript object>"
      ]
     },
     "metadata": {},
     "output_type": "display_data"
    },
    {
     "data": {
      "application/javascript": [
       "console.log(\"[124000][INFO][openvisuspy.backend_py:74:createBoxQuery] begin timestep=0 field=data logic_box=[[1750.2756457115022, 32484.838267543855], [15870.646016081868, 72839.37043128654]] num_refinements=3 max_pixels=103170 endh=32\");\n"
      ],
      "text/plain": [
       "<IPython.core.display.Javascript object>"
      ]
     },
     "metadata": {},
     "output_type": "display_data"
    },
    {
     "data": {
      "application/javascript": [
       "console.log(\"[124000][INFO][openvisuspy.backend_py:109:createBoxQuery] Guess resolution endh=19 original_box=([1750, 32484], [15871, 70416]) aligned_box=([1728, 32384], [15808, 70400]) delta=[64, 128, 1] num_pixels=[220, 297] tot_pixels=65,340 max_pixels=103,170 end=19\");\n"
      ],
      "text/plain": [
       "<IPython.core.display.Javascript object>"
      ]
     },
     "metadata": {},
     "output_type": "display_data"
    },
    {
     "data": {
      "application/javascript": [
       "console.log(\"[124000][INFO][openvisuspy.backend_py:138:beginBoxQuery] beginBoxQuery timestep=0 field=data logic_box=[[1536, 32256], [15616, 70144]] end_resolutions=[15, 17, 19]\");\n"
      ],
      "text/plain": [
       "<IPython.core.display.Javascript object>"
      ]
     },
     "metadata": {},
     "output_type": "display_data"
    },
    {
     "data": {
      "application/javascript": [
       "console.log(\"[124000][INFO][openvisuspy.backend_py:308:executeBoxQuery] [200] http://atlantis.sci.utah.edu/mod_visus?dataset=david_subsampled&cached=1&action=boxquery&box=1536+15615+32256+70143&compression=zip&field=data&time=0&toh=15\");\n"
      ],
      "text/plain": [
       "<IPython.core.display.Javascript object>"
      ]
     },
     "metadata": {},
     "output_type": "display_data"
    },
    {
     "data": {
      "application/javascript": [
       "console.log(\"[124000][INFO][openvisuspy.backend_py:168:returnBoxQueryData] got data 0/[15, 17, 19] timestep=0 field=data H=-1 data.shape=(74, 55, 3) data.dtype=uint8 logic_box=[[1536, 32256], [15616, 70144]] m=0 M=242 ms=32\");\n"
      ],
      "text/plain": [
       "<IPython.core.display.Javascript object>"
      ]
     },
     "metadata": {},
     "output_type": "display_data"
    },
    {
     "data": {
      "application/javascript": [
       "console.log(\"[124000][INFO][openvisuspy.slice:190:renderResultIfNeeded] Slice[3]::rendering result data.shape=(74, 55, 3) data.dtype=uint8 logic_box=[[1536, 32256], [15616, 70144]]\");\n"
      ],
      "text/plain": [
       "<IPython.core.display.Javascript object>"
      ]
     },
     "metadata": {},
     "output_type": "display_data"
    },
    {
     "data": {
      "application/javascript": [
       "console.log(\"[124000][INFO][openvisuspy.backend_py:308:executeBoxQuery] [200] http://atlantis.sci.utah.edu/mod_visus?dataset=david_subsampled&cached=1&action=boxquery&box=1536+15615+32256+70143&compression=zip&field=data&time=0&toh=17\");\n"
      ],
      "text/plain": [
       "<IPython.core.display.Javascript object>"
      ]
     },
     "metadata": {},
     "output_type": "display_data"
    },
    {
     "data": {
      "application/javascript": [
       "console.log(\"[124000][INFO][openvisuspy.backend_py:168:returnBoxQueryData] got data 1/[15, 17, 19] timestep=0 field=data H=15 data.shape=(148, 110, 3) data.dtype=uint8 logic_box=[[1536, 32256], [15616, 70144]] m=0 M=242 ms=82\");\n"
      ],
      "text/plain": [
       "<IPython.core.display.Javascript object>"
      ]
     },
     "metadata": {},
     "output_type": "display_data"
    },
    {
     "data": {
      "application/javascript": [
       "console.log(\"[124000][INFO][openvisuspy.slice:190:renderResultIfNeeded] Slice[3]::rendering result data.shape=(148, 110, 3) data.dtype=uint8 logic_box=[[1536, 32256], [15616, 70144]]\");\n"
      ],
      "text/plain": [
       "<IPython.core.display.Javascript object>"
      ]
     },
     "metadata": {},
     "output_type": "display_data"
    },
    {
     "data": {
      "application/javascript": [
       "console.log(\"[124000][INFO][openvisuspy.slice:209:pushJobIfNeeded] pushing new job\");\n"
      ],
      "text/plain": [
       "<IPython.core.display.Javascript object>"
      ]
     },
     "metadata": {},
     "output_type": "display_data"
    },
    {
     "data": {
      "application/javascript": [
       "console.log(\"[124000][INFO][openvisuspy.backend_py:145:pushJob] pushed new job <openvisuspy.backend_py.Dataset object at 0x000001FA95D0DD30>\");\n"
      ],
      "text/plain": [
       "<IPython.core.display.Javascript object>"
      ]
     },
     "metadata": {},
     "output_type": "display_data"
    },
    {
     "data": {
      "application/javascript": [
       "console.log(\"[124000][INFO][openvisuspy.backend_py:82:printStatistics] Stats::printStatistics enlapsed=0.16117262840270996 seconds\");\n"
      ],
      "text/plain": [
       "<IPython.core.display.Javascript object>"
      ]
     },
     "metadata": {},
     "output_type": "display_data"
    },
    {
     "data": {
      "application/javascript": [
       "console.log(\"[124000][INFO][openvisuspy.slice:209:pushJobIfNeeded] pushing new job\");\n"
      ],
      "text/plain": [
       "<IPython.core.display.Javascript object>"
      ]
     },
     "metadata": {},
     "output_type": "display_data"
    },
    {
     "data": {
      "application/javascript": [
       "console.log(\"[124000][INFO][openvisuspy.backend_py:145:pushJob] pushed new job <openvisuspy.backend_py.Dataset object at 0x000001FA95D0DD30>\");\n"
      ],
      "text/plain": [
       "<IPython.core.display.Javascript object>"
      ]
     },
     "metadata": {},
     "output_type": "display_data"
    },
    {
     "data": {
      "application/javascript": [
       "console.log(\"[124000][INFO][openvisuspy.backend_py:74:createBoxQuery] begin timestep=0 field=data logic_box=[[4833.311342874613, 44831.6575193691], [13004.82197387598, 68184.97474375721]] num_refinements=3 max_pixels=103170 endh=32\");\n"
      ],
      "text/plain": [
       "<IPython.core.display.Javascript object>"
      ]
     },
     "metadata": {},
     "output_type": "display_data"
    },
    {
     "data": {
      "application/javascript": [
       "console.log(\"[124000][INFO][openvisuspy.backend_py:109:createBoxQuery] Guess resolution endh=21 original_box=([4833, 44831], [13005, 68185]) aligned_box=([4832, 44800], [12992, 68160]) delta=[32, 64, 1] num_pixels=[255, 365] tot_pixels=93,075 max_pixels=103,170 end=21\");\n"
      ],
      "text/plain": [
       "<IPython.core.display.Javascript object>"
      ]
     },
     "metadata": {},
     "output_type": "display_data"
    },
    {
     "data": {
      "application/javascript": [
       "console.log(\"[124000][INFO][openvisuspy.backend_py:138:beginBoxQuery] beginBoxQuery timestep=0 field=data logic_box=[[4736, 44800], [12928, 68096]] end_resolutions=[17, 19, 21]\");\n"
      ],
      "text/plain": [
       "<IPython.core.display.Javascript object>"
      ]
     },
     "metadata": {},
     "output_type": "display_data"
    },
    {
     "data": {
      "application/javascript": [
       "console.log(\"[124000][INFO][openvisuspy.slice:209:pushJobIfNeeded] pushing new job\");\n"
      ],
      "text/plain": [
       "<IPython.core.display.Javascript object>"
      ]
     },
     "metadata": {},
     "output_type": "display_data"
    },
    {
     "data": {
      "application/javascript": [
       "console.log(\"[124000][INFO][openvisuspy.backend_py:145:pushJob] pushed new job <openvisuspy.backend_py.Dataset object at 0x000001FA95D0DD30>\");\n"
      ],
      "text/plain": [
       "<IPython.core.display.Javascript object>"
      ]
     },
     "metadata": {},
     "output_type": "display_data"
    },
    {
     "data": {
      "application/javascript": [
       "console.log(\"[124000][INFO][openvisuspy.backend_py:82:printStatistics] Stats::printStatistics enlapsed=0.041878461837768555 seconds\");\n"
      ],
      "text/plain": [
       "<IPython.core.display.Javascript object>"
      ]
     },
     "metadata": {},
     "output_type": "display_data"
    },
    {
     "data": {
      "application/javascript": [
       "console.log(\"[124000][INFO][openvisuspy.slice:209:pushJobIfNeeded] pushing new job\");\n"
      ],
      "text/plain": [
       "<IPython.core.display.Javascript object>"
      ]
     },
     "metadata": {},
     "output_type": "display_data"
    },
    {
     "data": {
      "application/javascript": [
       "console.log(\"[124000][INFO][openvisuspy.backend_py:145:pushJob] pushed new job <openvisuspy.backend_py.Dataset object at 0x000001FA95D0DD30>\");\n"
      ],
      "text/plain": [
       "<IPython.core.display.Javascript object>"
      ]
     },
     "metadata": {},
     "output_type": "display_data"
    },
    {
     "data": {
      "application/javascript": [
       "console.log(\"[124000][INFO][openvisuspy.backend_py:74:createBoxQuery] begin timestep=0 field=data logic_box=[[6146.435170653355, 50019.82757090249], [11821.095331070972, 66237.40897672756]] num_refinements=3 max_pixels=103170 endh=32\");\n"
      ],
      "text/plain": [
       "<IPython.core.display.Javascript object>"
      ]
     },
     "metadata": {},
     "output_type": "display_data"
    },
    {
     "data": {
      "application/javascript": [
       "console.log(\"[124000][INFO][openvisuspy.backend_py:109:createBoxQuery] Guess resolution endh=22 original_box=([6146, 50019], [11822, 66238]) aligned_box=([6144, 50016], [11808, 66208]) delta=[32, 32, 1] num_pixels=[177, 506] tot_pixels=89,562 max_pixels=103,170 end=22\");\n"
      ],
      "text/plain": [
       "<IPython.core.display.Javascript object>"
      ]
     },
     "metadata": {},
     "output_type": "display_data"
    },
    {
     "data": {
      "application/javascript": [
       "console.log(\"[124000][INFO][openvisuspy.backend_py:138:beginBoxQuery] beginBoxQuery timestep=0 field=data logic_box=[[6144, 49920], [11776, 66176]] end_resolutions=[18, 20, 22]\");\n"
      ],
      "text/plain": [
       "<IPython.core.display.Javascript object>"
      ]
     },
     "metadata": {},
     "output_type": "display_data"
    },
    {
     "data": {
      "application/javascript": [
       "console.log(\"[124000][INFO][openvisuspy.backend_py:308:executeBoxQuery] [200] http://atlantis.sci.utah.edu/mod_visus?dataset=david_subsampled&cached=1&action=boxquery&box=6144+11775+49920+66175&compression=zip&field=data&time=0&toh=18\");\n"
      ],
      "text/plain": [
       "<IPython.core.display.Javascript object>"
      ]
     },
     "metadata": {},
     "output_type": "display_data"
    },
    {
     "data": {
      "application/javascript": [
       "console.log(\"[124000][INFO][openvisuspy.backend_py:168:returnBoxQueryData] got data 0/[18, 20, 22] timestep=0 field=data H=-1 data.shape=(127, 44, 3) data.dtype=uint8 logic_box=[[6144, 49920], [11776, 66176]] m=0 M=241 ms=49\");\n"
      ],
      "text/plain": [
       "<IPython.core.display.Javascript object>"
      ]
     },
     "metadata": {},
     "output_type": "display_data"
    },
    {
     "data": {
      "application/javascript": [
       "console.log(\"[124000][INFO][openvisuspy.slice:190:renderResultIfNeeded] Slice[3]::rendering result data.shape=(127, 44, 3) data.dtype=uint8 logic_box=[[6144, 49920], [11776, 66176]]\");\n"
      ],
      "text/plain": [
       "<IPython.core.display.Javascript object>"
      ]
     },
     "metadata": {},
     "output_type": "display_data"
    },
    {
     "data": {
      "application/javascript": [
       "console.log(\"[124000][INFO][openvisuspy.backend_py:308:executeBoxQuery] [200] http://atlantis.sci.utah.edu/mod_visus?dataset=david_subsampled&cached=1&action=boxquery&box=6144+11775+49920+66175&compression=zip&field=data&time=0&toh=20\");\n"
      ],
      "text/plain": [
       "<IPython.core.display.Javascript object>"
      ]
     },
     "metadata": {},
     "output_type": "display_data"
    },
    {
     "data": {
      "application/javascript": [
       "console.log(\"[124000][INFO][openvisuspy.backend_py:168:returnBoxQueryData] got data 1/[18, 20, 22] timestep=0 field=data H=18 data.shape=(254, 88, 3) data.dtype=uint8 logic_box=[[6144, 49920], [11776, 66176]] m=0 M=241 ms=106\");\n"
      ],
      "text/plain": [
       "<IPython.core.display.Javascript object>"
      ]
     },
     "metadata": {},
     "output_type": "display_data"
    },
    {
     "data": {
      "application/javascript": [
       "console.log(\"[124000][INFO][openvisuspy.slice:190:renderResultIfNeeded] Slice[3]::rendering result data.shape=(254, 88, 3) data.dtype=uint8 logic_box=[[6144, 49920], [11776, 66176]]\");\n"
      ],
      "text/plain": [
       "<IPython.core.display.Javascript object>"
      ]
     },
     "metadata": {},
     "output_type": "display_data"
    },
    {
     "data": {
      "application/javascript": [
       "console.log(\"[124000][INFO][openvisuspy.backend_py:308:executeBoxQuery] [200] http://atlantis.sci.utah.edu/mod_visus?dataset=david_subsampled&cached=1&action=boxquery&box=6144+11775+49920+66175&compression=zip&field=data&time=0&toh=22\");\n"
      ],
      "text/plain": [
       "<IPython.core.display.Javascript object>"
      ]
     },
     "metadata": {},
     "output_type": "display_data"
    },
    {
     "data": {
      "application/javascript": [
       "console.log(\"[124000][INFO][openvisuspy.backend_py:168:returnBoxQueryData] got data 2/[18, 20, 22] timestep=0 field=data H=20 data.shape=(508, 176, 3) data.dtype=uint8 logic_box=[[6144, 49920], [11776, 66176]] m=0 M=241 ms=214\");\n"
      ],
      "text/plain": [
       "<IPython.core.display.Javascript object>"
      ]
     },
     "metadata": {},
     "output_type": "display_data"
    },
    {
     "data": {
      "application/javascript": [
       "console.log(\"[124000][INFO][openvisuspy.backend_py:82:printStatistics] Stats::printStatistics enlapsed=0.22392678260803223 seconds\");\n"
      ],
      "text/plain": [
       "<IPython.core.display.Javascript object>"
      ]
     },
     "metadata": {},
     "output_type": "display_data"
    },
    {
     "data": {
      "application/javascript": [
       "console.log(\"[124000][INFO][openvisuspy.slice:190:renderResultIfNeeded] Slice[3]::rendering result data.shape=(508, 176, 3) data.dtype=uint8 logic_box=[[6144, 49920], [11776, 66176]]\");\n"
      ],
      "text/plain": [
       "<IPython.core.display.Javascript object>"
      ]
     },
     "metadata": {},
     "output_type": "display_data"
    },
    {
     "data": {
      "application/javascript": [
       "console.log(\"[124001][INFO][openvisuspy.slice:209:pushJobIfNeeded] pushing new job\");\n"
      ],
      "text/plain": [
       "<IPython.core.display.Javascript object>"
      ]
     },
     "metadata": {},
     "output_type": "display_data"
    },
    {
     "data": {
      "application/javascript": [
       "console.log(\"[124001][INFO][openvisuspy.backend_py:145:pushJob] pushed new job <openvisuspy.backend_py.Dataset object at 0x000001FA95D0DD30>\");\n"
      ],
      "text/plain": [
       "<IPython.core.display.Javascript object>"
      ]
     },
     "metadata": {},
     "output_type": "display_data"
    },
    {
     "data": {
      "application/javascript": [
       "console.log(\"[124001][INFO][openvisuspy.backend_py:74:createBoxQuery] begin timestep=0 field=data logic_box=[[7799.235877082059, 47667.1799629859], [14608.828069583198, 67128.277649976]] num_refinements=3 max_pixels=103170 endh=32\");\n"
      ],
      "text/plain": [
       "<IPython.core.display.Javascript object>"
      ]
     },
     "metadata": {},
     "output_type": "display_data"
    },
    {
     "data": {
      "application/javascript": [
       "console.log(\"[124001][INFO][openvisuspy.backend_py:109:createBoxQuery] Guess resolution endh=21 original_box=([7799, 47667], [14609, 67129]) aligned_box=([7776, 47616], [14592, 67072]) delta=[32, 64, 1] num_pixels=[213, 304] tot_pixels=64,752 max_pixels=103,170 end=21\");\n"
      ],
      "text/plain": [
       "<IPython.core.display.Javascript object>"
      ]
     },
     "metadata": {},
     "output_type": "display_data"
    },
    {
     "data": {
      "application/javascript": [
       "console.log(\"[124001][INFO][openvisuspy.backend_py:138:beginBoxQuery] beginBoxQuery timestep=0 field=data logic_box=[[7680, 47616], [14592, 67072]] end_resolutions=[17, 19, 21]\");\n"
      ],
      "text/plain": [
       "<IPython.core.display.Javascript object>"
      ]
     },
     "metadata": {},
     "output_type": "display_data"
    },
    {
     "data": {
      "application/javascript": [
       "console.log(\"[124001][INFO][openvisuspy.slice:209:pushJobIfNeeded] pushing new job\");\n"
      ],
      "text/plain": [
       "<IPython.core.display.Javascript object>"
      ]
     },
     "metadata": {},
     "output_type": "display_data"
    },
    {
     "data": {
      "application/javascript": [
       "console.log(\"[124001][INFO][openvisuspy.backend_py:145:pushJob] pushed new job <openvisuspy.backend_py.Dataset object at 0x000001FA95D0DD30>\");\n"
      ],
      "text/plain": [
       "<IPython.core.display.Javascript object>"
      ]
     },
     "metadata": {},
     "output_type": "display_data"
    },
    {
     "data": {
      "application/javascript": [
       "console.log(\"[124001][INFO][openvisuspy.slice:209:pushJobIfNeeded] pushing new job\");\n"
      ],
      "text/plain": [
       "<IPython.core.display.Javascript object>"
      ]
     },
     "metadata": {},
     "output_type": "display_data"
    },
    {
     "data": {
      "application/javascript": [
       "console.log(\"[124001][INFO][openvisuspy.backend_py:145:pushJob] pushed new job <openvisuspy.backend_py.Dataset object at 0x000001FA95D0DD30>\");\n"
      ],
      "text/plain": [
       "<IPython.core.display.Javascript object>"
      ]
     },
     "metadata": {},
     "output_type": "display_data"
    },
    {
     "data": {
      "application/javascript": [
       "console.log(\"[124001][INFO][openvisuspy.backend_py:82:printStatistics] Stats::printStatistics enlapsed=0.0407717227935791 seconds\");\n"
      ],
      "text/plain": [
       "<IPython.core.display.Javascript object>"
      ]
     },
     "metadata": {},
     "output_type": "display_data"
    },
    {
     "data": {
      "application/javascript": [
       "console.log(\"[124001][INFO][openvisuspy.slice:209:pushJobIfNeeded] pushing new job\");\n"
      ],
      "text/plain": [
       "<IPython.core.display.Javascript object>"
      ]
     },
     "metadata": {},
     "output_type": "display_data"
    },
    {
     "data": {
      "application/javascript": [
       "console.log(\"[124001][INFO][openvisuspy.backend_py:145:pushJob] pushed new job <openvisuspy.backend_py.Dataset object at 0x000001FA95D0DD30>\");\n"
      ],
      "text/plain": [
       "<IPython.core.display.Javascript object>"
      ]
     },
     "metadata": {},
     "output_type": "display_data"
    },
    {
     "data": {
      "application/javascript": [
       "console.log(\"[124001][INFO][openvisuspy.backend_py:74:createBoxQuery] begin timestep=0 field=data logic_box=[[7440.836288003051, 48348.139182236024], [14250.42848050419, 67809.23686922614]] num_refinements=3 max_pixels=103170 endh=32\");\n"
      ],
      "text/plain": [
       "<IPython.core.display.Javascript object>"
      ]
     },
     "metadata": {},
     "output_type": "display_data"
    },
    {
     "data": {
      "application/javascript": [
       "console.log(\"[124001][INFO][openvisuspy.backend_py:109:createBoxQuery] Guess resolution endh=21 original_box=([7440, 48348], [14251, 67810]) aligned_box=([7424, 48320], [14240, 67776]) delta=[32, 64, 1] num_pixels=[213, 304] tot_pixels=64,752 max_pixels=103,170 end=21\");\n"
      ],
      "text/plain": [
       "<IPython.core.display.Javascript object>"
      ]
     },
     "metadata": {},
     "output_type": "display_data"
    },
    {
     "data": {
      "application/javascript": [
       "console.log(\"[124001][INFO][openvisuspy.backend_py:138:beginBoxQuery] beginBoxQuery timestep=0 field=data logic_box=[[7424, 48128], [14208, 67584]] end_resolutions=[17, 19, 21]\");\n"
      ],
      "text/plain": [
       "<IPython.core.display.Javascript object>"
      ]
     },
     "metadata": {},
     "output_type": "display_data"
    },
    {
     "data": {
      "application/javascript": [
       "console.log(\"[124001][INFO][openvisuspy.backend_py:308:executeBoxQuery] [200] http://atlantis.sci.utah.edu/mod_visus?dataset=david_subsampled&cached=1&action=boxquery&box=7424+14207+48128+67583&compression=zip&field=data&time=0&toh=17\");\n"
      ],
      "text/plain": [
       "<IPython.core.display.Javascript object>"
      ]
     },
     "metadata": {},
     "output_type": "display_data"
    },
    {
     "data": {
      "application/javascript": [
       "console.log(\"[124001][INFO][openvisuspy.backend_py:168:returnBoxQueryData] got data 0/[17, 19, 21] timestep=0 field=data H=-1 data.shape=(76, 53, 3) data.dtype=uint8 logic_box=[[7424, 48128], [14208, 67584]] m=0 M=239 ms=42\");\n"
      ],
      "text/plain": [
       "<IPython.core.display.Javascript object>"
      ]
     },
     "metadata": {},
     "output_type": "display_data"
    },
    {
     "data": {
      "application/javascript": [
       "console.log(\"[124001][INFO][openvisuspy.slice:190:renderResultIfNeeded] Slice[4]::rendering result data.shape=(76, 53, 3) data.dtype=uint8 logic_box=[[7424, 48128], [14208, 67584]]\");\n"
      ],
      "text/plain": [
       "<IPython.core.display.Javascript object>"
      ]
     },
     "metadata": {},
     "output_type": "display_data"
    },
    {
     "data": {
      "application/javascript": [
       "console.log(\"[124001][INFO][openvisuspy.backend_py:308:executeBoxQuery] [200] http://atlantis.sci.utah.edu/mod_visus?dataset=david_subsampled&cached=1&action=boxquery&box=7424+14207+48128+67583&compression=zip&field=data&time=0&toh=19\");\n"
      ],
      "text/plain": [
       "<IPython.core.display.Javascript object>"
      ]
     },
     "metadata": {},
     "output_type": "display_data"
    },
    {
     "data": {
      "application/javascript": [
       "console.log(\"[124001][INFO][openvisuspy.backend_py:168:returnBoxQueryData] got data 1/[17, 19, 21] timestep=0 field=data H=17 data.shape=(152, 106, 3) data.dtype=uint8 logic_box=[[7424, 48128], [14208, 67584]] m=0 M=240 ms=104\");\n"
      ],
      "text/plain": [
       "<IPython.core.display.Javascript object>"
      ]
     },
     "metadata": {},
     "output_type": "display_data"
    },
    {
     "data": {
      "application/javascript": [
       "console.log(\"[124001][INFO][openvisuspy.slice:190:renderResultIfNeeded] Slice[4]::rendering result data.shape=(152, 106, 3) data.dtype=uint8 logic_box=[[7424, 48128], [14208, 67584]]\");\n"
      ],
      "text/plain": [
       "<IPython.core.display.Javascript object>"
      ]
     },
     "metadata": {},
     "output_type": "display_data"
    },
    {
     "data": {
      "application/javascript": [
       "console.log(\"[124001][INFO][openvisuspy.backend_py:308:executeBoxQuery] [200] http://atlantis.sci.utah.edu/mod_visus?dataset=david_subsampled&cached=1&action=boxquery&box=7424+14207+48128+67583&compression=zip&field=data&time=0&toh=21\");\n"
      ],
      "text/plain": [
       "<IPython.core.display.Javascript object>"
      ]
     },
     "metadata": {},
     "output_type": "display_data"
    },
    {
     "data": {
      "application/javascript": [
       "console.log(\"[124001][INFO][openvisuspy.backend_py:168:returnBoxQueryData] got data 2/[17, 19, 21] timestep=0 field=data H=19 data.shape=(304, 212, 3) data.dtype=uint8 logic_box=[[7424, 48128], [14208, 67584]] m=0 M=241 ms=187\");\n"
      ],
      "text/plain": [
       "<IPython.core.display.Javascript object>"
      ]
     },
     "metadata": {},
     "output_type": "display_data"
    },
    {
     "data": {
      "application/javascript": [
       "console.log(\"[124001][INFO][openvisuspy.backend_py:82:printStatistics] Stats::printStatistics enlapsed=0.1949634552001953 seconds\");\n"
      ],
      "text/plain": [
       "<IPython.core.display.Javascript object>"
      ]
     },
     "metadata": {},
     "output_type": "display_data"
    },
    {
     "data": {
      "application/javascript": [
       "console.log(\"[124001][INFO][openvisuspy.slice:190:renderResultIfNeeded] Slice[4]::rendering result data.shape=(304, 212, 3) data.dtype=uint8 logic_box=[[7424, 48128], [14208, 67584]]\");\n"
      ],
      "text/plain": [
       "<IPython.core.display.Javascript object>"
      ]
     },
     "metadata": {},
     "output_type": "display_data"
    },
    {
     "data": {
      "application/javascript": [
       "console.log(\"[124002][INFO][openvisuspy.slice:209:pushJobIfNeeded] pushing new job\");\n"
      ],
      "text/plain": [
       "<IPython.core.display.Javascript object>"
      ]
     },
     "metadata": {},
     "output_type": "display_data"
    },
    {
     "data": {
      "application/javascript": [
       "console.log(\"[124002][INFO][openvisuspy.backend_py:145:pushJob] pushed new job <openvisuspy.backend_py.Dataset object at 0x000001FA95D0DD30>\");\n"
      ],
      "text/plain": [
       "<IPython.core.display.Javascript object>"
      ]
     },
     "metadata": {},
     "output_type": "display_data"
    },
    {
     "data": {
      "application/javascript": [
       "console.log(\"[124002][INFO][openvisuspy.backend_py:74:createBoxQuery] begin timestep=0 field=data logic_box=[[6724.037109845036, 50211.81704544686], [13533.629302346175, 69672.91473243698]] num_refinements=3 max_pixels=103170 endh=32\");\n"
      ],
      "text/plain": [
       "<IPython.core.display.Javascript object>"
      ]
     },
     "metadata": {},
     "output_type": "display_data"
    },
    {
     "data": {
      "application/javascript": [
       "console.log(\"[124002][INFO][openvisuspy.backend_py:109:createBoxQuery] Guess resolution endh=21 original_box=([6724, 50211], [13534, 69673]) aligned_box=([6720, 50176], [13504, 69632]) delta=[32, 64, 1] num_pixels=[212, 304] tot_pixels=64,448 max_pixels=103,170 end=21\");\n"
      ],
      "text/plain": [
       "<IPython.core.display.Javascript object>"
      ]
     },
     "metadata": {},
     "output_type": "display_data"
    },
    {
     "data": {
      "application/javascript": [
       "console.log(\"[124002][INFO][openvisuspy.backend_py:138:beginBoxQuery] beginBoxQuery timestep=0 field=data logic_box=[[6656, 50176], [13440, 69632]] end_resolutions=[17, 19, 21]\");\n"
      ],
      "text/plain": [
       "<IPython.core.display.Javascript object>"
      ]
     },
     "metadata": {},
     "output_type": "display_data"
    },
    {
     "data": {
      "application/javascript": [
       "console.log(\"[124002][INFO][openvisuspy.slice:209:pushJobIfNeeded] pushing new job\");\n"
      ],
      "text/plain": [
       "<IPython.core.display.Javascript object>"
      ]
     },
     "metadata": {},
     "output_type": "display_data"
    },
    {
     "data": {
      "application/javascript": [
       "console.log(\"[124002][INFO][openvisuspy.backend_py:145:pushJob] pushed new job <openvisuspy.backend_py.Dataset object at 0x000001FA95D0DD30>\");\n"
      ],
      "text/plain": [
       "<IPython.core.display.Javascript object>"
      ]
     },
     "metadata": {},
     "output_type": "display_data"
    },
    {
     "data": {
      "application/javascript": [
       "console.log(\"[124002][INFO][openvisuspy.backend_py:82:printStatistics] Stats::printStatistics enlapsed=0.035523176193237305 seconds\");\n"
      ],
      "text/plain": [
       "<IPython.core.display.Javascript object>"
      ]
     },
     "metadata": {},
     "output_type": "display_data"
    },
    {
     "data": {
      "application/javascript": [
       "console.log(\"[124002][INFO][openvisuspy.slice:209:pushJobIfNeeded] pushing new job\");\n"
      ],
      "text/plain": [
       "<IPython.core.display.Javascript object>"
      ]
     },
     "metadata": {},
     "output_type": "display_data"
    },
    {
     "data": {
      "application/javascript": [
       "console.log(\"[124002][INFO][openvisuspy.backend_py:145:pushJob] pushed new job <openvisuspy.backend_py.Dataset object at 0x000001FA95D0DD30>\");\n"
      ],
      "text/plain": [
       "<IPython.core.display.Javascript object>"
      ]
     },
     "metadata": {},
     "output_type": "display_data"
    },
    {
     "data": {
      "application/javascript": [
       "console.log(\"[124002][INFO][openvisuspy.backend_py:74:createBoxQuery] begin timestep=0 field=data logic_box=[[6508.997356397632, 51179.49593596019], [13318.58954889877, 70640.59362295034]] num_refinements=3 max_pixels=103170 endh=32\");\n"
      ],
      "text/plain": [
       "<IPython.core.display.Javascript object>"
      ]
     },
     "metadata": {},
     "output_type": "display_data"
    },
    {
     "data": {
      "application/javascript": [
       "console.log(\"[124002][INFO][openvisuspy.backend_py:109:createBoxQuery] Guess resolution endh=21 original_box=([6508, 51179], [13319, 70416]) aligned_box=([6496, 51136], [13312, 70400]) delta=[32, 64, 1] num_pixels=[213, 301] tot_pixels=64,113 max_pixels=103,170 end=21\");\n"
      ],
      "text/plain": [
       "<IPython.core.display.Javascript object>"
      ]
     },
     "metadata": {},
     "output_type": "display_data"
    },
    {
     "data": {
      "application/javascript": [
       "console.log(\"[124002][INFO][openvisuspy.backend_py:138:beginBoxQuery] beginBoxQuery timestep=0 field=data logic_box=[[6400, 50944], [13312, 70400]] end_resolutions=[17, 19, 21]\");\n"
      ],
      "text/plain": [
       "<IPython.core.display.Javascript object>"
      ]
     },
     "metadata": {},
     "output_type": "display_data"
    },
    {
     "data": {
      "application/javascript": [
       "console.log(\"[124002][INFO][openvisuspy.slice:209:pushJobIfNeeded] pushing new job\");\n"
      ],
      "text/plain": [
       "<IPython.core.display.Javascript object>"
      ]
     },
     "metadata": {},
     "output_type": "display_data"
    },
    {
     "data": {
      "application/javascript": [
       "console.log(\"[124002][INFO][openvisuspy.backend_py:145:pushJob] pushed new job <openvisuspy.backend_py.Dataset object at 0x000001FA95D0DD30>\");\n"
      ],
      "text/plain": [
       "<IPython.core.display.Javascript object>"
      ]
     },
     "metadata": {},
     "output_type": "display_data"
    },
    {
     "data": {
      "application/javascript": [
       "console.log(\"[124002][INFO][openvisuspy.backend_py:82:printStatistics] Stats::printStatistics enlapsed=0.0540010929107666 seconds\");\n"
      ],
      "text/plain": [
       "<IPython.core.display.Javascript object>"
      ]
     },
     "metadata": {},
     "output_type": "display_data"
    },
    {
     "data": {
      "application/javascript": [
       "console.log(\"[124002][INFO][openvisuspy.backend_py:74:createBoxQuery] begin timestep=0 field=data logic_box=[[6508.997356397632, 51179.495935960185], [13318.589548898772, 70640.59362295034]] num_refinements=3 max_pixels=103170 endh=32\");\n"
      ],
      "text/plain": [
       "<IPython.core.display.Javascript object>"
      ]
     },
     "metadata": {},
     "output_type": "display_data"
    },
    {
     "data": {
      "application/javascript": [
       "console.log(\"[124002][INFO][openvisuspy.backend_py:109:createBoxQuery] Guess resolution endh=21 original_box=([6508, 51179], [13319, 70416]) aligned_box=([6496, 51136], [13312, 70400]) delta=[32, 64, 1] num_pixels=[213, 301] tot_pixels=64,113 max_pixels=103,170 end=21\");\n"
      ],
      "text/plain": [
       "<IPython.core.display.Javascript object>"
      ]
     },
     "metadata": {},
     "output_type": "display_data"
    },
    {
     "data": {
      "application/javascript": [
       "console.log(\"[124002][INFO][openvisuspy.backend_py:138:beginBoxQuery] beginBoxQuery timestep=0 field=data logic_box=[[6400, 50944], [13312, 70400]] end_resolutions=[17, 19, 21]\");\n"
      ],
      "text/plain": [
       "<IPython.core.display.Javascript object>"
      ]
     },
     "metadata": {},
     "output_type": "display_data"
    },
    {
     "data": {
      "application/javascript": [
       "console.log(\"[124002][INFO][openvisuspy.backend_py:308:executeBoxQuery] [200] http://atlantis.sci.utah.edu/mod_visus?dataset=david_subsampled&cached=1&action=boxquery&box=6400+13311+50944+70399&compression=zip&field=data&time=0&toh=17\");\n"
      ],
      "text/plain": [
       "<IPython.core.display.Javascript object>"
      ]
     },
     "metadata": {},
     "output_type": "display_data"
    },
    {
     "data": {
      "application/javascript": [
       "console.log(\"[124002][INFO][openvisuspy.backend_py:168:returnBoxQueryData] got data 0/[17, 19, 21] timestep=0 field=data H=-1 data.shape=(76, 54, 3) data.dtype=uint8 logic_box=[[6400, 50944], [13312, 70400]] m=0 M=241 ms=34\");\n"
      ],
      "text/plain": [
       "<IPython.core.display.Javascript object>"
      ]
     },
     "metadata": {},
     "output_type": "display_data"
    },
    {
     "data": {
      "application/javascript": [
       "console.log(\"[124002][INFO][openvisuspy.slice:190:renderResultIfNeeded] Slice[4]::rendering result data.shape=(76, 54, 3) data.dtype=uint8 logic_box=[[6400, 50944], [13312, 70400]]\");\n"
      ],
      "text/plain": [
       "<IPython.core.display.Javascript object>"
      ]
     },
     "metadata": {},
     "output_type": "display_data"
    },
    {
     "data": {
      "application/javascript": [
       "console.log(\"[124002][INFO][openvisuspy.backend_py:308:executeBoxQuery] [200] http://atlantis.sci.utah.edu/mod_visus?dataset=david_subsampled&cached=1&action=boxquery&box=6400+13311+50944+70399&compression=zip&field=data&time=0&toh=19\");\n"
      ],
      "text/plain": [
       "<IPython.core.display.Javascript object>"
      ]
     },
     "metadata": {},
     "output_type": "display_data"
    },
    {
     "data": {
      "application/javascript": [
       "console.log(\"[124002][INFO][openvisuspy.backend_py:168:returnBoxQueryData] got data 1/[17, 19, 21] timestep=0 field=data H=17 data.shape=(152, 108, 3) data.dtype=uint8 logic_box=[[6400, 50944], [13312, 70400]] m=0 M=241 ms=90\");\n"
      ],
      "text/plain": [
       "<IPython.core.display.Javascript object>"
      ]
     },
     "metadata": {},
     "output_type": "display_data"
    },
    {
     "data": {
      "application/javascript": [
       "console.log(\"[124002][INFO][openvisuspy.slice:190:renderResultIfNeeded] Slice[4]::rendering result data.shape=(152, 108, 3) data.dtype=uint8 logic_box=[[6400, 50944], [13312, 70400]]\");\n"
      ],
      "text/plain": [
       "<IPython.core.display.Javascript object>"
      ]
     },
     "metadata": {},
     "output_type": "display_data"
    },
    {
     "data": {
      "application/javascript": [
       "console.log(\"[124002][INFO][openvisuspy.slice:209:pushJobIfNeeded] pushing new job\");\n"
      ],
      "text/plain": [
       "<IPython.core.display.Javascript object>"
      ]
     },
     "metadata": {},
     "output_type": "display_data"
    },
    {
     "data": {
      "application/javascript": [
       "console.log(\"[124002][INFO][openvisuspy.backend_py:145:pushJob] pushed new job <openvisuspy.backend_py.Dataset object at 0x000001FA95D0DD30>\");\n"
      ],
      "text/plain": [
       "<IPython.core.display.Javascript object>"
      ]
     },
     "metadata": {},
     "output_type": "display_data"
    },
    {
     "data": {
      "application/javascript": [
       "console.log(\"[124002][INFO][openvisuspy.backend_py:82:printStatistics] Stats::printStatistics enlapsed=0.17499899864196777 seconds\");\n"
      ],
      "text/plain": [
       "<IPython.core.display.Javascript object>"
      ]
     },
     "metadata": {},
     "output_type": "display_data"
    },
    {
     "data": {
      "application/javascript": [
       "console.log(\"[124002][INFO][openvisuspy.slice:209:pushJobIfNeeded] pushing new job\");\n"
      ],
      "text/plain": [
       "<IPython.core.display.Javascript object>"
      ]
     },
     "metadata": {},
     "output_type": "display_data"
    },
    {
     "data": {
      "application/javascript": [
       "console.log(\"[124002][INFO][openvisuspy.backend_py:145:pushJob] pushed new job <openvisuspy.backend_py.Dataset object at 0x000001FA95D0DD30>\");\n"
      ],
      "text/plain": [
       "<IPython.core.display.Javascript object>"
      ]
     },
     "metadata": {},
     "output_type": "display_data"
    },
    {
     "data": {
      "application/javascript": [
       "console.log(\"[124002][INFO][openvisuspy.backend_py:74:createBoxQuery] begin timestep=0 field=data logic_box=[[7751.604820582063, 55404.411091907954], [12480.488287596745, 68919.06226342889]] num_refinements=3 max_pixels=103170 endh=32\");\n"
      ],
      "text/plain": [
       "<IPython.core.display.Javascript object>"
      ]
     },
     "metadata": {},
     "output_type": "display_data"
    },
    {
     "data": {
      "application/javascript": [
       "console.log(\"[124002][INFO][openvisuspy.backend_py:109:createBoxQuery] Guess resolution endh=22 original_box=([7751, 55404], [12481, 68920]) aligned_box=([7744, 55392], [12480, 68896]) delta=[32, 32, 1] num_pixels=[148, 422] tot_pixels=62,456 max_pixels=103,170 end=22\");\n"
      ],
      "text/plain": [
       "<IPython.core.display.Javascript object>"
      ]
     },
     "metadata": {},
     "output_type": "display_data"
    },
    {
     "data": {
      "application/javascript": [
       "console.log(\"[124002][INFO][openvisuspy.backend_py:138:beginBoxQuery] beginBoxQuery timestep=0 field=data logic_box=[[7680, 55296], [12416, 68864]] end_resolutions=[18, 20, 22]\");\n"
      ],
      "text/plain": [
       "<IPython.core.display.Javascript object>"
      ]
     },
     "metadata": {},
     "output_type": "display_data"
    },
    {
     "data": {
      "application/javascript": [
       "console.log(\"[124002][INFO][openvisuspy.slice:209:pushJobIfNeeded] pushing new job\");\n"
      ],
      "text/plain": [
       "<IPython.core.display.Javascript object>"
      ]
     },
     "metadata": {},
     "output_type": "display_data"
    },
    {
     "data": {
      "application/javascript": [
       "console.log(\"[124002][INFO][openvisuspy.backend_py:145:pushJob] pushed new job <openvisuspy.backend_py.Dataset object at 0x000001FA95D0DD30>\");\n"
      ],
      "text/plain": [
       "<IPython.core.display.Javascript object>"
      ]
     },
     "metadata": {},
     "output_type": "display_data"
    },
    {
     "data": {
      "application/javascript": [
       "console.log(\"[124002][INFO][openvisuspy.slice:209:pushJobIfNeeded] pushing new job\");\n"
      ],
      "text/plain": [
       "<IPython.core.display.Javascript object>"
      ]
     },
     "metadata": {},
     "output_type": "display_data"
    },
    {
     "data": {
      "application/javascript": [
       "console.log(\"[124002][INFO][openvisuspy.backend_py:145:pushJob] pushed new job <openvisuspy.backend_py.Dataset object at 0x000001FA95D0DD30>\");\n"
      ],
      "text/plain": [
       "<IPython.core.display.Javascript object>"
      ]
     },
     "metadata": {},
     "output_type": "display_data"
    },
    {
     "data": {
      "application/javascript": [
       "console.log(\"[124002][INFO][openvisuspy.backend_py:82:printStatistics] Stats::printStatistics enlapsed=0.062001705169677734 seconds\");\n"
      ],
      "text/plain": [
       "<IPython.core.display.Javascript object>"
      ]
     },
     "metadata": {},
     "output_type": "display_data"
    },
    {
     "data": {
      "application/javascript": [
       "console.log(\"[124002][INFO][openvisuspy.backend_py:74:createBoxQuery] begin timestep=0 field=data logic_box=[[8614.52667071014, 58352.89845207744], [11898.47352280367, 67738.07287674476]] num_refinements=3 max_pixels=103170 endh=32\");\n"
      ],
      "text/plain": [
       "<IPython.core.display.Javascript object>"
      ]
     },
     "metadata": {},
     "output_type": "display_data"
    },
    {
     "data": {
      "application/javascript": [
       "console.log(\"[124002][INFO][openvisuspy.backend_py:109:createBoxQuery] Guess resolution endh=23 original_box=([8614, 58352], [11899, 67739]) aligned_box=([8608, 58336], [11888, 67712]) delta=[16, 32, 1] num_pixels=[205, 293] tot_pixels=60,065 max_pixels=103,170 end=23\");\n"
      ],
      "text/plain": [
       "<IPython.core.display.Javascript object>"
      ]
     },
     "metadata": {},
     "output_type": "display_data"
    },
    {
     "data": {
      "application/javascript": [
       "console.log(\"[124002][INFO][openvisuspy.backend_py:138:beginBoxQuery] beginBoxQuery timestep=0 field=data logic_box=[[8576, 58240], [11840, 67712]] end_resolutions=[19, 21, 23]\");\n"
      ],
      "text/plain": [
       "<IPython.core.display.Javascript object>"
      ]
     },
     "metadata": {},
     "output_type": "display_data"
    },
    {
     "data": {
      "application/javascript": [
       "console.log(\"[124002][INFO][openvisuspy.backend_py:308:executeBoxQuery] [200] http://atlantis.sci.utah.edu/mod_visus?dataset=david_subsampled&cached=1&action=boxquery&box=8576+11839+58240+67711&compression=zip&field=data&time=0&toh=19\");\n"
      ],
      "text/plain": [
       "<IPython.core.display.Javascript object>"
      ]
     },
     "metadata": {},
     "output_type": "display_data"
    },
    {
     "data": {
      "application/javascript": [
       "console.log(\"[124002][INFO][openvisuspy.backend_py:168:returnBoxQueryData] got data 0/[19, 21, 23] timestep=0 field=data H=-1 data.shape=(74, 51, 3) data.dtype=uint8 logic_box=[[8576, 58240], [11840, 67712]] m=0 M=235 ms=41\");\n"
      ],
      "text/plain": [
       "<IPython.core.display.Javascript object>"
      ]
     },
     "metadata": {},
     "output_type": "display_data"
    },
    {
     "data": {
      "application/javascript": [
       "console.log(\"[124002][INFO][openvisuspy.slice:190:renderResultIfNeeded] Slice[4]::rendering result data.shape=(74, 51, 3) data.dtype=uint8 logic_box=[[8576, 58240], [11840, 67712]]\");\n"
      ],
      "text/plain": [
       "<IPython.core.display.Javascript object>"
      ]
     },
     "metadata": {},
     "output_type": "display_data"
    },
    {
     "data": {
      "application/javascript": [
       "console.log(\"[124002][INFO][openvisuspy.backend_py:308:executeBoxQuery] [200] http://atlantis.sci.utah.edu/mod_visus?dataset=david_subsampled&cached=1&action=boxquery&box=8576+11839+58240+67711&compression=zip&field=data&time=0&toh=21\");\n"
      ],
      "text/plain": [
       "<IPython.core.display.Javascript object>"
      ]
     },
     "metadata": {},
     "output_type": "display_data"
    },
    {
     "data": {
      "application/javascript": [
       "console.log(\"[124002][INFO][openvisuspy.backend_py:168:returnBoxQueryData] got data 1/[19, 21, 23] timestep=0 field=data H=19 data.shape=(148, 102, 3) data.dtype=uint8 logic_box=[[8576, 58240], [11840, 67712]] m=0 M=235 ms=117\");\n"
      ],
      "text/plain": [
       "<IPython.core.display.Javascript object>"
      ]
     },
     "metadata": {},
     "output_type": "display_data"
    },
    {
     "data": {
      "application/javascript": [
       "console.log(\"[124002][INFO][openvisuspy.slice:190:renderResultIfNeeded] Slice[4]::rendering result data.shape=(148, 102, 3) data.dtype=uint8 logic_box=[[8576, 58240], [11840, 67712]]\");\n"
      ],
      "text/plain": [
       "<IPython.core.display.Javascript object>"
      ]
     },
     "metadata": {},
     "output_type": "display_data"
    },
    {
     "data": {
      "application/javascript": [
       "console.log(\"[124002][INFO][openvisuspy.backend_py:308:executeBoxQuery] [200] http://atlantis.sci.utah.edu/mod_visus?dataset=david_subsampled&cached=1&action=boxquery&box=8576+11839+58240+67711&compression=zip&field=data&time=0&toh=23\");\n"
      ],
      "text/plain": [
       "<IPython.core.display.Javascript object>"
      ]
     },
     "metadata": {},
     "output_type": "display_data"
    },
    {
     "data": {
      "application/javascript": [
       "console.log(\"[124002][INFO][openvisuspy.backend_py:168:returnBoxQueryData] got data 2/[19, 21, 23] timestep=0 field=data H=21 data.shape=(296, 204, 3) data.dtype=uint8 logic_box=[[8576, 58240], [11840, 67712]] m=0 M=238 ms=213\");\n"
      ],
      "text/plain": [
       "<IPython.core.display.Javascript object>"
      ]
     },
     "metadata": {},
     "output_type": "display_data"
    },
    {
     "data": {
      "application/javascript": [
       "console.log(\"[124002][INFO][openvisuspy.backend_py:82:printStatistics] Stats::printStatistics enlapsed=0.22076892852783203 seconds\");\n"
      ],
      "text/plain": [
       "<IPython.core.display.Javascript object>"
      ]
     },
     "metadata": {},
     "output_type": "display_data"
    },
    {
     "data": {
      "application/javascript": [
       "console.log(\"[124002][INFO][openvisuspy.slice:190:renderResultIfNeeded] Slice[4]::rendering result data.shape=(296, 204, 3) data.dtype=uint8 logic_box=[[8576, 58240], [11840, 67712]]\");\n"
      ],
      "text/plain": [
       "<IPython.core.display.Javascript object>"
      ]
     },
     "metadata": {},
     "output_type": "display_data"
    },
    {
     "data": {
      "application/javascript": [
       "console.log(\"[124002][INFO][openvisuspy.slice:209:pushJobIfNeeded] pushing new job\");\n"
      ],
      "text/plain": [
       "<IPython.core.display.Javascript object>"
      ]
     },
     "metadata": {},
     "output_type": "display_data"
    },
    {
     "data": {
      "application/javascript": [
       "console.log(\"[124002][INFO][openvisuspy.backend_py:145:pushJob] pushed new job <openvisuspy.backend_py.Dataset object at 0x000001FA95D0DD30>\");\n"
      ],
      "text/plain": [
       "<IPython.core.display.Javascript object>"
      ]
     },
     "metadata": {},
     "output_type": "display_data"
    },
    {
     "data": {
      "application/javascript": [
       "console.log(\"[124002][INFO][openvisuspy.backend_py:74:createBoxQuery] begin timestep=0 field=data logic_box=[[7893.837767930933, 55879.15085966914], [12363.654316613793, 68653.41604879966]] num_refinements=3 max_pixels=103170 endh=32\");\n"
      ],
      "text/plain": [
       "<IPython.core.display.Javascript object>"
      ]
     },
     "metadata": {},
     "output_type": "display_data"
    },
    {
     "data": {
      "application/javascript": [
       "console.log(\"[124002][INFO][openvisuspy.backend_py:109:createBoxQuery] Guess resolution endh=22 original_box=([7893, 55879], [12364, 68654]) aligned_box=([7872, 55872], [12352, 68640]) delta=[32, 32, 1] num_pixels=[140, 399] tot_pixels=55,860 max_pixels=103,170 end=22\");\n"
      ],
      "text/plain": [
       "<IPython.core.display.Javascript object>"
      ]
     },
     "metadata": {},
     "output_type": "display_data"
    },
    {
     "data": {
      "application/javascript": [
       "console.log(\"[124002][INFO][openvisuspy.backend_py:138:beginBoxQuery] beginBoxQuery timestep=0 field=data logic_box=[[7808, 55808], [12288, 68608]] end_resolutions=[18, 20, 22]\");\n"
      ],
      "text/plain": [
       "<IPython.core.display.Javascript object>"
      ]
     },
     "metadata": {},
     "output_type": "display_data"
    },
    {
     "data": {
      "application/javascript": [
       "console.log(\"[124002][INFO][openvisuspy.slice:209:pushJobIfNeeded] pushing new job\");\n"
      ],
      "text/plain": [
       "<IPython.core.display.Javascript object>"
      ]
     },
     "metadata": {},
     "output_type": "display_data"
    },
    {
     "data": {
      "application/javascript": [
       "console.log(\"[124003][INFO][openvisuspy.backend_py:145:pushJob] pushed new job <openvisuspy.backend_py.Dataset object at 0x000001FA95D0DD30>\");\n"
      ],
      "text/plain": [
       "<IPython.core.display.Javascript object>"
      ]
     },
     "metadata": {},
     "output_type": "display_data"
    },
    {
     "data": {
      "application/javascript": [
       "console.log(\"[124003][INFO][openvisuspy.backend_py:82:printStatistics] Stats::printStatistics enlapsed=0.04445314407348633 seconds\");\n"
      ],
      "text/plain": [
       "<IPython.core.display.Javascript object>"
      ]
     },
     "metadata": {},
     "output_type": "display_data"
    },
    {
     "data": {
      "application/javascript": [
       "console.log(\"[124003][INFO][openvisuspy.backend_py:74:createBoxQuery] begin timestep=0 field=data logic_box=[[7437.1764116551385, 54325.129936233156], [12651.962385118473, 69228.43932355208]] num_refinements=3 max_pixels=103170 endh=32\");\n"
      ],
      "text/plain": [
       "<IPython.core.display.Javascript object>"
      ]
     },
     "metadata": {},
     "output_type": "display_data"
    },
    {
     "data": {
      "application/javascript": [
       "console.log(\"[124003][INFO][openvisuspy.backend_py:109:createBoxQuery] Guess resolution endh=22 original_box=([7437, 54325], [12652, 69229]) aligned_box=([7424, 54304], [12640, 69216]) delta=[32, 32, 1] num_pixels=[163, 466] tot_pixels=75,958 max_pixels=103,170 end=22\");\n"
      ],
      "text/plain": [
       "<IPython.core.display.Javascript object>"
      ]
     },
     "metadata": {},
     "output_type": "display_data"
    },
    {
     "data": {
      "application/javascript": [
       "console.log(\"[124003][INFO][openvisuspy.backend_py:138:beginBoxQuery] beginBoxQuery timestep=0 field=data logic_box=[[7424, 54272], [12544, 69120]] end_resolutions=[18, 20, 22]\");\n"
      ],
      "text/plain": [
       "<IPython.core.display.Javascript object>"
      ]
     },
     "metadata": {},
     "output_type": "display_data"
    },
    {
     "data": {
      "application/javascript": [
       "console.log(\"[124003][INFO][openvisuspy.backend_py:308:executeBoxQuery] [200] http://atlantis.sci.utah.edu/mod_visus?dataset=david_subsampled&cached=1&action=boxquery&box=7424+12543+54272+69119&compression=zip&field=data&time=0&toh=18\");\n"
      ],
      "text/plain": [
       "<IPython.core.display.Javascript object>"
      ]
     },
     "metadata": {},
     "output_type": "display_data"
    },
    {
     "data": {
      "application/javascript": [
       "console.log(\"[124003][INFO][openvisuspy.backend_py:168:returnBoxQueryData] got data 0/[18, 20, 22] timestep=0 field=data H=-1 data.shape=(116, 40, 3) data.dtype=uint8 logic_box=[[7424, 54272], [12544, 69120]] m=0 M=236 ms=50\");\n"
      ],
      "text/plain": [
       "<IPython.core.display.Javascript object>"
      ]
     },
     "metadata": {},
     "output_type": "display_data"
    },
    {
     "data": {
      "application/javascript": [
       "console.log(\"[124003][INFO][openvisuspy.slice:190:renderResultIfNeeded] Slice[4]::rendering result data.shape=(116, 40, 3) data.dtype=uint8 logic_box=[[7424, 54272], [12544, 69120]]\");\n"
      ],
      "text/plain": [
       "<IPython.core.display.Javascript object>"
      ]
     },
     "metadata": {},
     "output_type": "display_data"
    },
    {
     "data": {
      "application/javascript": [
       "console.log(\"[124003][INFO][openvisuspy.backend_py:308:executeBoxQuery] [200] http://atlantis.sci.utah.edu/mod_visus?dataset=david_subsampled&cached=1&action=boxquery&box=7424+12543+54272+69119&compression=zip&field=data&time=0&toh=20\");\n"
      ],
      "text/plain": [
       "<IPython.core.display.Javascript object>"
      ]
     },
     "metadata": {},
     "output_type": "display_data"
    },
    {
     "data": {
      "application/javascript": [
       "console.log(\"[124003][INFO][openvisuspy.backend_py:168:returnBoxQueryData] got data 1/[18, 20, 22] timestep=0 field=data H=18 data.shape=(232, 80, 3) data.dtype=uint8 logic_box=[[7424, 54272], [12544, 69120]] m=0 M=237 ms=105\");\n"
      ],
      "text/plain": [
       "<IPython.core.display.Javascript object>"
      ]
     },
     "metadata": {},
     "output_type": "display_data"
    },
    {
     "data": {
      "application/javascript": [
       "console.log(\"[124003][INFO][openvisuspy.slice:190:renderResultIfNeeded] Slice[4]::rendering result data.shape=(232, 80, 3) data.dtype=uint8 logic_box=[[7424, 54272], [12544, 69120]]\");\n"
      ],
      "text/plain": [
       "<IPython.core.display.Javascript object>"
      ]
     },
     "metadata": {},
     "output_type": "display_data"
    },
    {
     "data": {
      "application/javascript": [
       "console.log(\"[124003][INFO][openvisuspy.backend_py:308:executeBoxQuery] [200] http://atlantis.sci.utah.edu/mod_visus?dataset=david_subsampled&cached=1&action=boxquery&box=7424+12543+54272+69119&compression=zip&field=data&time=0&toh=22\");\n"
      ],
      "text/plain": [
       "<IPython.core.display.Javascript object>"
      ]
     },
     "metadata": {},
     "output_type": "display_data"
    },
    {
     "data": {
      "application/javascript": [
       "console.log(\"[124003][INFO][openvisuspy.backend_py:168:returnBoxQueryData] got data 2/[18, 20, 22] timestep=0 field=data H=20 data.shape=(464, 160, 3) data.dtype=uint8 logic_box=[[7424, 54272], [12544, 69120]] m=0 M=239 ms=205\");\n"
      ],
      "text/plain": [
       "<IPython.core.display.Javascript object>"
      ]
     },
     "metadata": {},
     "output_type": "display_data"
    },
    {
     "data": {
      "application/javascript": [
       "console.log(\"[124003][INFO][openvisuspy.backend_py:82:printStatistics] Stats::printStatistics enlapsed=0.21222472190856934 seconds\");\n"
      ],
      "text/plain": [
       "<IPython.core.display.Javascript object>"
      ]
     },
     "metadata": {},
     "output_type": "display_data"
    },
    {
     "data": {
      "application/javascript": [
       "console.log(\"[124003][INFO][openvisuspy.slice:190:renderResultIfNeeded] Slice[4]::rendering result data.shape=(464, 160, 3) data.dtype=uint8 logic_box=[[7424, 54272], [12544, 69120]]\");\n"
      ],
      "text/plain": [
       "<IPython.core.display.Javascript object>"
      ]
     },
     "metadata": {},
     "output_type": "display_data"
    },
    {
     "data": {
      "application/javascript": [
       "console.log(\"[124003][INFO][openvisuspy.slice:209:pushJobIfNeeded] pushing new job\");\n"
      ],
      "text/plain": [
       "<IPython.core.display.Javascript object>"
      ]
     },
     "metadata": {},
     "output_type": "display_data"
    },
    {
     "data": {
      "application/javascript": [
       "console.log(\"[124003][INFO][openvisuspy.backend_py:145:pushJob] pushed new job <openvisuspy.backend_py.Dataset object at 0x000001FA95D0DD30>\");\n"
      ],
      "text/plain": [
       "<IPython.core.display.Javascript object>"
      ]
     },
     "metadata": {},
     "output_type": "display_data"
    },
    {
     "data": {
      "application/javascript": [
       "console.log(\"[124003][INFO][openvisuspy.backend_py:74:createBoxQuery] begin timestep=0 field=data logic_box=[[6415.234862462611, 50019.82757090249], [12089.895022880228, 66237.40897672756]] num_refinements=3 max_pixels=103170 endh=32\");\n"
      ],
      "text/plain": [
       "<IPython.core.display.Javascript object>"
      ]
     },
     "metadata": {},
     "output_type": "display_data"
    },
    {
     "data": {
      "application/javascript": [
       "console.log(\"[124003][INFO][openvisuspy.backend_py:109:createBoxQuery] Guess resolution endh=22 original_box=([6415, 50019], [12090, 66238]) aligned_box=([6400, 50016], [12064, 66208]) delta=[32, 32, 1] num_pixels=[177, 506] tot_pixels=89,562 max_pixels=103,170 end=22\");\n"
      ],
      "text/plain": [
       "<IPython.core.display.Javascript object>"
      ]
     },
     "metadata": {},
     "output_type": "display_data"
    },
    {
     "data": {
      "application/javascript": [
       "console.log(\"[124003][INFO][openvisuspy.backend_py:138:beginBoxQuery] beginBoxQuery timestep=0 field=data logic_box=[[6400, 49920], [12032, 66176]] end_resolutions=[18, 20, 22]\");\n"
      ],
      "text/plain": [
       "<IPython.core.display.Javascript object>"
      ]
     },
     "metadata": {},
     "output_type": "display_data"
    },
    {
     "data": {
      "application/javascript": [
       "console.log(\"[124003][INFO][openvisuspy.slice:209:pushJobIfNeeded] pushing new job\");\n"
      ],
      "text/plain": [
       "<IPython.core.display.Javascript object>"
      ]
     },
     "metadata": {},
     "output_type": "display_data"
    },
    {
     "data": {
      "application/javascript": [
       "console.log(\"[124003][INFO][openvisuspy.backend_py:145:pushJob] pushed new job <openvisuspy.backend_py.Dataset object at 0x000001FA95D0DD30>\");\n"
      ],
      "text/plain": [
       "<IPython.core.display.Javascript object>"
      ]
     },
     "metadata": {},
     "output_type": "display_data"
    },
    {
     "data": {
      "application/javascript": [
       "console.log(\"[124003][INFO][openvisuspy.backend_py:82:printStatistics] Stats::printStatistics enlapsed=0.04500079154968262 seconds\");\n"
      ],
      "text/plain": [
       "<IPython.core.display.Javascript object>"
      ]
     },
     "metadata": {},
     "output_type": "display_data"
    },
    {
     "data": {
      "application/javascript": [
       "console.log(\"[124003][INFO][openvisuspy.slice:209:pushJobIfNeeded] pushing new job\");\n"
      ],
      "text/plain": [
       "<IPython.core.display.Javascript object>"
      ]
     },
     "metadata": {},
     "output_type": "display_data"
    },
    {
     "data": {
      "application/javascript": [
       "console.log(\"[124003][INFO][openvisuspy.backend_py:145:pushJob] pushed new job <openvisuspy.backend_py.Dataset object at 0x000001FA95D0DD30>\");\n"
      ],
      "text/plain": [
       "<IPython.core.display.Javascript object>"
      ]
     },
     "metadata": {},
     "output_type": "display_data"
    },
    {
     "data": {
      "application/javascript": [
       "console.log(\"[124003][INFO][openvisuspy.slice:209:pushJobIfNeeded] pushing new job\");\n"
      ],
      "text/plain": [
       "<IPython.core.display.Javascript object>"
      ]
     },
     "metadata": {},
     "output_type": "display_data"
    },
    {
     "data": {
      "application/javascript": [
       "console.log(\"[124003][INFO][openvisuspy.backend_py:145:pushJob] pushed new job <openvisuspy.backend_py.Dataset object at 0x000001FA95D0DD30>\");\n"
      ],
      "text/plain": [
       "<IPython.core.display.Javascript object>"
      ]
     },
     "metadata": {},
     "output_type": "display_data"
    },
    {
     "data": {
      "application/javascript": [
       "console.log(\"[124003][INFO][openvisuspy.backend_py:74:createBoxQuery] begin timestep=0 field=data logic_box=[[7251.500570313628, 52140.35847295329], [12926.160730731237, 68357.93987877836]] num_refinements=3 max_pixels=103170 endh=32\");\n"
      ],
      "text/plain": [
       "<IPython.core.display.Javascript object>"
      ]
     },
     "metadata": {},
     "output_type": "display_data"
    },
    {
     "data": {
      "application/javascript": [
       "console.log(\"[124003][INFO][openvisuspy.backend_py:109:createBoxQuery] Guess resolution endh=22 original_box=([7251, 52140], [12927, 68358]) aligned_box=([7232, 52128], [12896, 68352]) delta=[32, 32, 1] num_pixels=[177, 507] tot_pixels=89,739 max_pixels=103,170 end=22\");\n"
      ],
      "text/plain": [
       "<IPython.core.display.Javascript object>"
      ]
     },
     "metadata": {},
     "output_type": "display_data"
    },
    {
     "data": {
      "application/javascript": [
       "console.log(\"[124003][INFO][openvisuspy.backend_py:138:beginBoxQuery] beginBoxQuery timestep=0 field=data logic_box=[[7168, 52096], [12800, 68352]] end_resolutions=[18, 20, 22]\");\n"
      ],
      "text/plain": [
       "<IPython.core.display.Javascript object>"
      ]
     },
     "metadata": {},
     "output_type": "display_data"
    },
    {
     "data": {
      "application/javascript": [
       "console.log(\"[124003][INFO][openvisuspy.slice:209:pushJobIfNeeded] pushing new job\");\n"
      ],
      "text/plain": [
       "<IPython.core.display.Javascript object>"
      ]
     },
     "metadata": {},
     "output_type": "display_data"
    },
    {
     "data": {
      "application/javascript": [
       "console.log(\"[124003][INFO][openvisuspy.backend_py:145:pushJob] pushed new job <openvisuspy.backend_py.Dataset object at 0x000001FA95D0DD30>\");\n"
      ],
      "text/plain": [
       "<IPython.core.display.Javascript object>"
      ]
     },
     "metadata": {},
     "output_type": "display_data"
    },
    {
     "data": {
      "application/javascript": [
       "console.log(\"[124003][INFO][openvisuspy.backend_py:82:printStatistics] Stats::printStatistics enlapsed=0.038999080657958984 seconds\");\n"
      ],
      "text/plain": [
       "<IPython.core.display.Javascript object>"
      ]
     },
     "metadata": {},
     "output_type": "display_data"
    },
    {
     "data": {
      "application/javascript": [
       "console.log(\"[124003][INFO][openvisuspy.slice:209:pushJobIfNeeded] pushing new job\");\n"
      ],
      "text/plain": [
       "<IPython.core.display.Javascript object>"
      ]
     },
     "metadata": {},
     "output_type": "display_data"
    },
    {
     "data": {
      "application/javascript": [
       "console.log(\"[124003][INFO][openvisuspy.backend_py:145:pushJob] pushed new job <openvisuspy.backend_py.Dataset object at 0x000001FA95D0DD30>\");\n"
      ],
      "text/plain": [
       "<IPython.core.display.Javascript object>"
      ]
     },
     "metadata": {},
     "output_type": "display_data"
    },
    {
     "data": {
      "application/javascript": [
       "console.log(\"[124003][INFO][openvisuspy.backend_py:74:createBoxQuery] begin timestep=0 field=data logic_box=[[7341.100467583379, 52618.224591725295], [13015.760628000988, 68835.80599755039]] num_refinements=3 max_pixels=103170 endh=32\");\n"
      ],
      "text/plain": [
       "<IPython.core.display.Javascript object>"
      ]
     },
     "metadata": {},
     "output_type": "display_data"
    },
    {
     "data": {
      "application/javascript": [
       "console.log(\"[124003][INFO][openvisuspy.backend_py:109:createBoxQuery] Guess resolution endh=22 original_box=([7341, 52618], [13016, 68836]) aligned_box=([7328, 52608], [12992, 68832]) delta=[32, 32, 1] num_pixels=[177, 507] tot_pixels=89,739 max_pixels=103,170 end=22\");\n"
      ],
      "text/plain": [
       "<IPython.core.display.Javascript object>"
      ]
     },
     "metadata": {},
     "output_type": "display_data"
    },
    {
     "data": {
      "application/javascript": [
       "console.log(\"[124003][INFO][openvisuspy.backend_py:138:beginBoxQuery] beginBoxQuery timestep=0 field=data logic_box=[[7296, 52608], [12928, 68736]] end_resolutions=[18, 20, 22]\");\n"
      ],
      "text/plain": [
       "<IPython.core.display.Javascript object>"
      ]
     },
     "metadata": {},
     "output_type": "display_data"
    },
    {
     "data": {
      "application/javascript": [
       "console.log(\"[124003][INFO][openvisuspy.backend_py:308:executeBoxQuery] [200] http://atlantis.sci.utah.edu/mod_visus?dataset=david_subsampled&cached=1&action=boxquery&box=7296+12927+52608+68735&compression=zip&field=data&time=0&toh=18\");\n"
      ],
      "text/plain": [
       "<IPython.core.display.Javascript object>"
      ]
     },
     "metadata": {},
     "output_type": "display_data"
    },
    {
     "data": {
      "application/javascript": [
       "console.log(\"[124003][INFO][openvisuspy.backend_py:168:returnBoxQueryData] got data 0/[18, 20, 22] timestep=0 field=data H=-1 data.shape=(126, 44, 3) data.dtype=uint8 logic_box=[[7296, 52608], [12928, 68736]] m=0 M=236 ms=36\");\n"
      ],
      "text/plain": [
       "<IPython.core.display.Javascript object>"
      ]
     },
     "metadata": {},
     "output_type": "display_data"
    },
    {
     "data": {
      "application/javascript": [
       "console.log(\"[124003][INFO][openvisuspy.slice:190:renderResultIfNeeded] Slice[3]::rendering result data.shape=(126, 44, 3) data.dtype=uint8 logic_box=[[7296, 52608], [12928, 68736]]\");\n"
      ],
      "text/plain": [
       "<IPython.core.display.Javascript object>"
      ]
     },
     "metadata": {},
     "output_type": "display_data"
    },
    {
     "data": {
      "application/javascript": [
       "console.log(\"[124003][INFO][openvisuspy.backend_py:308:executeBoxQuery] [200] http://atlantis.sci.utah.edu/mod_visus?dataset=david_subsampled&cached=1&action=boxquery&box=7296+12927+52608+68735&compression=zip&field=data&time=0&toh=20\");\n"
      ],
      "text/plain": [
       "<IPython.core.display.Javascript object>"
      ]
     },
     "metadata": {},
     "output_type": "display_data"
    },
    {
     "data": {
      "application/javascript": [
       "console.log(\"[124003][INFO][openvisuspy.backend_py:168:returnBoxQueryData] got data 1/[18, 20, 22] timestep=0 field=data H=18 data.shape=(252, 88, 3) data.dtype=uint8 logic_box=[[7296, 52608], [12928, 68736]] m=0 M=237 ms=94\");\n"
      ],
      "text/plain": [
       "<IPython.core.display.Javascript object>"
      ]
     },
     "metadata": {},
     "output_type": "display_data"
    },
    {
     "data": {
      "application/javascript": [
       "console.log(\"[124003][INFO][openvisuspy.slice:190:renderResultIfNeeded] Slice[3]::rendering result data.shape=(252, 88, 3) data.dtype=uint8 logic_box=[[7296, 52608], [12928, 68736]]\");\n"
      ],
      "text/plain": [
       "<IPython.core.display.Javascript object>"
      ]
     },
     "metadata": {},
     "output_type": "display_data"
    },
    {
     "data": {
      "application/javascript": [
       "console.log(\"[124004][INFO][openvisuspy.backend_py:308:executeBoxQuery] [200] http://atlantis.sci.utah.edu/mod_visus?dataset=david_subsampled&cached=1&action=boxquery&box=7296+12927+52608+68735&compression=zip&field=data&time=0&toh=22\");\n"
      ],
      "text/plain": [
       "<IPython.core.display.Javascript object>"
      ]
     },
     "metadata": {},
     "output_type": "display_data"
    },
    {
     "data": {
      "application/javascript": [
       "console.log(\"[124004][INFO][openvisuspy.backend_py:168:returnBoxQueryData] got data 2/[18, 20, 22] timestep=0 field=data H=20 data.shape=(504, 176, 3) data.dtype=uint8 logic_box=[[7296, 52608], [12928, 68736]] m=0 M=239 ms=201\");\n"
      ],
      "text/plain": [
       "<IPython.core.display.Javascript object>"
      ]
     },
     "metadata": {},
     "output_type": "display_data"
    },
    {
     "data": {
      "application/javascript": [
       "console.log(\"[124004][INFO][openvisuspy.backend_py:82:printStatistics] Stats::printStatistics enlapsed=0.20800161361694336 seconds\");\n"
      ],
      "text/plain": [
       "<IPython.core.display.Javascript object>"
      ]
     },
     "metadata": {},
     "output_type": "display_data"
    },
    {
     "data": {
      "application/javascript": [
       "console.log(\"[124004][INFO][openvisuspy.slice:190:renderResultIfNeeded] Slice[3]::rendering result data.shape=(504, 176, 3) data.dtype=uint8 logic_box=[[7296, 52608], [12928, 68736]]\");\n"
      ],
      "text/plain": [
       "<IPython.core.display.Javascript object>"
      ]
     },
     "metadata": {},
     "output_type": "display_data"
    }
   ],
   "source": [
    "def MyApp(doc,url=f\"http://atlantis.sci.utah.edu/mod_visus?dataset=2kbit1&cached=1\"):\n",
    "    view=Slices(num_views=2)\n",
    "    view.setDataset(url)\n",
    "    view.setPalette(\"Greys256\")\n",
    "    view.setPaletteRange((0,255))\n",
    "    view.setTimestep(view.getTimestep())\n",
    "    view.setField(view.getField())\n",
    "    doc.add_root(view.getBokehLayout(doc=doc))\n",
    "ShowBokehApp(MyApp)"
   ]
  },
  {
   "cell_type": "code",
   "execution_count": null,
   "metadata": {},
   "outputs": [],
   "source": []
  }
 ],
 "metadata": {
  "kernelspec": {
   "display_name": "Python 3 (ipykernel)",
   "language": "python",
   "name": "python3"
  },
  "language_info": {
   "codemirror_mode": {
    "name": "ipython",
    "version": 3
   },
   "file_extension": ".py",
   "mimetype": "text/x-python",
   "name": "python",
   "nbconvert_exporter": "python",
   "pygments_lexer": "ipython3",
   "version": "3.9.9"
  },
  "vscode": {
   "interpreter": {
    "hash": "81794d4967e6c3204c66dcd87b604927b115b27c00565d3d43f05ba2f3a2cb0d"
   }
  }
 },
 "nbformat": 4,
 "nbformat_minor": 4
}

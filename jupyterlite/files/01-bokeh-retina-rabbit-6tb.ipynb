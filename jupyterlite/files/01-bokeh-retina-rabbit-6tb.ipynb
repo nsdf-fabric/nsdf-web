{
 "cells": [
  {
   "cell_type": "markdown",
   "metadata": {},
   "source": [
    "| ![nsdf](https://www.sci.utah.edu/~pascucci/public/NSDF-smaller.PNG)  | [National Science Data Fabric](https://nationalsciencedatafabric.org/) [Jupyter notebook](https://jupyter.org/) <br> created by  [Valerio Pascucci](http://cedmav.com/) and  [Giorgio Scorzelli](https://www.sci.utah.edu/people/scrgiorgio.html)  |  \n",
    "|---|:---:|\n",
    "\n",
    "\n",
    "# Distribution of the data related by the following book chapter: \n",
    "\n",
    "### Cahpter 1.18 - Retinal Connectomics \n",
    "\n",
    "__Authors:__  _[Bryan W. Jones](http://marclab.org/outreach/people/bryan-w-jones/), and [Robert E. Marc.](https://marclab.org/outreach/people/robert-e-marc/)_ \n",
    "\n",
    "__Published in:__  The Senses: A Comprehensive Reference, Elsevier, 2nd Edition - September 8, 2020, Pages 320-343, ISBN  9780128054086\n",
    "\n",
    "https://www.elsevier.com/books/the-senses-a-comprehensive-reference/fritzsch/978-0-12-805408-6\n",
    "\n",
    "#  <center> This is a preview of the 6.4 TB of EM data\n",
    "![Connectomics EM Data](https://www.sci.utah.edu/~pascucci/public/RabbitRetinaEM.gif)"
   ]
  },
  {
   "cell_type": "markdown",
   "metadata": {},
   "source": [
    "# Import OpenVisus"
   ]
  },
  {
   "cell_type": "code",
   "execution_count": 1,
   "metadata": {},
   "outputs": [
    {
     "data": {
      "text/html": [
       "<div class=\"bk-root\">\n",
       "        <a href=\"https://bokeh.org\" target=\"_blank\" class=\"bk-logo bk-logo-small bk-logo-notebook\"></a>\n",
       "        <span id=\"1001\">Loading BokehJS ...</span>\n",
       "    </div>\n"
      ]
     },
     "metadata": {},
     "output_type": "display_data"
    },
    {
     "data": {
      "application/javascript": "(function(root) {\n  function now() {\n    return new Date();\n  }\n\n  const force = true;\n\n  if (typeof root._bokeh_onload_callbacks === \"undefined\" || force === true) {\n    root._bokeh_onload_callbacks = [];\n    root._bokeh_is_loading = undefined;\n  }\n\nconst JS_MIME_TYPE = 'application/javascript';\n  const HTML_MIME_TYPE = 'text/html';\n  const EXEC_MIME_TYPE = 'application/vnd.bokehjs_exec.v0+json';\n  const CLASS_NAME = 'output_bokeh rendered_html';\n\n  /**\n   * Render data to the DOM node\n   */\n  function render(props, node) {\n    const script = document.createElement(\"script\");\n    node.appendChild(script);\n  }\n\n  /**\n   * Handle when an output is cleared or removed\n   */\n  function handleClearOutput(event, handle) {\n    const cell = handle.cell;\n\n    const id = cell.output_area._bokeh_element_id;\n    const server_id = cell.output_area._bokeh_server_id;\n    // Clean up Bokeh references\n    if (id != null && id in Bokeh.index) {\n      Bokeh.index[id].model.document.clear();\n      delete Bokeh.index[id];\n    }\n\n    if (server_id !== undefined) {\n      // Clean up Bokeh references\n      const cmd_clean = \"from bokeh.io.state import curstate; print(curstate().uuid_to_server['\" + server_id + \"'].get_sessions()[0].document.roots[0]._id)\";\n      cell.notebook.kernel.execute(cmd_clean, {\n        iopub: {\n          output: function(msg) {\n            const id = msg.content.text.trim();\n            if (id in Bokeh.index) {\n              Bokeh.index[id].model.document.clear();\n              delete Bokeh.index[id];\n            }\n          }\n        }\n      });\n      // Destroy server and session\n      const cmd_destroy = \"import bokeh.io.notebook as ion; ion.destroy_server('\" + server_id + \"')\";\n      cell.notebook.kernel.execute(cmd_destroy);\n    }\n  }\n\n  /**\n   * Handle when a new output is added\n   */\n  function handleAddOutput(event, handle) {\n    const output_area = handle.output_area;\n    const output = handle.output;\n\n    // limit handleAddOutput to display_data with EXEC_MIME_TYPE content only\n    if ((output.output_type != \"display_data\") || (!Object.prototype.hasOwnProperty.call(output.data, EXEC_MIME_TYPE))) {\n      return\n    }\n\n    const toinsert = output_area.element.find(\".\" + CLASS_NAME.split(' ')[0]);\n\n    if (output.metadata[EXEC_MIME_TYPE][\"id\"] !== undefined) {\n      toinsert[toinsert.length - 1].firstChild.textContent = output.data[JS_MIME_TYPE];\n      // store reference to embed id on output_area\n      output_area._bokeh_element_id = output.metadata[EXEC_MIME_TYPE][\"id\"];\n    }\n    if (output.metadata[EXEC_MIME_TYPE][\"server_id\"] !== undefined) {\n      const bk_div = document.createElement(\"div\");\n      bk_div.innerHTML = output.data[HTML_MIME_TYPE];\n      const script_attrs = bk_div.children[0].attributes;\n      for (let i = 0; i < script_attrs.length; i++) {\n        toinsert[toinsert.length - 1].firstChild.setAttribute(script_attrs[i].name, script_attrs[i].value);\n        toinsert[toinsert.length - 1].firstChild.textContent = bk_div.children[0].textContent\n      }\n      // store reference to server id on output_area\n      output_area._bokeh_server_id = output.metadata[EXEC_MIME_TYPE][\"server_id\"];\n    }\n  }\n\n  function register_renderer(events, OutputArea) {\n\n    function append_mime(data, metadata, element) {\n      // create a DOM node to render to\n      const toinsert = this.create_output_subarea(\n        metadata,\n        CLASS_NAME,\n        EXEC_MIME_TYPE\n      );\n      this.keyboard_manager.register_events(toinsert);\n      // Render to node\n      const props = {data: data, metadata: metadata[EXEC_MIME_TYPE]};\n      render(props, toinsert[toinsert.length - 1]);\n      element.append(toinsert);\n      return toinsert\n    }\n\n    /* Handle when an output is cleared or removed */\n    events.on('clear_output.CodeCell', handleClearOutput);\n    events.on('delete.Cell', handleClearOutput);\n\n    /* Handle when a new output is added */\n    events.on('output_added.OutputArea', handleAddOutput);\n\n    /**\n     * Register the mime type and append_mime function with output_area\n     */\n    OutputArea.prototype.register_mime_type(EXEC_MIME_TYPE, append_mime, {\n      /* Is output safe? */\n      safe: true,\n      /* Index of renderer in `output_area.display_order` */\n      index: 0\n    });\n  }\n\n  // register the mime type if in Jupyter Notebook environment and previously unregistered\n  if (root.Jupyter !== undefined) {\n    const events = require('base/js/events');\n    const OutputArea = require('notebook/js/outputarea').OutputArea;\n\n    if (OutputArea.prototype.mime_types().indexOf(EXEC_MIME_TYPE) == -1) {\n      register_renderer(events, OutputArea);\n    }\n  }\n  if (typeof (root._bokeh_timeout) === \"undefined\" || force === true) {\n    root._bokeh_timeout = Date.now() + 5000;\n    root._bokeh_failed_load = false;\n  }\n\n  const NB_LOAD_WARNING = {'data': {'text/html':\n     \"<div style='background-color: #fdd'>\\n\"+\n     \"<p>\\n\"+\n     \"BokehJS does not appear to have successfully loaded. If loading BokehJS from CDN, this \\n\"+\n     \"may be due to a slow or bad network connection. Possible fixes:\\n\"+\n     \"</p>\\n\"+\n     \"<ul>\\n\"+\n     \"<li>re-rerun `output_notebook()` to attempt to load from CDN again, or</li>\\n\"+\n     \"<li>use INLINE resources instead, as so:</li>\\n\"+\n     \"</ul>\\n\"+\n     \"<code>\\n\"+\n     \"from bokeh.resources import INLINE\\n\"+\n     \"output_notebook(resources=INLINE)\\n\"+\n     \"</code>\\n\"+\n     \"</div>\"}};\n\n  function display_loaded() {\n    const el = document.getElementById(\"1001\");\n    if (el != null) {\n      el.textContent = \"BokehJS is loading...\";\n    }\n    if (root.Bokeh !== undefined) {\n      if (el != null) {\n        el.textContent = \"BokehJS \" + root.Bokeh.version + \" successfully loaded.\";\n      }\n    } else if (Date.now() < root._bokeh_timeout) {\n      setTimeout(display_loaded, 100)\n    }\n  }\n\n  function run_callbacks() {\n    try {\n      root._bokeh_onload_callbacks.forEach(function(callback) {\n        if (callback != null)\n          callback();\n      });\n    } finally {\n      delete root._bokeh_onload_callbacks\n    }\n    console.debug(\"Bokeh: all callbacks have finished\");\n  }\n\n  function load_libs(css_urls, js_urls, callback) {\n    if (css_urls == null) css_urls = [];\n    if (js_urls == null) js_urls = [];\n\n    root._bokeh_onload_callbacks.push(callback);\n    if (root._bokeh_is_loading > 0) {\n      console.debug(\"Bokeh: BokehJS is being loaded, scheduling callback at\", now());\n      return null;\n    }\n    if (js_urls == null || js_urls.length === 0) {\n      run_callbacks();\n      return null;\n    }\n    console.debug(\"Bokeh: BokehJS not loaded, scheduling load and callback at\", now());\n    root._bokeh_is_loading = css_urls.length + js_urls.length;\n\n    function on_load() {\n      root._bokeh_is_loading--;\n      if (root._bokeh_is_loading === 0) {\n        console.debug(\"Bokeh: all BokehJS libraries/stylesheets loaded\");\n        run_callbacks()\n      }\n    }\n\n    function on_error(url) {\n      console.error(\"failed to load \" + url);\n    }\n\n    for (let i = 0; i < css_urls.length; i++) {\n      const url = css_urls[i];\n      const element = document.createElement(\"link\");\n      element.onload = on_load;\n      element.onerror = on_error.bind(null, url);\n      element.rel = \"stylesheet\";\n      element.type = \"text/css\";\n      element.href = url;\n      console.debug(\"Bokeh: injecting link tag for BokehJS stylesheet: \", url);\n      document.body.appendChild(element);\n    }\n\n    for (let i = 0; i < js_urls.length; i++) {\n      const url = js_urls[i];\n      const element = document.createElement('script');\n      element.onload = on_load;\n      element.onerror = on_error.bind(null, url);\n      element.async = false;\n      element.src = url;\n      console.debug(\"Bokeh: injecting script tag for BokehJS library: \", url);\n      document.head.appendChild(element);\n    }\n  };\n\n  function inject_raw_css(css) {\n    const element = document.createElement(\"style\");\n    element.appendChild(document.createTextNode(css));\n    document.body.appendChild(element);\n  }\n\n  const js_urls = [\"https://cdn.bokeh.org/bokeh/release/bokeh-2.4.3.min.js\", \"https://cdn.bokeh.org/bokeh/release/bokeh-gl-2.4.3.min.js\", \"https://cdn.bokeh.org/bokeh/release/bokeh-widgets-2.4.3.min.js\", \"https://cdn.bokeh.org/bokeh/release/bokeh-tables-2.4.3.min.js\", \"https://cdn.bokeh.org/bokeh/release/bokeh-mathjax-2.4.3.min.js\"];\n  const css_urls = [];\n\n  const inline_js = [    function(Bokeh) {\n      Bokeh.set_log_level(\"debug\");\n    },\nfunction(Bokeh) {\n    }\n  ];\n\n  function run_inline_js() {\n    if (root.Bokeh !== undefined || force === true) {\n          for (let i = 0; i < inline_js.length; i++) {\n      inline_js[i].call(root, root.Bokeh);\n    }\nif (force === true) {\n        display_loaded();\n      }} else if (Date.now() < root._bokeh_timeout) {\n      setTimeout(run_inline_js, 100);\n    } else if (!root._bokeh_failed_load) {\n      console.log(\"Bokeh: BokehJS failed to load within specified timeout.\");\n      root._bokeh_failed_load = true;\n    } else if (force !== true) {\n      const cell = $(document.getElementById(\"1001\")).parents('.cell').data().cell;\n      cell.output_area.append_execute_result(NB_LOAD_WARNING)\n    }\n  }\n\n  if (root._bokeh_is_loading === 0) {\n    console.debug(\"Bokeh: BokehJS loaded, going straight to plotting\");\n    run_inline_js();\n  } else {\n    load_libs(css_urls, js_urls, function() {\n      console.debug(\"Bokeh: BokehJS plotting callback run at\", now());\n      run_inline_js();\n    });\n  }\n}(window));",
      "application/vnd.bokehjs_load.v0+json": ""
     },
     "metadata": {},
     "output_type": "display_data"
    },
    {
     "data": {
      "application/javascript": "console.log(\"[124754][INFO][openvisuspy.app:33:ShowBokehApp] ShowBokehApp VISUS_USE_PUBLIC_IP=False VISUS_SSH_TUNNELS=\");\n",
      "text/plain": [
       "<IPython.core.display.Javascript object>"
      ]
     },
     "metadata": {},
     "output_type": "display_data"
    },
    {
     "data": {
      "application/vnd.bokehjs_exec.v0+json": "",
      "text/html": [
       "<script id=\"1003\">\n",
       "  (function() {\n",
       "    const xhr = new XMLHttpRequest()\n",
       "    xhr.responseType = 'blob';\n",
       "    xhr.open('GET', \"http://localhost:57868/autoload.js?bokeh-autoload-element=1003&bokeh-absolute-url=http://localhost:57868&resources=none\", true);\n",
       "    xhr.onload = function (event) {\n",
       "      const script = document.createElement('script');\n",
       "      const src = URL.createObjectURL(event.target.response);\n",
       "      script.src = src;\n",
       "      document.body.appendChild(script);\n",
       "    };\n",
       "    xhr.send();\n",
       "  })();\n",
       "</script>"
      ]
     },
     "metadata": {
      "application/vnd.bokehjs_exec.v0+json": {
       "server_id": "b1437a614186466dae136bd94c9c7f5b"
      }
     },
     "output_type": "display_data"
    }
   ],
   "source": [
    "import os,sys,logging\n",
    "\n",
    "# import bokeh\n",
    "os.environ[\"BOKEH_ALLOW_WS_ORIGIN\"]=\"*\" # for debugging \n",
    "os.environ[\"BOKEH_LOG_LEVEL\"]=\"debug\"   # for debugging \n",
    "\n",
    "import bokeh.io\n",
    "bokeh.io.output_notebook()\n",
    "\n",
    "os.environ[\"VISUS_USE_PUBLIC_IP\"]=str(False)\n",
    "os.environ[\"VISUS_SSL_TUNNELS\"]=\"\"\n",
    "os.environ[\"VISUS_CPP_VERBOSE\"       ]=\"0\"\n",
    "os.environ[\"VISUS_NETSERVICE_VERBOSE\"]=\"0\"\n",
    "\n",
    "from openvisuspy import ShowBokehApp,TestBokehApp,Slice,Slices,SetupLogger\n",
    "SetupLogger()\n",
    "ShowBokehApp(TestBokehApp)"
   ]
  },
  {
   "cell_type": "markdown",
   "metadata": {},
   "source": [
    "# Show viewer"
   ]
  },
  {
   "cell_type": "code",
   "execution_count": 3,
   "metadata": {
    "scrolled": false
   },
   "outputs": [
    {
     "data": {
      "application/javascript": "console.log(\"[124822][INFO][openvisuspy.app:33:ShowBokehApp] ShowBokehApp VISUS_USE_PUBLIC_IP=False VISUS_SSH_TUNNELS=\");\n",
      "text/plain": [
       "<IPython.core.display.Javascript object>"
      ]
     },
     "metadata": {},
     "output_type": "display_data"
    },
    {
     "data": {
      "application/vnd.bokehjs_exec.v0+json": "",
      "text/html": [
       "<script id=\"1489\">\n",
       "  (function() {\n",
       "    const xhr = new XMLHttpRequest()\n",
       "    xhr.responseType = 'blob';\n",
       "    xhr.open('GET', \"http://localhost:57947/autoload.js?bokeh-autoload-element=1489&bokeh-absolute-url=http://localhost:57947&resources=none\", true);\n",
       "    xhr.onload = function (event) {\n",
       "      const script = document.createElement('script');\n",
       "      const src = URL.createObjectURL(event.target.response);\n",
       "      script.src = src;\n",
       "      document.body.appendChild(script);\n",
       "    };\n",
       "    xhr.send();\n",
       "  })();\n",
       "</script>"
      ]
     },
     "metadata": {
      "application/vnd.bokehjs_exec.v0+json": {
       "server_id": "c7a77d0fbcf74d39b03c9499ea693a90"
      }
     },
     "output_type": "display_data"
    },
    {
     "data": {
      "application/javascript": "console.log(\"[124822][INFO][openvisuspy.widgets:278:setDataset] Widgets[1]::setDataset value=http://atlantis.sci.utah.edu/mod_visus?dataset=rabbit&cached=1\");\n",
      "text/plain": [
       "<IPython.core.display.Javascript object>"
      ]
     },
     "metadata": {},
     "output_type": "display_data"
    },
    {
     "data": {
      "application/javascript": "console.log(\"[124822][INFO][openvisuspy.backend_py:373:LoadDataset] Got response <dataset name='rabbit' url='$(protocol)://$(hostname):$(port)/mod_visus?action=readdataset&amp;dataset=rabbit' typename='IdxDataset'> \t<idxfile> \t\t<version value='6' /> \t\t<bitmask value='V0101010101010101010101010101010101' /> \t\t<box value='0 131072 0 131072' /> \t\t<bitsperblock value='16' /> \t\t<blocksperfile value='256' /> \t\t<block_interleaving value='0' /> \t\t<filename_template value='./rabbit/%02x/%04x.bin' /> \t\t<missing_blocks value='False' /> \t\t<arco value='0' /> \t\t<time_template value='slice%04d/' /> \t\t<field name='EM' description='' index='' default_compression='zip' default_layout='' default_value='0' filter='' dtype='uint8' /> \t\t<timestep from='1' to='340' step='1' /> \t</idxfile> </dataset>\");\n",
      "text/plain": [
       "<IPython.core.display.Javascript object>"
      ]
     },
     "metadata": {},
     "output_type": "display_data"
    },
    {
     "data": {
      "application/javascript": "console.log(\"[124822][INFO][openvisuspy.backend_py:420:LoadDataset] LoadDataset returned: {'url': 'http://atlantis.sci.utah.edu/mod_visus?dataset=rabbit&cached=1', 'bitmask': 'V0101010101010101010101010101010101', 'pdim': 2, 'max_resolution': 34, 'timesteps': [1, 2, 3, 4, 5, 6, 7, 8, 9, 10, 11, 12, 13, 14, 15, 16, 17, 18, 19, 20, 21, 22, 23, 24, 25, 26, 27, 28, 29, 30, 31, 32, 33, 34, 35, 36, 37, 38, 39, 40, 41, 42, 43, 44, 45, 46, 47, 48, 49, 50, 51, 52, 53, 54, 55, 56, 57, 58, 59, 60, 61, 62, 63, 64, 65, 66, 67, 68, 69, 70, 71, 72, 73, 74, 75, 76, 77, 78, 79, 80, 81, 82, 83, 84, 85, 86, 87, 88, 89, 90, 91, 92, 93, 94, 95, 96, 97, 98, 99, 100, 101, 102, 103, 104, 105, 106, 107, 108, 109, 110, 111, 112, 113, 114, 115, 116, 117, 118, 119, 120, 121, 122, 123, 124, 125, 126, 127, 128, 129, 130, 131, 132, 133, 134, 135, 136, 137, 138, 139, 140, 141, 142, 143, 144, 145, 146, 147, 148, 149, 150, 151, 152, 153, 154, 155, 156, 157, 158, 159, 160, 161, 162, 163, 164, 165, 166, 167, 168, 169, 170, 171, 172, 173, 174, 175, 176, 177, 178, 179, 180, 181, 182, 183, 184, 185, 186, 187, 188, 189, 190, 191, 192, 193, 194, 195, 196, 197, 198, 199, 200, 201, 202, 203, 204, 205, 206, 207, 208, 209, 210, 211, 212, 213, 214, 215, 216, 217, 218, 219, 220, 221, 222, 223, 224, 225, 226, 227, 228, 229, 230, 231, 232, 233, 234, 235, 236, 237, 238, 239, 240, 241, 242, 243, 244, 245, 246, 247, 248, 249, 250, 251, 252, 253, 254, 255, 256, 257, 258, 259, 260, 261, 262, 263, 264, 265, 266, 267, 268, 269, 270, 271, 272, 273, 274, 275, 276, 277, 278, 279, 280, 281, 282, 283, 284, 285, 286, 287, 288, 289, 290, 291, 292, 293, 294, 295, 296, 297, 298, 299, 300, 301, 302, 303, 304, 305, 306, 307, 308, 309, 310, 311, 312, 313, 314, 315, 316, 317, 318, 319, 320, 321, 322, 323, 324, 325, 326, 327, 328, 329, 330, 331, 332, 333, 334, 335, 336, 337, 338, 339], 'fields': [{'name': 'EM', 'dtype': 'uint8'}], 'logic_box': [[0, 0], [131072, 131072]], 'logic_size': [131072, 131072]}\");\n",
      "text/plain": [
       "<IPython.core.display.Javascript object>"
      ]
     },
     "metadata": {},
     "output_type": "display_data"
    },
    {
     "data": {
      "application/javascript": "console.log(\"[124822][INFO][openvisuspy.widgets:328:setTimesteps] Widgets[1]::setTimesteps start=1 end=339\");\n",
      "text/plain": [
       "<IPython.core.display.Javascript object>"
      ]
     },
     "metadata": {},
     "output_type": "display_data"
    },
    {
     "data": {
      "application/javascript": "console.log(\"[124822][INFO][openvisuspy.widgets:339:setTimestepDelta] Widgets[1]::setTimestepDelta value=1\");\n",
      "text/plain": [
       "<IPython.core.display.Javascript object>"
      ]
     },
     "metadata": {},
     "output_type": "display_data"
    },
    {
     "data": {
      "application/javascript": "console.log(\"[124822][INFO][openvisuspy.widgets:360:setTimestep] Widgets[1]::setTimestep value=1\");\n",
      "text/plain": [
       "<IPython.core.display.Javascript object>"
      ]
     },
     "metadata": {},
     "output_type": "display_data"
    },
    {
     "data": {
      "application/javascript": "console.log(\"[124822][INFO][openvisuspy.widgets:360:setTimestep] Widgets[1]::setTimestep value=1\");\n",
      "text/plain": [
       "<IPython.core.display.Javascript object>"
      ]
     },
     "metadata": {},
     "output_type": "display_data"
    },
    {
     "data": {
      "application/javascript": "console.log(\"[124822][INFO][openvisuspy.widgets:360:setTimestep] Widgets[1]::setTimestep value=1\");\n",
      "text/plain": [
       "<IPython.core.display.Javascript object>"
      ]
     },
     "metadata": {},
     "output_type": "display_data"
    },
    {
     "data": {
      "application/javascript": "console.log(\"[124822][INFO][openvisuspy.widgets:466:setDirection] Widgets[1]::setDirection value=2\");\n",
      "text/plain": [
       "<IPython.core.display.Javascript object>"
      ]
     },
     "metadata": {},
     "output_type": "display_data"
    },
    {
     "data": {
      "application/javascript": "console.log(\"[124822][INFO][openvisuspy.slice:137:setLogicBox] Slice[1]::setLogicBox value=([0, 0], [131072, 131072])\");\n",
      "text/plain": [
       "<IPython.core.display.Javascript object>"
      ]
     },
     "metadata": {},
     "output_type": "display_data"
    },
    {
     "data": {
      "application/javascript": "console.log(\"[124822][INFO][openvisuspy.widgets:372:setFields] Widgets[1]::setFields value=['EM']\");\n",
      "text/plain": [
       "<IPython.core.display.Javascript object>"
      ]
     },
     "metadata": {},
     "output_type": "display_data"
    },
    {
     "data": {
      "application/javascript": "console.log(\"[124822][INFO][openvisuspy.widgets:381:setField] Widgets[1]::setField value=EM\");\n",
      "text/plain": [
       "<IPython.core.display.Javascript object>"
      ]
     },
     "metadata": {},
     "output_type": "display_data"
    },
    {
     "data": {
      "application/javascript": "console.log(\"[124822][INFO][openvisuspy.widgets:381:setField] Widgets[1]::setField value=EM\");\n",
      "text/plain": [
       "<IPython.core.display.Javascript object>"
      ]
     },
     "metadata": {},
     "output_type": "display_data"
    },
    {
     "data": {
      "application/javascript": "console.log(\"[124822][INFO][openvisuspy.widgets:466:setDirection] Widgets[1]::setDirection value=2\");\n",
      "text/plain": [
       "<IPython.core.display.Javascript object>"
      ]
     },
     "metadata": {},
     "output_type": "display_data"
    },
    {
     "data": {
      "application/javascript": "console.log(\"[124822][INFO][openvisuspy.slice:137:setLogicBox] Slice[1]::setLogicBox value=([0, 0], [131072, 131072])\");\n",
      "text/plain": [
       "<IPython.core.display.Javascript object>"
      ]
     },
     "metadata": {},
     "output_type": "display_data"
    },
    {
     "data": {
      "application/javascript": "console.log(\"[124822][INFO][openvisuspy.widgets:394:setPalette] Widgets[1]::setPalette value=Greys256\");\n",
      "text/plain": [
       "<IPython.core.display.Javascript object>"
      ]
     },
     "metadata": {},
     "output_type": "display_data"
    },
    {
     "data": {
      "application/javascript": "console.log(\"[124822][INFO][openvisuspy.widgets:408:setPaletteRange] Widgets[1]::setPaletteRange value=(0, 255)\");\n",
      "text/plain": [
       "<IPython.core.display.Javascript object>"
      ]
     },
     "metadata": {},
     "output_type": "display_data"
    },
    {
     "data": {
      "application/javascript": "console.log(\"[124822][INFO][openvisuspy.widgets:360:setTimestep] Widgets[1]::setTimestep value=1\");\n",
      "text/plain": [
       "<IPython.core.display.Javascript object>"
      ]
     },
     "metadata": {},
     "output_type": "display_data"
    },
    {
     "data": {
      "application/javascript": "console.log(\"[124822][INFO][openvisuspy.widgets:381:setField] Widgets[1]::setField value=EM\");\n",
      "text/plain": [
       "<IPython.core.display.Javascript object>"
      ]
     },
     "metadata": {},
     "output_type": "display_data"
    },
    {
     "data": {
      "application/javascript": "console.log(\"[124822][INFO][openvisuspy.canvas:61:onResize] Calling on_resize callback w=853 h=543\");\n",
      "text/plain": [
       "<IPython.core.display.Javascript object>"
      ]
     },
     "metadata": {},
     "output_type": "display_data"
    },
    {
     "data": {
      "application/javascript": "console.log(\"[124822][INFO][openvisuspy.widgets:466:setDirection] Widgets[1]::setDirection value=2\");\n",
      "text/plain": [
       "<IPython.core.display.Javascript object>"
      ]
     },
     "metadata": {},
     "output_type": "display_data"
    },
    {
     "data": {
      "application/javascript": "console.log(\"[124822][INFO][openvisuspy.slice:137:setLogicBox] Slice[1]::setLogicBox value=([0, 0], [131072, 131072])\");\n",
      "text/plain": [
       "<IPython.core.display.Javascript object>"
      ]
     },
     "metadata": {},
     "output_type": "display_data"
    },
    {
     "data": {
      "application/javascript": "console.log(\"[124822][INFO][openvisuspy.slice:209:pushJobIfNeeded] pushing new job\");\n",
      "text/plain": [
       "<IPython.core.display.Javascript object>"
      ]
     },
     "metadata": {},
     "output_type": "display_data"
    },
    {
     "data": {
      "application/javascript": "console.log(\"[124822][INFO][openvisuspy.backend_py:145:pushJob] pushed new job <openvisuspy.backend_py.Dataset object at 0x000001E5589AFAC0>\");\n",
      "text/plain": [
       "<IPython.core.display.Javascript object>"
      ]
     },
     "metadata": {},
     "output_type": "display_data"
    },
    {
     "data": {
      "application/javascript": "console.log(\"[124822][INFO][openvisuspy.backend_py:74:createBoxQuery] begin timestep=1 field=EM logic_box=[[-37414.65930018417, 0.0], [168486.65930018417, 131072.0]] num_refinements=3 max_pixels=463179 endh=34\");\n",
      "text/plain": [
       "<IPython.core.display.Javascript object>"
      ]
     },
     "metadata": {},
     "output_type": "display_data"
    },
    {
     "data": {
      "application/javascript": "console.log(\"[124822][INFO][openvisuspy.backend_py:109:createBoxQuery] Guess resolution endh=18 original_box=([0, 0], [131072, 131072]) aligned_box=([0, 0], [131072, 131072]) delta=[256, 256, 1] num_pixels=[512, 512] tot_pixels=262,144 max_pixels=463,179 end=18\");\n",
      "text/plain": [
       "<IPython.core.display.Javascript object>"
      ]
     },
     "metadata": {},
     "output_type": "display_data"
    },
    {
     "data": {
      "application/javascript": "console.log(\"[124822][INFO][openvisuspy.backend_py:138:beginBoxQuery] beginBoxQuery timestep=1 field=EM logic_box=[[0, 0], [131072, 131072]] end_resolutions=[14, 16, 18]\");\n",
      "text/plain": [
       "<IPython.core.display.Javascript object>"
      ]
     },
     "metadata": {},
     "output_type": "display_data"
    },
    {
     "data": {
      "application/javascript": "console.log(\"[124822][INFO][openvisuspy.backend_py:308:executeBoxQuery] [200] http://atlantis.sci.utah.edu/mod_visus?dataset=rabbit&cached=1&action=boxquery&box=0+131071+0+131071&compression=zip&field=EM&time=1&toh=14\");\n",
      "text/plain": [
       "<IPython.core.display.Javascript object>"
      ]
     },
     "metadata": {},
     "output_type": "display_data"
    },
    {
     "data": {
      "application/javascript": "console.log(\"[124822][INFO][openvisuspy.backend_py:168:returnBoxQueryData] got data 0/[14, 16, 18] timestep=1 field=EM H=-1 data.shape=(128, 128) data.dtype=uint8 logic_box=[[0, 0], [131072, 131072]] m=0 M=255 ms=43\");\n",
      "text/plain": [
       "<IPython.core.display.Javascript object>"
      ]
     },
     "metadata": {},
     "output_type": "display_data"
    },
    {
     "data": {
      "application/javascript": "console.log(\"[124822][INFO][openvisuspy.slice:190:renderResultIfNeeded] Slice[1]::rendering result data.shape=(128, 128) data.dtype=uint8 logic_box=[[0, 0], [131072, 131072]]\");\n",
      "text/plain": [
       "<IPython.core.display.Javascript object>"
      ]
     },
     "metadata": {},
     "output_type": "display_data"
    },
    {
     "data": {
      "application/javascript": "console.log(\"[124822][INFO][openvisuspy.backend_py:308:executeBoxQuery] [200] http://atlantis.sci.utah.edu/mod_visus?dataset=rabbit&cached=1&action=boxquery&box=0+131071+0+131071&compression=zip&field=EM&time=1&toh=16\");\n",
      "text/plain": [
       "<IPython.core.display.Javascript object>"
      ]
     },
     "metadata": {},
     "output_type": "display_data"
    },
    {
     "data": {
      "application/javascript": "console.log(\"[124822][INFO][openvisuspy.backend_py:168:returnBoxQueryData] got data 1/[14, 16, 18] timestep=1 field=EM H=14 data.shape=(256, 256) data.dtype=uint8 logic_box=[[0, 0], [131072, 131072]] m=0 M=255 ms=93\");\n",
      "text/plain": [
       "<IPython.core.display.Javascript object>"
      ]
     },
     "metadata": {},
     "output_type": "display_data"
    },
    {
     "data": {
      "application/javascript": "console.log(\"[124822][INFO][openvisuspy.slice:190:renderResultIfNeeded] Slice[1]::rendering result data.shape=(256, 256) data.dtype=uint8 logic_box=[[0, 0], [131072, 131072]]\");\n",
      "text/plain": [
       "<IPython.core.display.Javascript object>"
      ]
     },
     "metadata": {},
     "output_type": "display_data"
    },
    {
     "data": {
      "application/javascript": "console.log(\"[124822][INFO][openvisuspy.backend_py:308:executeBoxQuery] [200] http://atlantis.sci.utah.edu/mod_visus?dataset=rabbit&cached=1&action=boxquery&box=0+131071+0+131071&compression=zip&field=EM&time=1&toh=18\");\n",
      "text/plain": [
       "<IPython.core.display.Javascript object>"
      ]
     },
     "metadata": {},
     "output_type": "display_data"
    },
    {
     "data": {
      "application/javascript": "console.log(\"[124822][INFO][openvisuspy.backend_py:168:returnBoxQueryData] got data 2/[14, 16, 18] timestep=1 field=EM H=16 data.shape=(512, 512) data.dtype=uint8 logic_box=[[0, 0], [131072, 131072]] m=0 M=255 ms=211\");\n",
      "text/plain": [
       "<IPython.core.display.Javascript object>"
      ]
     },
     "metadata": {},
     "output_type": "display_data"
    },
    {
     "data": {
      "application/javascript": "console.log(\"[124822][INFO][openvisuspy.backend_py:82:printStatistics] Stats::printStatistics enlapsed=0.21978497505187988 seconds\");\n",
      "text/plain": [
       "<IPython.core.display.Javascript object>"
      ]
     },
     "metadata": {},
     "output_type": "display_data"
    },
    {
     "data": {
      "application/javascript": "console.log(\"[124822][INFO][openvisuspy.slice:190:renderResultIfNeeded] Slice[1]::rendering result data.shape=(512, 512) data.dtype=uint8 logic_box=[[0, 0], [131072, 131072]]\");\n",
      "text/plain": [
       "<IPython.core.display.Javascript object>"
      ]
     },
     "metadata": {},
     "output_type": "display_data"
    },
    {
     "data": {
      "application/javascript": "console.log(\"[124823][INFO][openvisuspy.slice:209:pushJobIfNeeded] pushing new job\");\n",
      "text/plain": [
       "<IPython.core.display.Javascript object>"
      ]
     },
     "metadata": {},
     "output_type": "display_data"
    },
    {
     "data": {
      "application/javascript": "console.log(\"[124823][INFO][openvisuspy.backend_py:145:pushJob] pushed new job <openvisuspy.backend_py.Dataset object at 0x000001E5589AFAC0>\");\n",
      "text/plain": [
       "<IPython.core.display.Javascript object>"
      ]
     },
     "metadata": {},
     "output_type": "display_data"
    },
    {
     "data": {
      "application/javascript": "console.log(\"[124823][INFO][openvisuspy.backend_py:74:createBoxQuery] begin timestep=1 field=EM logic_box=[[-70281.97912829959, -21817.674647022704], [169936.22590546348, 131099.65868631063]] num_refinements=3 max_pixels=459378 endh=34\");\n",
      "text/plain": [
       "<IPython.core.display.Javascript object>"
      ]
     },
     "metadata": {},
     "output_type": "display_data"
    },
    {
     "data": {
      "application/javascript": "console.log(\"[124823][INFO][openvisuspy.backend_py:109:createBoxQuery] Guess resolution endh=18 original_box=([0, 0], [131072, 131072]) aligned_box=([0, 0], [131072, 131072]) delta=[256, 256, 1] num_pixels=[512, 512] tot_pixels=262,144 max_pixels=459,378 end=18\");\n",
      "text/plain": [
       "<IPython.core.display.Javascript object>"
      ]
     },
     "metadata": {},
     "output_type": "display_data"
    },
    {
     "data": {
      "application/javascript": "console.log(\"[124823][INFO][openvisuspy.backend_py:138:beginBoxQuery] beginBoxQuery timestep=1 field=EM logic_box=[[0, 0], [131072, 131072]] end_resolutions=[14, 16, 18]\");\n",
      "text/plain": [
       "<IPython.core.display.Javascript object>"
      ]
     },
     "metadata": {},
     "output_type": "display_data"
    },
    {
     "data": {
      "application/javascript": "console.log(\"[124823][INFO][openvisuspy.slice:209:pushJobIfNeeded] pushing new job\");\n",
      "text/plain": [
       "<IPython.core.display.Javascript object>"
      ]
     },
     "metadata": {},
     "output_type": "display_data"
    },
    {
     "data": {
      "application/javascript": "console.log(\"[124823][INFO][openvisuspy.backend_py:145:pushJob] pushed new job <openvisuspy.backend_py.Dataset object at 0x000001E5589AFAC0>\");\n",
      "text/plain": [
       "<IPython.core.display.Javascript object>"
      ]
     },
     "metadata": {},
     "output_type": "display_data"
    },
    {
     "data": {
      "application/javascript": "console.log(\"[124823][INFO][openvisuspy.backend_py:82:printStatistics] Stats::printStatistics enlapsed=0.04002022743225098 seconds\");\n",
      "text/plain": [
       "<IPython.core.display.Javascript object>"
      ]
     },
     "metadata": {},
     "output_type": "display_data"
    },
    {
     "data": {
      "application/javascript": "console.log(\"[124823][INFO][openvisuspy.backend_py:74:createBoxQuery] begin timestep=1 field=EM logic_box=[[-108897.1384050221, -47130.82054430118], [171357.43413436817, 131272.73501125438]] num_refinements=3 max_pixels=463179 endh=34\");\n",
      "text/plain": [
       "<IPython.core.display.Javascript object>"
      ]
     },
     "metadata": {},
     "output_type": "display_data"
    },
    {
     "data": {
      "application/javascript": "console.log(\"[124823][INFO][openvisuspy.backend_py:109:createBoxQuery] Guess resolution endh=18 original_box=([0, 0], [131072, 131072]) aligned_box=([0, 0], [131072, 131072]) delta=[256, 256, 1] num_pixels=[512, 512] tot_pixels=262,144 max_pixels=463,179 end=18\");\n",
      "text/plain": [
       "<IPython.core.display.Javascript object>"
      ]
     },
     "metadata": {},
     "output_type": "display_data"
    },
    {
     "data": {
      "application/javascript": "console.log(\"[124823][INFO][openvisuspy.backend_py:138:beginBoxQuery] beginBoxQuery timestep=1 field=EM logic_box=[[0, 0], [131072, 131072]] end_resolutions=[14, 16, 18]\");\n",
      "text/plain": [
       "<IPython.core.display.Javascript object>"
      ]
     },
     "metadata": {},
     "output_type": "display_data"
    },
    {
     "data": {
      "application/javascript": "console.log(\"[124823][INFO][openvisuspy.backend_py:308:executeBoxQuery] [200] http://atlantis.sci.utah.edu/mod_visus?dataset=rabbit&cached=1&action=boxquery&box=0+131071+0+131071&compression=zip&field=EM&time=1&toh=14\");\n",
      "text/plain": [
       "<IPython.core.display.Javascript object>"
      ]
     },
     "metadata": {},
     "output_type": "display_data"
    },
    {
     "data": {
      "application/javascript": "console.log(\"[124823][INFO][openvisuspy.backend_py:168:returnBoxQueryData] got data 0/[14, 16, 18] timestep=1 field=EM H=-1 data.shape=(128, 128) data.dtype=uint8 logic_box=[[0, 0], [131072, 131072]] m=0 M=255 ms=40\");\n",
      "text/plain": [
       "<IPython.core.display.Javascript object>"
      ]
     },
     "metadata": {},
     "output_type": "display_data"
    },
    {
     "data": {
      "application/javascript": "console.log(\"[124823][INFO][openvisuspy.slice:190:renderResultIfNeeded] Slice[1]::rendering result data.shape=(128, 128) data.dtype=uint8 logic_box=[[0, 0], [131072, 131072]]\");\n",
      "text/plain": [
       "<IPython.core.display.Javascript object>"
      ]
     },
     "metadata": {},
     "output_type": "display_data"
    },
    {
     "data": {
      "application/javascript": "console.log(\"[124823][INFO][openvisuspy.backend_py:308:executeBoxQuery] [200] http://atlantis.sci.utah.edu/mod_visus?dataset=rabbit&cached=1&action=boxquery&box=0+131071+0+131071&compression=zip&field=EM&time=1&toh=16\");\n",
      "text/plain": [
       "<IPython.core.display.Javascript object>"
      ]
     },
     "metadata": {},
     "output_type": "display_data"
    },
    {
     "data": {
      "application/javascript": "console.log(\"[124823][INFO][openvisuspy.backend_py:168:returnBoxQueryData] got data 1/[14, 16, 18] timestep=1 field=EM H=14 data.shape=(256, 256) data.dtype=uint8 logic_box=[[0, 0], [131072, 131072]] m=0 M=255 ms=109\");\n",
      "text/plain": [
       "<IPython.core.display.Javascript object>"
      ]
     },
     "metadata": {},
     "output_type": "display_data"
    },
    {
     "data": {
      "application/javascript": "console.log(\"[124824][INFO][openvisuspy.slice:190:renderResultIfNeeded] Slice[1]::rendering result data.shape=(256, 256) data.dtype=uint8 logic_box=[[0, 0], [131072, 131072]]\");\n",
      "text/plain": [
       "<IPython.core.display.Javascript object>"
      ]
     },
     "metadata": {},
     "output_type": "display_data"
    },
    {
     "data": {
      "application/javascript": "console.log(\"[124824][INFO][openvisuspy.backend_py:308:executeBoxQuery] [200] http://atlantis.sci.utah.edu/mod_visus?dataset=rabbit&cached=1&action=boxquery&box=0+131071+0+131071&compression=zip&field=EM&time=1&toh=18\");\n",
      "text/plain": [
       "<IPython.core.display.Javascript object>"
      ]
     },
     "metadata": {},
     "output_type": "display_data"
    },
    {
     "data": {
      "application/javascript": "console.log(\"[124824][INFO][openvisuspy.backend_py:168:returnBoxQueryData] got data 2/[14, 16, 18] timestep=1 field=EM H=16 data.shape=(512, 512) data.dtype=uint8 logic_box=[[0, 0], [131072, 131072]] m=0 M=255 ms=209\");\n",
      "text/plain": [
       "<IPython.core.display.Javascript object>"
      ]
     },
     "metadata": {},
     "output_type": "display_data"
    },
    {
     "data": {
      "application/javascript": "console.log(\"[124824][INFO][openvisuspy.backend_py:82:printStatistics] Stats::printStatistics enlapsed=0.22065973281860352 seconds\");\n",
      "text/plain": [
       "<IPython.core.display.Javascript object>"
      ]
     },
     "metadata": {},
     "output_type": "display_data"
    },
    {
     "data": {
      "application/javascript": "console.log(\"[124824][INFO][openvisuspy.slice:190:renderResultIfNeeded] Slice[1]::rendering result data.shape=(512, 512) data.dtype=uint8 logic_box=[[0, 0], [131072, 131072]]\");\n",
      "text/plain": [
       "<IPython.core.display.Javascript object>"
      ]
     },
     "metadata": {},
     "output_type": "display_data"
    },
    {
     "data": {
      "application/javascript": "console.log(\"[124824][INFO][openvisuspy.slice:209:pushJobIfNeeded] pushing new job\");\n",
      "text/plain": [
       "<IPython.core.display.Javascript object>"
      ]
     },
     "metadata": {},
     "output_type": "display_data"
    },
    {
     "data": {
      "application/javascript": "console.log(\"[124824][INFO][openvisuspy.backend_py:145:pushJob] pushed new job <openvisuspy.backend_py.Dataset object at 0x000001E5589AFAC0>\");\n",
      "text/plain": [
       "<IPython.core.display.Javascript object>"
      ]
     },
     "metadata": {},
     "output_type": "display_data"
    },
    {
     "data": {
      "application/javascript": "console.log(\"[124824][INFO][openvisuspy.backend_py:74:createBoxQuery] begin timestep=1 field=EM logic_box=[[-82286.1645287517, -26086.401746129144], [151259.31258740686, 122583.22788350047]] num_refinements=3 max_pixels=459378 endh=34\");\n",
      "text/plain": [
       "<IPython.core.display.Javascript object>"
      ]
     },
     "metadata": {},
     "output_type": "display_data"
    },
    {
     "data": {
      "application/javascript": "console.log(\"[124824][INFO][openvisuspy.backend_py:109:createBoxQuery] Guess resolution endh=18 original_box=([0, 0], [131072, 122584]) aligned_box=([0, 0], [131072, 122368]) delta=[256, 256, 1] num_pixels=[512, 478] tot_pixels=244,736 max_pixels=459,378 end=18\");\n",
      "text/plain": [
       "<IPython.core.display.Javascript object>"
      ]
     },
     "metadata": {},
     "output_type": "display_data"
    },
    {
     "data": {
      "application/javascript": "console.log(\"[124824][INFO][openvisuspy.backend_py:138:beginBoxQuery] beginBoxQuery timestep=1 field=EM logic_box=[[0, 0], [131072, 121856]] end_resolutions=[14, 16, 18]\");\n",
      "text/plain": [
       "<IPython.core.display.Javascript object>"
      ]
     },
     "metadata": {},
     "output_type": "display_data"
    },
    {
     "data": {
      "application/javascript": "console.log(\"[124824][INFO][openvisuspy.slice:209:pushJobIfNeeded] pushing new job\");\n",
      "text/plain": [
       "<IPython.core.display.Javascript object>"
      ]
     },
     "metadata": {},
     "output_type": "display_data"
    },
    {
     "data": {
      "application/javascript": "console.log(\"[124824][INFO][openvisuspy.backend_py:145:pushJob] pushed new job <openvisuspy.backend_py.Dataset object at 0x000001E5589AFAC0>\");\n",
      "text/plain": [
       "<IPython.core.display.Javascript object>"
      ]
     },
     "metadata": {},
     "output_type": "display_data"
    },
    {
     "data": {
      "application/javascript": "console.log(\"[124824][INFO][openvisuspy.backend_py:82:printStatistics] Stats::printStatistics enlapsed=0.0364835262298584 seconds\");\n",
      "text/plain": [
       "<IPython.core.display.Javascript object>"
      ]
     },
     "metadata": {},
     "output_type": "display_data"
    },
    {
     "data": {
      "application/javascript": "console.log(\"[124824][INFO][openvisuspy.slice:209:pushJobIfNeeded] pushing new job\");\n",
      "text/plain": [
       "<IPython.core.display.Javascript object>"
      ]
     },
     "metadata": {},
     "output_type": "display_data"
    },
    {
     "data": {
      "application/javascript": "console.log(\"[124824][INFO][openvisuspy.backend_py:145:pushJob] pushed new job <openvisuspy.backend_py.Dataset object at 0x000001E5589AFAC0>\");\n",
      "text/plain": [
       "<IPython.core.display.Javascript object>"
      ]
     },
     "metadata": {},
     "output_type": "display_data"
    },
    {
     "data": {
      "application/javascript": "console.log(\"[124824][INFO][openvisuspy.backend_py:74:createBoxQuery] begin timestep=1 field=EM logic_box=[[-26369.22128251894, 18243.276740760997], [108784.41130785062, 104278.94203568551]] num_refinements=3 max_pixels=463179 endh=34\");\n",
      "text/plain": [
       "<IPython.core.display.Javascript object>"
      ]
     },
     "metadata": {},
     "output_type": "display_data"
    },
    {
     "data": {
      "application/javascript": "console.log(\"[124824][INFO][openvisuspy.backend_py:109:createBoxQuery] Guess resolution endh=19 original_box=([0, 18243], [108785, 104279]) aligned_box=([0, 18176], [108672, 104192]) delta=[128, 256, 1] num_pixels=[849, 336] tot_pixels=285,264 max_pixels=463,179 end=19\");\n",
      "text/plain": [
       "<IPython.core.display.Javascript object>"
      ]
     },
     "metadata": {},
     "output_type": "display_data"
    },
    {
     "data": {
      "application/javascript": "console.log(\"[124824][INFO][openvisuspy.backend_py:138:beginBoxQuery] beginBoxQuery timestep=1 field=EM logic_box=[[0, 17408], [108544, 103424]] end_resolutions=[15, 17, 19]\");\n",
      "text/plain": [
       "<IPython.core.display.Javascript object>"
      ]
     },
     "metadata": {},
     "output_type": "display_data"
    },
    {
     "data": {
      "application/javascript": "console.log(\"[124824][INFO][openvisuspy.slice:209:pushJobIfNeeded] pushing new job\");\n",
      "text/plain": [
       "<IPython.core.display.Javascript object>"
      ]
     },
     "metadata": {},
     "output_type": "display_data"
    },
    {
     "data": {
      "application/javascript": "console.log(\"[124824][INFO][openvisuspy.backend_py:145:pushJob] pushed new job <openvisuspy.backend_py.Dataset object at 0x000001E5589AFAC0>\");\n",
      "text/plain": [
       "<IPython.core.display.Javascript object>"
      ]
     },
     "metadata": {},
     "output_type": "display_data"
    },
    {
     "data": {
      "application/javascript": "console.log(\"[124824][INFO][openvisuspy.backend_py:82:printStatistics] Stats::printStatistics enlapsed=0.03826308250427246 seconds\");\n",
      "text/plain": [
       "<IPython.core.display.Javascript object>"
      ]
     },
     "metadata": {},
     "output_type": "display_data"
    },
    {
     "data": {
      "application/javascript": "console.log(\"[124824][INFO][openvisuspy.backend_py:74:createBoxQuery] begin timestep=1 field=EM logic_box=[[-13562.404507350753, 28444.827676686575], [99065.62265129054, 100141.215422457]] num_refinements=3 max_pixels=463179 endh=34\");\n",
      "text/plain": [
       "<IPython.core.display.Javascript object>"
      ]
     },
     "metadata": {},
     "output_type": "display_data"
    },
    {
     "data": {
      "application/javascript": "console.log(\"[124824][INFO][openvisuspy.backend_py:109:createBoxQuery] Guess resolution endh=20 original_box=([0, 28444], [99066, 100142]) aligned_box=([0, 28416], [98944, 100096]) delta=[128, 128, 1] num_pixels=[773, 560] tot_pixels=432,880 max_pixels=463,179 end=20\");\n",
      "text/plain": [
       "<IPython.core.display.Javascript object>"
      ]
     },
     "metadata": {},
     "output_type": "display_data"
    },
    {
     "data": {
      "application/javascript": "console.log(\"[124824][INFO][openvisuspy.backend_py:138:beginBoxQuery] beginBoxQuery timestep=1 field=EM logic_box=[[0, 28160], [98816, 99840]] end_resolutions=[16, 18, 20]\");\n",
      "text/plain": [
       "<IPython.core.display.Javascript object>"
      ]
     },
     "metadata": {},
     "output_type": "display_data"
    },
    {
     "data": {
      "application/javascript": "console.log(\"[124824][INFO][openvisuspy.slice:209:pushJobIfNeeded] pushing new job\");\n",
      "text/plain": [
       "<IPython.core.display.Javascript object>"
      ]
     },
     "metadata": {},
     "output_type": "display_data"
    },
    {
     "data": {
      "application/javascript": "console.log(\"[124824][INFO][openvisuspy.backend_py:145:pushJob] pushed new job <openvisuspy.backend_py.Dataset object at 0x000001E5589AFAC0>\");\n",
      "text/plain": [
       "<IPython.core.display.Javascript object>"
      ]
     },
     "metadata": {},
     "output_type": "display_data"
    },
    {
     "data": {
      "application/javascript": "console.log(\"[124824][INFO][openvisuspy.backend_py:82:printStatistics] Stats::printStatistics enlapsed=0.06683850288391113 seconds\");\n",
      "text/plain": [
       "<IPython.core.display.Javascript object>"
      ]
     },
     "metadata": {},
     "output_type": "display_data"
    },
    {
     "data": {
      "application/javascript": "console.log(\"[124824][INFO][openvisuspy.slice:209:pushJobIfNeeded] pushing new job\");\n",
      "text/plain": [
       "<IPython.core.display.Javascript object>"
      ]
     },
     "metadata": {},
     "output_type": "display_data"
    },
    {
     "data": {
      "application/javascript": "console.log(\"[124824][INFO][openvisuspy.backend_py:145:pushJob] pushed new job <openvisuspy.backend_py.Dataset object at 0x000001E5589AFAC0>\");\n",
      "text/plain": [
       "<IPython.core.display.Javascript object>"
      ]
     },
     "metadata": {},
     "output_type": "display_data"
    },
    {
     "data": {
      "application/javascript": "console.log(\"[124824][INFO][openvisuspy.backend_py:74:createBoxQuery] begin timestep=1 field=EM logic_box=[[6360.365867083324, 43990.185689588856], [84574.27361613979, 93779.34384637387]] num_refinements=3 max_pixels=471324 endh=34\");\n",
      "text/plain": [
       "<IPython.core.display.Javascript object>"
      ]
     },
     "metadata": {},
     "output_type": "display_data"
    },
    {
     "data": {
      "application/javascript": "console.log(\"[124824][INFO][openvisuspy.backend_py:109:createBoxQuery] Guess resolution endh=20 original_box=([6360, 43990], [84575, 93780]) aligned_box=([6272, 43904], [84480, 93696]) delta=[128, 128, 1] num_pixels=[611, 389] tot_pixels=237,679 max_pixels=471,324 end=20\");\n",
      "text/plain": [
       "<IPython.core.display.Javascript object>"
      ]
     },
     "metadata": {},
     "output_type": "display_data"
    },
    {
     "data": {
      "application/javascript": "console.log(\"[124824][INFO][openvisuspy.backend_py:138:beginBoxQuery] beginBoxQuery timestep=1 field=EM logic_box=[[6144, 43520], [84480, 93696]] end_resolutions=[16, 18, 20]\");\n",
      "text/plain": [
       "<IPython.core.display.Javascript object>"
      ]
     },
     "metadata": {},
     "output_type": "display_data"
    },
    {
     "data": {
      "application/javascript": "console.log(\"[124824][INFO][openvisuspy.slice:209:pushJobIfNeeded] pushing new job\");\n",
      "text/plain": [
       "<IPython.core.display.Javascript object>"
      ]
     },
     "metadata": {},
     "output_type": "display_data"
    },
    {
     "data": {
      "application/javascript": "console.log(\"[124824][INFO][openvisuspy.backend_py:145:pushJob] pushed new job <openvisuspy.backend_py.Dataset object at 0x000001E5589AFAC0>\");\n",
      "text/plain": [
       "<IPython.core.display.Javascript object>"
      ]
     },
     "metadata": {},
     "output_type": "display_data"
    },
    {
     "data": {
      "application/javascript": "console.log(\"[124824][INFO][openvisuspy.backend_py:82:printStatistics] Stats::printStatistics enlapsed=0.04036712646484375 seconds\");\n",
      "text/plain": [
       "<IPython.core.display.Javascript object>"
      ]
     },
     "metadata": {},
     "output_type": "display_data"
    },
    {
     "data": {
      "application/javascript": "console.log(\"[124824][INFO][openvisuspy.slice:209:pushJobIfNeeded] pushing new job\");\n",
      "text/plain": [
       "<IPython.core.display.Javascript object>"
      ]
     },
     "metadata": {},
     "output_type": "display_data"
    },
    {
     "data": {
      "application/javascript": "console.log(\"[124824][INFO][openvisuspy.backend_py:145:pushJob] pushed new job <openvisuspy.backend_py.Dataset object at 0x000001E5589AFAC0>\");\n",
      "text/plain": [
       "<IPython.core.display.Javascript object>"
      ]
     },
     "metadata": {},
     "output_type": "display_data"
    },
    {
     "data": {
      "application/javascript": "console.log(\"[124824][INFO][openvisuspy.backend_py:74:createBoxQuery] begin timestep=1 field=EM logic_box=[[29965.445653992385, 62282.37007977095], [67684.34406692474, 86293.34527112174]] num_refinements=3 max_pixels=471324 endh=34\");\n",
      "text/plain": [
       "<IPython.core.display.Javascript object>"
      ]
     },
     "metadata": {},
     "output_type": "display_data"
    },
    {
     "data": {
      "application/javascript": "console.log(\"[124824][INFO][openvisuspy.backend_py:109:createBoxQuery] Guess resolution endh=23 original_box=([29965, 62282], [67685, 86294]) aligned_box=([29952, 62272], [67680, 86272]) delta=[32, 64, 1] num_pixels=[1179, 375] tot_pixels=442,125 max_pixels=471,324 end=23\");\n",
      "text/plain": [
       "<IPython.core.display.Javascript object>"
      ]
     },
     "metadata": {},
     "output_type": "display_data"
    },
    {
     "data": {
      "application/javascript": "console.log(\"[124824][INFO][openvisuspy.backend_py:138:beginBoxQuery] beginBoxQuery timestep=1 field=EM logic_box=[[29952, 62208], [67584, 86272]] end_resolutions=[19, 21, 23]\");\n",
      "text/plain": [
       "<IPython.core.display.Javascript object>"
      ]
     },
     "metadata": {},
     "output_type": "display_data"
    },
    {
     "data": {
      "application/javascript": "console.log(\"[124824][INFO][openvisuspy.backend_py:308:executeBoxQuery] [200] http://atlantis.sci.utah.edu/mod_visus?dataset=rabbit&cached=1&action=boxquery&box=29952+67583+62208+86271&compression=zip&field=EM&time=1&toh=19\");\n",
      "text/plain": [
       "<IPython.core.display.Javascript object>"
      ]
     },
     "metadata": {},
     "output_type": "display_data"
    },
    {
     "data": {
      "application/javascript": "console.log(\"[124824][INFO][openvisuspy.backend_py:168:returnBoxQueryData] got data 0/[19, 21, 23] timestep=1 field=EM H=-1 data.shape=(94, 294) data.dtype=uint8 logic_box=[[29952, 62208], [67584, 86272]] m=0 M=255 ms=45\");\n",
      "text/plain": [
       "<IPython.core.display.Javascript object>"
      ]
     },
     "metadata": {},
     "output_type": "display_data"
    },
    {
     "data": {
      "application/javascript": "console.log(\"[124824][INFO][openvisuspy.slice:190:renderResultIfNeeded] Slice[1]::rendering result data.shape=(94, 294) data.dtype=uint8 logic_box=[[29952, 62208], [67584, 86272]]\");\n",
      "text/plain": [
       "<IPython.core.display.Javascript object>"
      ]
     },
     "metadata": {},
     "output_type": "display_data"
    },
    {
     "data": {
      "application/javascript": "console.log(\"[124824][INFO][openvisuspy.backend_py:308:executeBoxQuery] [200] http://atlantis.sci.utah.edu/mod_visus?dataset=rabbit&cached=1&action=boxquery&box=29952+67583+62208+86271&compression=zip&field=EM&time=1&toh=21\");\n",
      "text/plain": [
       "<IPython.core.display.Javascript object>"
      ]
     },
     "metadata": {},
     "output_type": "display_data"
    },
    {
     "data": {
      "application/javascript": "console.log(\"[124824][INFO][openvisuspy.backend_py:168:returnBoxQueryData] got data 1/[19, 21, 23] timestep=1 field=EM H=19 data.shape=(188, 588) data.dtype=uint8 logic_box=[[29952, 62208], [67584, 86272]] m=0 M=255 ms=136\");\n",
      "text/plain": [
       "<IPython.core.display.Javascript object>"
      ]
     },
     "metadata": {},
     "output_type": "display_data"
    },
    {
     "data": {
      "application/javascript": "console.log(\"[124824][INFO][openvisuspy.slice:190:renderResultIfNeeded] Slice[1]::rendering result data.shape=(188, 588) data.dtype=uint8 logic_box=[[29952, 62208], [67584, 86272]]\");\n",
      "text/plain": [
       "<IPython.core.display.Javascript object>"
      ]
     },
     "metadata": {},
     "output_type": "display_data"
    },
    {
     "data": {
      "application/javascript": "console.log(\"[124824][INFO][openvisuspy.backend_py:308:executeBoxQuery] [200] http://atlantis.sci.utah.edu/mod_visus?dataset=rabbit&cached=1&action=boxquery&box=29952+67583+62208+86271&compression=zip&field=EM&time=1&toh=23\");\n",
      "text/plain": [
       "<IPython.core.display.Javascript object>"
      ]
     },
     "metadata": {},
     "output_type": "display_data"
    },
    {
     "data": {
      "application/javascript": "console.log(\"[124824][INFO][openvisuspy.backend_py:168:returnBoxQueryData] got data 2/[19, 21, 23] timestep=1 field=EM H=21 data.shape=(376, 1176) data.dtype=uint8 logic_box=[[29952, 62208], [67584, 86272]] m=0 M=255 ms=322\");\n",
      "text/plain": [
       "<IPython.core.display.Javascript object>"
      ]
     },
     "metadata": {},
     "output_type": "display_data"
    },
    {
     "data": {
      "application/javascript": "console.log(\"[124824][INFO][openvisuspy.backend_py:82:printStatistics] Stats::printStatistics enlapsed=0.33053016662597656 seconds\");\n",
      "text/plain": [
       "<IPython.core.display.Javascript object>"
      ]
     },
     "metadata": {},
     "output_type": "display_data"
    },
    {
     "data": {
      "application/javascript": "console.log(\"[124824][INFO][openvisuspy.slice:190:renderResultIfNeeded] Slice[1]::rendering result data.shape=(376, 1176) data.dtype=uint8 logic_box=[[29952, 62208], [67584, 86272]]\");\n",
      "text/plain": [
       "<IPython.core.display.Javascript object>"
      ]
     },
     "metadata": {},
     "output_type": "display_data"
    },
    {
     "data": {
      "application/javascript": "console.log(\"[124825][INFO][openvisuspy.slice:209:pushJobIfNeeded] pushing new job\");\n",
      "text/plain": [
       "<IPython.core.display.Javascript object>"
      ]
     },
     "metadata": {},
     "output_type": "display_data"
    },
    {
     "data": {
      "application/javascript": "console.log(\"[124825][INFO][openvisuspy.backend_py:145:pushJob] pushed new job <openvisuspy.backend_py.Dataset object at 0x000001E5589AFAC0>\");\n",
      "text/plain": [
       "<IPython.core.display.Javascript object>"
      ]
     },
     "metadata": {},
     "output_type": "display_data"
    },
    {
     "data": {
      "application/javascript": "console.log(\"[124825][INFO][openvisuspy.backend_py:74:createBoxQuery] begin timestep=1 field=EM logic_box=[[31790.553641714916, 63078.314008766], [69509.45205464728, 87089.2892001168]] num_refinements=3 max_pixels=471324 endh=34\");\n",
      "text/plain": [
       "<IPython.core.display.Javascript object>"
      ]
     },
     "metadata": {},
     "output_type": "display_data"
    },
    {
     "data": {
      "application/javascript": "console.log(\"[124825][INFO][openvisuspy.backend_py:109:createBoxQuery] Guess resolution endh=23 original_box=([31790, 63078], [69510, 87090]) aligned_box=([31776, 63040], [69504, 87040]) delta=[32, 64, 1] num_pixels=[1179, 375] tot_pixels=442,125 max_pixels=471,324 end=23\");\n",
      "text/plain": [
       "<IPython.core.display.Javascript object>"
      ]
     },
     "metadata": {},
     "output_type": "display_data"
    },
    {
     "data": {
      "application/javascript": "console.log(\"[124825][INFO][openvisuspy.backend_py:138:beginBoxQuery] beginBoxQuery timestep=1 field=EM logic_box=[[31744, 62976], [69504, 87040]] end_resolutions=[19, 21, 23]\");\n",
      "text/plain": [
       "<IPython.core.display.Javascript object>"
      ]
     },
     "metadata": {},
     "output_type": "display_data"
    },
    {
     "data": {
      "application/javascript": "console.log(\"[124825][INFO][openvisuspy.slice:209:pushJobIfNeeded] pushing new job\");\n",
      "text/plain": [
       "<IPython.core.display.Javascript object>"
      ]
     },
     "metadata": {},
     "output_type": "display_data"
    },
    {
     "data": {
      "application/javascript": "console.log(\"[124825][INFO][openvisuspy.backend_py:145:pushJob] pushed new job <openvisuspy.backend_py.Dataset object at 0x000001E5589AFAC0>\");\n",
      "text/plain": [
       "<IPython.core.display.Javascript object>"
      ]
     },
     "metadata": {},
     "output_type": "display_data"
    },
    {
     "data": {
      "application/javascript": "console.log(\"[124825][INFO][openvisuspy.slice:209:pushJobIfNeeded] pushing new job\");\n",
      "text/plain": [
       "<IPython.core.display.Javascript object>"
      ]
     },
     "metadata": {},
     "output_type": "display_data"
    },
    {
     "data": {
      "application/javascript": "console.log(\"[124825][INFO][openvisuspy.backend_py:145:pushJob] pushed new job <openvisuspy.backend_py.Dataset object at 0x000001E5589AFAC0>\");\n",
      "text/plain": [
       "<IPython.core.display.Javascript object>"
      ]
     },
     "metadata": {},
     "output_type": "display_data"
    },
    {
     "data": {
      "application/javascript": "console.log(\"[124825][INFO][openvisuspy.backend_py:82:printStatistics] Stats::printStatistics enlapsed=0.05332350730895996 seconds\");\n",
      "text/plain": [
       "<IPython.core.display.Javascript object>"
      ]
     },
     "metadata": {},
     "output_type": "display_data"
    },
    {
     "data": {
      "application/javascript": "console.log(\"[124825][INFO][openvisuspy.slice:209:pushJobIfNeeded] pushing new job\");\n",
      "text/plain": [
       "<IPython.core.display.Javascript object>"
      ]
     },
     "metadata": {},
     "output_type": "display_data"
    },
    {
     "data": {
      "application/javascript": "console.log(\"[124825][INFO][openvisuspy.backend_py:145:pushJob] pushed new job <openvisuspy.backend_py.Dataset object at 0x000001E5589AFAC0>\");\n",
      "text/plain": [
       "<IPython.core.display.Javascript object>"
      ]
     },
     "metadata": {},
     "output_type": "display_data"
    },
    {
     "data": {
      "application/javascript": "console.log(\"[124825][INFO][openvisuspy.backend_py:74:createBoxQuery] begin timestep=1 field=EM logic_box=[[39960.08463437769, 67544.44383257159], [77678.98304731006, 91555.41902392238]] num_refinements=3 max_pixels=471324 endh=34\");\n",
      "text/plain": [
       "<IPython.core.display.Javascript object>"
      ]
     },
     "metadata": {},
     "output_type": "display_data"
    },
    {
     "data": {
      "application/javascript": "console.log(\"[124825][INFO][openvisuspy.backend_py:109:createBoxQuery] Guess resolution endh=23 original_box=([39960, 67544], [77679, 91556]) aligned_box=([39936, 67520], [77664, 91520]) delta=[32, 64, 1] num_pixels=[1179, 375] tot_pixels=442,125 max_pixels=471,324 end=23\");\n",
      "text/plain": [
       "<IPython.core.display.Javascript object>"
      ]
     },
     "metadata": {},
     "output_type": "display_data"
    },
    {
     "data": {
      "application/javascript": "console.log(\"[124825][INFO][openvisuspy.backend_py:138:beginBoxQuery] beginBoxQuery timestep=1 field=EM logic_box=[[39936, 67328], [77568, 91392]] end_resolutions=[19, 21, 23]\");\n",
      "text/plain": [
       "<IPython.core.display.Javascript object>"
      ]
     },
     "metadata": {},
     "output_type": "display_data"
    },
    {
     "data": {
      "application/javascript": "console.log(\"[124825][INFO][openvisuspy.slice:209:pushJobIfNeeded] pushing new job\");\n",
      "text/plain": [
       "<IPython.core.display.Javascript object>"
      ]
     },
     "metadata": {},
     "output_type": "display_data"
    },
    {
     "data": {
      "application/javascript": "console.log(\"[124825][INFO][openvisuspy.backend_py:145:pushJob] pushed new job <openvisuspy.backend_py.Dataset object at 0x000001E5589AFAC0>\");\n",
      "text/plain": [
       "<IPython.core.display.Javascript object>"
      ]
     },
     "metadata": {},
     "output_type": "display_data"
    },
    {
     "data": {
      "application/javascript": "console.log(\"[124825][INFO][openvisuspy.backend_py:82:printStatistics] Stats::printStatistics enlapsed=0.05984926223754883 seconds\");\n",
      "text/plain": [
       "<IPython.core.display.Javascript object>"
      ]
     },
     "metadata": {},
     "output_type": "display_data"
    },
    {
     "data": {
      "application/javascript": "console.log(\"[124825][INFO][openvisuspy.backend_py:74:createBoxQuery] begin timestep=1 field=EM logic_box=[[40003.53958646632, 67632.88204690439], [77722.4379993987, 91643.8572382552]] num_refinements=3 max_pixels=471324 endh=34\");\n",
      "text/plain": [
       "<IPython.core.display.Javascript object>"
      ]
     },
     "metadata": {},
     "output_type": "display_data"
    },
    {
     "data": {
      "application/javascript": "console.log(\"[124825][INFO][openvisuspy.backend_py:109:createBoxQuery] Guess resolution endh=23 original_box=([40003, 67632], [77723, 91644]) aligned_box=([40000, 67584], [77696, 91584]) delta=[32, 64, 1] num_pixels=[1178, 375] tot_pixels=441,750 max_pixels=471,324 end=23\");\n",
      "text/plain": [
       "<IPython.core.display.Javascript object>"
      ]
     },
     "metadata": {},
     "output_type": "display_data"
    },
    {
     "data": {
      "application/javascript": "console.log(\"[124825][INFO][openvisuspy.backend_py:138:beginBoxQuery] beginBoxQuery timestep=1 field=EM logic_box=[[39936, 67584], [77696, 91392]] end_resolutions=[19, 21, 23]\");\n",
      "text/plain": [
       "<IPython.core.display.Javascript object>"
      ]
     },
     "metadata": {},
     "output_type": "display_data"
    },
    {
     "data": {
      "application/javascript": "console.log(\"[124825][INFO][openvisuspy.backend_py:308:executeBoxQuery] [200] http://atlantis.sci.utah.edu/mod_visus?dataset=rabbit&cached=1&action=boxquery&box=39936+77695+67584+91391&compression=zip&field=EM&time=1&toh=19\");\n",
      "text/plain": [
       "<IPython.core.display.Javascript object>"
      ]
     },
     "metadata": {},
     "output_type": "display_data"
    },
    {
     "data": {
      "application/javascript": "console.log(\"[124825][INFO][openvisuspy.backend_py:168:returnBoxQueryData] got data 0/[19, 21, 23] timestep=1 field=EM H=-1 data.shape=(93, 295) data.dtype=uint8 logic_box=[[39936, 67584], [77696, 91392]] m=0 M=255 ms=57\");\n",
      "text/plain": [
       "<IPython.core.display.Javascript object>"
      ]
     },
     "metadata": {},
     "output_type": "display_data"
    },
    {
     "data": {
      "application/javascript": "console.log(\"[124825][INFO][openvisuspy.slice:190:renderResultIfNeeded] Slice[1]::rendering result data.shape=(93, 295) data.dtype=uint8 logic_box=[[39936, 67584], [77696, 91392]]\");\n",
      "text/plain": [
       "<IPython.core.display.Javascript object>"
      ]
     },
     "metadata": {},
     "output_type": "display_data"
    },
    {
     "data": {
      "application/javascript": "console.log(\"[124825][INFO][openvisuspy.slice:209:pushJobIfNeeded] pushing new job\");\n",
      "text/plain": [
       "<IPython.core.display.Javascript object>"
      ]
     },
     "metadata": {},
     "output_type": "display_data"
    },
    {
     "data": {
      "application/javascript": "console.log(\"[124825][INFO][openvisuspy.backend_py:145:pushJob] pushed new job <openvisuspy.backend_py.Dataset object at 0x000001E5589AFAC0>\");\n",
      "text/plain": [
       "<IPython.core.display.Javascript object>"
      ]
     },
     "metadata": {},
     "output_type": "display_data"
    },
    {
     "data": {
      "application/javascript": "console.log(\"[124825][INFO][openvisuspy.backend_py:82:printStatistics] Stats::printStatistics enlapsed=0.13694977760314941 seconds\");\n",
      "text/plain": [
       "<IPython.core.display.Javascript object>"
      ]
     },
     "metadata": {},
     "output_type": "display_data"
    },
    {
     "data": {
      "application/javascript": "console.log(\"[124825][INFO][openvisuspy.slice:209:pushJobIfNeeded] pushing new job\");\n",
      "text/plain": [
       "<IPython.core.display.Javascript object>"
      ]
     },
     "metadata": {},
     "output_type": "display_data"
    },
    {
     "data": {
      "application/javascript": "console.log(\"[124825][INFO][openvisuspy.backend_py:145:pushJob] pushed new job <openvisuspy.backend_py.Dataset object at 0x000001E5589AFAC0>\");\n",
      "text/plain": [
       "<IPython.core.display.Javascript object>"
      ]
     },
     "metadata": {},
     "output_type": "display_data"
    },
    {
     "data": {
      "application/javascript": "console.log(\"[124825][INFO][openvisuspy.backend_py:74:createBoxQuery] begin timestep=1 field=EM logic_box=[[48351.146608919385, 74084.45745940928], [70179.2128201071, 87979.69773218174]] num_refinements=3 max_pixels=471324 endh=34\");\n",
      "text/plain": [
       "<IPython.core.display.Javascript object>"
      ]
     },
     "metadata": {},
     "output_type": "display_data"
    },
    {
     "data": {
      "application/javascript": "console.log(\"[124825][INFO][openvisuspy.backend_py:109:createBoxQuery] Guess resolution endh=24 original_box=([48351, 74084], [70180, 87980]) aligned_box=([48320, 74080], [70176, 87968]) delta=[32, 32, 1] num_pixels=[683, 434] tot_pixels=296,422 max_pixels=471,324 end=24\");\n",
      "text/plain": [
       "<IPython.core.display.Javascript object>"
      ]
     },
     "metadata": {},
     "output_type": "display_data"
    },
    {
     "data": {
      "application/javascript": "console.log(\"[124825][INFO][openvisuspy.backend_py:138:beginBoxQuery] beginBoxQuery timestep=1 field=EM logic_box=[[48256, 73984], [70144, 87936]] end_resolutions=[20, 22, 24]\");\n",
      "text/plain": [
       "<IPython.core.display.Javascript object>"
      ]
     },
     "metadata": {},
     "output_type": "display_data"
    },
    {
     "data": {
      "application/javascript": "console.log(\"[124825][INFO][openvisuspy.slice:209:pushJobIfNeeded] pushing new job\");\n",
      "text/plain": [
       "<IPython.core.display.Javascript object>"
      ]
     },
     "metadata": {},
     "output_type": "display_data"
    },
    {
     "data": {
      "application/javascript": "console.log(\"[124825][INFO][openvisuspy.backend_py:145:pushJob] pushed new job <openvisuspy.backend_py.Dataset object at 0x000001E5589AFAC0>\");\n",
      "text/plain": [
       "<IPython.core.display.Javascript object>"
      ]
     },
     "metadata": {},
     "output_type": "display_data"
    },
    {
     "data": {
      "application/javascript": "console.log(\"[124825][INFO][openvisuspy.backend_py:82:printStatistics] Stats::printStatistics enlapsed=0.04771590232849121 seconds\");\n",
      "text/plain": [
       "<IPython.core.display.Javascript object>"
      ]
     },
     "metadata": {},
     "output_type": "display_data"
    },
    {
     "data": {
      "application/javascript": "console.log(\"[124825][INFO][openvisuspy.backend_py:74:createBoxQuery] begin timestep=1 field=EM logic_box=[[51854.7972975253, 76792.30733492646], [67013.1766108501, 86441.779746574]] num_refinements=3 max_pixels=471324 endh=34\");\n",
      "text/plain": [
       "<IPython.core.display.Javascript object>"
      ]
     },
     "metadata": {},
     "output_type": "display_data"
    },
    {
     "data": {
      "application/javascript": "console.log(\"[124825][INFO][openvisuspy.backend_py:109:createBoxQuery] Guess resolution endh=25 original_box=([51854, 76792], [67014, 86442]) aligned_box=([51840, 76768], [67008, 86432]) delta=[16, 32, 1] num_pixels=[948, 302] tot_pixels=286,296 max_pixels=471,324 end=25\");\n",
      "text/plain": [
       "<IPython.core.display.Javascript object>"
      ]
     },
     "metadata": {},
     "output_type": "display_data"
    },
    {
     "data": {
      "application/javascript": "console.log(\"[124825][INFO][openvisuspy.backend_py:138:beginBoxQuery] beginBoxQuery timestep=1 field=EM logic_box=[[51840, 76672], [67008, 86400]] end_resolutions=[21, 23, 25]\");\n",
      "text/plain": [
       "<IPython.core.display.Javascript object>"
      ]
     },
     "metadata": {},
     "output_type": "display_data"
    },
    {
     "data": {
      "application/javascript": "console.log(\"[124825][INFO][openvisuspy.backend_py:308:executeBoxQuery] [200] http://atlantis.sci.utah.edu/mod_visus?dataset=rabbit&cached=1&action=boxquery&box=51840+67007+76672+86399&compression=zip&field=EM&time=1&toh=21\");\n",
      "text/plain": [
       "<IPython.core.display.Javascript object>"
      ]
     },
     "metadata": {},
     "output_type": "display_data"
    },
    {
     "data": {
      "application/javascript": "console.log(\"[124825][INFO][openvisuspy.backend_py:168:returnBoxQueryData] got data 0/[21, 23, 25] timestep=1 field=EM H=-1 data.shape=(76, 237) data.dtype=uint8 logic_box=[[51840, 76672], [67008, 86400]] m=0 M=255 ms=41\");\n",
      "text/plain": [
       "<IPython.core.display.Javascript object>"
      ]
     },
     "metadata": {},
     "output_type": "display_data"
    },
    {
     "data": {
      "application/javascript": "console.log(\"[124825][INFO][openvisuspy.slice:190:renderResultIfNeeded] Slice[1]::rendering result data.shape=(76, 237) data.dtype=uint8 logic_box=[[51840, 76672], [67008, 86400]]\");\n",
      "text/plain": [
       "<IPython.core.display.Javascript object>"
      ]
     },
     "metadata": {},
     "output_type": "display_data"
    },
    {
     "data": {
      "application/javascript": "console.log(\"[124825][INFO][openvisuspy.backend_py:308:executeBoxQuery] [200] http://atlantis.sci.utah.edu/mod_visus?dataset=rabbit&cached=1&action=boxquery&box=51840+67007+76672+86399&compression=zip&field=EM&time=1&toh=23\");\n",
      "text/plain": [
       "<IPython.core.display.Javascript object>"
      ]
     },
     "metadata": {},
     "output_type": "display_data"
    },
    {
     "data": {
      "application/javascript": "console.log(\"[124825][INFO][openvisuspy.backend_py:168:returnBoxQueryData] got data 1/[21, 23, 25] timestep=1 field=EM H=21 data.shape=(152, 474) data.dtype=uint8 logic_box=[[51840, 76672], [67008, 86400]] m=0 M=255 ms=104\");\n",
      "text/plain": [
       "<IPython.core.display.Javascript object>"
      ]
     },
     "metadata": {},
     "output_type": "display_data"
    },
    {
     "data": {
      "application/javascript": "console.log(\"[124825][INFO][openvisuspy.slice:190:renderResultIfNeeded] Slice[1]::rendering result data.shape=(152, 474) data.dtype=uint8 logic_box=[[51840, 76672], [67008, 86400]]\");\n",
      "text/plain": [
       "<IPython.core.display.Javascript object>"
      ]
     },
     "metadata": {},
     "output_type": "display_data"
    },
    {
     "data": {
      "application/javascript": "console.log(\"[124825][INFO][openvisuspy.backend_py:308:executeBoxQuery] [200] http://atlantis.sci.utah.edu/mod_visus?dataset=rabbit&cached=1&action=boxquery&box=51840+67007+76672+86399&compression=zip&field=EM&time=1&toh=25\");\n",
      "text/plain": [
       "<IPython.core.display.Javascript object>"
      ]
     },
     "metadata": {},
     "output_type": "display_data"
    },
    {
     "data": {
      "application/javascript": "console.log(\"[124825][INFO][openvisuspy.backend_py:168:returnBoxQueryData] got data 2/[21, 23, 25] timestep=1 field=EM H=23 data.shape=(304, 948) data.dtype=uint8 logic_box=[[51840, 76672], [67008, 86400]] m=0 M=255 ms=269\");\n",
      "text/plain": [
       "<IPython.core.display.Javascript object>"
      ]
     },
     "metadata": {},
     "output_type": "display_data"
    },
    {
     "data": {
      "application/javascript": "console.log(\"[124825][INFO][openvisuspy.backend_py:82:printStatistics] Stats::printStatistics enlapsed=0.27872729301452637 seconds\");\n",
      "text/plain": [
       "<IPython.core.display.Javascript object>"
      ]
     },
     "metadata": {},
     "output_type": "display_data"
    },
    {
     "data": {
      "application/javascript": "console.log(\"[124825][INFO][openvisuspy.slice:190:renderResultIfNeeded] Slice[1]::rendering result data.shape=(304, 948) data.dtype=uint8 logic_box=[[51840, 76672], [67008, 86400]]\");\n",
      "text/plain": [
       "<IPython.core.display.Javascript object>"
      ]
     },
     "metadata": {},
     "output_type": "display_data"
    }
   ],
   "source": [
    "def MyApp(doc,url='http://atlantis.sci.utah.edu/mod_visus?dataset=rabbit&cached=1'):\n",
    "    view=Slice(show_options=[\"palette\",\"timestep\",\"field\",\"direction\",\"offset\"])\n",
    "    view.setDataset(url)   \n",
    "    view.setDirection(2)\n",
    "    view.setPalette(\"Greys256\")\n",
    "    view.setPaletteRange((0,255))\n",
    "    view.setTimestep(view.getTimestep())\n",
    "    view.setField(view.getField())\n",
    "    doc.add_root(view.getBokehLayout(doc=doc))\n",
    "ShowBokehApp(MyApp)"
   ]
  },
  {
   "cell_type": "code",
   "execution_count": null,
   "metadata": {},
   "outputs": [],
   "source": []
  }
 ],
 "metadata": {
  "kernelspec": {
   "display_name": "Python 3 (ipykernel)",
   "language": "python",
   "name": "python3"
  },
  "language_info": {
   "codemirror_mode": {
    "name": "ipython",
    "version": 3
   },
   "file_extension": ".py",
   "mimetype": "text/x-python",
   "name": "python",
   "nbconvert_exporter": "python",
   "pygments_lexer": "ipython3",
   "version": "3.9.9"
  },
  "vscode": {
   "interpreter": {
    "hash": "81794d4967e6c3204c66dcd87b604927b115b27c00565d3d43f05ba2f3a2cb0d"
   }
  }
 },
 "nbformat": 4,
 "nbformat_minor": 4
}

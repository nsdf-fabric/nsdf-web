{
 "cells": [
  {
   "cell_type": "markdown",
   "metadata": {},
   "source": [
    "| ![nsdf](https://www.sci.utah.edu/~pascucci/public/NSDF-smaller.PNG)  | [National Science Data Fabric](https://nationalsciencedatafabric.org/) [Jupyter notebook](https://jupyter.org/) <br> created by  [Valerio Pascucci](http://cedmav.com/) and  [Giorgio Scorzelli](https://www.sci.utah.edu/people/scrgiorgio.html)  |  \n",
    "|---|:---:|\n",
    "\n",
    "\n",
    "#  <center> This is a preview of the data:\n",
    "![Visualization of Covid-19 cases](https://www.sci.utah.edu/~pascucci/public/CHESS-visus_recon_combined_1_2_3_fullres_zip.gif)"
   ]
  },
  {
   "cell_type": "markdown",
   "metadata": {},
   "source": [
    "# Import OpenVisus"
   ]
  },
  {
   "cell_type": "code",
   "execution_count": 1,
   "metadata": {},
   "outputs": [
    {
     "data": {
      "text/html": [
       "<div class=\"bk-root\">\n",
       "        <a href=\"https://bokeh.org\" target=\"_blank\" class=\"bk-logo bk-logo-small bk-logo-notebook\"></a>\n",
       "        <span id=\"1001\">Loading BokehJS ...</span>\n",
       "    </div>\n"
      ]
     },
     "metadata": {},
     "output_type": "display_data"
    },
    {
     "data": {
      "application/javascript": [
       "(function(root) {\n",
       "  function now() {\n",
       "    return new Date();\n",
       "  }\n",
       "\n",
       "  const force = true;\n",
       "\n",
       "  if (typeof root._bokeh_onload_callbacks === \"undefined\" || force === true) {\n",
       "    root._bokeh_onload_callbacks = [];\n",
       "    root._bokeh_is_loading = undefined;\n",
       "  }\n",
       "\n",
       "const JS_MIME_TYPE = 'application/javascript';\n",
       "  const HTML_MIME_TYPE = 'text/html';\n",
       "  const EXEC_MIME_TYPE = 'application/vnd.bokehjs_exec.v0+json';\n",
       "  const CLASS_NAME = 'output_bokeh rendered_html';\n",
       "\n",
       "  /**\n",
       "   * Render data to the DOM node\n",
       "   */\n",
       "  function render(props, node) {\n",
       "    const script = document.createElement(\"script\");\n",
       "    node.appendChild(script);\n",
       "  }\n",
       "\n",
       "  /**\n",
       "   * Handle when an output is cleared or removed\n",
       "   */\n",
       "  function handleClearOutput(event, handle) {\n",
       "    const cell = handle.cell;\n",
       "\n",
       "    const id = cell.output_area._bokeh_element_id;\n",
       "    const server_id = cell.output_area._bokeh_server_id;\n",
       "    // Clean up Bokeh references\n",
       "    if (id != null && id in Bokeh.index) {\n",
       "      Bokeh.index[id].model.document.clear();\n",
       "      delete Bokeh.index[id];\n",
       "    }\n",
       "\n",
       "    if (server_id !== undefined) {\n",
       "      // Clean up Bokeh references\n",
       "      const cmd_clean = \"from bokeh.io.state import curstate; print(curstate().uuid_to_server['\" + server_id + \"'].get_sessions()[0].document.roots[0]._id)\";\n",
       "      cell.notebook.kernel.execute(cmd_clean, {\n",
       "        iopub: {\n",
       "          output: function(msg) {\n",
       "            const id = msg.content.text.trim();\n",
       "            if (id in Bokeh.index) {\n",
       "              Bokeh.index[id].model.document.clear();\n",
       "              delete Bokeh.index[id];\n",
       "            }\n",
       "          }\n",
       "        }\n",
       "      });\n",
       "      // Destroy server and session\n",
       "      const cmd_destroy = \"import bokeh.io.notebook as ion; ion.destroy_server('\" + server_id + \"')\";\n",
       "      cell.notebook.kernel.execute(cmd_destroy);\n",
       "    }\n",
       "  }\n",
       "\n",
       "  /**\n",
       "   * Handle when a new output is added\n",
       "   */\n",
       "  function handleAddOutput(event, handle) {\n",
       "    const output_area = handle.output_area;\n",
       "    const output = handle.output;\n",
       "\n",
       "    // limit handleAddOutput to display_data with EXEC_MIME_TYPE content only\n",
       "    if ((output.output_type != \"display_data\") || (!Object.prototype.hasOwnProperty.call(output.data, EXEC_MIME_TYPE))) {\n",
       "      return\n",
       "    }\n",
       "\n",
       "    const toinsert = output_area.element.find(\".\" + CLASS_NAME.split(' ')[0]);\n",
       "\n",
       "    if (output.metadata[EXEC_MIME_TYPE][\"id\"] !== undefined) {\n",
       "      toinsert[toinsert.length - 1].firstChild.textContent = output.data[JS_MIME_TYPE];\n",
       "      // store reference to embed id on output_area\n",
       "      output_area._bokeh_element_id = output.metadata[EXEC_MIME_TYPE][\"id\"];\n",
       "    }\n",
       "    if (output.metadata[EXEC_MIME_TYPE][\"server_id\"] !== undefined) {\n",
       "      const bk_div = document.createElement(\"div\");\n",
       "      bk_div.innerHTML = output.data[HTML_MIME_TYPE];\n",
       "      const script_attrs = bk_div.children[0].attributes;\n",
       "      for (let i = 0; i < script_attrs.length; i++) {\n",
       "        toinsert[toinsert.length - 1].firstChild.setAttribute(script_attrs[i].name, script_attrs[i].value);\n",
       "        toinsert[toinsert.length - 1].firstChild.textContent = bk_div.children[0].textContent\n",
       "      }\n",
       "      // store reference to server id on output_area\n",
       "      output_area._bokeh_server_id = output.metadata[EXEC_MIME_TYPE][\"server_id\"];\n",
       "    }\n",
       "  }\n",
       "\n",
       "  function register_renderer(events, OutputArea) {\n",
       "\n",
       "    function append_mime(data, metadata, element) {\n",
       "      // create a DOM node to render to\n",
       "      const toinsert = this.create_output_subarea(\n",
       "        metadata,\n",
       "        CLASS_NAME,\n",
       "        EXEC_MIME_TYPE\n",
       "      );\n",
       "      this.keyboard_manager.register_events(toinsert);\n",
       "      // Render to node\n",
       "      const props = {data: data, metadata: metadata[EXEC_MIME_TYPE]};\n",
       "      render(props, toinsert[toinsert.length - 1]);\n",
       "      element.append(toinsert);\n",
       "      return toinsert\n",
       "    }\n",
       "\n",
       "    /* Handle when an output is cleared or removed */\n",
       "    events.on('clear_output.CodeCell', handleClearOutput);\n",
       "    events.on('delete.Cell', handleClearOutput);\n",
       "\n",
       "    /* Handle when a new output is added */\n",
       "    events.on('output_added.OutputArea', handleAddOutput);\n",
       "\n",
       "    /**\n",
       "     * Register the mime type and append_mime function with output_area\n",
       "     */\n",
       "    OutputArea.prototype.register_mime_type(EXEC_MIME_TYPE, append_mime, {\n",
       "      /* Is output safe? */\n",
       "      safe: true,\n",
       "      /* Index of renderer in `output_area.display_order` */\n",
       "      index: 0\n",
       "    });\n",
       "  }\n",
       "\n",
       "  // register the mime type if in Jupyter Notebook environment and previously unregistered\n",
       "  if (root.Jupyter !== undefined) {\n",
       "    const events = require('base/js/events');\n",
       "    const OutputArea = require('notebook/js/outputarea').OutputArea;\n",
       "\n",
       "    if (OutputArea.prototype.mime_types().indexOf(EXEC_MIME_TYPE) == -1) {\n",
       "      register_renderer(events, OutputArea);\n",
       "    }\n",
       "  }\n",
       "  if (typeof (root._bokeh_timeout) === \"undefined\" || force === true) {\n",
       "    root._bokeh_timeout = Date.now() + 5000;\n",
       "    root._bokeh_failed_load = false;\n",
       "  }\n",
       "\n",
       "  const NB_LOAD_WARNING = {'data': {'text/html':\n",
       "     \"<div style='background-color: #fdd'>\\n\"+\n",
       "     \"<p>\\n\"+\n",
       "     \"BokehJS does not appear to have successfully loaded. If loading BokehJS from CDN, this \\n\"+\n",
       "     \"may be due to a slow or bad network connection. Possible fixes:\\n\"+\n",
       "     \"</p>\\n\"+\n",
       "     \"<ul>\\n\"+\n",
       "     \"<li>re-rerun `output_notebook()` to attempt to load from CDN again, or</li>\\n\"+\n",
       "     \"<li>use INLINE resources instead, as so:</li>\\n\"+\n",
       "     \"</ul>\\n\"+\n",
       "     \"<code>\\n\"+\n",
       "     \"from bokeh.resources import INLINE\\n\"+\n",
       "     \"output_notebook(resources=INLINE)\\n\"+\n",
       "     \"</code>\\n\"+\n",
       "     \"</div>\"}};\n",
       "\n",
       "  function display_loaded() {\n",
       "    const el = document.getElementById(\"1001\");\n",
       "    if (el != null) {\n",
       "      el.textContent = \"BokehJS is loading...\";\n",
       "    }\n",
       "    if (root.Bokeh !== undefined) {\n",
       "      if (el != null) {\n",
       "        el.textContent = \"BokehJS \" + root.Bokeh.version + \" successfully loaded.\";\n",
       "      }\n",
       "    } else if (Date.now() < root._bokeh_timeout) {\n",
       "      setTimeout(display_loaded, 100)\n",
       "    }\n",
       "  }\n",
       "\n",
       "  function run_callbacks() {\n",
       "    try {\n",
       "      root._bokeh_onload_callbacks.forEach(function(callback) {\n",
       "        if (callback != null)\n",
       "          callback();\n",
       "      });\n",
       "    } finally {\n",
       "      delete root._bokeh_onload_callbacks\n",
       "    }\n",
       "    console.debug(\"Bokeh: all callbacks have finished\");\n",
       "  }\n",
       "\n",
       "  function load_libs(css_urls, js_urls, callback) {\n",
       "    if (css_urls == null) css_urls = [];\n",
       "    if (js_urls == null) js_urls = [];\n",
       "\n",
       "    root._bokeh_onload_callbacks.push(callback);\n",
       "    if (root._bokeh_is_loading > 0) {\n",
       "      console.debug(\"Bokeh: BokehJS is being loaded, scheduling callback at\", now());\n",
       "      return null;\n",
       "    }\n",
       "    if (js_urls == null || js_urls.length === 0) {\n",
       "      run_callbacks();\n",
       "      return null;\n",
       "    }\n",
       "    console.debug(\"Bokeh: BokehJS not loaded, scheduling load and callback at\", now());\n",
       "    root._bokeh_is_loading = css_urls.length + js_urls.length;\n",
       "\n",
       "    function on_load() {\n",
       "      root._bokeh_is_loading--;\n",
       "      if (root._bokeh_is_loading === 0) {\n",
       "        console.debug(\"Bokeh: all BokehJS libraries/stylesheets loaded\");\n",
       "        run_callbacks()\n",
       "      }\n",
       "    }\n",
       "\n",
       "    function on_error(url) {\n",
       "      console.error(\"failed to load \" + url);\n",
       "    }\n",
       "\n",
       "    for (let i = 0; i < css_urls.length; i++) {\n",
       "      const url = css_urls[i];\n",
       "      const element = document.createElement(\"link\");\n",
       "      element.onload = on_load;\n",
       "      element.onerror = on_error.bind(null, url);\n",
       "      element.rel = \"stylesheet\";\n",
       "      element.type = \"text/css\";\n",
       "      element.href = url;\n",
       "      console.debug(\"Bokeh: injecting link tag for BokehJS stylesheet: \", url);\n",
       "      document.body.appendChild(element);\n",
       "    }\n",
       "\n",
       "    for (let i = 0; i < js_urls.length; i++) {\n",
       "      const url = js_urls[i];\n",
       "      const element = document.createElement('script');\n",
       "      element.onload = on_load;\n",
       "      element.onerror = on_error.bind(null, url);\n",
       "      element.async = false;\n",
       "      element.src = url;\n",
       "      console.debug(\"Bokeh: injecting script tag for BokehJS library: \", url);\n",
       "      document.head.appendChild(element);\n",
       "    }\n",
       "  };\n",
       "\n",
       "  function inject_raw_css(css) {\n",
       "    const element = document.createElement(\"style\");\n",
       "    element.appendChild(document.createTextNode(css));\n",
       "    document.body.appendChild(element);\n",
       "  }\n",
       "\n",
       "  const js_urls = [\"https://cdn.bokeh.org/bokeh/release/bokeh-2.4.3.min.js\", \"https://cdn.bokeh.org/bokeh/release/bokeh-gl-2.4.3.min.js\", \"https://cdn.bokeh.org/bokeh/release/bokeh-widgets-2.4.3.min.js\", \"https://cdn.bokeh.org/bokeh/release/bokeh-tables-2.4.3.min.js\", \"https://cdn.bokeh.org/bokeh/release/bokeh-mathjax-2.4.3.min.js\"];\n",
       "  const css_urls = [];\n",
       "\n",
       "  const inline_js = [    function(Bokeh) {\n",
       "      Bokeh.set_log_level(\"debug\");\n",
       "    },\n",
       "function(Bokeh) {\n",
       "    }\n",
       "  ];\n",
       "\n",
       "  function run_inline_js() {\n",
       "    if (root.Bokeh !== undefined || force === true) {\n",
       "          for (let i = 0; i < inline_js.length; i++) {\n",
       "      inline_js[i].call(root, root.Bokeh);\n",
       "    }\n",
       "if (force === true) {\n",
       "        display_loaded();\n",
       "      }} else if (Date.now() < root._bokeh_timeout) {\n",
       "      setTimeout(run_inline_js, 100);\n",
       "    } else if (!root._bokeh_failed_load) {\n",
       "      console.log(\"Bokeh: BokehJS failed to load within specified timeout.\");\n",
       "      root._bokeh_failed_load = true;\n",
       "    } else if (force !== true) {\n",
       "      const cell = $(document.getElementById(\"1001\")).parents('.cell').data().cell;\n",
       "      cell.output_area.append_execute_result(NB_LOAD_WARNING)\n",
       "    }\n",
       "  }\n",
       "\n",
       "  if (root._bokeh_is_loading === 0) {\n",
       "    console.debug(\"Bokeh: BokehJS loaded, going straight to plotting\");\n",
       "    run_inline_js();\n",
       "  } else {\n",
       "    load_libs(css_urls, js_urls, function() {\n",
       "      console.debug(\"Bokeh: BokehJS plotting callback run at\", now());\n",
       "      run_inline_js();\n",
       "    });\n",
       "  }\n",
       "}(window));"
      ],
      "application/vnd.bokehjs_load.v0+json": "(function(root) {\n  function now() {\n    return new Date();\n  }\n\n  const force = true;\n\n  if (typeof root._bokeh_onload_callbacks === \"undefined\" || force === true) {\n    root._bokeh_onload_callbacks = [];\n    root._bokeh_is_loading = undefined;\n  }\n\n\n  if (typeof (root._bokeh_timeout) === \"undefined\" || force === true) {\n    root._bokeh_timeout = Date.now() + 5000;\n    root._bokeh_failed_load = false;\n  }\n\n  const NB_LOAD_WARNING = {'data': {'text/html':\n     \"<div style='background-color: #fdd'>\\n\"+\n     \"<p>\\n\"+\n     \"BokehJS does not appear to have successfully loaded. If loading BokehJS from CDN, this \\n\"+\n     \"may be due to a slow or bad network connection. Possible fixes:\\n\"+\n     \"</p>\\n\"+\n     \"<ul>\\n\"+\n     \"<li>re-rerun `output_notebook()` to attempt to load from CDN again, or</li>\\n\"+\n     \"<li>use INLINE resources instead, as so:</li>\\n\"+\n     \"</ul>\\n\"+\n     \"<code>\\n\"+\n     \"from bokeh.resources import INLINE\\n\"+\n     \"output_notebook(resources=INLINE)\\n\"+\n     \"</code>\\n\"+\n     \"</div>\"}};\n\n  function display_loaded() {\n    const el = document.getElementById(\"1001\");\n    if (el != null) {\n      el.textContent = \"BokehJS is loading...\";\n    }\n    if (root.Bokeh !== undefined) {\n      if (el != null) {\n        el.textContent = \"BokehJS \" + root.Bokeh.version + \" successfully loaded.\";\n      }\n    } else if (Date.now() < root._bokeh_timeout) {\n      setTimeout(display_loaded, 100)\n    }\n  }\n\n  function run_callbacks() {\n    try {\n      root._bokeh_onload_callbacks.forEach(function(callback) {\n        if (callback != null)\n          callback();\n      });\n    } finally {\n      delete root._bokeh_onload_callbacks\n    }\n    console.debug(\"Bokeh: all callbacks have finished\");\n  }\n\n  function load_libs(css_urls, js_urls, callback) {\n    if (css_urls == null) css_urls = [];\n    if (js_urls == null) js_urls = [];\n\n    root._bokeh_onload_callbacks.push(callback);\n    if (root._bokeh_is_loading > 0) {\n      console.debug(\"Bokeh: BokehJS is being loaded, scheduling callback at\", now());\n      return null;\n    }\n    if (js_urls == null || js_urls.length === 0) {\n      run_callbacks();\n      return null;\n    }\n    console.debug(\"Bokeh: BokehJS not loaded, scheduling load and callback at\", now());\n    root._bokeh_is_loading = css_urls.length + js_urls.length;\n\n    function on_load() {\n      root._bokeh_is_loading--;\n      if (root._bokeh_is_loading === 0) {\n        console.debug(\"Bokeh: all BokehJS libraries/stylesheets loaded\");\n        run_callbacks()\n      }\n    }\n\n    function on_error(url) {\n      console.error(\"failed to load \" + url);\n    }\n\n    for (let i = 0; i < css_urls.length; i++) {\n      const url = css_urls[i];\n      const element = document.createElement(\"link\");\n      element.onload = on_load;\n      element.onerror = on_error.bind(null, url);\n      element.rel = \"stylesheet\";\n      element.type = \"text/css\";\n      element.href = url;\n      console.debug(\"Bokeh: injecting link tag for BokehJS stylesheet: \", url);\n      document.body.appendChild(element);\n    }\n\n    for (let i = 0; i < js_urls.length; i++) {\n      const url = js_urls[i];\n      const element = document.createElement('script');\n      element.onload = on_load;\n      element.onerror = on_error.bind(null, url);\n      element.async = false;\n      element.src = url;\n      console.debug(\"Bokeh: injecting script tag for BokehJS library: \", url);\n      document.head.appendChild(element);\n    }\n  };\n\n  function inject_raw_css(css) {\n    const element = document.createElement(\"style\");\n    element.appendChild(document.createTextNode(css));\n    document.body.appendChild(element);\n  }\n\n  const js_urls = [\"https://cdn.bokeh.org/bokeh/release/bokeh-2.4.3.min.js\", \"https://cdn.bokeh.org/bokeh/release/bokeh-gl-2.4.3.min.js\", \"https://cdn.bokeh.org/bokeh/release/bokeh-widgets-2.4.3.min.js\", \"https://cdn.bokeh.org/bokeh/release/bokeh-tables-2.4.3.min.js\", \"https://cdn.bokeh.org/bokeh/release/bokeh-mathjax-2.4.3.min.js\"];\n  const css_urls = [];\n\n  const inline_js = [    function(Bokeh) {\n      Bokeh.set_log_level(\"debug\");\n    },\nfunction(Bokeh) {\n    }\n  ];\n\n  function run_inline_js() {\n    if (root.Bokeh !== undefined || force === true) {\n          for (let i = 0; i < inline_js.length; i++) {\n      inline_js[i].call(root, root.Bokeh);\n    }\nif (force === true) {\n        display_loaded();\n      }} else if (Date.now() < root._bokeh_timeout) {\n      setTimeout(run_inline_js, 100);\n    } else if (!root._bokeh_failed_load) {\n      console.log(\"Bokeh: BokehJS failed to load within specified timeout.\");\n      root._bokeh_failed_load = true;\n    } else if (force !== true) {\n      const cell = $(document.getElementById(\"1001\")).parents('.cell').data().cell;\n      cell.output_area.append_execute_result(NB_LOAD_WARNING)\n    }\n  }\n\n  if (root._bokeh_is_loading === 0) {\n    console.debug(\"Bokeh: BokehJS loaded, going straight to plotting\");\n    run_inline_js();\n  } else {\n    load_libs(css_urls, js_urls, function() {\n      console.debug(\"Bokeh: BokehJS plotting callback run at\", now());\n      run_inline_js();\n    });\n  }\n}(window));"
     },
     "metadata": {},
     "output_type": "display_data"
    },
    {
     "data": {
      "application/javascript": [
       "console.log(\"[134329][INFO][openvisuspy.app:33:ShowBokehApp] ShowBokehApp VISUS_USE_PUBLIC_IP=False VISUS_SSH_TUNNELS=\");\n"
      ],
      "text/plain": [
       "<IPython.core.display.Javascript object>"
      ]
     },
     "metadata": {},
     "output_type": "display_data"
    },
    {
     "data": {
      "application/vnd.bokehjs_exec.v0+json": "",
      "text/html": [
       "<script id=\"1003\">\n",
       "  (function() {\n",
       "    const xhr = new XMLHttpRequest()\n",
       "    xhr.responseType = 'blob';\n",
       "    xhr.open('GET', \"http://localhost:63867/autoload.js?bokeh-autoload-element=1003&bokeh-absolute-url=http://localhost:63867&resources=none\", true);\n",
       "    xhr.onload = function (event) {\n",
       "      const script = document.createElement('script');\n",
       "      const src = URL.createObjectURL(event.target.response);\n",
       "      script.src = src;\n",
       "      document.body.appendChild(script);\n",
       "    };\n",
       "    xhr.send();\n",
       "  })();\n",
       "</script>"
      ]
     },
     "metadata": {
      "application/vnd.bokehjs_exec.v0+json": {
       "server_id": "dc1ea83be0bb4eb0a81e97c973efbc01"
      }
     },
     "output_type": "display_data"
    }
   ],
   "source": [
    "import os,sys,logging\n",
    "\n",
    "# import bokeh\n",
    "os.environ[\"BOKEH_ALLOW_WS_ORIGIN\"]=\"*\" # for debugging \n",
    "os.environ[\"BOKEH_LOG_LEVEL\"]=\"debug\"   # for debugging \n",
    "import bokeh.io\n",
    "bokeh.io.output_notebook()\n",
    "\n",
    "os.environ[\"VISUS_USE_PUBLIC_IP\"]=str(False)\n",
    "os.environ[\"VISUS_SSL_TUNNELS\"]=\"\"\n",
    "os.environ[\"VISUS_CPP_VERBOSE\"       ]=\"0\"\n",
    "os.environ[\"VISUS_NETSERVICE_VERBOSE\"]=\"0\"\n",
    "\n",
    "from openvisuspy import ShowBokehApp,TestBokehApp,Slice,Slices,SetupLogger\n",
    "SetupLogger()\n",
    "\n",
    "ShowBokehApp(TestBokehApp)"
   ]
  },
  {
   "cell_type": "markdown",
   "metadata": {},
   "source": [
    "# Show single slice"
   ]
  },
  {
   "cell_type": "code",
   "execution_count": 2,
   "metadata": {},
   "outputs": [
    {
     "data": {
      "application/javascript": [
       "console.log(\"[134329][INFO][openvisuspy.app:33:ShowBokehApp] ShowBokehApp VISUS_USE_PUBLIC_IP=False VISUS_SSH_TUNNELS=\");\n"
      ],
      "text/plain": [
       "<IPython.core.display.Javascript object>"
      ]
     },
     "metadata": {},
     "output_type": "display_data"
    },
    {
     "data": {
      "application/vnd.bokehjs_exec.v0+json": "",
      "text/html": [
       "<script id=\"1004\">\n",
       "  (function() {\n",
       "    const xhr = new XMLHttpRequest()\n",
       "    xhr.responseType = 'blob';\n",
       "    xhr.open('GET', \"http://localhost:63869/autoload.js?bokeh-autoload-element=1004&bokeh-absolute-url=http://localhost:63869&resources=none\", true);\n",
       "    xhr.onload = function (event) {\n",
       "      const script = document.createElement('script');\n",
       "      const src = URL.createObjectURL(event.target.response);\n",
       "      script.src = src;\n",
       "      document.body.appendChild(script);\n",
       "    };\n",
       "    xhr.send();\n",
       "  })();\n",
       "</script>"
      ]
     },
     "metadata": {
      "application/vnd.bokehjs_exec.v0+json": {
       "server_id": "cb7531cfec7a42fc9908c002f65301bf"
      }
     },
     "output_type": "display_data"
    }
   ],
   "source": [
    "url='http://atlantis.sci.utah.edu:80/mod_visus?dataset=chess-recon_combined_1_2_3_fullres_zip&cached=1'\n",
    "\n",
    "# I need to know how to show the data\n",
    "palette_range=[-0.0014,0.002]\n",
    "palette=\"Plasma256\"\n",
    "\n",
    "def MyApp(doc): \n",
    "    view=Slice(show_options=[\"palette\",\"timestep\",\"field\",\"direction\",\"offset\"])\n",
    "    view.setDataset(url)   \n",
    "    view.setDirection(2)\n",
    "    view.setPalette(palette)\n",
    "    view.setPaletteRange(palette_range)\n",
    "    view.setTimestep(view.getTimestep())\n",
    "    view.setField(view.getField())\n",
    "    doc.add_root(view.getBokehLayout(doc=doc))\n",
    "ShowBokehApp(MyApp)"
   ]
  },
  {
   "cell_type": "code",
   "execution_count": 3,
   "metadata": {},
   "outputs": [
    {
     "data": {
      "application/javascript": [
       "console.log(\"[134329][INFO][openvisuspy.app:33:ShowBokehApp] ShowBokehApp VISUS_USE_PUBLIC_IP=False VISUS_SSH_TUNNELS=\");\n"
      ],
      "text/plain": [
       "<IPython.core.display.Javascript object>"
      ]
     },
     "metadata": {},
     "output_type": "display_data"
    },
    {
     "data": {
      "application/vnd.bokehjs_exec.v0+json": "",
      "text/html": [
       "<script id=\"1005\">\n",
       "  (function() {\n",
       "    const xhr = new XMLHttpRequest()\n",
       "    xhr.responseType = 'blob';\n",
       "    xhr.open('GET', \"http://localhost:63871/autoload.js?bokeh-autoload-element=1005&bokeh-absolute-url=http://localhost:63871&resources=none\", true);\n",
       "    xhr.onload = function (event) {\n",
       "      const script = document.createElement('script');\n",
       "      const src = URL.createObjectURL(event.target.response);\n",
       "      script.src = src;\n",
       "      document.body.appendChild(script);\n",
       "    };\n",
       "    xhr.send();\n",
       "  })();\n",
       "</script>"
      ]
     },
     "metadata": {
      "application/vnd.bokehjs_exec.v0+json": {
       "server_id": "75f7af0c84af49febf046933798d44dc"
      }
     },
     "output_type": "display_data"
    },
    {
     "data": {
      "application/javascript": [
       "console.log(\"[134329][INFO][openvisuspy.widgets:278:setDataset] Widgets[0]::setDataset value=http://atlantis.sci.utah.edu:80/mod_visus?dataset=chess-recon_combined_1_2_3_fullres_zip&cached=1\");\n"
      ],
      "text/plain": [
       "<IPython.core.display.Javascript object>"
      ]
     },
     "metadata": {},
     "output_type": "display_data"
    },
    {
     "data": {
      "application/javascript": [
       "console.log(\"[134329][INFO][openvisuspy.backend_py:373:LoadDataset] Got response <dataset name='chess-recon_combined_1_2_3_fullres_zip' url='$(protocol)://$(hostname):$(port)/mod_visus?action=readdataset&amp;dataset=chess-recon_combined_1_2_3_fullres_zip' typename='IdxDataset'> \t<idxfile> \t\t<version value='6' /> \t\t<bitmask value='V2012012012012012012012012012012' /> \t\t<box value='0 912 0 816 0 2025' /> \t\t<bitsperblock value='16' /> \t\t<blocksperfile value='128' /> \t\t<block_interleaving value='0' /> \t\t<filename_template value='./visus/%04x.bin' /> \t\t<missing_blocks value='False' /> \t\t<arco value='0' /> \t\t<time_template value='' /> \t\t<field name='data' description='' index='' default_compression='zip' default_layout='' default_value='0' filter='' dtype='float32' /> \t\t<timestep when='0' /> \t</idxfile> </dataset>\");\n"
      ],
      "text/plain": [
       "<IPython.core.display.Javascript object>"
      ]
     },
     "metadata": {},
     "output_type": "display_data"
    },
    {
     "data": {
      "application/javascript": [
       "console.log(\"[134329][INFO][openvisuspy.backend_py:420:LoadDataset] LoadDataset returned: {'url': 'http://atlantis.sci.utah.edu:80/mod_visus?dataset=chess-recon_combined_1_2_3_fullres_zip&cached=1', 'bitmask': 'V2012012012012012012012012012012', 'pdim': 3, 'max_resolution': 31, 'timesteps': [0], 'fields': [{'name': 'data', 'dtype': 'float32'}], 'logic_box': [[0, 0, 0], [912, 816, 2025]], 'logic_size': [912, 816, 2025]}\");\n"
      ],
      "text/plain": [
       "<IPython.core.display.Javascript object>"
      ]
     },
     "metadata": {},
     "output_type": "display_data"
    },
    {
     "data": {
      "application/javascript": [
       "console.log(\"[134329][INFO][openvisuspy.widgets:328:setTimesteps] Widgets[0]::setTimesteps start=0 end=0\");\n"
      ],
      "text/plain": [
       "<IPython.core.display.Javascript object>"
      ]
     },
     "metadata": {},
     "output_type": "display_data"
    },
    {
     "data": {
      "application/javascript": [
       "console.log(\"[134329][INFO][openvisuspy.widgets:339:setTimestepDelta] Widgets[0]::setTimestepDelta value=1\");\n"
      ],
      "text/plain": [
       "<IPython.core.display.Javascript object>"
      ]
     },
     "metadata": {},
     "output_type": "display_data"
    },
    {
     "data": {
      "application/javascript": [
       "console.log(\"[134329][INFO][openvisuspy.widgets:360:setTimestep] Widgets[0]::setTimestep value=0\");\n"
      ],
      "text/plain": [
       "<IPython.core.display.Javascript object>"
      ]
     },
     "metadata": {},
     "output_type": "display_data"
    },
    {
     "data": {
      "application/javascript": [
       "console.log(\"[134329][INFO][openvisuspy.widgets:360:setTimestep] Widgets[0]::setTimestep value=0\");\n"
      ],
      "text/plain": [
       "<IPython.core.display.Javascript object>"
      ]
     },
     "metadata": {},
     "output_type": "display_data"
    },
    {
     "data": {
      "application/javascript": [
       "console.log(\"[134329][INFO][openvisuspy.widgets:466:setDirection] Widgets[0]::setDirection value=2\");\n"
      ],
      "text/plain": [
       "<IPython.core.display.Javascript object>"
      ]
     },
     "metadata": {},
     "output_type": "display_data"
    },
    {
     "data": {
      "application/javascript": [
       "console.log(\"[134329][INFO][openvisuspy.widgets:494:setOffset] Widgets[0]::getOffset value=1012\");\n"
      ],
      "text/plain": [
       "<IPython.core.display.Javascript object>"
      ]
     },
     "metadata": {},
     "output_type": "display_data"
    },
    {
     "data": {
      "application/javascript": [
       "console.log(\"[134329][INFO][openvisuspy.slice:137:setLogicBox] Slice[0]::setLogicBox value=([0, 0, 0], [912, 816, 2025])\");\n"
      ],
      "text/plain": [
       "<IPython.core.display.Javascript object>"
      ]
     },
     "metadata": {},
     "output_type": "display_data"
    },
    {
     "data": {
      "application/javascript": [
       "console.log(\"[134329][INFO][openvisuspy.widgets:372:setFields] Widgets[0]::setFields value=['data']\");\n"
      ],
      "text/plain": [
       "<IPython.core.display.Javascript object>"
      ]
     },
     "metadata": {},
     "output_type": "display_data"
    },
    {
     "data": {
      "application/javascript": [
       "console.log(\"[134329][INFO][openvisuspy.widgets:381:setField] Widgets[0]::setField value=data\");\n"
      ],
      "text/plain": [
       "<IPython.core.display.Javascript object>"
      ]
     },
     "metadata": {},
     "output_type": "display_data"
    },
    {
     "data": {
      "application/javascript": [
       "console.log(\"[134329][INFO][openvisuspy.widgets:466:setDirection] Widgets[0]::setDirection value=2\");\n"
      ],
      "text/plain": [
       "<IPython.core.display.Javascript object>"
      ]
     },
     "metadata": {},
     "output_type": "display_data"
    },
    {
     "data": {
      "application/javascript": [
       "console.log(\"[134329][INFO][openvisuspy.slice:137:setLogicBox] Slice[0]::setLogicBox value=([0, 0, 0], [912, 816, 2025])\");\n"
      ],
      "text/plain": [
       "<IPython.core.display.Javascript object>"
      ]
     },
     "metadata": {},
     "output_type": "display_data"
    },
    {
     "data": {
      "application/javascript": [
       "console.log(\"[134329][INFO][openvisuspy.widgets:394:setPalette] Widgets[0]::setPalette value=Plasma256\");\n"
      ],
      "text/plain": [
       "<IPython.core.display.Javascript object>"
      ]
     },
     "metadata": {},
     "output_type": "display_data"
    },
    {
     "data": {
      "application/javascript": [
       "console.log(\"[134329][INFO][openvisuspy.widgets:394:setPalette] Widgets[0]::setPalette value=Plasma256\");\n"
      ],
      "text/plain": [
       "<IPython.core.display.Javascript object>"
      ]
     },
     "metadata": {},
     "output_type": "display_data"
    },
    {
     "data": {
      "application/javascript": [
       "console.log(\"[134329][INFO][openvisuspy.widgets:408:setPaletteRange] Widgets[0]::setPaletteRange value=[-0.0014, 0.002]\");\n"
      ],
      "text/plain": [
       "<IPython.core.display.Javascript object>"
      ]
     },
     "metadata": {},
     "output_type": "display_data"
    },
    {
     "data": {
      "application/javascript": [
       "console.log(\"[134329][INFO][openvisuspy.widgets:360:setTimestep] Widgets[0]::setTimestep value=0\");\n"
      ],
      "text/plain": [
       "<IPython.core.display.Javascript object>"
      ]
     },
     "metadata": {},
     "output_type": "display_data"
    },
    {
     "data": {
      "application/javascript": [
       "console.log(\"[134329][INFO][openvisuspy.widgets:381:setField] Widgets[0]::setField value=data\");\n"
      ],
      "text/plain": [
       "<IPython.core.display.Javascript object>"
      ]
     },
     "metadata": {},
     "output_type": "display_data"
    },
    {
     "data": {
      "application/javascript": [
       "console.log(\"[134329][INFO][openvisuspy.widgets:319:setNumberOfViews] Widgets[1]::setNumberOfViews value=2\");\n"
      ],
      "text/plain": [
       "<IPython.core.display.Javascript object>"
      ]
     },
     "metadata": {},
     "output_type": "display_data"
    },
    {
     "data": {
      "application/javascript": [
       "console.log(\"[134329][INFO][openvisuspy.widgets:319:setNumberOfViews] Widgets[1]::setNumberOfViews value=2\");\n"
      ],
      "text/plain": [
       "<IPython.core.display.Javascript object>"
      ]
     },
     "metadata": {},
     "output_type": "display_data"
    },
    {
     "data": {
      "application/javascript": [
       "console.log(\"[134329][INFO][openvisuspy.widgets:147:stop] <class 'openvisuspy.slices.Slices'> stop\");\n"
      ],
      "text/plain": [
       "<IPython.core.display.Javascript object>"
      ]
     },
     "metadata": {},
     "output_type": "display_data"
    },
    {
     "data": {
      "application/javascript": [
       "console.log(\"[134329][INFO][openvisuspy.widgets:147:stop] <class 'openvisuspy.slices.Slices'> stop\");\n"
      ],
      "text/plain": [
       "<IPython.core.display.Javascript object>"
      ]
     },
     "metadata": {},
     "output_type": "display_data"
    },
    {
     "data": {
      "application/javascript": [
       "console.log(\"[134329][INFO][openvisuspy.widgets:147:stop] <class 'openvisuspy.slice.Slice'> stop\");\n"
      ],
      "text/plain": [
       "<IPython.core.display.Javascript object>"
      ]
     },
     "metadata": {},
     "output_type": "display_data"
    },
    {
     "data": {
      "application/javascript": [
       "console.log(\"[134329][INFO][openvisuspy.widgets:147:stop] <class 'openvisuspy.slice.Slice'> stop\");\n"
      ],
      "text/plain": [
       "<IPython.core.display.Javascript object>"
      ]
     },
     "metadata": {},
     "output_type": "display_data"
    },
    {
     "data": {
      "application/javascript": [
       "console.log(\"[134329][INFO][openvisuspy.widgets:278:setDataset] Widgets[1]::setDataset value=http://atlantis.sci.utah.edu:80/mod_visus?dataset=chess-recon_combined_1_2_3_fullres_zip&cached=1\");\n"
      ],
      "text/plain": [
       "<IPython.core.display.Javascript object>"
      ]
     },
     "metadata": {},
     "output_type": "display_data"
    },
    {
     "data": {
      "application/javascript": [
       "console.log(\"[134329][INFO][openvisuspy.backend_py:373:LoadDataset] Got response <dataset name='chess-recon_combined_1_2_3_fullres_zip' url='$(protocol)://$(hostname):$(port)/mod_visus?action=readdataset&amp;dataset=chess-recon_combined_1_2_3_fullres_zip' typename='IdxDataset'> \t<idxfile> \t\t<version value='6' /> \t\t<bitmask value='V2012012012012012012012012012012' /> \t\t<box value='0 912 0 816 0 2025' /> \t\t<bitsperblock value='16' /> \t\t<blocksperfile value='128' /> \t\t<block_interleaving value='0' /> \t\t<filename_template value='./visus/%04x.bin' /> \t\t<missing_blocks value='False' /> \t\t<arco value='0' /> \t\t<time_template value='' /> \t\t<field name='data' description='' index='' default_compression='zip' default_layout='' default_value='0' filter='' dtype='float32' /> \t\t<timestep when='0' /> \t</idxfile> </dataset>\");\n"
      ],
      "text/plain": [
       "<IPython.core.display.Javascript object>"
      ]
     },
     "metadata": {},
     "output_type": "display_data"
    },
    {
     "data": {
      "application/javascript": [
       "console.log(\"[134329][INFO][openvisuspy.backend_py:420:LoadDataset] LoadDataset returned: {'url': 'http://atlantis.sci.utah.edu:80/mod_visus?dataset=chess-recon_combined_1_2_3_fullres_zip&cached=1', 'bitmask': 'V2012012012012012012012012012012', 'pdim': 3, 'max_resolution': 31, 'timesteps': [0], 'fields': [{'name': 'data', 'dtype': 'float32'}], 'logic_box': [[0, 0, 0], [912, 816, 2025]], 'logic_size': [912, 816, 2025]}\");\n"
      ],
      "text/plain": [
       "<IPython.core.display.Javascript object>"
      ]
     },
     "metadata": {},
     "output_type": "display_data"
    },
    {
     "data": {
      "application/javascript": [
       "console.log(\"[134329][INFO][openvisuspy.widgets:278:setDataset] Widgets[4]::setDataset value=http://atlantis.sci.utah.edu:80/mod_visus?dataset=chess-recon_combined_1_2_3_fullres_zip&cached=1\");\n"
      ],
      "text/plain": [
       "<IPython.core.display.Javascript object>"
      ]
     },
     "metadata": {},
     "output_type": "display_data"
    },
    {
     "data": {
      "application/javascript": [
       "console.log(\"[134329][INFO][openvisuspy.widgets:328:setTimesteps] Widgets[4]::setTimesteps start=0 end=0\");\n"
      ],
      "text/plain": [
       "<IPython.core.display.Javascript object>"
      ]
     },
     "metadata": {},
     "output_type": "display_data"
    },
    {
     "data": {
      "application/javascript": [
       "console.log(\"[134329][INFO][openvisuspy.widgets:339:setTimestepDelta] Widgets[4]::setTimestepDelta value=1\");\n"
      ],
      "text/plain": [
       "<IPython.core.display.Javascript object>"
      ]
     },
     "metadata": {},
     "output_type": "display_data"
    },
    {
     "data": {
      "application/javascript": [
       "console.log(\"[134329][INFO][openvisuspy.widgets:360:setTimestep] Widgets[4]::setTimestep value=0\");\n"
      ],
      "text/plain": [
       "<IPython.core.display.Javascript object>"
      ]
     },
     "metadata": {},
     "output_type": "display_data"
    },
    {
     "data": {
      "application/javascript": [
       "console.log(\"[134329][INFO][openvisuspy.widgets:360:setTimestep] Widgets[4]::setTimestep value=0\");\n"
      ],
      "text/plain": [
       "<IPython.core.display.Javascript object>"
      ]
     },
     "metadata": {},
     "output_type": "display_data"
    },
    {
     "data": {
      "application/javascript": [
       "console.log(\"[134329][INFO][openvisuspy.widgets:466:setDirection] Widgets[4]::setDirection value=2\");\n"
      ],
      "text/plain": [
       "<IPython.core.display.Javascript object>"
      ]
     },
     "metadata": {},
     "output_type": "display_data"
    },
    {
     "data": {
      "application/javascript": [
       "console.log(\"[134329][INFO][openvisuspy.widgets:494:setOffset] Widgets[4]::getOffset value=1012\");\n"
      ],
      "text/plain": [
       "<IPython.core.display.Javascript object>"
      ]
     },
     "metadata": {},
     "output_type": "display_data"
    },
    {
     "data": {
      "application/javascript": [
       "console.log(\"[134329][INFO][openvisuspy.slice:137:setLogicBox] Slice[4]::setLogicBox value=([0, 0, 0], [912, 816, 2025])\");\n"
      ],
      "text/plain": [
       "<IPython.core.display.Javascript object>"
      ]
     },
     "metadata": {},
     "output_type": "display_data"
    },
    {
     "data": {
      "application/javascript": [
       "console.log(\"[134329][INFO][openvisuspy.widgets:372:setFields] Widgets[4]::setFields value=['data']\");\n"
      ],
      "text/plain": [
       "<IPython.core.display.Javascript object>"
      ]
     },
     "metadata": {},
     "output_type": "display_data"
    },
    {
     "data": {
      "application/javascript": [
       "console.log(\"[134329][INFO][openvisuspy.widgets:381:setField] Widgets[4]::setField value=data\");\n"
      ],
      "text/plain": [
       "<IPython.core.display.Javascript object>"
      ]
     },
     "metadata": {},
     "output_type": "display_data"
    },
    {
     "data": {
      "application/javascript": [
       "console.log(\"[134329][INFO][openvisuspy.widgets:278:setDataset] Widgets[5]::setDataset value=http://atlantis.sci.utah.edu:80/mod_visus?dataset=chess-recon_combined_1_2_3_fullres_zip&cached=1\");\n"
      ],
      "text/plain": [
       "<IPython.core.display.Javascript object>"
      ]
     },
     "metadata": {},
     "output_type": "display_data"
    },
    {
     "data": {
      "application/javascript": [
       "console.log(\"[134329][INFO][openvisuspy.widgets:328:setTimesteps] Widgets[5]::setTimesteps start=0 end=0\");\n"
      ],
      "text/plain": [
       "<IPython.core.display.Javascript object>"
      ]
     },
     "metadata": {},
     "output_type": "display_data"
    },
    {
     "data": {
      "application/javascript": [
       "console.log(\"[134329][INFO][openvisuspy.widgets:339:setTimestepDelta] Widgets[5]::setTimestepDelta value=1\");\n"
      ],
      "text/plain": [
       "<IPython.core.display.Javascript object>"
      ]
     },
     "metadata": {},
     "output_type": "display_data"
    },
    {
     "data": {
      "application/javascript": [
       "console.log(\"[134329][INFO][openvisuspy.widgets:360:setTimestep] Widgets[5]::setTimestep value=0\");\n"
      ],
      "text/plain": [
       "<IPython.core.display.Javascript object>"
      ]
     },
     "metadata": {},
     "output_type": "display_data"
    },
    {
     "data": {
      "application/javascript": [
       "console.log(\"[134329][INFO][openvisuspy.widgets:360:setTimestep] Widgets[5]::setTimestep value=0\");\n"
      ],
      "text/plain": [
       "<IPython.core.display.Javascript object>"
      ]
     },
     "metadata": {},
     "output_type": "display_data"
    },
    {
     "data": {
      "application/javascript": [
       "console.log(\"[134329][INFO][openvisuspy.widgets:466:setDirection] Widgets[5]::setDirection value=2\");\n"
      ],
      "text/plain": [
       "<IPython.core.display.Javascript object>"
      ]
     },
     "metadata": {},
     "output_type": "display_data"
    },
    {
     "data": {
      "application/javascript": [
       "console.log(\"[134329][INFO][openvisuspy.widgets:494:setOffset] Widgets[5]::getOffset value=1012\");\n"
      ],
      "text/plain": [
       "<IPython.core.display.Javascript object>"
      ]
     },
     "metadata": {},
     "output_type": "display_data"
    },
    {
     "data": {
      "application/javascript": [
       "console.log(\"[134329][INFO][openvisuspy.slice:137:setLogicBox] Slice[5]::setLogicBox value=([0, 0, 0], [912, 816, 2025])\");\n"
      ],
      "text/plain": [
       "<IPython.core.display.Javascript object>"
      ]
     },
     "metadata": {},
     "output_type": "display_data"
    },
    {
     "data": {
      "application/javascript": [
       "console.log(\"[134329][INFO][openvisuspy.widgets:372:setFields] Widgets[5]::setFields value=['data']\");\n"
      ],
      "text/plain": [
       "<IPython.core.display.Javascript object>"
      ]
     },
     "metadata": {},
     "output_type": "display_data"
    },
    {
     "data": {
      "application/javascript": [
       "console.log(\"[134329][INFO][openvisuspy.widgets:381:setField] Widgets[5]::setField value=data\");\n"
      ],
      "text/plain": [
       "<IPython.core.display.Javascript object>"
      ]
     },
     "metadata": {},
     "output_type": "display_data"
    },
    {
     "data": {
      "application/javascript": [
       "console.log(\"[134329][INFO][openvisuspy.widgets:328:setTimesteps] Widgets[1]::setTimesteps start=0 end=0\");\n"
      ],
      "text/plain": [
       "<IPython.core.display.Javascript object>"
      ]
     },
     "metadata": {},
     "output_type": "display_data"
    },
    {
     "data": {
      "application/javascript": [
       "console.log(\"[134329][INFO][openvisuspy.widgets:339:setTimestepDelta] Widgets[1]::setTimestepDelta value=1\");\n"
      ],
      "text/plain": [
       "<IPython.core.display.Javascript object>"
      ]
     },
     "metadata": {},
     "output_type": "display_data"
    },
    {
     "data": {
      "application/javascript": [
       "console.log(\"[134329][INFO][openvisuspy.widgets:360:setTimestep] Widgets[1]::setTimestep value=0\");\n"
      ],
      "text/plain": [
       "<IPython.core.display.Javascript object>"
      ]
     },
     "metadata": {},
     "output_type": "display_data"
    },
    {
     "data": {
      "application/javascript": [
       "console.log(\"[134329][INFO][openvisuspy.widgets:360:setTimestep] Widgets[4]::setTimestep value=0\");\n"
      ],
      "text/plain": [
       "<IPython.core.display.Javascript object>"
      ]
     },
     "metadata": {},
     "output_type": "display_data"
    },
    {
     "data": {
      "application/javascript": [
       "console.log(\"[134329][INFO][openvisuspy.widgets:360:setTimestep] Widgets[5]::setTimestep value=0\");\n"
      ],
      "text/plain": [
       "<IPython.core.display.Javascript object>"
      ]
     },
     "metadata": {},
     "output_type": "display_data"
    },
    {
     "data": {
      "application/javascript": [
       "console.log(\"[134329][INFO][openvisuspy.widgets:339:setTimestepDelta] Widgets[4]::setTimestepDelta value=1\");\n"
      ],
      "text/plain": [
       "<IPython.core.display.Javascript object>"
      ]
     },
     "metadata": {},
     "output_type": "display_data"
    },
    {
     "data": {
      "application/javascript": [
       "console.log(\"[134329][INFO][openvisuspy.widgets:360:setTimestep] Widgets[4]::setTimestep value=0\");\n"
      ],
      "text/plain": [
       "<IPython.core.display.Javascript object>"
      ]
     },
     "metadata": {},
     "output_type": "display_data"
    },
    {
     "data": {
      "application/javascript": [
       "console.log(\"[134329][INFO][openvisuspy.widgets:339:setTimestepDelta] Widgets[5]::setTimestepDelta value=1\");\n"
      ],
      "text/plain": [
       "<IPython.core.display.Javascript object>"
      ]
     },
     "metadata": {},
     "output_type": "display_data"
    },
    {
     "data": {
      "application/javascript": [
       "console.log(\"[134329][INFO][openvisuspy.widgets:360:setTimestep] Widgets[5]::setTimestep value=0\");\n"
      ],
      "text/plain": [
       "<IPython.core.display.Javascript object>"
      ]
     },
     "metadata": {},
     "output_type": "display_data"
    },
    {
     "data": {
      "application/javascript": [
       "console.log(\"[134329][INFO][openvisuspy.widgets:360:setTimestep] Widgets[1]::setTimestep value=0\");\n"
      ],
      "text/plain": [
       "<IPython.core.display.Javascript object>"
      ]
     },
     "metadata": {},
     "output_type": "display_data"
    },
    {
     "data": {
      "application/javascript": [
       "console.log(\"[134329][INFO][openvisuspy.widgets:360:setTimestep] Widgets[4]::setTimestep value=0\");\n"
      ],
      "text/plain": [
       "<IPython.core.display.Javascript object>"
      ]
     },
     "metadata": {},
     "output_type": "display_data"
    },
    {
     "data": {
      "application/javascript": [
       "console.log(\"[134329][INFO][openvisuspy.widgets:360:setTimestep] Widgets[5]::setTimestep value=0\");\n"
      ],
      "text/plain": [
       "<IPython.core.display.Javascript object>"
      ]
     },
     "metadata": {},
     "output_type": "display_data"
    },
    {
     "data": {
      "application/javascript": [
       "console.log(\"[134329][INFO][openvisuspy.widgets:466:setDirection] Widgets[1]::setDirection value=2\");\n"
      ],
      "text/plain": [
       "<IPython.core.display.Javascript object>"
      ]
     },
     "metadata": {},
     "output_type": "display_data"
    },
    {
     "data": {
      "application/javascript": [
       "console.log(\"[134329][INFO][openvisuspy.widgets:494:setOffset] Widgets[1]::getOffset value=1012\");\n"
      ],
      "text/plain": [
       "<IPython.core.display.Javascript object>"
      ]
     },
     "metadata": {},
     "output_type": "display_data"
    },
    {
     "data": {
      "application/javascript": [
       "console.log(\"[134329][INFO][openvisuspy.widgets:466:setDirection] Widgets[4]::setDirection value=0\");\n"
      ],
      "text/plain": [
       "<IPython.core.display.Javascript object>"
      ]
     },
     "metadata": {},
     "output_type": "display_data"
    },
    {
     "data": {
      "application/javascript": [
       "console.log(\"[134329][INFO][openvisuspy.widgets:466:setDirection] Widgets[4]::setDirection value=0\");\n"
      ],
      "text/plain": [
       "<IPython.core.display.Javascript object>"
      ]
     },
     "metadata": {},
     "output_type": "display_data"
    },
    {
     "data": {
      "application/javascript": [
       "console.log(\"[134329][INFO][openvisuspy.widgets:494:setOffset] Widgets[4]::getOffset value=456\");\n"
      ],
      "text/plain": [
       "<IPython.core.display.Javascript object>"
      ]
     },
     "metadata": {},
     "output_type": "display_data"
    },
    {
     "data": {
      "application/javascript": [
       "console.log(\"[134329][INFO][openvisuspy.slice:137:setLogicBox] Slice[4]::setLogicBox value=([0, 0, 0], [912, 816, 2025])\");\n"
      ],
      "text/plain": [
       "<IPython.core.display.Javascript object>"
      ]
     },
     "metadata": {},
     "output_type": "display_data"
    },
    {
     "data": {
      "application/javascript": [
       "console.log(\"[134329][INFO][openvisuspy.slice:137:setLogicBox] Slice[4]::setLogicBox value=([0, 0, 0], [912, 816, 2025])\");\n"
      ],
      "text/plain": [
       "<IPython.core.display.Javascript object>"
      ]
     },
     "metadata": {},
     "output_type": "display_data"
    },
    {
     "data": {
      "application/javascript": [
       "console.log(\"[134329][INFO][openvisuspy.widgets:466:setDirection] Widgets[5]::setDirection value=1\");\n"
      ],
      "text/plain": [
       "<IPython.core.display.Javascript object>"
      ]
     },
     "metadata": {},
     "output_type": "display_data"
    },
    {
     "data": {
      "application/javascript": [
       "console.log(\"[134329][INFO][openvisuspy.widgets:466:setDirection] Widgets[5]::setDirection value=1\");\n"
      ],
      "text/plain": [
       "<IPython.core.display.Javascript object>"
      ]
     },
     "metadata": {},
     "output_type": "display_data"
    },
    {
     "data": {
      "application/javascript": [
       "console.log(\"[134329][INFO][openvisuspy.widgets:494:setOffset] Widgets[5]::getOffset value=408\");\n"
      ],
      "text/plain": [
       "<IPython.core.display.Javascript object>"
      ]
     },
     "metadata": {},
     "output_type": "display_data"
    },
    {
     "data": {
      "application/javascript": [
       "console.log(\"[134329][INFO][openvisuspy.slice:137:setLogicBox] Slice[5]::setLogicBox value=([0, 0, 0], [912, 816, 2025])\");\n"
      ],
      "text/plain": [
       "<IPython.core.display.Javascript object>"
      ]
     },
     "metadata": {},
     "output_type": "display_data"
    },
    {
     "data": {
      "application/javascript": [
       "console.log(\"[134329][INFO][openvisuspy.slice:137:setLogicBox] Slice[5]::setLogicBox value=([0, 0, 0], [912, 816, 2025])\");\n"
      ],
      "text/plain": [
       "<IPython.core.display.Javascript object>"
      ]
     },
     "metadata": {},
     "output_type": "display_data"
    },
    {
     "data": {
      "application/javascript": [
       "console.log(\"[134329][INFO][openvisuspy.widgets:372:setFields] Widgets[1]::setFields value=['data']\");\n"
      ],
      "text/plain": [
       "<IPython.core.display.Javascript object>"
      ]
     },
     "metadata": {},
     "output_type": "display_data"
    },
    {
     "data": {
      "application/javascript": [
       "console.log(\"[134329][INFO][openvisuspy.widgets:381:setField] Widgets[1]::setField value=data\");\n"
      ],
      "text/plain": [
       "<IPython.core.display.Javascript object>"
      ]
     },
     "metadata": {},
     "output_type": "display_data"
    },
    {
     "data": {
      "application/javascript": [
       "console.log(\"[134329][INFO][openvisuspy.widgets:381:setField] Widgets[4]::setField value=data\");\n"
      ],
      "text/plain": [
       "<IPython.core.display.Javascript object>"
      ]
     },
     "metadata": {},
     "output_type": "display_data"
    },
    {
     "data": {
      "application/javascript": [
       "console.log(\"[134329][INFO][openvisuspy.widgets:381:setField] Widgets[5]::setField value=data\");\n"
      ],
      "text/plain": [
       "<IPython.core.display.Javascript object>"
      ]
     },
     "metadata": {},
     "output_type": "display_data"
    },
    {
     "data": {
      "application/javascript": [
       "console.log(\"[134329][INFO][openvisuspy.widgets:394:setPalette] Widgets[1]::setPalette value=Plasma256\");\n"
      ],
      "text/plain": [
       "<IPython.core.display.Javascript object>"
      ]
     },
     "metadata": {},
     "output_type": "display_data"
    },
    {
     "data": {
      "application/javascript": [
       "console.log(\"[134329][INFO][openvisuspy.widgets:394:setPalette] Widgets[1]::setPalette value=Plasma256\");\n"
      ],
      "text/plain": [
       "<IPython.core.display.Javascript object>"
      ]
     },
     "metadata": {},
     "output_type": "display_data"
    },
    {
     "data": {
      "application/javascript": [
       "console.log(\"[134329][INFO][openvisuspy.widgets:394:setPalette] Widgets[4]::setPalette value=Plasma256\");\n"
      ],
      "text/plain": [
       "<IPython.core.display.Javascript object>"
      ]
     },
     "metadata": {},
     "output_type": "display_data"
    },
    {
     "data": {
      "application/javascript": [
       "console.log(\"[134329][INFO][openvisuspy.widgets:394:setPalette] Widgets[4]::setPalette value=Plasma256\");\n"
      ],
      "text/plain": [
       "<IPython.core.display.Javascript object>"
      ]
     },
     "metadata": {},
     "output_type": "display_data"
    },
    {
     "data": {
      "application/javascript": [
       "console.log(\"[134329][INFO][openvisuspy.widgets:394:setPalette] Widgets[5]::setPalette value=Plasma256\");\n"
      ],
      "text/plain": [
       "<IPython.core.display.Javascript object>"
      ]
     },
     "metadata": {},
     "output_type": "display_data"
    },
    {
     "data": {
      "application/javascript": [
       "console.log(\"[134329][INFO][openvisuspy.widgets:394:setPalette] Widgets[5]::setPalette value=Plasma256\");\n"
      ],
      "text/plain": [
       "<IPython.core.display.Javascript object>"
      ]
     },
     "metadata": {},
     "output_type": "display_data"
    },
    {
     "data": {
      "application/javascript": [
       "console.log(\"[134329][INFO][openvisuspy.widgets:394:setPalette] Widgets[4]::setPalette value=Plasma256\");\n"
      ],
      "text/plain": [
       "<IPython.core.display.Javascript object>"
      ]
     },
     "metadata": {},
     "output_type": "display_data"
    },
    {
     "data": {
      "application/javascript": [
       "console.log(\"[134329][INFO][openvisuspy.widgets:394:setPalette] Widgets[5]::setPalette value=Plasma256\");\n"
      ],
      "text/plain": [
       "<IPython.core.display.Javascript object>"
      ]
     },
     "metadata": {},
     "output_type": "display_data"
    },
    {
     "data": {
      "application/javascript": [
       "console.log(\"[134329][INFO][openvisuspy.widgets:408:setPaletteRange] Widgets[1]::setPaletteRange value=[-0.0014, 0.002]\");\n"
      ],
      "text/plain": [
       "<IPython.core.display.Javascript object>"
      ]
     },
     "metadata": {},
     "output_type": "display_data"
    },
    {
     "data": {
      "application/javascript": [
       "console.log(\"[134329][INFO][openvisuspy.widgets:408:setPaletteRange] Widgets[4]::setPaletteRange value=[-0.0014, 0.002]\");\n"
      ],
      "text/plain": [
       "<IPython.core.display.Javascript object>"
      ]
     },
     "metadata": {},
     "output_type": "display_data"
    },
    {
     "data": {
      "application/javascript": [
       "console.log(\"[134329][INFO][openvisuspy.widgets:408:setPaletteRange] Widgets[5]::setPaletteRange value=[-0.0014, 0.002]\");\n"
      ],
      "text/plain": [
       "<IPython.core.display.Javascript object>"
      ]
     },
     "metadata": {},
     "output_type": "display_data"
    },
    {
     "data": {
      "application/javascript": [
       "console.log(\"[134329][INFO][openvisuspy.widgets:360:setTimestep] Widgets[1]::setTimestep value=0\");\n"
      ],
      "text/plain": [
       "<IPython.core.display.Javascript object>"
      ]
     },
     "metadata": {},
     "output_type": "display_data"
    },
    {
     "data": {
      "application/javascript": [
       "console.log(\"[134329][INFO][openvisuspy.widgets:360:setTimestep] Widgets[4]::setTimestep value=0\");\n"
      ],
      "text/plain": [
       "<IPython.core.display.Javascript object>"
      ]
     },
     "metadata": {},
     "output_type": "display_data"
    },
    {
     "data": {
      "application/javascript": [
       "console.log(\"[134329][INFO][openvisuspy.widgets:360:setTimestep] Widgets[5]::setTimestep value=0\");\n"
      ],
      "text/plain": [
       "<IPython.core.display.Javascript object>"
      ]
     },
     "metadata": {},
     "output_type": "display_data"
    },
    {
     "data": {
      "application/javascript": [
       "console.log(\"[134329][INFO][openvisuspy.widgets:381:setField] Widgets[1]::setField value=data\");\n"
      ],
      "text/plain": [
       "<IPython.core.display.Javascript object>"
      ]
     },
     "metadata": {},
     "output_type": "display_data"
    },
    {
     "data": {
      "application/javascript": [
       "console.log(\"[134329][INFO][openvisuspy.widgets:381:setField] Widgets[4]::setField value=data\");\n"
      ],
      "text/plain": [
       "<IPython.core.display.Javascript object>"
      ]
     },
     "metadata": {},
     "output_type": "display_data"
    },
    {
     "data": {
      "application/javascript": [
       "console.log(\"[134329][INFO][openvisuspy.widgets:381:setField] Widgets[5]::setField value=data\");\n"
      ],
      "text/plain": [
       "<IPython.core.display.Javascript object>"
      ]
     },
     "metadata": {},
     "output_type": "display_data"
    },
    {
     "data": {
      "application/javascript": [
       "console.log(\"[134329][INFO][openvisuspy.canvas:61:onResize] Calling on_resize callback w=846 h=543\");\n"
      ],
      "text/plain": [
       "<IPython.core.display.Javascript object>"
      ]
     },
     "metadata": {},
     "output_type": "display_data"
    },
    {
     "data": {
      "application/javascript": [
       "console.log(\"[134329][INFO][openvisuspy.widgets:466:setDirection] Widgets[0]::setDirection value=2\");\n"
      ],
      "text/plain": [
       "<IPython.core.display.Javascript object>"
      ]
     },
     "metadata": {},
     "output_type": "display_data"
    },
    {
     "data": {
      "application/javascript": [
       "console.log(\"[134329][INFO][openvisuspy.slice:137:setLogicBox] Slice[0]::setLogicBox value=([0, 0, 0], [912, 816, 2025])\");\n"
      ],
      "text/plain": [
       "<IPython.core.display.Javascript object>"
      ]
     },
     "metadata": {},
     "output_type": "display_data"
    },
    {
     "data": {
      "application/javascript": [
       "console.log(\"[134329][INFO][openvisuspy.slice:209:pushJobIfNeeded] pushing new job\");\n"
      ],
      "text/plain": [
       "<IPython.core.display.Javascript object>"
      ]
     },
     "metadata": {},
     "output_type": "display_data"
    },
    {
     "data": {
      "application/javascript": [
       "console.log(\"[134329][INFO][openvisuspy.backend_py:145:pushJob] pushed new job <openvisuspy.backend_py.Dataset object at 0x000001059268C130>\");\n"
      ],
      "text/plain": [
       "<IPython.core.display.Javascript object>"
      ]
     },
     "metadata": {},
     "output_type": "display_data"
    },
    {
     "data": {
      "application/javascript": [
       "console.log(\"[134329][INFO][openvisuspy.backend_py:74:createBoxQuery] begin timestep=0 field=data logic_box=[[-179.66850828729275, 0.0, 1012], [1091.6685082872928, 816.0, 1013]] num_refinements=4 max_pixels=459378 endh=31\");\n"
      ],
      "text/plain": [
       "<IPython.core.display.Javascript object>"
      ]
     },
     "metadata": {},
     "output_type": "display_data"
    },
    {
     "data": {
      "application/javascript": [
       "console.log(\"[134329][INFO][openvisuspy.backend_py:109:createBoxQuery] Guess resolution endh=29 original_box=([0, 0, 1012], [912, 816, 1013]) aligned_box=([0, 0, 1012], [912, 816, 1013]) delta=[1, 2, 2] num_pixels=[912, 408, 1] tot_pixels=372,096 max_pixels=459,378 end=29\");\n"
      ],
      "text/plain": [
       "<IPython.core.display.Javascript object>"
      ]
     },
     "metadata": {},
     "output_type": "display_data"
    },
    {
     "data": {
      "application/javascript": [
       "console.log(\"[134329][INFO][openvisuspy.backend_py:138:beginBoxQuery] beginBoxQuery timestep=0 field=data logic_box=[[0, 0, 1008], [912, 816, 1009]] end_resolutions=[20, 23, 26, 29]\");\n"
      ],
      "text/plain": [
       "<IPython.core.display.Javascript object>"
      ]
     },
     "metadata": {},
     "output_type": "display_data"
    },
    {
     "data": {
      "application/javascript": [
       "console.log(\"[134329][INFO][openvisuspy.canvas:61:onResize] Calling on_resize callback w=348 h=543\");\n"
      ],
      "text/plain": [
       "<IPython.core.display.Javascript object>"
      ]
     },
     "metadata": {},
     "output_type": "display_data"
    },
    {
     "data": {
      "application/javascript": [
       "console.log(\"[134329][INFO][openvisuspy.widgets:466:setDirection] Widgets[4]::setDirection value=0\");\n"
      ],
      "text/plain": [
       "<IPython.core.display.Javascript object>"
      ]
     },
     "metadata": {},
     "output_type": "display_data"
    },
    {
     "data": {
      "application/javascript": [
       "console.log(\"[134329][INFO][openvisuspy.slice:137:setLogicBox] Slice[4]::setLogicBox value=([0, 0, 0], [912, 816, 2025])\");\n"
      ],
      "text/plain": [
       "<IPython.core.display.Javascript object>"
      ]
     },
     "metadata": {},
     "output_type": "display_data"
    },
    {
     "data": {
      "application/javascript": [
       "console.log(\"[134329][INFO][openvisuspy.canvas:61:onResize] Calling on_resize callback w=348 h=543\");\n"
      ],
      "text/plain": [
       "<IPython.core.display.Javascript object>"
      ]
     },
     "metadata": {},
     "output_type": "display_data"
    },
    {
     "data": {
      "application/javascript": [
       "console.log(\"[134329][INFO][openvisuspy.widgets:466:setDirection] Widgets[5]::setDirection value=1\");\n"
      ],
      "text/plain": [
       "<IPython.core.display.Javascript object>"
      ]
     },
     "metadata": {},
     "output_type": "display_data"
    },
    {
     "data": {
      "application/javascript": [
       "console.log(\"[134329][INFO][openvisuspy.slice:137:setLogicBox] Slice[5]::setLogicBox value=([0, 0, 0], [912, 816, 2025])\");\n"
      ],
      "text/plain": [
       "<IPython.core.display.Javascript object>"
      ]
     },
     "metadata": {},
     "output_type": "display_data"
    },
    {
     "data": {
      "application/javascript": [
       "console.log(\"[134329][INFO][openvisuspy.slice:209:pushJobIfNeeded] pushing new job\");\n"
      ],
      "text/plain": [
       "<IPython.core.display.Javascript object>"
      ]
     },
     "metadata": {},
     "output_type": "display_data"
    },
    {
     "data": {
      "application/javascript": [
       "console.log(\"[134329][INFO][openvisuspy.backend_py:145:pushJob] pushed new job <openvisuspy.backend_py.Dataset object at 0x000001059284D8E0>\");\n"
      ],
      "text/plain": [
       "<IPython.core.display.Javascript object>"
      ]
     },
     "metadata": {},
     "output_type": "display_data"
    },
    {
     "data": {
      "application/javascript": [
       "console.log(\"[134329][INFO][openvisuspy.slice:209:pushJobIfNeeded] pushing new job\");\n"
      ],
      "text/plain": [
       "<IPython.core.display.Javascript object>"
      ]
     },
     "metadata": {},
     "output_type": "display_data"
    },
    {
     "data": {
      "application/javascript": [
       "console.log(\"[134329][INFO][openvisuspy.backend_py:145:pushJob] pushed new job <openvisuspy.backend_py.Dataset object at 0x000001059284D8E0>\");\n"
      ],
      "text/plain": [
       "<IPython.core.display.Javascript object>"
      ]
     },
     "metadata": {},
     "output_type": "display_data"
    },
    {
     "data": {
      "application/javascript": [
       "console.log(\"[134330][INFO][openvisuspy.backend_py:308:executeBoxQuery] [200] http://atlantis.sci.utah.edu/mod_visus?dataset=chess-recon_combined_1_2_3_fullres_zip&cached=1&action=boxquery&box=0+911+0+815+1008+1008&compression=zip&field=data&time=0&toh=20\");\n"
      ],
      "text/plain": [
       "<IPython.core.display.Javascript object>"
      ]
     },
     "metadata": {},
     "output_type": "display_data"
    },
    {
     "data": {
      "application/javascript": [
       "console.log(\"[134330][INFO][openvisuspy.backend_py:168:returnBoxQueryData] got data 0/[20, 23, 26, 29] timestep=0 field=data H=-1 data.shape=(51, 114) data.dtype=float32 logic_box=[[0, 0, 1008], [912, 816, 1009]] m=-0.0006286972784437239 M=0.0007278276607394218 ms=163\");\n"
      ],
      "text/plain": [
       "<IPython.core.display.Javascript object>"
      ]
     },
     "metadata": {},
     "output_type": "display_data"
    },
    {
     "data": {
      "application/javascript": [
       "console.log(\"[134330][INFO][openvisuspy.backend_py:74:createBoxQuery] begin timestep=0 field=data logic_box=[[456, -240.89502762430936, 0.0], [457, 1056.8950276243095, 2025.0]] num_refinements=4 max_pixels=188964 endh=31\");\n"
      ],
      "text/plain": [
       "<IPython.core.display.Javascript object>"
      ]
     },
     "metadata": {},
     "output_type": "display_data"
    },
    {
     "data": {
      "application/javascript": [
       "console.log(\"[134330][INFO][openvisuspy.backend_py:109:createBoxQuery] Guess resolution endh=26 original_box=([456, 0, 0], [457, 816, 2025]) aligned_box=([456, 0, 0], [457, 816, 2024]) delta=[2, 4, 4] num_pixels=[1, 204, 506] tot_pixels=103,224 max_pixels=188,964 end=26\");\n"
      ],
      "text/plain": [
       "<IPython.core.display.Javascript object>"
      ]
     },
     "metadata": {},
     "output_type": "display_data"
    },
    {
     "data": {
      "application/javascript": [
       "console.log(\"[134330][INFO][openvisuspy.backend_py:138:beginBoxQuery] beginBoxQuery timestep=0 field=data logic_box=[[448, 0, 0], [449, 800, 2016]] end_resolutions=[17, 20, 23, 26]\");\n"
      ],
      "text/plain": [
       "<IPython.core.display.Javascript object>"
      ]
     },
     "metadata": {},
     "output_type": "display_data"
    },
    {
     "data": {
      "application/javascript": [
       "console.log(\"[134330][INFO][openvisuspy.backend_py:74:createBoxQuery] begin timestep=0 field=data logic_box=[[-192.89502762430936, 408, 0.0], [1104.8950276243095, 409, 2025.0]] num_refinements=4 max_pixels=188964 endh=31\");\n"
      ],
      "text/plain": [
       "<IPython.core.display.Javascript object>"
      ]
     },
     "metadata": {},
     "output_type": "display_data"
    },
    {
     "data": {
      "application/javascript": [
       "console.log(\"[134330][INFO][openvisuspy.backend_py:109:createBoxQuery] Guess resolution endh=25 original_box=([0, 408, 0], [912, 409, 2025]) aligned_box=([0, 408, 0], [912, 409, 2024]) delta=[4, 4, 4] num_pixels=[228, 1, 506] tot_pixels=115,368 max_pixels=188,964 end=25\");\n"
      ],
      "text/plain": [
       "<IPython.core.display.Javascript object>"
      ]
     },
     "metadata": {},
     "output_type": "display_data"
    },
    {
     "data": {
      "application/javascript": [
       "console.log(\"[134330][INFO][openvisuspy.backend_py:138:beginBoxQuery] beginBoxQuery timestep=0 field=data logic_box=[[0, 384, 0], [896, 385, 2016]] end_resolutions=[16, 19, 22, 25]\");\n"
      ],
      "text/plain": [
       "<IPython.core.display.Javascript object>"
      ]
     },
     "metadata": {},
     "output_type": "display_data"
    },
    {
     "data": {
      "application/javascript": [
       "console.log(\"[134330][INFO][openvisuspy.slice:190:renderResultIfNeeded] Slice[0]::rendering result data.shape=(51, 114) data.dtype=float32 logic_box=[[0, 0, 1008], [912, 816, 1009]]\");\n"
      ],
      "text/plain": [
       "<IPython.core.display.Javascript object>"
      ]
     },
     "metadata": {},
     "output_type": "display_data"
    },
    {
     "data": {
      "application/javascript": [
       "console.log(\"[134330][INFO][openvisuspy.backend_py:308:executeBoxQuery] [200] http://atlantis.sci.utah.edu/mod_visus?dataset=chess-recon_combined_1_2_3_fullres_zip&cached=1&action=boxquery&box=448+448+0+799+0+2015&compression=zip&field=data&time=0&toh=17\");\n"
      ],
      "text/plain": [
       "<IPython.core.display.Javascript object>"
      ]
     },
     "metadata": {},
     "output_type": "display_data"
    },
    {
     "data": {
      "application/javascript": [
       "console.log(\"[134330][INFO][openvisuspy.backend_py:168:returnBoxQueryData] got data 0/[17, 20, 23, 26] timestep=0 field=data H=-1 data.shape=(63, 25) data.dtype=float32 logic_box=[[448, 0, 0], [449, 800, 2016]] m=-0.0005453178309835494 M=0.0012144874781370163 ms=48\");\n"
      ],
      "text/plain": [
       "<IPython.core.display.Javascript object>"
      ]
     },
     "metadata": {},
     "output_type": "display_data"
    },
    {
     "data": {
      "application/javascript": [
       "console.log(\"[134330][INFO][openvisuspy.backend_py:308:executeBoxQuery] [200] http://atlantis.sci.utah.edu/mod_visus?dataset=chess-recon_combined_1_2_3_fullres_zip&cached=1&action=boxquery&box=0+895+384+384+0+2015&compression=zip&field=data&time=0&toh=16\");\n"
      ],
      "text/plain": [
       "<IPython.core.display.Javascript object>"
      ]
     },
     "metadata": {},
     "output_type": "display_data"
    },
    {
     "data": {
      "application/javascript": [
       "console.log(\"[134330][INFO][openvisuspy.backend_py:168:returnBoxQueryData] got data 0/[16, 19, 22, 25] timestep=0 field=data H=-1 data.shape=(63, 28) data.dtype=float32 logic_box=[[0, 384, 0], [896, 385, 2016]] m=-0.000394086295273155 M=0.0012144874781370163 ms=48\");\n"
      ],
      "text/plain": [
       "<IPython.core.display.Javascript object>"
      ]
     },
     "metadata": {},
     "output_type": "display_data"
    },
    {
     "data": {
      "application/javascript": [
       "console.log(\"[134330][INFO][openvisuspy.slice:190:renderResultIfNeeded] Slice[4]::rendering result data.shape=(63, 25) data.dtype=float32 logic_box=[[448, 0, 0], [449, 800, 2016]]\");\n"
      ],
      "text/plain": [
       "<IPython.core.display.Javascript object>"
      ]
     },
     "metadata": {},
     "output_type": "display_data"
    },
    {
     "data": {
      "application/javascript": [
       "console.log(\"[134330][INFO][openvisuspy.slice:190:renderResultIfNeeded] Slice[5]::rendering result data.shape=(63, 28) data.dtype=float32 logic_box=[[0, 384, 0], [896, 385, 2016]]\");\n"
      ],
      "text/plain": [
       "<IPython.core.display.Javascript object>"
      ]
     },
     "metadata": {},
     "output_type": "display_data"
    },
    {
     "data": {
      "application/javascript": [
       "console.log(\"[134330][INFO][openvisuspy.backend_py:308:executeBoxQuery] [200] http://atlantis.sci.utah.edu/mod_visus?dataset=chess-recon_combined_1_2_3_fullres_zip&cached=1&action=boxquery&box=0+911+0+815+1008+1008&compression=zip&field=data&time=0&toh=23\");\n"
      ],
      "text/plain": [
       "<IPython.core.display.Javascript object>"
      ]
     },
     "metadata": {},
     "output_type": "display_data"
    },
    {
     "data": {
      "application/javascript": [
       "console.log(\"[134330][INFO][openvisuspy.backend_py:168:returnBoxQueryData] got data 1/[20, 23, 26, 29] timestep=0 field=data H=20 data.shape=(102, 228) data.dtype=float32 logic_box=[[0, 0, 1008], [912, 816, 1009]] m=-0.00077620311640203 M=0.0009811616037040949 ms=310\");\n"
      ],
      "text/plain": [
       "<IPython.core.display.Javascript object>"
      ]
     },
     "metadata": {},
     "output_type": "display_data"
    },
    {
     "data": {
      "application/javascript": [
       "console.log(\"[134330][INFO][openvisuspy.slice:190:renderResultIfNeeded] Slice[0]::rendering result data.shape=(102, 228) data.dtype=float32 logic_box=[[0, 0, 1008], [912, 816, 1009]]\");\n"
      ],
      "text/plain": [
       "<IPython.core.display.Javascript object>"
      ]
     },
     "metadata": {},
     "output_type": "display_data"
    },
    {
     "data": {
      "application/javascript": [
       "console.log(\"[134330][INFO][openvisuspy.backend_py:308:executeBoxQuery] [200] http://atlantis.sci.utah.edu/mod_visus?dataset=chess-recon_combined_1_2_3_fullres_zip&cached=1&action=boxquery&box=0+895+384+384+0+2015&compression=zip&field=data&time=0&toh=19\");\n"
      ],
      "text/plain": [
       "<IPython.core.display.Javascript object>"
      ]
     },
     "metadata": {},
     "output_type": "display_data"
    },
    {
     "data": {
      "application/javascript": [
       "console.log(\"[134330][INFO][openvisuspy.backend_py:168:returnBoxQueryData] got data 1/[16, 19, 22, 25] timestep=0 field=data H=16 data.shape=(126, 56) data.dtype=float32 logic_box=[[0, 384, 0], [896, 385, 2016]] m=-0.0009030804503709078 M=0.0014613056555390358 ms=147\");\n"
      ],
      "text/plain": [
       "<IPython.core.display.Javascript object>"
      ]
     },
     "metadata": {},
     "output_type": "display_data"
    },
    {
     "data": {
      "application/javascript": [
       "console.log(\"[134330][INFO][openvisuspy.backend_py:308:executeBoxQuery] [200] http://atlantis.sci.utah.edu/mod_visus?dataset=chess-recon_combined_1_2_3_fullres_zip&cached=1&action=boxquery&box=448+448+0+799+0+2015&compression=zip&field=data&time=0&toh=20\");\n"
      ],
      "text/plain": [
       "<IPython.core.display.Javascript object>"
      ]
     },
     "metadata": {},
     "output_type": "display_data"
    },
    {
     "data": {
      "application/javascript": [
       "console.log(\"[134330][INFO][openvisuspy.backend_py:168:returnBoxQueryData] got data 1/[17, 20, 23, 26] timestep=0 field=data H=17 data.shape=(126, 50) data.dtype=float32 logic_box=[[448, 0, 0], [449, 800, 2016]] m=-0.0009030804503709078 M=0.0015295457560569048 ms=158\");\n"
      ],
      "text/plain": [
       "<IPython.core.display.Javascript object>"
      ]
     },
     "metadata": {},
     "output_type": "display_data"
    },
    {
     "data": {
      "application/javascript": [
       "console.log(\"[134330][INFO][openvisuspy.slice:190:renderResultIfNeeded] Slice[4]::rendering result data.shape=(126, 50) data.dtype=float32 logic_box=[[448, 0, 0], [449, 800, 2016]]\");\n"
      ],
      "text/plain": [
       "<IPython.core.display.Javascript object>"
      ]
     },
     "metadata": {},
     "output_type": "display_data"
    },
    {
     "data": {
      "application/javascript": [
       "console.log(\"[134330][INFO][openvisuspy.slice:190:renderResultIfNeeded] Slice[5]::rendering result data.shape=(126, 56) data.dtype=float32 logic_box=[[0, 384, 0], [896, 385, 2016]]\");\n"
      ],
      "text/plain": [
       "<IPython.core.display.Javascript object>"
      ]
     },
     "metadata": {},
     "output_type": "display_data"
    },
    {
     "data": {
      "application/javascript": [
       "console.log(\"[134330][INFO][openvisuspy.backend_py:308:executeBoxQuery] [200] http://atlantis.sci.utah.edu/mod_visus?dataset=chess-recon_combined_1_2_3_fullres_zip&cached=1&action=boxquery&box=448+448+0+799+0+2015&compression=zip&field=data&time=0&toh=23\");\n"
      ],
      "text/plain": [
       "<IPython.core.display.Javascript object>"
      ]
     },
     "metadata": {},
     "output_type": "display_data"
    },
    {
     "data": {
      "application/javascript": [
       "console.log(\"[134330][INFO][openvisuspy.backend_py:168:returnBoxQueryData] got data 2/[17, 20, 23, 26] timestep=0 field=data H=20 data.shape=(252, 100) data.dtype=float32 logic_box=[[448, 0, 0], [449, 800, 2016]] m=-0.0009030804503709078 M=0.0015295457560569048 ms=261\");\n"
      ],
      "text/plain": [
       "<IPython.core.display.Javascript object>"
      ]
     },
     "metadata": {},
     "output_type": "display_data"
    },
    {
     "data": {
      "application/javascript": [
       "console.log(\"[134330][INFO][openvisuspy.slice:190:renderResultIfNeeded] Slice[4]::rendering result data.shape=(252, 100) data.dtype=float32 logic_box=[[448, 0, 0], [449, 800, 2016]]\");\n"
      ],
      "text/plain": [
       "<IPython.core.display.Javascript object>"
      ]
     },
     "metadata": {},
     "output_type": "display_data"
    },
    {
     "data": {
      "application/javascript": [
       "console.log(\"[134330][INFO][openvisuspy.backend_py:308:executeBoxQuery] [200] http://atlantis.sci.utah.edu/mod_visus?dataset=chess-recon_combined_1_2_3_fullres_zip&cached=1&action=boxquery&box=0+895+384+384+0+2015&compression=zip&field=data&time=0&toh=22\");\n"
      ],
      "text/plain": [
       "<IPython.core.display.Javascript object>"
      ]
     },
     "metadata": {},
     "output_type": "display_data"
    },
    {
     "data": {
      "application/javascript": [
       "console.log(\"[134330][INFO][openvisuspy.backend_py:168:returnBoxQueryData] got data 2/[16, 19, 22, 25] timestep=0 field=data H=19 data.shape=(252, 112) data.dtype=float32 logic_box=[[0, 384, 0], [896, 385, 2016]] m=-0.0009210301213897765 M=0.0014613056555390358 ms=310\");\n"
      ],
      "text/plain": [
       "<IPython.core.display.Javascript object>"
      ]
     },
     "metadata": {},
     "output_type": "display_data"
    },
    {
     "data": {
      "application/javascript": [
       "console.log(\"[134330][INFO][openvisuspy.slice:190:renderResultIfNeeded] Slice[5]::rendering result data.shape=(252, 112) data.dtype=float32 logic_box=[[0, 384, 0], [896, 385, 2016]]\");\n"
      ],
      "text/plain": [
       "<IPython.core.display.Javascript object>"
      ]
     },
     "metadata": {},
     "output_type": "display_data"
    },
    {
     "data": {
      "application/javascript": [
       "console.log(\"[134330][INFO][openvisuspy.backend_py:308:executeBoxQuery] [200] http://atlantis.sci.utah.edu/mod_visus?dataset=chess-recon_combined_1_2_3_fullres_zip&cached=1&action=boxquery&box=0+911+0+815+1008+1008&compression=zip&field=data&time=0&toh=26\");\n"
      ],
      "text/plain": [
       "<IPython.core.display.Javascript object>"
      ]
     },
     "metadata": {},
     "output_type": "display_data"
    },
    {
     "data": {
      "application/javascript": [
       "console.log(\"[134330][INFO][openvisuspy.backend_py:168:returnBoxQueryData] got data 2/[20, 23, 26, 29] timestep=0 field=data H=23 data.shape=(204, 456) data.dtype=float32 logic_box=[[0, 0, 1008], [912, 816, 1009]] m=-0.0009085427736863494 M=0.0009811616037040949 ms=671\");\n"
      ],
      "text/plain": [
       "<IPython.core.display.Javascript object>"
      ]
     },
     "metadata": {},
     "output_type": "display_data"
    },
    {
     "data": {
      "application/javascript": [
       "console.log(\"[134330][INFO][openvisuspy.slice:190:renderResultIfNeeded] Slice[0]::rendering result data.shape=(204, 456) data.dtype=float32 logic_box=[[0, 0, 1008], [912, 816, 1009]]\");\n"
      ],
      "text/plain": [
       "<IPython.core.display.Javascript object>"
      ]
     },
     "metadata": {},
     "output_type": "display_data"
    },
    {
     "data": {
      "application/javascript": [
       "console.log(\"[134330][INFO][openvisuspy.backend_py:308:executeBoxQuery] [200] http://atlantis.sci.utah.edu/mod_visus?dataset=chess-recon_combined_1_2_3_fullres_zip&cached=1&action=boxquery&box=448+448+0+799+0+2015&compression=zip&field=data&time=0&toh=26\");\n"
      ],
      "text/plain": [
       "<IPython.core.display.Javascript object>"
      ]
     },
     "metadata": {},
     "output_type": "display_data"
    },
    {
     "data": {
      "application/javascript": [
       "console.log(\"[134330][INFO][openvisuspy.backend_py:168:returnBoxQueryData] got data 3/[17, 20, 23, 26] timestep=0 field=data H=23 data.shape=(504, 200) data.dtype=float32 logic_box=[[448, 0, 0], [449, 800, 2016]] m=-0.0009030804503709078 M=0.0015295457560569048 ms=574\");\n"
      ],
      "text/plain": [
       "<IPython.core.display.Javascript object>"
      ]
     },
     "metadata": {},
     "output_type": "display_data"
    },
    {
     "data": {
      "application/javascript": [
       "console.log(\"[134330][INFO][openvisuspy.slice:190:renderResultIfNeeded] Slice[4]::rendering result data.shape=(504, 200) data.dtype=float32 logic_box=[[448, 0, 0], [449, 800, 2016]]\");\n"
      ],
      "text/plain": [
       "<IPython.core.display.Javascript object>"
      ]
     },
     "metadata": {},
     "output_type": "display_data"
    },
    {
     "data": {
      "application/javascript": [
       "console.log(\"[134330][INFO][openvisuspy.backend_py:308:executeBoxQuery] [200] http://atlantis.sci.utah.edu/mod_visus?dataset=chess-recon_combined_1_2_3_fullres_zip&cached=1&action=boxquery&box=0+895+384+384+0+2015&compression=zip&field=data&time=0&toh=25\");\n"
      ],
      "text/plain": [
       "<IPython.core.display.Javascript object>"
      ]
     },
     "metadata": {},
     "output_type": "display_data"
    },
    {
     "data": {
      "application/javascript": [
       "console.log(\"[134330][INFO][openvisuspy.backend_py:168:returnBoxQueryData] got data 3/[16, 19, 22, 25] timestep=0 field=data H=22 data.shape=(504, 224) data.dtype=float32 logic_box=[[0, 384, 0], [896, 385, 2016]] m=-0.001160504063591361 M=0.002099798060953617 ms=662\");\n"
      ],
      "text/plain": [
       "<IPython.core.display.Javascript object>"
      ]
     },
     "metadata": {},
     "output_type": "display_data"
    },
    {
     "data": {
      "application/javascript": [
       "console.log(\"[134330][INFO][openvisuspy.slice:190:renderResultIfNeeded] Slice[5]::rendering result data.shape=(504, 224) data.dtype=float32 logic_box=[[0, 384, 0], [896, 385, 2016]]\");\n"
      ],
      "text/plain": [
       "<IPython.core.display.Javascript object>"
      ]
     },
     "metadata": {},
     "output_type": "display_data"
    },
    {
     "data": {
      "application/javascript": [
       "console.log(\"[134331][INFO][openvisuspy.backend_py:308:executeBoxQuery] [200] http://atlantis.sci.utah.edu/mod_visus?dataset=chess-recon_combined_1_2_3_fullres_zip&cached=1&action=boxquery&box=0+911+0+815+1008+1008&compression=zip&field=data&time=0&toh=29\");\n"
      ],
      "text/plain": [
       "<IPython.core.display.Javascript object>"
      ]
     },
     "metadata": {},
     "output_type": "display_data"
    },
    {
     "data": {
      "application/javascript": [
       "console.log(\"[134331][INFO][openvisuspy.backend_py:168:returnBoxQueryData] got data 3/[20, 23, 26, 29] timestep=0 field=data H=26 data.shape=(408, 912) data.dtype=float32 logic_box=[[0, 0, 1008], [912, 816, 1009]] m=-0.0009085427736863494 M=0.0009811616037040949 ms=1803\");\n"
      ],
      "text/plain": [
       "<IPython.core.display.Javascript object>"
      ]
     },
     "metadata": {},
     "output_type": "display_data"
    },
    {
     "data": {
      "application/javascript": [
       "console.log(\"[134331][INFO][openvisuspy.backend_py:82:printStatistics] Stats::printStatistics enlapsed=1.8106141090393066 seconds\");\n"
      ],
      "text/plain": [
       "<IPython.core.display.Javascript object>"
      ]
     },
     "metadata": {},
     "output_type": "display_data"
    },
    {
     "data": {
      "application/javascript": [
       "console.log(\"[134331][INFO][openvisuspy.slice:190:renderResultIfNeeded] Slice[0]::rendering result data.shape=(408, 912) data.dtype=float32 logic_box=[[0, 0, 1008], [912, 816, 1009]]\");\n"
      ],
      "text/plain": [
       "<IPython.core.display.Javascript object>"
      ]
     },
     "metadata": {},
     "output_type": "display_data"
    }
   ],
   "source": [
    "def MyApp(doc):\n",
    "    view=Slices(num_views=2)\n",
    "    view.setDataset(url)\n",
    "    view.setPalette(palette)\n",
    "    view.setPaletteRange(palette_range)\n",
    "    view.setTimestep(view.getTimestep())\n",
    "    view.setField(view.getField())\n",
    "    doc.add_root(view.getBokehLayout(doc=doc))\n",
    "ShowBokehApp(MyApp)"
   ]
  },
  {
   "cell_type": "code",
   "execution_count": null,
   "metadata": {},
   "outputs": [],
   "source": []
  }
 ],
 "metadata": {
  "kernelspec": {
   "display_name": "Python 3 (ipykernel)",
   "language": "python",
   "name": "python3"
  },
  "language_info": {
   "codemirror_mode": {
    "name": "ipython",
    "version": 3
   },
   "file_extension": ".py",
   "mimetype": "text/x-python",
   "name": "python",
   "nbconvert_exporter": "python",
   "pygments_lexer": "ipython3",
   "version": "3.9.9"
  },
  "vscode": {
   "interpreter": {
    "hash": "81794d4967e6c3204c66dcd87b604927b115b27c00565d3d43f05ba2f3a2cb0d"
   }
  }
 },
 "nbformat": 4,
 "nbformat_minor": 4
}

{
 "cells": [
  {
   "cell_type": "markdown",
   "id": "6935afb8",
   "metadata": {},
   "source": [
    "# Import OpenVisus and Load Dataset"
   ]
  },
  {
   "cell_type": "code",
   "execution_count": 1,
   "id": "502716f3",
   "metadata": {},
   "outputs": [
    {
     "data": {
      "application/javascript": [
       "console.log(\"[134411][INFO][openvisuspy.backend_py:373:LoadDataset] Got response <dataset name='2kbit1' url='$(protocol)://$(hostname):$(port)/mod_visus?action=readdataset&amp;dataset=2kbit1' typename='IdxDataset'> \t<idxfile> \t\t<version value='6' /> \t\t<bitmask value='V012012012012012012012012012012012' /> \t\t<box value='0 2048 0 2048 0 2048' /> \t\t<bitsperblock value='16' /> \t\t<blocksperfile value='256' /> \t\t<block_interleaving value='0' /> \t\t<filename_template value='./visus/%02x/%04x.bin' /> \t\t<missing_blocks value='False' /> \t\t<arco value='0' /> \t\t<time_template value='' /> \t\t<field name='DATA' description='' index='' default_compression='zip' default_layout='0' default_value='0' filter='' dtype='uint8' /> \t\t<timestep when='0' /> \t</idxfile> </dataset>\");\n"
      ],
      "text/plain": [
       "<IPython.core.display.Javascript object>"
      ]
     },
     "metadata": {},
     "output_type": "display_data"
    },
    {
     "data": {
      "application/javascript": [
       "console.log(\"[134411][INFO][openvisuspy.backend_py:420:LoadDataset] LoadDataset returned: {'url': 'http://atlantis.sci.utah.edu/mod_visus?dataset=2kbit1&cached=1', 'bitmask': 'V012012012012012012012012012012012', 'pdim': 3, 'max_resolution': 33, 'timesteps': [0], 'fields': [{'name': 'DATA', 'dtype': 'uint8'}], 'logic_box': [[0, 0, 0], [2048, 2048, 2048]], 'logic_size': [2048, 2048, 2048]}\");\n"
      ],
      "text/plain": [
       "<IPython.core.display.Javascript object>"
      ]
     },
     "metadata": {},
     "output_type": "display_data"
    },
    {
     "name": "stdout",
     "output_type": "stream",
     "text": [
      "Loaded dataset \n",
      "fields=['DATA'] \n",
      "logic_box=[[0, 0, 0], [2048, 2048, 2048]]\n"
     ]
    }
   ],
   "source": [
    "import os,sys\n",
    "import matplotlib.pyplot as plt, skimage\n",
    "%matplotlib notebook\n",
    "\n",
    "def ShowData(data,extent):\n",
    "    fig, ax = plt.subplots()\n",
    "    im = ax.imshow(data, extent=extent) \n",
    "    plt.colorbar(im)\n",
    "    return fig,im,ax\n",
    "\n",
    "from openvisuspy import LoadDataset, ExecuteBoxQuery, SetupLogger\n",
    "SetupLogger()\n",
    "\n",
    "url=f\"http://atlantis.sci.utah.edu/mod_visus?dataset=2kbit1&cached=1\"\n",
    "db=LoadDataset(url)\n",
    "print(f\"Loaded dataset \\nfields={db.getFields()} \\nlogic_box={db.getLogicBox()}\")\n",
    "W,H,D=db.getLogicBox()[1]\n",
    "access=db.createAccess()\n"
   ]
  },
  {
   "cell_type": "markdown",
   "id": "23c0f58c",
   "metadata": {},
   "source": [
    "# Extract data"
   ]
  },
  {
   "cell_type": "code",
   "execution_count": 2,
   "id": "6155f76a",
   "metadata": {},
   "outputs": [
    {
     "data": {
      "application/javascript": [
       "console.log(\"[134411][INFO][openvisuspy.backend_py:74:createBoxQuery] begin timestep=0 field=DATA logic_box=[[0, 0, 0], [2048, 2048, 2048]] num_refinements=1 max_pixels=None endh=21\");\n"
      ],
      "text/plain": [
       "<IPython.core.display.Javascript object>"
      ]
     },
     "metadata": {},
     "output_type": "display_data"
    },
    {
     "data": {
      "application/javascript": [
       "console.log(\"[134411][INFO][openvisuspy.backend_py:138:beginBoxQuery] beginBoxQuery timestep=0 field=DATA logic_box=[[0, 0, 0], [2048, 2048, 2048]] end_resolutions=[21]\");\n"
      ],
      "text/plain": [
       "<IPython.core.display.Javascript object>"
      ]
     },
     "metadata": {},
     "output_type": "display_data"
    },
    {
     "data": {
      "application/javascript": [
       "console.log(\"[134411][INFO][openvisuspy.backend_py:308:executeBoxQuery] [200] http://atlantis.sci.utah.edu/mod_visus?dataset=2kbit1&cached=1&action=boxquery&box=0+2047+0+2047+0+2047&compression=zip&field=DATA&time=0&toh=21\");\n"
      ],
      "text/plain": [
       "<IPython.core.display.Javascript object>"
      ]
     },
     "metadata": {},
     "output_type": "display_data"
    },
    {
     "data": {
      "application/javascript": [
       "console.log(\"[134411][INFO][openvisuspy.backend_py:168:returnBoxQueryData] got data 0/[21] timestep=0 field=DATA H=-1 data.shape=(128, 128, 128) data.dtype=uint8 logic_box=[[0, 0, 0], [2048, 2048, 2048]] m=0 M=230 ms=484\");\n"
      ],
      "text/plain": [
       "<IPython.core.display.Javascript object>"
      ]
     },
     "metadata": {},
     "output_type": "display_data"
    },
    {
     "name": "stdout",
     "output_type": "stream",
     "text": [
      "God data shape=(128, 128, 128) dtype=uint8\n"
     ]
    }
   ],
   "source": [
    "result=list(ExecuteBoxQuery(db,\n",
    "                            access=access,\n",
    "                            logic_box=[[0,0,0],[W,H,D]],\n",
    "                            endh=21,\n",
    "                            num_refinements=1))[0]\n",
    "data=result['data']\n",
    "print(f\"God data shape={data.shape} dtype={data.dtype}\")"
   ]
  },
  {
   "cell_type": "markdown",
   "id": "b731a9f5",
   "metadata": {},
   "source": [
    "# Show volume in pyvista"
   ]
  },
  {
   "cell_type": "code",
   "execution_count": 3,
   "id": "e04d6ff0",
   "metadata": {},
   "outputs": [
    {
     "data": {
      "application/vnd.jupyter.widget-view+json": {
       "model_id": "ef0d764cde6147e799ef48bfd3f4c476",
       "version_major": 2,
       "version_minor": 0
      },
      "text/plain": [
       "Widget(value=\"<iframe src='http://localhost:64368/index.html?ui=P_0x1aa6d4633d0_0&reconnect=auto' style='width…"
      ]
     },
     "metadata": {},
     "output_type": "display_data"
    }
   ],
   "source": [
    "# !pip install pyvista trame\n",
    "import pyvista as pv\n",
    "p = pv.Plotter()\n",
    "p.add_volume(data)\n",
    "p.show()"
   ]
  },
  {
   "cell_type": "code",
   "execution_count": null,
   "id": "5ecc7b41",
   "metadata": {},
   "outputs": [],
   "source": []
  }
 ],
 "metadata": {
  "kernelspec": {
   "display_name": "Python 3 (ipykernel)",
   "language": "python",
   "name": "python3"
  },
  "language_info": {
   "codemirror_mode": {
    "name": "ipython",
    "version": 3
   },
   "file_extension": ".py",
   "mimetype": "text/x-python",
   "name": "python",
   "nbconvert_exporter": "python",
   "pygments_lexer": "ipython3",
   "version": "3.9.9"
  }
 },
 "nbformat": 4,
 "nbformat_minor": 5
}
